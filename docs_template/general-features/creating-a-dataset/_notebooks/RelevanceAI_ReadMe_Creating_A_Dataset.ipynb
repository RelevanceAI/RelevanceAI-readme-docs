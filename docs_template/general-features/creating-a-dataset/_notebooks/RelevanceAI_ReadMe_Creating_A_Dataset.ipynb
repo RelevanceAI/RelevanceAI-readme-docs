{
    "cells": [
        {
            "cell_type": "markdown",
            "metadata": {
                "id": "2fchptpo9hl9"
            },
            "source": [
                "\n",
                "[![Open In Colab](https://colab.research.google.com/assets/colab-badge.svg)](https://colab.research.google.com/github/RelevanceAI/RelevanceAI-readme-docs/blob/v1.4.5/docs/general-features/creating-a-dataset/_notebooks/RelevanceAI_ReadMe_Creating_A_Dataset.ipynb)",
                "\n",
                "# Installation"
            ]
        },
        {
            "cell_type": "code",
            "execution_count": null,
            "metadata": {
                "id": "YYVL1Lg39EVu"
            },
            "outputs": [],
            "source": [
                "@@@ relevanceai_dev_installation @@@"
            ]
        },
        {
            "cell_type": "markdown",
            "metadata": {
                "id": "k1yHM-mnjGcQ"
            },
            "source": [
                "# Setup"
            ]
        },
        {
            "cell_type": "code",
            "execution_count": null,
            "metadata": {
                "id": "cDJ34fhYjD24"
            },
            "outputs": [],
            "source": [
                "@@@ client_instantiation @@@"
            ]
        },
        {
            "cell_type": "markdown",
            "metadata": {
                "id": "kGuTE3Rk9YI8"
            },
            "source": [
                "### Creating a dataset"
            ]
        },
        {
            "cell_type": "markdown",
            "metadata": {
                "id": "BZTY4KZ7EX4_"
            },
            "source": [
                "To create a new empty dataset pass the name under which you wish to save the dataset to the `create` function as shown below. In this example, we have used `ecommerce-sample-dataset` as the name."
            ]
        },
        {
            "cell_type": "code",
            "execution_count": null,
            "metadata": {
                "id": "k_y4ShRdpM9v"
            },
            "outputs": [],
            "source": [
                "@@@ get_ecommerce_dataset_encoded @@@"
            ]
        },
        {
            "cell_type": "code",
            "execution_count": null,
            "metadata": {
                "id": "yrlvg0mSpM9v"
            },
            "outputs": [],
            "source": [
                "@@@ dataset_basics, DATASET_ID=ECOMMERCE_SAMPLE_DATASET_ID @@@"
            ]
        },
        {
            "cell_type": "markdown",
            "metadata": {
                "id": "W9XFFPK_pM9w"
            },
            "source": [
                "\n",
                "See [Inserting and updating documents](doc:inserting-data) for more details on how to insert/upload documents into a dataset.\n",
                "\n",
                "\n",
                "* Id field: Relevance AI platform identifies unique data entries within a dataset using a field called `_id` (i.e. every document in the dataset must include an `_id` field with a unique value per document).\n",
                "* Vector fields: the name of vector fields must end in `_vector_`\n"
            ]
        },
        {
            "cell_type": "markdown",
            "metadata": {
                "id": "vKcw6q3ApM9w"
            },
            "source": [
                "### List your datasets\n",
                "\n",
                "\n",
                "You can see a list of all datasets you have uploaded to your account in the dashboard.\n",
                "\n",
                "<img src=\"https://github.com/RelevanceAI/RelevanceAI-readme-docs/blob/v1.4.5/docs_template/general-features/creating-a-dataset/_assets/dataset-list-view.png?raw=true\" alt=\"Datasets List View\" />",
                "\n",
                "\n",
                "Alternatively, you can use the list endpoint under Python SDK as shown below:\n",
                "\n"
            ]
        },
        {
            "cell_type": "code",
            "execution_count": null,
            "metadata": {
                "id": "-AOH-92_pM9w"
            },
            "outputs": [],
            "source": [
                "@@@ list_datasets @@@"
            ]
        },
        {
            "cell_type": "markdown",
            "metadata": {
                "id": "TaiugXqdpM9x"
            },
            "source": [
                "\n",
                "### Monitoring a specific dataset\n",
                "\n",
                "RelevanceAI's dashboard at https://cloud.relevance.ai is the most straightforward place to monitor your data.\n",
                "\n",
                "<img src=\"https://github.com/RelevanceAI/RelevanceAI-readme-docs/blob/v1.4.5/docs_template/general-features/creating-a-dataset/_assets/monitor-dataset.png?raw=true\" width=\"1263\" alt=\"vector_health.png\" />",
                "\n",
                "Alternatively, you can monitor the health of a dataset using the command below which returns the count of total missing and existing fields in the data points in the named dataset.\n"
            ]
        },
        {
            "cell_type": "code",
            "execution_count": null,
            "metadata": {
                "id": "Iwcm7Ql6pM9x"
            },
            "outputs": [],
            "source": [
                "@@@ dataset_health @@@\n"
            ]
        },
        {
            "cell_type": "code",
            "execution_count": null,
            "metadata": {
                "id": "Mgl9PzzYpM9x"
            },
            "outputs": [],
            "source": [
                "@@@ dataset_schema @@@\n"
            ]
        },
        {
            "cell_type": "markdown",
            "metadata": {
                "id": "XjYt9AqMpM9y"
            },
            "source": [
                "### Deleting a dataset\n",
                "\n",
                "Deleting an existing dataset can be done on the dashboard using the delete option available for each dataset. Or through the Python SDK:\n",
                "\n",
                "\n"
            ]
        },
        {
            "cell_type": "code",
            "execution_count": null,
            "metadata": {
                "id": "carC3Hs_pM9y"
            },
            "outputs": [],
            "source": [
                "@@@ delete_dataset, DATASET_ID=ECOMMERCE_SAMPLE_DATASET_ID @@@\n"
            ]
        },
        {
            "cell_type": "markdown",
            "metadata": {
                "id": "4TXeZSbupM9y"
            },
            "source": [
                "## Inserting Documents\n",
                "\n",
                "Inserting new documents into a dataset is simple as the command below."
            ]
        },
        {
            "cell_type": "code",
            "execution_count": null,
            "metadata": {
                "id": "iOa9vgPQpM9y"
            },
            "outputs": [],
            "source": [
                "@@@ insert_documents @@@\n"
            ]
        },
        {
            "cell_type": "markdown",
            "metadata": {
                "id": "IVEoTVOXpM9y"
            },
            "source": [
                "## Upserting Documents\n",
                "\n",
                "To only update specific documents, use `upsert_documents` as shown in the example below:\n"
            ]
        },
        {
            "cell_type": "code",
            "execution_count": null,
            "metadata": {
                "id": "M5yALI7npM9y"
            },
            "outputs": [],
            "source": [
                "@@@ ecommerce_dataset_encoded_sample_document @@@\n"
            ]
        },
        {
            "cell_type": "code",
            "execution_count": null,
            "metadata": {
                "id": "zblBJzompM9z"
            },
            "outputs": [],
            "source": [
                "@@@ upsert_example, DOCUMENTS=[SAMPLE_DOCUMENT] @@@\n"
            ]
        },
        {
            "cell_type": "code",
            "execution_count": null,
            "metadata": {
                "id": "xi9LSA4cpM9z"
            },
            "outputs": [],
            "source": []
        },
        {
            "cell_type": "code",
            "execution_count": null,
            "metadata": {
                "id": "C0P-5WH5pM9z"
            },
            "outputs": [],
            "source": []
        }
    ],
    "metadata": {
        "colab": {
            "collapsed_sections": [],
            "name": "RelevanceAI-ReadMe-Creating-A-Dataset.ipynb",
            "provenance": []
        },
        "kernelspec": {
            "display_name": "Python 3",
            "name": "python3"
        },
        "language_info": {
            "name": "python"
        }
    },
    "nbformat": 4,
    "nbformat_minor": 0
}