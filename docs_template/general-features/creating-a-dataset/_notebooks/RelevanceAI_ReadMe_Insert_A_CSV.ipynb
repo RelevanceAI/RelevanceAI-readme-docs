{
    "cells": [
        {
            "cell_type": "markdown",
            "metadata": {
                "id": "2fchptpo9hl9"
            },
            "source": [
                "\n",
                "[![Open In Colab](https://colab.research.google.com/assets/colab-badge.svg)](https://colab.research.google.com/github/RelevanceAI/RelevanceAI-readme-docs/blob/v2.0.0/docs/general-features/creating-a-dataset/_notebooks/creating-a-dataset.ipynb)\n",
                "\n",
                "# Installation"
            ]
        },
        {
            "cell_type": "code",
            "execution_count": null,
            "metadata": {
                "id": "YYVL1Lg39EVu"
            },
            "outputs": [],
            "source": [
                "@@@ relevanceai_installation , RELEVANCEAI_SDK_VERSION=RELEVANCEAI_SDK_VERSION @@@"
            ]
        },
        {
            "cell_type": "markdown",
            "metadata": {
                "id": "k1yHM-mnjGcQ"
            },
            "source": [
                "# Setup"
            ]
        },
        {
            "cell_type": "code",
            "execution_count": null,
            "metadata": {
                "id": "cDJ34fhYjD24"
            },
            "outputs": [],
            "source": [
                "@@@ client_instantiation @@@\n",
                "\n"
            ]
        },
        {
            "cell_type": "markdown",
            "metadata": {
                "id": "kGuTE3Rk9YI8"
            },
            "source": [
                "# Create a dataset\n",
                "Uploading a CSV file is as simple as specifying the CSV path to your file.\n",
                "If there is no `_id` field in your dataset, we will automatically generate it for you, unless you specify otherwise via `auto_generate_id=False`. \n",
                "If there is a unique identifier in your dataset which can be used as the `_id` field, pass it to the insert function through the `col_for_id` field (e.g. `col_for_id=\"ref_no\"`)"
            ]
        },
        {
            "cell_type": "code",
            "execution_count": null,
            "metadata": {
                "id": "R4OTopSDIYxz"
            },
            "outputs": [],
            "source": [
                "@@@ client_dataset, DATASET_ID='quickstart_insert_csv'; insert_csv, CSV_PATH=\"./sample_data/california_housing_test.csv\" @@@"
            ]
        },
        {
            "cell_type": "code",
            "execution_count": null,
            "metadata": {
                "id": "ISqGgfW9IYx1"
            },
            "outputs": [],
            "source": [
                "@@@ dataset_schema @@@\n"
            ]
        },
        {
            "cell_type": "code",
            "execution_count": null,
            "metadata": {
                "id": "xnrdWsygIYx2"
            },
            "outputs": [],
            "source": []
        }
    ],
    "metadata": {
        "colab": {
            "collapsed_sections": [],
            "name": "RelevanceAI-ReadMe-Insert-A-CSV.ipynb",
            "provenance": [],
            "toc_visible": true
        },
        "kernelspec": {
            "display_name": "Python 3",
            "name": "python3"
        },
        "language_info": {
            "name": "python"
        }
    },
    "nbformat": 4,
    "nbformat_minor": 0
}