{
    "cells": [
        {
            "cell_type": "markdown",
            "metadata": {
                "id": "2fchptpo9hl9"
            },
            "source": [
                "\n",
                "[![Open In Colab](https://colab.research.google.com/assets/colab-badge.svg)](https://colab.research.google.com/github/RelevanceAI/RelevanceAI-readme-docs/blob/v2.0.0/v2.0.0/docs/general-features/aggregations/_notebooks/RelevanceAI_ReadMe_QuickStart_Aggregations.ipynb)\n",
                "\n",
                "\n",
                "# Installation"
            ]
        },
        {
            "cell_type": "code",
            "execution_count": null,
            "metadata": {
                "id": "YYVL1Lg39EVu"
            },
            "outputs": [],
            "source": [
                "@@@ relevanceai_installation, RELEVANCEAI_SDK_VERSION=RELEVANCEAI_SDK_VERSION @@@"
            ]
        },
        {
            "cell_type": "markdown",
            "metadata": {
                "id": "k1yHM-mnjGcQ"
            },
            "source": [
                "# Setup"
            ]
        },
        {
            "cell_type": "code",
            "execution_count": null,
            "metadata": {
                "id": "cDJ34fhYjD24"
            },
            "outputs": [],
            "source": [
                "@@@ client_instantiation @@@"
            ]
        },
        {
            "cell_type": "markdown",
            "metadata": {
                "id": "XmkA64yvjOQc"
            },
            "source": [
                "# Data"
            ]
        },
        {
            "cell_type": "code",
            "execution_count": null,
            "metadata": {
                "id": "I_pAbbaO8F9r"
            },
            "outputs": [],
            "source": [
                "@@@ get_realestate_dataset @@@\n"
            ]
        },
        {
            "cell_type": "code",
            "execution_count": null,
            "metadata": {
                "id": "hztjQZUS5Hra"
            },
            "outputs": [],
            "source": [
                "@@@ dataset_basics, DATASET_ID=AGGREGATION_DATASET_ID @@@"
            ]
        },
        {
            "cell_type": "markdown",
            "metadata": {
                "id": "kGuTE3Rk9YI8"
            },
            "source": [
                "# 1. Grouping the Data"
            ]
        },
        {
            "cell_type": "markdown",
            "metadata": {
                "id": "BZTY4KZ7EX4_"
            },
            "source": [
                "In general, the group-by field is structured as\n",
                "```\n",
                "{\"name\": ALIAS, \n",
                "\"field\": FIELD, \n",
                "\"agg\": TYPE-OF-GROUP}\n",
                "```\n",
                "\n"
            ]
        },
        {
            "cell_type": "markdown",
            "metadata": {
                "id": "nPlHgX18OjVi"
            },
            "source": [
                "## Categorical Data"
            ]
        },
        {
            "cell_type": "code",
            "execution_count": null,
            "metadata": {
                "id": "vJKVhcOV8JeZ"
            },
            "outputs": [],
            "source": [
                "@@@ aggregation_query, VAR_NAME=location_group, NAME=\"location\", FIELD=\"propertyDetails.area\", TYPE=\"category\"@@@"
            ]
        },
        {
            "cell_type": "markdown",
            "metadata": {
                "id": "PaNstgVnOl8H"
            },
            "source": [
                "## Numerical Data"
            ]
        },
        {
            "cell_type": "code",
            "execution_count": null,
            "metadata": {
                "id": "7XhTrGH6OpWl"
            },
            "outputs": [],
            "source": [
                "@@@ aggregation_query, VAR_NAME=bedrooms_group, NAME=\"bedrooms\", FIELD=\"propertyDetails.bedrooms\", TYPE=\"numeric\"@@@\n"
            ]
        },
        {
            "cell_type": "markdown",
            "metadata": {
                "id": "QgXZkJzFOqeY"
            },
            "source": [
                "## Putting it Together"
            ]
        },
        {
            "cell_type": "code",
            "execution_count": null,
            "metadata": {
                "id": "WaGnjfBzOsBn"
            },
            "outputs": [],
            "source": [
                "@@@ variable, VAR_NAME=groupby, VAR_VALUE=[location_group, bedrooms_group] @@@"
            ]
        },
        {
            "cell_type": "markdown",
            "metadata": {
                "id": "Ll2xh65T9Z5C"
            },
            "source": [
                "# 2. Creating Aggregation Metrics"
            ]
        },
        {
            "cell_type": "markdown",
            "metadata": {
                "id": "sHmAVTQsEuvf"
            },
            "source": [
                "In general, the aggregation field is structured as\n",
                "\n",
                "```\n",
                "{\"name\": ALIAS, \n",
                "\"field\": FIELD, \n",
                "\"agg\": TYPE-OF-AGG}\n",
                "```\n",
                "\n"
            ]
        },
        {
            "cell_type": "markdown",
            "metadata": {
                "id": "rcuIVx5jOtmi"
            },
            "source": [
                "## Average, Minimum and Maximum"
            ]
        },
        {
            "cell_type": "code",
            "execution_count": null,
            "metadata": {
                "id": "jvK6PTNZ8-V4"
            },
            "outputs": [],
            "source": [
                "@@@ aggregation_query, VAR_NAME=avg_price_metric, NAME=\"avg_price\", FIELD=\"priceDetails.price\", TYPE=\"avg\"; aggregation_query, VAR_NAME=max_price_metric, NAME=\"max_price\", FIELD=\"priceDetails.price\", TYPE=\"max\"; aggregation_query, VAR_NAME=min_price_metric, NAME=\"min_price\", FIELD=\"priceDetails.price\", TYPE=\"min\" @@@\n"
            ]
        },
        {
            "cell_type": "markdown",
            "metadata": {
                "id": "mwDxL64sOzt9"
            },
            "source": [
                "## Sum"
            ]
        },
        {
            "cell_type": "code",
            "execution_count": null,
            "metadata": {
                "id": "9nUZjG96O06N"
            },
            "outputs": [],
            "source": [
                "@@@ aggregation_query, VAR_NAME=sum_bathroom_metric, NAME=\"bathroom_sum\", FIELD=\"propertyDetails.bathrooms\", TYPE=\"sum\"@@@"
            ]
        },
        {
            "cell_type": "markdown",
            "metadata": {
                "id": "xv-z7VCaO2xz"
            },
            "source": [
                "## Cardinality"
            ]
        },
        {
            "cell_type": "code",
            "execution_count": null,
            "metadata": {
                "id": "SQDAw9BNO3_k"
            },
            "outputs": [],
            "source": [
                "@@@ aggregation_query, VAR_NAME=cardinality_suburbs_metric, NAME=\"num_suburbs\", FIELD=\"propertyDetails.suburb\", TYPE=\"cardinality\"@@@"
            ]
        },
        {
            "cell_type": "markdown",
            "metadata": {
                "id": "DyYM29XNO6HA"
            },
            "source": [
                "## Putting it Together"
            ]
        },
        {
            "cell_type": "code",
            "execution_count": null,
            "metadata": {
                "id": "A9EBccf4O7LS"
            },
            "outputs": [],
            "source": [
                "@@@ variable, VAR_NAME=groupby, VAR_VALUE=[ avg_price_metric, max_price_metric, min_price_metric, sum_bathroom_metric, cardinality_suburbs_metric ]  @@@"
            ]
        },
        {
            "cell_type": "markdown",
            "metadata": {
                "id": "3uxRUm4K9cn8"
            },
            "source": [
                "# 3. Combining Grouping and Aggregating"
            ]
        },
        {
            "cell_type": "code",
            "execution_count": null,
            "metadata": {
                "id": "c0eDVC_tPH9L"
            },
            "outputs": [],
            "source": [
                "@@@ aggregate_dataset, DATASET_ID=AGGREGATION_DATASET_ID @@@"
            ]
        },
        {
            "cell_type": "code",
            "execution_count": null,
            "metadata": {
                "id": "ieDZ7egMPerW"
            },
            "outputs": [],
            "source": [
                "@@@ show_json_text_fields_result_keys, RESULTS=results @@@"
            ]
        }
    ],
    "metadata": {
        "colab": {
            "collapsed_sections": [],
            "name": "RelevanceAI-ReadMe-Quickstart-Aggregations.ipynb",
            "provenance": []
        },
        "kernelspec": {
            "display_name": "Python 3",
            "name": "python3"
        },
        "language_info": {
            "name": "python"
        }
    },
    "nbformat": 4,
    "nbformat_minor": 0
}