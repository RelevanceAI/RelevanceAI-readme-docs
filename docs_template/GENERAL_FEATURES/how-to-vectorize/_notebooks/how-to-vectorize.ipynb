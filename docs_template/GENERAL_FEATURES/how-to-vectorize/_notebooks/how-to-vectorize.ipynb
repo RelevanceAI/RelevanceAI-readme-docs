{
 "cells": [
  {
   "cell_type": "markdown",
   "metadata": {
    "id": "2fchptpo9hl9"
   },
   "source": [
    "\n",
    "[![Open In Colab](https://colab.research.google.com/assets/colab-badge.svg)](https://colab.research.google.com/github/RelevanceAI/RelevanceAI-readme-docs/blob/v1.2.3/docs/GENERAL_FEATURES/how-to-vectorizet/_notebooks/how-to-vectorize.ipynb)\n",
    "\n",
    "# Installation\n",
    "\n"
   ]
  },
  {
   "cell_type": "code",
   "execution_count": null,
   "metadata": {},
   "outputs": [],
   "source": [
    "@@@ relevanceai_installation, RELEVANCEAI_SDK_VERSION=RELEVANCEAI_SDK_VERSION @@@"
   ]
  },
  {
   "cell_type": "code",
   "execution_count": null,
   "metadata": {},
   "outputs": [],
   "source": [
    "@@@ client_instantiation @@@"
   ]
  },
  {
   "cell_type": "markdown",
   "metadata": {},
   "source": [
    "## Vectorizing using Vectorhub"
   ]
  },
  {
   "cell_type": "code",
   "execution_count": null,
   "metadata": {
    "id": "YYVL1Lg39EVu"
   },
   "outputs": [],
   "source": [
    "## Installing Vectorhub with access to Tfhub models!\n",
    "@@@vectorhub_encoders_text_tfhub_installation @@@"
   ]
  },
  {
   "cell_type": "code",
   "execution_count": null,
   "metadata": {},
   "outputs": [],
   "source": [
    "## Installing Vectorhub with access to Sentence Transformer models\n",
    "@@@vectorhub_encoders_sentence_transformers @@@"
   ]
  },
  {
   "cell_type": "code",
   "execution_count": null,
   "metadata": {},
   "outputs": [],
   "source": [
    "## Installing Vectorhub with access to Hugginface models\n",
    "@@@vectorhub_encoders_transformers @@@"
   ]
  },
  {
   "cell_type": "markdown",
   "metadata": {
    "id": "k1yHM-mnjGcQ"
   },
   "source": [
    "# Setup"
   ]
  },
  {
   "cell_type": "code",
   "execution_count": null,
   "metadata": {
    "id": "cDJ34fhYjD24"
   },
   "outputs": [],
   "source": [
    "## Let's use a sample Sentence Transformer model for encoding\n",
    "@@@ transformer_enc @@@"
   ]
  },
  {
   "cell_type": "markdown",
   "metadata": {
    "id": "XmkA64yvjOQc"
   },
   "source": [
    "### Encoding"
   ]
  },
  {
   "cell_type": "code",
   "execution_count": 3,
   "metadata": {
    "id": "I_pAbbaO8F9r"
   },
   "outputs": [],
   "source": [
    "\n",
    "@@@ encode_a_sample, SAMPLE=ENCODING_SAMPLE @@@\n",
    "\n",
    "@@@ encode_documents, DOCUMENTS=SAMPLE_DOCS, FIELD=ENCODE_FIELD @@@\n"
   ]
  },
  {
   "cell_type": "markdown",
   "metadata": {},
   "source": [
    "### Encoding an entire dataset\n",
    "\n",
    "\n",
    "The easiest way to update an existing dataset with encoding results is to run `encode_documents`. This function fetches all the data-points in a dataset, runs the specified function (i.e. encoding in this case) and writes the result back to the dataset.\n",
    "\n",
    "For instance, in the sample code below, we use a dataset called `ecommerce_dataset`, and encodes the `product_description` field using the `USE2Vec` encoder.\n",
    "You can see the list of the available list of models for vectorising here using [Vectorhub](https://github.com/RelevanceAI/vectorhub) or feel free to bring your own model(s)."
   ]
  },
  {
   "cell_type": "code",
   "execution_count": null,
   "metadata": {
    "id": "hztjQZUS5Hra"
   },
   "outputs": [],
   "source": [
    "@@@ get_ecommerce_dataset_clean; dataset_basics, DATASET_ID='quickstart_example_encoding'@@@\n",
    "\n",
    "@@@ apply_encoding, FIELD=\"product_title\", VECTOR_FIELD=\"product_title_vector_\" @@@\n"
   ]
  }
 ],
 "metadata": {
  "colab": {
   "collapsed_sections": [],
   "name": "RelevanceAI-ReadMe-QuickStart-Aggregations.ipynb",
   "provenance": []
  },
  "kernelspec": {
   "display_name": "Python 3",
   "language": "python",
   "name": "python3"
  },
  "language_info": {
   "codemirror_mode": {
    "name": "ipython",
    "version": 3
   },
   "file_extension": ".py",
   "mimetype": "text/x-python",
   "name": "python",
   "nbconvert_exporter": "python",
   "pygments_lexer": "ipython3",
   "version": "3.8.0"
  }
 },
 "nbformat": 4,
 "nbformat_minor": 1
}
