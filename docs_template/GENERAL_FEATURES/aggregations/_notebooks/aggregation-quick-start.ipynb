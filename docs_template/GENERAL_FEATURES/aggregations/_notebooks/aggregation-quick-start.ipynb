{
  "cells": [
    {
      "cell_type": "markdown",
      "metadata": {
        "id": "2fchptpo9hl9"
      },
      "source": [
        "# Installation"
      ]
    },
    {
      "cell_type": "code",
      "execution_count": null,
      "metadata": {
        "id": "YYVL1Lg39EVu"
      },
      "outputs": [],
      "source": [
        "@@@ relevanceai_installation, RELEVANCEAI_SDK_VERSION=RELEVANCEAI_SDK_VERSION @@@"
      ]
    },
    {
      "cell_type": "markdown",
      "metadata": {
        "id": "k1yHM-mnjGcQ"
      },
      "source": [
        "# Setup"
      ]
    },
    {
      "cell_type": "code",
      "execution_count": null,
      "metadata": {
        "id": "cDJ34fhYjD24"
      },
      "outputs": [],
      "source": [
        "@@@ client_instantiation @@@"
      ]
    },
    {
      "cell_type": "markdown",
      "metadata": {
        "id": "XmkA64yvjOQc"
      },
      "source": [
        "# Data"
      ]
    },
    {
      "cell_type": "code",
      "execution_count": 3,
      "metadata": {
        "id": "I_pAbbaO8F9r"
      },
      "outputs": [],
      "source": [
        "@@@ get_realestate_dataset @@@"
      ]
    },
    {
      "cell_type": "code",
      "execution_count": null,
      "metadata": {
        "id": "hztjQZUS5Hra"
      },
      "outputs": [],
      "source": [
        "@@@ dataset_basics, DATASET_ID=AGGREGATION_DATASET_ID @@@"
      ]
    },
    {
      "cell_type": "markdown",
      "metadata": {
        "id": "kGuTE3Rk9YI8"
      },
      "source": [
        "# 1. Grouping the Data"
      ]
    },
    {
      "cell_type": "markdown",
      "metadata": {
        "id": "BZTY4KZ7EX4_"
      },
      "source": [
        "In general, the group-by field is structured as\n",
        "```\n",
        "{\"name\": ALIAS, \n",
        "\"field\": FIELD, \n",
        "\"agg\": TYPE-OF-GROUP}\n",
        "```\n",
        "\n"
      ]
    },
    {
      "cell_type": "markdown",
      "metadata": {
        "id": "nPlHgX18OjVi"
      },
      "source": [
        "## Categorical Data"
      ]
    },
    {
      "cell_type": "code",
      "execution_count": 6,
      "metadata": {
        "id": "vJKVhcOV8JeZ"
      },
      "outputs": [],
      "source": [
        "location_group = {\"name\": \"location\", \"field\": \"propertyDetails.area\", \"agg\": \"category\"}"
      ]
    },
    {
      "cell_type": "markdown",
      "metadata": {
        "id": "PaNstgVnOl8H"
      },
      "source": [
        "## Numerical Data"
      ]
    },
    {
      "cell_type": "code",
      "execution_count": 7,
      "metadata": {
        "id": "7XhTrGH6OpWl"
      },
      "outputs": [],
      "source": [
        "bedrooms_group = {\"name\": \"bedrooms\", \"field\": \"propertyDetails.bedrooms\", \"agg\": \"numeric\"}"
      ]
    },
    {
      "cell_type": "markdown",
      "metadata": {
        "id": "QgXZkJzFOqeY"
      },
      "source": [
        "## Putting it Together"
      ]
    },
    {
      "cell_type": "code",
      "execution_count": 8,
      "metadata": {
        "id": "WaGnjfBzOsBn"
      },
      "outputs": [],
      "source": [
        "groupby = [location_group, bedrooms_group]"
      ]
    },
    {
      "cell_type": "markdown",
      "metadata": {
        "id": "Ll2xh65T9Z5C"
      },
      "source": [
        "# 2. Creating Aggregation Metrics"
      ]
    },
    {
      "cell_type": "markdown",
      "metadata": {
        "id": "sHmAVTQsEuvf"
      },
      "source": [
        "In general, the aggregation field is structured as\n",
        "\n",
        "```\n",
        "{\"name\": ALIAS, \n",
        "\"field\": FIELD, \n",
        "\"agg\": TYPE-OF-AGG}\n",
        "```\n",
        "\n"
      ]
    },
    {
      "cell_type": "markdown",
      "metadata": {
        "id": "rcuIVx5jOtmi"
      },
      "source": [
        "## Average, Minimum and Maximum"
      ]
    },
    {
      "cell_type": "code",
      "execution_count": 9,
      "metadata": {
        "id": "jvK6PTNZ8-V4"
      },
      "outputs": [],
      "source": [
        "avg_price_metric = {\"name\": \"avg_price\", \"field\": \"priceDetails.price\", \"agg\": \"avg\"}\n",
        "max_price_metric = {\"name\": \"max_price\", \"field\": \"priceDetails.price\", \"agg\": \"max\"}\n",
        "min_price_metric = {\"name\": \"min_price\", \"field\": \"priceDetails.price\", \"agg\": \"min\"}"
      ]
    },
    {
      "cell_type": "markdown",
      "metadata": {
        "id": "mwDxL64sOzt9"
      },
      "source": [
        "## Sum"
      ]
    },
    {
      "cell_type": "code",
      "execution_count": 10,
      "metadata": {
        "id": "9nUZjG96O06N"
      },
      "outputs": [],
      "source": [
        "sum_bathroom_metric = {\"name\": \"bathroom_sum\", \"field\": \"propertyDetails.bathrooms\", \"agg\": \"sum\"}"
      ]
    },
    {
      "cell_type": "markdown",
      "metadata": {
        "id": "xv-z7VCaO2xz"
      },
      "source": [
        "## Cardinality"
      ]
    },
    {
      "cell_type": "code",
      "execution_count": 11,
      "metadata": {
        "id": "SQDAw9BNO3_k"
      },
      "outputs": [],
      "source": [
        "cardinality_suburbs_metric = {\"name\": \"num_suburbs\", \"field\": \"propertyDetails.suburb\", \"agg\": \"cardinality\"}"
      ]
    },
    {
      "cell_type": "markdown",
      "metadata": {
        "id": "DyYM29XNO6HA"
      },
      "source": [
        "## Putting it Together"
      ]
    },
    {
      "cell_type": "code",
      "execution_count": 12,
      "metadata": {
        "id": "A9EBccf4O7LS"
      },
      "outputs": [],
      "source": [
        "metrics = [avg_price_metric, \n",
        "           max_price_metric, \n",
        "           min_price_metric, \n",
        "           sum_bathroom_metric, \n",
        "           #cardinality_suburbs_metric\n",
        "           ]"
      ]
    },
    {
      "cell_type": "markdown",
      "metadata": {
        "id": "3uxRUm4K9cn8"
      },
      "source": [
        "# 3. Combining Grouping and Aggregating"
      ]
    },
    {
      "cell_type": "code",
      "execution_count": 16,
      "metadata": {
        "id": "c0eDVC_tPH9L"
      },
      "outputs": [],
      "source": [
        "@@@ aggregate_dataset, DATASET_ID=AGGREGATION_DATASET_ID @@@"
      ]
    },
    {
      "cell_type": "code",
      "execution_count": null,
      "metadata": {
        "colab": {
          "base_uri": "https://localhost:8080/",
          "height": 738
        },
        "id": "ieDZ7egMPerW",
        "outputId": "01b888ca-7d7e-4513-edda-a809360d981a"
      },
      "outputs": [],
      "source": [
        "#Use jsonshower to demonstrate json result\n",
        "from jsonshower import show_json\n",
        "show_json(results, text_fields= list(results[0].keys()))"
      ]
    }
  ],
  "metadata": {
    "colab": {
      "collapsed_sections": [],
      "name": "RelevanceAI-ReadMe-QuickStart-Aggregations.ipynb",
      "provenance": []
    },
    "kernelspec": {
      "display_name": "Python 3",
      "name": "python3"
    },
    "language_info": {
      "name": "python"
    }
  },
  "nbformat": 4,
  "nbformat_minor": 0
}
