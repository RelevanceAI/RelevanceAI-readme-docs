{
    "cells": [
        {
            "cell_type": "markdown",
            "metadata": {
                "id": "zDs5txmPk1-O"
            },
            "source": [
                "<img src=\"https://raw.githubusercontent.com/RelevanceAI/RelevanceAI-readme-docs/v2.0.0/docs_template/_assets/RelevanceAI-logo.svg\" width=\"300\" alt=\"Relevance AI\" />\n",
                "\n",
                "[![Open In Colab](https://colab.research.google.com/assets/colab-badge.svg)](https://colab.research.google.com/github/RelevanceAI/RelevanceAI-readme-docs/blob/v2.0.0/docs/GETTING_STARTED/_notebooks/Intro_to_Relevance_AI.ipynb)",
                "\n",
                "\n",
                "# Quickstart\n",
                "Use Relevance AI to experiment, build and share the best vectors to solve similarity and relevance based problems across teams.\n",
                "\n",
                "\n",
                "<img src=\"https://github.com/RelevanceAI/RelevanceAI-readme-docs/blob/v2.0.0/docs_template/_assets/RelevanceAI_DS_Workflow.png?raw=true\"  width=\"1000\" alt=\"Relevance AI\" />"
            ]
        },
        {
            "cell_type": "markdown",
            "metadata": {
                "id": "wF85iVVPkkZ9"
            },
            "source": [
                "# Quick Start"
            ]
        },
        {
            "cell_type": "markdown",
            "metadata": {
                "id": "p1rumEPTkmHs"
            },
            "source": [
                "1. Setup Relevance AI"
            ]
        },
        {
            "cell_type": "code",
            "execution_count": null,
            "metadata": {
                "id": "T1gTvnFtrxtE"
            },
            "outputs": [],
            "source": [
                "@@@ relevanceai_dev_installation @@@"
            ]
        },
        {
            "cell_type": "code",
            "execution_count": null,
            "metadata": {
                "id": "fwmiMB2mmkjh"
            },
            "outputs": [],
            "source": [
                "@@@ client_instantiation @@@"
            ]
        },
        {
            "cell_type": "markdown",
            "metadata": {
                "id": "vychCqEsmlQJ"
            },
            "source": [
                "# 2. Vector Storage\n",
                "\n",
                "Store as many vectors and metadata with ease."
            ]
        },
        {
            "cell_type": "code",
            "execution_count": null,
            "metadata": {
                "id": "dH_HTlNLiqN9"
            },
            "outputs": [],
            "source": [
                "@@@ quickstart_docs; dataset_basics, DATASET_ID=QUICKSTART_DATASET_ID @@@"
            ]
        },
        {
            "cell_type": "code",
            "execution_count": null,
            "metadata": {
                "id": "6CKwh5btYKir"
            },
            "outputs": [],
            "source": [
                "@@@ dataset_schema @@@"
            ]
        },
        {
            "cell_type": "markdown",
            "metadata": {
                "id": "Vn9DrwHdl3ZL"
            },
            "source": [
                "# 2. Clustering vectors\n",
                "\n",
                "- Cluster your vectors\n",
                "- Aggregate and understand your clusters\n",
                "- Store and compare multiple different clusters"
            ]
        },
        {
            "cell_type": "code",
            "execution_count": null,
            "metadata": {
                "id": "cro47oQri0gJ"
            },
            "outputs": [],
            "source": [
                "@@@ kmeans_cluster, N_CLUSTERS=2,  VECTOR_FIELD=\"example_vector_\" @@@"
            ]
        },
        {
            "cell_type": "markdown",
            "metadata": {},
            "source": [
                "You can run clustering via Relevance AI's clustering app too:"
            ]
        },
        {
            "cell_type": "code",
            "execution_count": null,
            "metadata": {},
            "outputs": [],
            "source": [
                "@@@ launch_cluster_app @@@"
            ]
        },
        {
            "cell_type": "markdown",
            "metadata": {
                "id": "01gAnkvSl7cY"
            },
            "source": [
                "# 3. Searching vectors\n",
                "\n",
                "- Perform nearest neighbor search on your vectors\n",
                "- Comes with essential search features such as keyword matching, filters and facets\n",
                "- Store and compare multiple different search configuration"
            ]
        },
        {
            "cell_type": "code",
            "execution_count": null,
            "metadata": {
                "id": "BFP3w2Owj8NQ"
            },
            "outputs": [],
            "source": [
                "@@@ vector_search, MULTIVECTOR_QUERY=QUICKSTART_MULTI_VECTOR_SEARCH_QUERY, PAGE_SIZE=3 @@@"
            ]
        }
    ],
    "metadata": {
        "colab": {
            "collapsed_sections": [],
            "name": "Intro to Relevance AI.ipynb",
            "provenance": []
        },
        "kernelspec": {
            "display_name": "Python 3",
            "name": "python3"
        },
        "language_info": {
            "name": "python",
            "version": "3.8.0"
        }
    },
    "nbformat": 4,
    "nbformat_minor": 0
}