{
  "cells": [
    {
      "cell_type": "markdown",
      "metadata": {
        "id": "zDs5txmPk1-O"
      },
      "source": [
        "<img src=\"https://relevance.ai/wp-content/uploads/2021/11/logo.79f303e-1.svg\" width=\"300\" alt=\"Relevance AI\" />\n",
        "\n",
        "[![Open In Colab](https://colab.research.google.com/assets/colab-badge.svg)](https://colab.research.google.com/github/RelevanceAI/RelevanceAI-readme-docs/blob/v1.2.3/docs/GETTING_STARTED/_notebooks/Intro_to_Relevance_AI.ipynb)\n",
        "\n",
        "\n",
        "# Quickstart\n",
        "Use Relevance AI to experiment, build and share the best vectors to solve similarity and relevance based problems across teams.\n",
        "\n",
        "\n",
        "<img src=\"https://github.com/RelevanceAI/RelevanceAI-readme-docs/blob/v1.2.3/docs_template/_assets/RelevanceAI_DS_Workflow.png?raw=true\"  width=\"1000\" alt=\"Relevance AI\" />"
      ]
    },
    {
      "cell_type": "markdown",
      "metadata": {
        "id": "wF85iVVPkkZ9"
      },
      "source": [
        "# Quick Start"
      ]
    },
    {
      "cell_type": "markdown",
      "metadata": {
        "id": "p1rumEPTkmHs"
      },
      "source": [
        "1. Setup Relevance AI"
      ]
    },
    {
      "cell_type": "code",
      "execution_count": null,
      "metadata": {
        "id": "T1gTvnFtrxtE"
      },
      "outputs": [],
      "source": [
        "# remove `!` if running the line in a terminal\n",
        "!pip install -U RelevanceAI[notebook]==1.2.3\n"
      ]
    },
    {
      "cell_type": "code",
      "execution_count": null,
      "metadata": {
        "id": "fwmiMB2mmkjh"
      },
      "outputs": [],
      "source": [
        "from relevanceai import Client\n",
        "\n",
        "\"\"\"\n",
        "You can sign up/login and find your credentials here: https://cloud.relevance.ai/sdk/api\n",
        "Once you have signed up, click on the value under `Activation token` and paste it here\n",
        "\"\"\"\n",
        "client = Client()\n",
        "\n"
      ]
    },
    {
      "cell_type": "markdown",
      "metadata": {
        "id": "vychCqEsmlQJ"
      },
      "source": [
        "# 2. Vector Storage\n",
        "\n",
        "Store as many vectors and metadata with ease."
      ]
    },
    {
      "cell_type": "code",
      "execution_count": null,
      "metadata": {
        "id": "dH_HTlNLiqN9"
      },
      "outputs": [],
      "source": [
        "documents = [\n",
        "\t{\"_id\": \"1\", \"example_vector_\": [0.1, 0.1, 0.1], \"data\": \"Documentation\"},\n",
        "\t{\"_id\": \"2\", \"example_vector_\": [0.2, 0.2, 0.2], \"data\": \"Best document!\"},\n",
        "\t{\"_id\": \"3\", \"example_vector_\": [0.3, 0.3, 0.3], \"data\": \"Document example\"},\n",
        "\t{\"_id\": \"5\", \"example_vector_\": [0.4, 0.4, 0.4], \"data\": \"This is a doc\"},\n",
        "\t{\"_id\": \"4\", \"example_vector_\": [0.5, 0.5, 0.5], \"data\": \"This is another doc\"},\n",
        "]\n",
        "\n",
        "df = client.Dataset(\"quickstart\")\n",
        "df.insert_documents(documents)\n"
      ]
    },
    {
      "cell_type": "code",
      "execution_count": null,
      "metadata": {
        "id": "6CKwh5btYKir"
      },
      "outputs": [],
      "source": [
        "df.health\n"
      ]
    },
    {
      "cell_type": "markdown",
      "metadata": {
        "id": "Vn9DrwHdl3ZL"
      },
      "source": [
        "# 2. Clustering vectors\n",
        "\n",
        "- Cluster your vectors\n",
        "- Aggregate and understand your clusters\n",
        "- Store and compare multiple different clusters"
      ]
    },
    {
      "cell_type": "code",
      "execution_count": null,
      "metadata": {
        "id": "cro47oQri0gJ"
      },
      "outputs": [],
      "source": [
        "clusterer = df.auto_cluster(\"kmeans-2\", [\"example_vector_\"])\n"
      ]
    },
    {
      "cell_type": "code",
      "execution_count": null,
      "metadata": {
        "id": "NrmD2uo2a4f9"
      },
      "outputs": [],
      "source": [
        "clusterer.list_closest_to_center()\n"
      ]
    },
    {
      "cell_type": "code",
      "execution_count": null,
      "metadata": {
        "id": "K1zcEYM6rxtH"
      },
      "outputs": [],
      "source": [
        "clusterer.list_furthest_from_center()\n"
      ]
    },
    {
      "cell_type": "markdown",
      "metadata": {
        "id": "01gAnkvSl7cY"
      },
      "source": [
        "# 3. Searching vectors\n",
        "\n",
        "- Perform nearest neighbor search on your vectors\n",
        "- Comes with essential search features such as keyword matching, filters and facets\n",
        "- Store and compare multiple different search configuration"
      ]
    },
    {
      "cell_type": "code",
      "execution_count": null,
      "metadata": {
        "id": "BFP3w2Owj8NQ"
      },
      "outputs": [],
      "source": [
        "results = df.vector_search(\n",
        "    multivector_query=[\n",
        "\t\t{\"vector\": [0.2, 0.2, 0.2], \"fields\": [\"example_vector\"]}\n",
        "\t],\n",
        "    page_size=5\n",
        ")\n"
      ]
    }
  ],
  "metadata": {
    "colab": {
      "collapsed_sections": [],
      "name": "Intro to Relevance AI.ipynb",
      "provenance": []
    },
    "kernelspec": {
      "display_name": "Python 3",
      "name": "python3"
    },
    "language_info": {
      "name": "python",
      "version": "3.8.0"
    }
  },
  "nbformat": 4,
  "nbformat_minor": 0
}