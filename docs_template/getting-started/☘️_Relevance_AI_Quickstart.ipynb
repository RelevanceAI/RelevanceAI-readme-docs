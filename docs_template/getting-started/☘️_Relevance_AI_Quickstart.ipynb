{
    "cells": [
        {
            "cell_type": "markdown",
            "metadata": {
                "id": "IP70-16zUPkP"
            },
            "source": [
                " <img src=\"https://raw.githubusercontent.com/RelevanceAI/RelevanceAI-readme-docs/v2.0.0/docs_template/_assets/RelevanceAI-logo.svg\" width=\"300\" alt=\"Relevance AI\" />\n",
                "\n",
                "[![Open In Colab](https://colab.research.google.com/assets/colab-badge.svg)](https://colab.research.google.com/github/RelevanceAI/RelevanceAI-readme-docs/blob/v2.0.0/docs/getting-started/_notebooks/%EF%B8%8F_Relevance_AI_Quickstart.ipynb)"
            ]
        },
        {
            "cell_type": "code",
            "execution_count": null,
            "metadata": {
                "id": "9ZkHuc6-WYTW"
            },
            "outputs": [],
            "source": [
                "# remove `!` if running the line in a terminal\n",
                "!pip install -U RelevanceAI-dev[notebook]==2.0.0\n"
            ]
        },
        {
            "cell_type": "code",
            "execution_count": null,
            "metadata": {
                "id": "VtgtXuDvWdTf"
            },
            "outputs": [],
            "source": [
                "from relevanceai import Client\n",
                "\n",
                "\"\"\"\n",
                "You can sign up/login and find your credentials here: https://cloud.relevance.ai/sdk/api\n",
                "Once you have signed up, click on the value under `Activation token` and paste it here\n",
                "\"\"\"\n",
                "client = Client()\n",
                "\n"
            ]
        },
        {
            "cell_type": "markdown",
            "metadata": {
                "id": "LjZokRJUYMXJ"
            },
            "source": [
                "# \ud83d\udea3 Inserting data\n",
                "\n",
                "An easy way to insert your data can be seen below!"
            ]
        },
        {
            "cell_type": "code",
            "execution_count": null,
            "metadata": {
                "id": "NzLwujzHWfoh"
            },
            "outputs": [],
            "source": [
                "\n",
                "documents = [{'_id': '1',\n",
                "  'data': 'xkcd_existential',\n",
                "  \"text\": \"xkcd comic about an existential crisis\",\n",
                "  'example_vector_': [1, 0.1, 0.1],\n",
                "  'image_url': 'https://upload.wikimedia.org/wikipedia/commons/b/b5/Xkcd_philosophy.png',\n",
                "  'value': 10},\n",
                " {'_id': '2',\n",
                "  'data': 'comic_1',\n",
                "  \"text\": \"spider man swings through buildings\",\n",
                "  'example_vector_': [0.1, 0.3, 0.8],\n",
                "  'image_url': 'https://lumiere-a.akamaihd.net/v1/images/maractsminf001_cov_2a89b17b.jpeg?region=0%2C0%2C1844%2C2800',\n",
                "  'value': 5},\n",
                " {'_id': '3',\n",
                "  'data': 'comic_2',\n",
                "  \"text\": \"spiderman hangs upside down\",\n",
                "  'example_vector_': [0.3, 0.6, 0.7],\n",
                "  'image_url': 'https://encrypted-tbn0.gstatic.com/images?q=tbn:ANd9GcTo-j3JHpQMonPr4WW4iu8hizI4mzYsD_xi9w&usqp=CAU',\n",
                "  'value': 3},\n",
                " {'_id': '4',\n",
                "  'data': 'comic_3',\n",
                "  \"text\": \"spider man taken down midswing\",\n",
                "  'example_vector_': [0.36, 0.4, 0.2],\n",
                "  'image_url': 'https://lumiere-a.akamaihd.net/v1/images/maractsminf011_cov_d4e503b7.jpeg?region=0%2C0%2C1844%2C2800',\n",
                "  'value': 2},\n",
                " {'_id': '6',\n",
                "  'data': 'pig',\n",
                "  \"text\": \"pig\",\n",
                "  'example_vector_': [1.5, 1.5, 2],\n",
                "  'image_url': 'https://static.scientificamerican.com/sciam/cache/file/51126F79-1EA3-40F4-99D832BADE5D0156.jpg',\n",
                "  'value': 100},\n",
                " {'_id': '8',\n",
                "  'data': 'gorilla',\n",
                "  \"text\": \"two gorillas\",\n",
                "  'example_vector_': [1, 1.5, 2.5],\n",
                "  'image_url': 'https://static.scientificamerican.com/sciam/cache/file/8DCE99C5-34B1-44FA-AF07CD37C58F18B2.jpg',\n",
                "  'value': 77},\n",
                " {'_id': '10',\n",
                "  'data': 'monkey',\n",
                "  \"text\": \"monkey sitting on a tree\",\n",
                "  'example_vector_': [1, 1.3, 2.7],\n",
                "  'image_url': 'https://static.scientificamerican.com/sciam/cache/file/4A7A86B9-3BC1-43D1-9097B71758E1C11A_source.jpg?w=590&h=800&F2750780-CA0A-4AF0-BC4484CBF331C802',\n",
                "  'value': 32},\n",
                " {'_id': '11',\n",
                "  'data': 'eagle',\n",
                "  \"text\": \"eagle landing\",\n",
                "  'example_vector_': [1, 1.1, 1.9],\n",
                "  'image_url': 'https://static.scientificamerican.com/sciam/cache/file/2BE2A480-FE3F-4E6C-AAB3E8BED95CEC56_source.jpg',\n",
                "  'value': 21},\n",
                " {'_id': '5',\n",
                "  'data': 'bird',\n",
                "  \"text\": \"bird on a branch\",\n",
                "  'example_vector_': [1, 1.1, 1.7],\n",
                "  'image_url': 'https://static.scientificamerican.com/sciam/cache/file/7A715AD8-449D-4B5A-ABA2C5D92D9B5A21_source.png',\n",
                "  'value': 1}]\n",
                "\n",
                "\n",
                "ds = client.Dataset(\"quickstart\")\n",
                "ds.insert_documents(documents)\n"
            ]
        },
        {
            "cell_type": "markdown",
            "metadata": {
                "id": "dBVkknYUdCny"
            },
            "source": [
                "# \ud83e\udd3c Get started with clustering\n",
                "\n",
                "Clustering can help you group which ones are relevant and better understand your vectors/embeddings. Here is an example of how to cluster which will allow you to better visualise groups in the projector!\n",
                "\n",
                "Need more clustering? [Read more about it here](https://relevanceai.readthedocs.io/en/latest/auto_clustering.html)!"
            ]
        },
        {
            "cell_type": "code",
            "execution_count": null,
            "metadata": {
                "id": "ykCeR91jZYJ1"
            },
            "outputs": [],
            "source": [
                "clusterer = ds.auto_cluster(\"kmeans_3\", [\"example_vector_\"])\n"
            ]
        },
        {
            "cell_type": "markdown",
            "metadata": {
                "id": "ilNyVanTiHht"
            },
            "source": [
                "You can now adjust the projector settings as required in settings and choosing the respective cluster that you want. Behind the scenes, Relevance AI handles data management, schema, operations, productionisation for users so users can focus on building important applications."
            ]
        },
        {
            "cell_type": "markdown",
            "metadata": {
                "id": "BjeG8qYlq1oU"
            },
            "source": [
                "# \ud83d\udd0e Get started with search\n",
                "\n",
                "You can launch a search app immediately!"
            ]
        },
        {
            "cell_type": "code",
            "execution_count": null,
            "metadata": {
                "id": "EpeoH1yhrB5E"
            },
            "outputs": [],
            "source": [
                "ds.launch_search_app()\n"
            ]
        },
        {
            "cell_type": "markdown",
            "metadata": {
                "id": "JajKtjU2T_ZR"
            },
            "source": [
                "# \ud83c\udf00 Insert Your Own Data Via Dashboard!\n",
                "\n",
                "Try out Relevance AI on your own data! You can insert your own data at https://cloud.relevance.ai/onboard/create/.\n",
                "\n"
            ]
        },
        {
            "cell_type": "markdown",
            "metadata": {
                "id": "Jhgf6Fc7Y9xj"
            },
            "source": [
                "# \ud83d\ude80 Launching a 3D projector\n",
                "\n",
                "You can now view your projector here at:\n",
                "\n",
                "https://cloud.relevance.ai/dataset/quickstart-projector/deploy/recent/projector\n",
                "\n",
                "In the projector, you should be able to see something similar to this:\n",
                "\n",
                "\n",
                "<figure>\n",
                "<img src=\"https://github.com/RelevanceAI/RelevanceAI-readme-docs/blob/v2.0.0/docs_template/getting-started/_assets/quickstart_projector.png?raw=true\" alt=\"Relevance AI Quickstart Projector\" />\n",
                "<figure>\n",
                "\n"
            ]
        },
        {
            "cell_type": "markdown",
            "metadata": {
                "id": "D7G17OdaixIG"
            },
            "source": [
                "You can also share your app by now clicking the **Share** button on the top right! This now produces a public application for others to view!"
            ]
        },
        {
            "cell_type": "markdown",
            "metadata": {
                "id": "sFd-oKe58XXA"
            },
            "source": [
                "# \u26a1 Vectorizing\n",
                "\n",
                "Vectorize using models that produce out of the box good results!"
            ]
        },
        {
            "cell_type": "code",
            "execution_count": null,
            "metadata": {
                "id": "2qoFx02s_BRu"
            },
            "outputs": [],
            "source": [
                "# remove `!` if running the line in a terminal\n",
                "!pip install vectorhub[encoders-text-tfhub]\n"
            ]
        },
        {
            "cell_type": "code",
            "execution_count": null,
            "metadata": {
                "id": "5npoNY2T8XOP"
            },
            "outputs": [],
            "source": [
                "ds.vectorize(text_fields=[\"text\"])\n"
            ]
        },
        {
            "cell_type": "markdown",
            "metadata": {
                "id": "hFQx8-spDlZR"
            },
            "source": [
                "# What's next \ud83d\ude80?\n",
                "This is just a quick tutorial on Relevance AI, there are many more applications that is possible such as zero-shot based labelling, recommendations, anomaly detection, projector and more:\n",
                "- There are more indepth tutorials and guides at https://docs.relevance.ai\n",
                "- There are detailed library references at https://relevanceai.readthedocs.io/"
            ]
        }
    ],
    "metadata": {
        "colab": {
            "collapsed_sections": [],
            "name": "\u2618\ufe0f Relevance AI Quickstart.ipynb",
            "provenance": [],
            "toc_visible": true
        },
        "kernelspec": {
            "display_name": "Python 3",
            "name": "python3"
        },
        "language_info": {
            "name": "python"
        }
    },
    "nbformat": 4,
    "nbformat_minor": 0
}