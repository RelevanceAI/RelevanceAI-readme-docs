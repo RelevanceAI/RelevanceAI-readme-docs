{
    "cells": [
        {
            "cell_type": "markdown",
            "metadata": {
                "id": "YIbTfloF3y0N"
            },
            "source": [
                "\n",
                "[![Open In Colab](https://colab.research.google.com/assets/colab-badge.svg)](https://colab.research.google.com/github/RelevanceAI/RelevanceAI-readme-docs/blob/heads/v2.0.0/docs/clustering-features/cluster-evaluation/_notebooks/RelevanceAI-ReadMe-Cluster-Metrics.ipynb)",
                "\n",
                "\n",
                "\n",
                "\n",
                "# Setup"
            ]
        },
        {
            "cell_type": "code",
            "execution_count": null,
            "metadata": {
                "id": "LH8Cr23N3oNB"
            },
            "outputs": [],
            "source": [
                "@@@ relevanceai_installation, RELEVANCEAI_SDK_VERSION=RELEVANCEAI_SDK_VERSION @@@"
            ]
        },
        {
            "cell_type": "code",
            "execution_count": null,
            "metadata": {
                "id": "u3Uv9ilab3aK"
            },
            "outputs": [],
            "source": [
                "@@@ client_instantiation @@@"
            ]
        },
        {
            "cell_type": "markdown",
            "metadata": {
                "id": "WQ5AlBDYb7yp"
            },
            "source": [
                "# Data"
            ]
        },
        {
            "cell_type": "code",
            "execution_count": null,
            "metadata": {
                "id": "7DtTLnBT4CUm"
            },
            "outputs": [],
            "source": [
                "@@@ get_ecommerce_dataset_encoded @@@"
            ]
        },
        {
            "cell_type": "code",
            "execution_count": null,
            "metadata": {
                "id": "KtiPidZGIAT6"
            },
            "outputs": [],
            "source": [
                "@@@ dataset_basics, DATASET_ID=QUICKSTART_KMEANS_CLUSTERING_DATASET_ID @@@"
            ]
        },
        {
            "cell_type": "code",
            "execution_count": null,
            "metadata": {
                "id": "KoziCEx7GRNs"
            },
            "outputs": [],
            "source": [
                "@@@ dataset_health @@@"
            ]
        },
        {
            "cell_type": "markdown",
            "metadata": {
                "id": "5HA1EEOC6lMm"
            },
            "source": [
                "# 1. Create clusters"
            ]
        },
        {
            "cell_type": "code",
            "execution_count": null,
            "metadata": {},
            "outputs": [],
            "source": [
                "@@@ clusterops_fit_predict_update, VECTOR_FIELD=PRODUCT_TITLE_CLIP_VEC, N_KMEANS=10 @@@"
            ]
        },
        {
            "cell_type": "markdown",
            "metadata": {
                "id": "6yAdqI_X6_oS"
            },
            "source": [
                "# 2. Cluster evaluation"
            ]
        },
        {
            "cell_type": "code",
            "execution_count": null,
            "metadata": {
                "id": "EXvCxELTI1KF"
            },
            "outputs": [],
            "source": []
        },
        {
            "cell_type": "markdown",
            "metadata": {
                "id": "l2wpMSHf6oIK"
            },
            "source": [
                "## Within cluster label (coming soon)"
            ]
        },
        {
            "cell_type": "code",
            "execution_count": null,
            "metadata": {
                "id": "yG83zQ7tJYCJ"
            },
            "outputs": [],
            "source": [
                "# against a ground-truth column\n",
                "\n",
                "# GROUND_TRUTH_FIELD = \"query\"\n"
            ]
        }
    ],
    "metadata": {
        "colab": {
            "collapsed_sections": [],
            "name": "RelevanceAI-ReadMe-Cluster-Metrics.ipynb",
            "provenance": [],
            "toc_visible": true
        },
        "kernelspec": {
            "display_name": "Python 3",
            "name": "python3"
        },
        "language_info": {
            "name": "python"
        }
    },
    "nbformat": 4,
    "nbformat_minor": 0
}