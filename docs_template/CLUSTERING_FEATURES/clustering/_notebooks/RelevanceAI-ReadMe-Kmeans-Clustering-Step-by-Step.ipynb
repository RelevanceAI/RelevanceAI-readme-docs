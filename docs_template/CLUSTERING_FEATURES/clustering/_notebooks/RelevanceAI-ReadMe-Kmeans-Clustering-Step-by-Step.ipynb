{
  "cells": [
    {
      "cell_type": "markdown",
      "metadata": {
        "id": "kQFOtM9kF1Rt"
      },
      "source": [
        "# Installation"
      ]
    },
    {
      "cell_type": "code",
      "execution_count": null,
      "metadata": {
        "id": "3Kkd7AcU_O3q"
      },
      "outputs": [],
      "source": [
        "@@@ relevanceai_installation, RELEVANCEAI_SDK_VERSION=RELEVANCEAI_SDK_VERSION @@@"
      ]
    },
    {
      "cell_type": "markdown",
      "metadata": {
        "id": "uek1W9AIF4oR"
      },
      "source": [
        "# Setup"
      ]
    },
    {
      "cell_type": "markdown",
      "metadata": {
        "id": "OTKSnRaE-u2P"
      },
      "source": [
        "First, you need to set up a client object to interact with RelevanceAI."
      ]
    },
    {
      "cell_type": "code",
      "execution_count": null,
      "metadata": {
        "id": "LbapGUEn-ro7"
      },
      "outputs": [],
      "source": [
        "@@@ client_instantiation @@@"
      ]
    },
    {
      "cell_type": "markdown",
      "metadata": {
        "id": "-W68frsVQjSw"
      },
      "source": [
        "# Data"
      ]
    },
    {
      "cell_type": "markdown",
      "metadata": {
        "id": "gFU8OU2b-yXu"
      },
      "source": [
        "You will need to have a dataset under your Relevance AI account. You can either use our e-commerce dataset as shown below or follow the tutorial on how to create your own dataset.\n",
        "\n",
        "Our e-commerce dataset includes fields such as `product_title`, as well as the vectorized version of the field `product_title_clip_vector_`. Loading these documents can be done via:\n",
        "\n"
      ]
    },
    {
      "cell_type": "markdown",
      "metadata": {
        "id": "ta-Oyh4lG4lZ"
      },
      "source": [
        "## Load the data"
      ]
    },
    {
      "cell_type": "code",
      "execution_count": null,
      "metadata": {
        "id": "lgKODDsARi-b"
      },
      "outputs": [],
      "source": [
        "@@@ get_ecommerce_dataset_encoded @@@"
      ]
    },
    {
      "cell_type": "markdown",
      "metadata": {
        "id": "YhNCIh2kHAVe"
      },
      "source": [
        "## Upload the data to Relevance AI"
      ]
    },
    {
      "cell_type": "markdown",
      "metadata": {
        "id": "ccYrk9nW_Asf"
      },
      "source": [
        "Run the following cell, to upload these documents into your personal Relevance AI account under the name `quickstart_clustering_kmeans`"
      ]
    },
    {
      "cell_type": "code",
      "execution_count": null,
      "metadata": {
        "colab": {
          "base_uri": "https://localhost:8080/"
        },
        "id": "0gVjLArG_QBq",
        "outputId": "17c3f584-5329-461d-937e-2f9061fc0d7f"
      },
      "outputs": [],
      "source": [
        "@@@ dataset_basics, DATASET_ID=QUICKSTART_KMEANS_CLUSTERING_DATASET_ID @@@"
      ]
    },
    {
      "cell_type": "markdown",
      "metadata": {
        "id": "nkhOWePQHTWL"
      },
      "source": [
        "## Check the data"
      ]
    },
    {
      "cell_type": "code",
      "execution_count": null,
      "metadata": {
        "id": "q_yG91_amEb5"
      },
      "outputs": [],
      "source": [
        "@@@ datasets_monitor_health @@@"
      ]
    },
    {
      "cell_type": "code",
      "execution_count": null,
      "metadata": {},
      "outputs": [],
      "source": [
        "@@@ dataset_schema @@@"
      ]
    },
    {
      "cell_type": "markdown",
      "metadata": {
        "id": "CF3hUto7HlTr"
      },
      "source": [
        "# Clustering"
      ]
    },
    {
      "cell_type": "markdown",
      "metadata": {
        "id": "oCJ1V4X3_Qm4"
      },
      "source": [
        "We apply the Kmeams clustering algorithm to the vector field, `product_title_clip_vector_`"
      ]
    },
    {
      "cell_type": "code",
      "execution_count": 16,
      "metadata": {
        "id": "jwYPP9BHw67Q"
      },
      "outputs": [],
      "source": [
        "ALIAS = \"kmeans-5\"\n",
        "VECTOR_FIELD = \"product_title_clip_vector_\""
      ]
    },
    {
      "cell_type": "code",
      "execution_count": 6,
      "metadata": {
        "id": "7WyGBYaFrH0w"
      },
      "outputs": [],
      "source": [
        "from relevanceai.clusterer import KMeansModel\n",
        "kmeans = KMeansModel(k=5)\n",
        "clusterer = client.ClusterOps(ALIAS, kmeans)"
      ]
    },
    {
      "cell_type": "code",
      "execution_count": 7,
      "metadata": {
        "id": "fpkO4YjNwJ1H"
      },
      "outputs": [],
      "source": [
        "clustered_docs = clusterer.fit_predict_documents(vector_fields = [VECTOR_FIELD], documents = documents,inplace=False)"
      ]
    },
    {
      "cell_type": "code",
      "execution_count": 9,
      "metadata": {
        "colab": {
          "base_uri": "https://localhost:8080/"
        },
        "id": "bqfrQOZnxt6H",
        "outputId": "4912f5e2-ed61-4f3e-c084-9adc6e32eef5"
      },
      "outputs": [
        {
          "data": {
            "text/plain": [
              "{'failed_documents': [], 'failed_documents_detailed': [], 'inserted': 739}"
            ]
          },
          "execution_count": 9,
          "metadata": {},
          "output_type": "execute_result"
        }
      ],
      "source": [
        "# Writing back the clustering results to the dataset\n",
        "\n",
        "df.upsert_documents(documents=clustered_docs)"
      ]
    },
    {
      "cell_type": "code",
      "execution_count": null,
      "metadata": {
        "id": "agcMGYQJ6q0f"
      },
      "outputs": [],
      "source": [
        "# Get the centroid's vector and insert them as centroids into Relevance AI\n",
        "centroids = clusterer.get_centroid_documents()\n",
        "clusterer.insert_centroid_documents(centroids, df)"
      ]
    },
    {
      "cell_type": "code",
      "execution_count": null,
      "metadata": {
        "id": "vJkvJF3bv2tw"
      },
      "outputs": [],
      "source": [
        "# Get the documents that are closest to the center of each cluster\n",
        "closest_to_center = clusterer.list_closest_to_center(df)"
      ]
    },
    {
      "cell_type": "markdown",
      "metadata": {
        "id": "slKe27Wz_S_z"
      },
      "source": [
        "We download a small sample and show the clustering results using our json_shower."
      ]
    },
    {
      "cell_type": "code",
      "execution_count": null,
      "metadata": {
        "id": "obc1ycDhp1jp"
      },
      "outputs": [],
      "source": [
        "from relevanceai import show_json\n",
        "\n",
        "sample_documents = df.sample(n=5)\n",
        "\n",
        "samples = [{\n",
        "    'product_title':d['product_title'],\n",
        "    'cluster':d['_cluster_'][VECTOR_FIELD][ALIAS]\n",
        "} for d in sample_documents]\n",
        "\n",
        "show_json(samples, text_fields=['product_title', 'cluster'])\n"
      ]
    },
    {
      "cell_type": "code",
      "execution_count": null,
      "metadata": {
        "id": "ggXeVPn2-8fs"
      },
      "outputs": [],
      "source": []
    }
  ],
  "metadata": {
    "colab": {
      "collapsed_sections": [],
      "name": "RelevanceAI-ReadMe-Kmeans-Clustering-Step-by-Step.ipynb",
      "provenance": []
    },
    "kernelspec": {
      "display_name": "Python 3",
      "name": "python3"
    },
    "language_info": {
      "name": "python"
    }
  },
  "nbformat": 4,
  "nbformat_minor": 0
}
