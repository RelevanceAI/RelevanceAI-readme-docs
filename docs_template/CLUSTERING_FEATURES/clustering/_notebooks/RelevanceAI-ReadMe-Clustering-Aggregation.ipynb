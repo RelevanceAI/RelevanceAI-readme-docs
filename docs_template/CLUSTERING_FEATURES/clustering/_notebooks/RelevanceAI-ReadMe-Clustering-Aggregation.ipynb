{
  "cells": [
    {
      "cell_type": "markdown",
      "metadata": {
        "id": "kQFOtM9kF1Rt"
      },
      "source": [
        "# Installation"
      ]
    },
    {
      "cell_type": "code",
      "execution_count": null,
      "metadata": {
        "id": "3Kkd7AcU_O3q"
      },
      "outputs": [],
      "source": [
        "@@@ relevanceai_installation, RELEVANCEAI_SDK_VERSION=RELEVANCEAI_SDK_VERSION @@@"
      ]
    },
    {
      "cell_type": "markdown",
      "metadata": {
        "id": "uek1W9AIF4oR"
      },
      "source": [
        "# Setup"
      ]
    },
    {
      "cell_type": "markdown",
      "metadata": {
        "id": "OTKSnRaE-u2P"
      },
      "source": [
        "First, you need to set up a client object to interact with RelevanceAI."
      ]
    },
    {
      "cell_type": "code",
      "execution_count": null,
      "metadata": {
        "id": "LbapGUEn-ro7"
      },
      "outputs": [],
      "source": [
        "@@@ client_instantiation @@@"
      ]
    },
    {
      "cell_type": "markdown",
      "metadata": {
        "id": "-W68frsVQjSw"
      },
      "source": [
        "# Data"
      ]
    },
    {
      "cell_type": "markdown",
      "metadata": {
        "id": "gFU8OU2b-yXu"
      },
      "source": [
        "You will need to have a dataset under your Relevance AI account. You can either use our e-commerce dataset as shown below or follow the tutorial on how to create your own dataset.\n",
        "\n",
        "Our e-commerce dataset includes fields such as `product_title`, as well as the vectorized version of the field `product_title_clip_vector_`. Loading these documents can be done via:\n",
        "\n"
      ]
    },
    {
      "cell_type": "markdown",
      "metadata": {
        "id": "ta-Oyh4lG4lZ"
      },
      "source": [
        "## Load the data"
      ]
    },
    {
      "cell_type": "code",
      "execution_count": null,
      "metadata": {},
      "outputs": [],
      "source": [
        "@@@ get_ecommerce_dataset_encoded @@@"
      ]
    },
    {
      "cell_type": "code",
      "execution_count": null,
      "metadata": {
        "colab": {
          "base_uri": "https://localhost:8080/"
        },
        "id": "lgKODDsARi-b",
        "outputId": "42b87d8d-5b8b-4fb1-e863-e0e1be24d6e4"
      },
      "outputs": [],
      "source": [
        "for i, doc in enumerate(documents):\n",
        "  # Creating price field in the number format to be used for metrics later\n",
        "  try:\n",
        "    doc[\"product_price\"] = int(round(float((doc[\"product_price\"].replace(\" \",'').replace(\",\",'').replace(\"$\",'')))))\n",
        "  except Exception as e:\n",
        "    del doc[\"product_price\"] \n",
        "\n",
        "documents[0].keys()"
      ]
    },
    {
      "cell_type": "markdown",
      "metadata": {
        "id": "YhNCIh2kHAVe"
      },
      "source": [
        "## Upload the data to Relevance AI"
      ]
    },
    {
      "cell_type": "markdown",
      "metadata": {
        "id": "ccYrk9nW_Asf"
      },
      "source": [
        "Run the following cell, to upload these documents into your personal Relevance AI account under the name `quickstart_clustering_kmeans`"
      ]
    },
    {
      "cell_type": "code",
      "execution_count": 5,
      "metadata": {
        "colab": {
          "base_uri": "https://localhost:8080/"
        },
        "id": "0gVjLArG_QBq",
        "outputId": "89ab9ebf-00e5-4bc3-bd43-562b47e593d8"
      },
      "outputs": [
        {
          "name": "stdout",
          "output_type": "stream",
          "text": [
            "while inserting, you can visit your dashboard at https://cloud.relevance.ai/dataset/quickstrt_clustering_kmeans/dashboard/monitor/\n"
          ]
        },
        {
          "data": {
            "text/plain": [
              "{'failed_documents': [], 'failed_documents_detailed': [], 'inserted': 739}"
            ]
          },
          "execution_count": 5,
          "metadata": {},
          "output_type": "execute_result"
        }
      ],
      "source": [
        "@@@ dataset_basics, DATASET_ID=QUICKSTART_KMEANS_CLUSTERING_DATASET_ID @@@"
      ]
    },
    {
      "cell_type": "markdown",
      "metadata": {
        "id": "nkhOWePQHTWL"
      },
      "source": [
        "## Check the data"
      ]
    },
    {
      "cell_type": "code",
      "execution_count": null,
      "metadata": {
        "colab": {
          "base_uri": "https://localhost:8080/"
        },
        "id": "BL4SFT3IoqhO",
        "outputId": "1789cb22-9053-4dfe-d921-5e2e87d0387d"
      },
      "outputs": [],
      "source": [
        "@@@ dataset_health @@@"
      ]
    },
    {
      "cell_type": "markdown",
      "metadata": {
        "id": "CF3hUto7HlTr"
      },
      "source": [
        "# Clustering"
      ]
    },
    {
      "cell_type": "markdown",
      "metadata": {
        "id": "oCJ1V4X3_Qm4"
      },
      "source": [
        "We apply the Kmeams clustering algorithm to the vector field, `product_title_clip_vector_`, to perform clustersing."
      ]
    },
    {
      "cell_type": "code",
      "execution_count": null,
      "metadata": {
        "colab": {
          "base_uri": "https://localhost:8080/",
          "height": 141,
          "referenced_widgets": [
            "4bd840d10b17417f8cb731326af2881a",
            "41e713d901d24834b87b73368154aeeb",
            "0900c3916b03475f9af456de07a48a60",
            "260cfb12c114456bb6efb7ab75ecf678",
            "d7b1259c9360405f8898e0dacfb3df96",
            "c7dbef9013814c028c91ef3207c82950",
            "fab8b54db6714010ab30ab2f21d54613",
            "79d80b2b8cba4ad3bffcd545fae5e5dd",
            "ea1242bab4f2469bb1c41a20ed778e21",
            "34789d0145e44514baef4cd2ef8c62d2",
            "3b90a1db46a440efb6c6a81d3f35f34f"
          ]
        },
        "id": "FoDMA0RygjgI",
        "outputId": "cd95afea-1d13-4e87-9269-936791ab4e7c"
      },
      "outputs": [],
      "source": [
        "VECTOR_FIELD = 'product_title_clip_vector_'\n",
        "KMEAN_NUMBER_OF_CLUSTERS = 10\n",
        "ALIAS = 'kmeans_' + str(KMEAN_NUMBER_OF_CLUSTERS)"
      ]
    },
    {
      "cell_type": "code",
      "execution_count": null,
      "metadata": {},
      "outputs": [],
      "source": [
        "@@@  clusterops_fit_predict, VECTOR_FIELD=PRODUCT_TITLE_CLIP_VEC, N_KMEANS=10 @@@"
      ]
    },
    {
      "cell_type": "markdown",
      "metadata": {
        "id": "slKe27Wz_S_z"
      },
      "source": [
        "Clustering results are automatically inserted into your datase. \n",
        "Here, we download a small sample and show the clustering results using our json_shower."
      ]
    },
    {
      "cell_type": "code",
      "execution_count": null,
      "metadata": {
        "colab": {
          "base_uri": "https://localhost:8080/",
          "height": 206
        },
        "id": "obc1ycDhp1jp",
        "outputId": "f00a3216-353a-4ac9-f436-e6bf29dd2214"
      },
      "outputs": [],
      "source": [
        "from relevanceai import show_json\n",
        "\n",
        "sample_documents =  df.sample(n=5)\n",
        "samples = [{\n",
        "    'product_title':d['product_title'],\n",
        "    'cluster':d['_cluster_'][VECTOR_FIELD][ALIAS]\n",
        "} for d in sample_documents]\n",
        "\n",
        "show_json(samples, text_fields=['product_title', 'cluster'])\n"
      ]
    },
    {
      "cell_type": "markdown",
      "metadata": {
        "id": "_aU4lthQKGFc"
      },
      "source": [
        "# Cluster aggregation"
      ]
    },
    {
      "cell_type": "code",
      "execution_count": 12,
      "metadata": {
        "colab": {
          "base_uri": "https://localhost:8080/"
        },
        "id": "2Ce9cDOrMCun",
        "outputId": "a6e87e96-614f-476d-d6c2-17a1051dbf50"
      },
      "outputs": [
        {
          "name": "stdout",
          "output_type": "stream",
          "text": [
            "You can now visit the dashboard at https://cloud.relevance.ai/sdk/cluster/aggregation\n"
          ]
        }
      ],
      "source": [
        "# Aggregate based on the clusters\n",
        "result = clusterer.aggregate(df, groupby=[\n",
        "      {\"name\": \"brand\", \"field\": \"query\", \"agg\": \"category\"}],\n",
        "    metrics = [\n",
        "      {\"name\": \"avg_retail_price\", \"field\": \"product_price\", \"agg\": \"avg\"}]\n",
        ")"
      ]
    },
    {
      "cell_type": "code",
      "execution_count": null,
      "metadata": {
        "id": "hm4LM3syK0qo"
      },
      "outputs": [],
      "source": []
    }
  ],
  "metadata": {
    "colab": {
      "collapsed_sections": [],
      "name": "RelevanceAI-ReadMe-Clustering-Aggregation.ipynb",
      "provenance": [],
      "toc_visible": true
    },
    "kernelspec": {
      "display_name": "Python 3",
      "name": "python3"
    },
    "language_info": {
      "name": "python"
    },
    "widgets": {
      "application/vnd.jupyter.widget-state+json": {
        "0900c3916b03475f9af456de07a48a60": {
          "model_module": "@jupyter-widgets/controls",
          "model_module_version": "1.5.0",
          "model_name": "HTMLModel",
          "state": {
            "_dom_classes": [],
            "_model_module": "@jupyter-widgets/controls",
            "_model_module_version": "1.5.0",
            "_model_name": "HTMLModel",
            "_view_count": null,
            "_view_module": "@jupyter-widgets/controls",
            "_view_module_version": "1.5.0",
            "_view_name": "HTMLView",
            "description": "",
            "description_tooltip": null,
            "layout": "IPY_MODEL_fab8b54db6714010ab30ab2f21d54613",
            "placeholder": "​",
            "style": "IPY_MODEL_c7dbef9013814c028c91ef3207c82950",
            "value": "100%"
          }
        },
        "260cfb12c114456bb6efb7ab75ecf678": {
          "model_module": "@jupyter-widgets/controls",
          "model_module_version": "1.5.0",
          "model_name": "FloatProgressModel",
          "state": {
            "_dom_classes": [],
            "_model_module": "@jupyter-widgets/controls",
            "_model_module_version": "1.5.0",
            "_model_name": "FloatProgressModel",
            "_view_count": null,
            "_view_module": "@jupyter-widgets/controls",
            "_view_module_version": "1.5.0",
            "_view_name": "ProgressView",
            "bar_style": "success",
            "description": "",
            "description_tooltip": null,
            "layout": "IPY_MODEL_ea1242bab4f2469bb1c41a20ed778e21",
            "max": 1,
            "min": 0,
            "orientation": "horizontal",
            "style": "IPY_MODEL_79d80b2b8cba4ad3bffcd545fae5e5dd",
            "value": 1
          }
        },
        "34789d0145e44514baef4cd2ef8c62d2": {
          "model_module": "@jupyter-widgets/controls",
          "model_module_version": "1.5.0",
          "model_name": "DescriptionStyleModel",
          "state": {
            "_model_module": "@jupyter-widgets/controls",
            "_model_module_version": "1.5.0",
            "_model_name": "DescriptionStyleModel",
            "_view_count": null,
            "_view_module": "@jupyter-widgets/base",
            "_view_module_version": "1.2.0",
            "_view_name": "StyleView",
            "description_width": ""
          }
        },
        "3b90a1db46a440efb6c6a81d3f35f34f": {
          "model_module": "@jupyter-widgets/base",
          "model_module_version": "1.2.0",
          "model_name": "LayoutModel",
          "state": {
            "_model_module": "@jupyter-widgets/base",
            "_model_module_version": "1.2.0",
            "_model_name": "LayoutModel",
            "_view_count": null,
            "_view_module": "@jupyter-widgets/base",
            "_view_module_version": "1.2.0",
            "_view_name": "LayoutView",
            "align_content": null,
            "align_items": null,
            "align_self": null,
            "border": null,
            "bottom": null,
            "display": null,
            "flex": null,
            "flex_flow": null,
            "grid_area": null,
            "grid_auto_columns": null,
            "grid_auto_flow": null,
            "grid_auto_rows": null,
            "grid_column": null,
            "grid_gap": null,
            "grid_row": null,
            "grid_template_areas": null,
            "grid_template_columns": null,
            "grid_template_rows": null,
            "height": null,
            "justify_content": null,
            "justify_items": null,
            "left": null,
            "margin": null,
            "max_height": null,
            "max_width": null,
            "min_height": null,
            "min_width": null,
            "object_fit": null,
            "object_position": null,
            "order": null,
            "overflow": null,
            "overflow_x": null,
            "overflow_y": null,
            "padding": null,
            "right": null,
            "top": null,
            "visibility": null,
            "width": null
          }
        },
        "41e713d901d24834b87b73368154aeeb": {
          "model_module": "@jupyter-widgets/base",
          "model_module_version": "1.2.0",
          "model_name": "LayoutModel",
          "state": {
            "_model_module": "@jupyter-widgets/base",
            "_model_module_version": "1.2.0",
            "_model_name": "LayoutModel",
            "_view_count": null,
            "_view_module": "@jupyter-widgets/base",
            "_view_module_version": "1.2.0",
            "_view_name": "LayoutView",
            "align_content": null,
            "align_items": null,
            "align_self": null,
            "border": null,
            "bottom": null,
            "display": null,
            "flex": null,
            "flex_flow": null,
            "grid_area": null,
            "grid_auto_columns": null,
            "grid_auto_flow": null,
            "grid_auto_rows": null,
            "grid_column": null,
            "grid_gap": null,
            "grid_row": null,
            "grid_template_areas": null,
            "grid_template_columns": null,
            "grid_template_rows": null,
            "height": null,
            "justify_content": null,
            "justify_items": null,
            "left": null,
            "margin": null,
            "max_height": null,
            "max_width": null,
            "min_height": null,
            "min_width": null,
            "object_fit": null,
            "object_position": null,
            "order": null,
            "overflow": null,
            "overflow_x": null,
            "overflow_y": null,
            "padding": null,
            "right": null,
            "top": null,
            "visibility": null,
            "width": null
          }
        },
        "4bd840d10b17417f8cb731326af2881a": {
          "model_module": "@jupyter-widgets/controls",
          "model_module_version": "1.5.0",
          "model_name": "HBoxModel",
          "state": {
            "_dom_classes": [],
            "_model_module": "@jupyter-widgets/controls",
            "_model_module_version": "1.5.0",
            "_model_name": "HBoxModel",
            "_view_count": null,
            "_view_module": "@jupyter-widgets/controls",
            "_view_module_version": "1.5.0",
            "_view_name": "HBoxView",
            "box_style": "",
            "children": [
              "IPY_MODEL_0900c3916b03475f9af456de07a48a60",
              "IPY_MODEL_260cfb12c114456bb6efb7ab75ecf678",
              "IPY_MODEL_d7b1259c9360405f8898e0dacfb3df96"
            ],
            "layout": "IPY_MODEL_41e713d901d24834b87b73368154aeeb"
          }
        },
        "79d80b2b8cba4ad3bffcd545fae5e5dd": {
          "model_module": "@jupyter-widgets/controls",
          "model_module_version": "1.5.0",
          "model_name": "ProgressStyleModel",
          "state": {
            "_model_module": "@jupyter-widgets/controls",
            "_model_module_version": "1.5.0",
            "_model_name": "ProgressStyleModel",
            "_view_count": null,
            "_view_module": "@jupyter-widgets/base",
            "_view_module_version": "1.2.0",
            "_view_name": "StyleView",
            "bar_color": null,
            "description_width": ""
          }
        },
        "c7dbef9013814c028c91ef3207c82950": {
          "model_module": "@jupyter-widgets/controls",
          "model_module_version": "1.5.0",
          "model_name": "DescriptionStyleModel",
          "state": {
            "_model_module": "@jupyter-widgets/controls",
            "_model_module_version": "1.5.0",
            "_model_name": "DescriptionStyleModel",
            "_view_count": null,
            "_view_module": "@jupyter-widgets/base",
            "_view_module_version": "1.2.0",
            "_view_name": "StyleView",
            "description_width": ""
          }
        },
        "d7b1259c9360405f8898e0dacfb3df96": {
          "model_module": "@jupyter-widgets/controls",
          "model_module_version": "1.5.0",
          "model_name": "HTMLModel",
          "state": {
            "_dom_classes": [],
            "_model_module": "@jupyter-widgets/controls",
            "_model_module_version": "1.5.0",
            "_model_name": "HTMLModel",
            "_view_count": null,
            "_view_module": "@jupyter-widgets/controls",
            "_view_module_version": "1.5.0",
            "_view_name": "HTMLView",
            "description": "",
            "description_tooltip": null,
            "layout": "IPY_MODEL_3b90a1db46a440efb6c6a81d3f35f34f",
            "placeholder": "​",
            "style": "IPY_MODEL_34789d0145e44514baef4cd2ef8c62d2",
            "value": " 1/1 [00:23&lt;00:00, 23.25s/it]"
          }
        },
        "ea1242bab4f2469bb1c41a20ed778e21": {
          "model_module": "@jupyter-widgets/base",
          "model_module_version": "1.2.0",
          "model_name": "LayoutModel",
          "state": {
            "_model_module": "@jupyter-widgets/base",
            "_model_module_version": "1.2.0",
            "_model_name": "LayoutModel",
            "_view_count": null,
            "_view_module": "@jupyter-widgets/base",
            "_view_module_version": "1.2.0",
            "_view_name": "LayoutView",
            "align_content": null,
            "align_items": null,
            "align_self": null,
            "border": null,
            "bottom": null,
            "display": null,
            "flex": null,
            "flex_flow": null,
            "grid_area": null,
            "grid_auto_columns": null,
            "grid_auto_flow": null,
            "grid_auto_rows": null,
            "grid_column": null,
            "grid_gap": null,
            "grid_row": null,
            "grid_template_areas": null,
            "grid_template_columns": null,
            "grid_template_rows": null,
            "height": null,
            "justify_content": null,
            "justify_items": null,
            "left": null,
            "margin": null,
            "max_height": null,
            "max_width": null,
            "min_height": null,
            "min_width": null,
            "object_fit": null,
            "object_position": null,
            "order": null,
            "overflow": null,
            "overflow_x": null,
            "overflow_y": null,
            "padding": null,
            "right": null,
            "top": null,
            "visibility": null,
            "width": null
          }
        },
        "fab8b54db6714010ab30ab2f21d54613": {
          "model_module": "@jupyter-widgets/base",
          "model_module_version": "1.2.0",
          "model_name": "LayoutModel",
          "state": {
            "_model_module": "@jupyter-widgets/base",
            "_model_module_version": "1.2.0",
            "_model_name": "LayoutModel",
            "_view_count": null,
            "_view_module": "@jupyter-widgets/base",
            "_view_module_version": "1.2.0",
            "_view_name": "LayoutView",
            "align_content": null,
            "align_items": null,
            "align_self": null,
            "border": null,
            "bottom": null,
            "display": null,
            "flex": null,
            "flex_flow": null,
            "grid_area": null,
            "grid_auto_columns": null,
            "grid_auto_flow": null,
            "grid_auto_rows": null,
            "grid_column": null,
            "grid_gap": null,
            "grid_row": null,
            "grid_template_areas": null,
            "grid_template_columns": null,
            "grid_template_rows": null,
            "height": null,
            "justify_content": null,
            "justify_items": null,
            "left": null,
            "margin": null,
            "max_height": null,
            "max_width": null,
            "min_height": null,
            "min_width": null,
            "object_fit": null,
            "object_position": null,
            "order": null,
            "overflow": null,
            "overflow_x": null,
            "overflow_y": null,
            "padding": null,
            "right": null,
            "top": null,
            "visibility": null,
            "width": null
          }
        }
      }
    }
  },
  "nbformat": 4,
  "nbformat_minor": 0
}
