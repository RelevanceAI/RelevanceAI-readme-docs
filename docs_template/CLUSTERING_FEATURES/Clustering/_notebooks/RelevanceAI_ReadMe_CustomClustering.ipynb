{
  "cells": [
    {
      "cell_type": "code",
      "execution_count": null,
      "metadata": {
        "id": "3Kkd7AcU_O3q"
      },
      "outputs": [],
      "source": [
        "@@@ relevanceai_installation, RELEVANCEAI_SDK_VERSION=RELEVANCEAI_SDK_VERSION @@@"
      ]
    },
    {
      "cell_type": "markdown",
      "metadata": {
        "id": "OTKSnRaE-u2P"
      },
      "source": [
        "First, you need to set up a client object to interact with RelevanceAI. You will need to have a dataset under your Relevance AI account. You can either use our dummy sample data as shown below or follow the tutorial on how to create your own dataset to create your own database.\n"
      ]
    },
    {
      "cell_type": "code",
      "execution_count": null,
      "metadata": {
        "id": "LbapGUEn-ro7"
      },
      "outputs": [],
      "source": [
        "@@@ client_instantiation @@@"
      ]
    },
    {
      "cell_type": "markdown",
      "metadata": {
        "id": "-W68frsVQjSw"
      },
      "source": [
        "# Dataset"
      ]
    },
    {
      "cell_type": "code",
      "execution_count": null,
      "metadata": {
        "colab": {
          "base_uri": "https://localhost:8080/"
        },
        "id": "lgKODDsARi-b",
        "outputId": "48a12e63-342e-4074-a9d7-0b528eabe624"
      },
      "outputs": [],
      "source": [
        "@@@ get_ecommerce_encoded @@@"
      ]
    },
    {
      "cell_type": "code",
      "execution_count": null,
      "metadata": {
        "colab": {
          "base_uri": "https://localhost:8080/"
        },
        "id": "0gVjLArG_QBq",
        "outputId": "47f1013b-84a6-4f59-cc8a-125360c8f807"
      },
      "outputs": [],
      "source": [
        "@@@ dataset_basics, DATASET_ID=QUICKSTART_KMEANS_CLUSTERING_DATASET_ID @@@"
      ]
    },
    {
      "cell_type": "code",
      "execution_count": null,
      "metadata": {
        "id": "66wAIwCR7GUI"
      },
      "outputs": [],
      "source": [
        "@@@ datasets_monitor_health @@@"
      ]
    },
    {
      "cell_type": "markdown",
      "metadata": {
        "id": "aVK35Y1PQ-2o"
      },
      "source": [
        "# Custom Clustering"
      ]
    },
    {
      "cell_type": "markdown",
      "metadata": {
        "id": "7HGReCHiAfg8"
      },
      "source": [
        "RelevanceAI supports the integration of custom clustering algorithms. The custom algorithm can be created as the fit_transform method of the *ClusterBase* class."
      ]
    },
    {
      "cell_type": "markdown",
      "metadata": {
        "id": "odP8_5r8AnAT"
      },
      "source": [
        "The following code shows an example of a custom clustering algorithm that chooses randomly between Cluster 0 and Cluster 1."
      ]
    },
    {
      "cell_type": "code",
      "execution_count": 7,
      "metadata": {
        "id": "CpXg0HWCRDFN"
      },
      "outputs": [],
      "source": [
        "# Inherit from ClusterBase to keep all the goodies! \n",
        "from relevanceai import ClusterBase\n",
        "\n",
        "class CustomCluster(ClusterBase):\n",
        "    def fit_predict(self, documents, vector_field, alias = 'random-clustering'):\n",
        "        import random\n",
        "\n",
        "        return [{'_cluster_': {vector_field: {alias: 'cluster-'+str(random.randint(0, 1))}},\n",
        "                 '_id': document['_id']}\n",
        "                for document in documents\n",
        "        ]\n",
        "clusterer = CustomCluster()\n"
      ]
    },
    {
      "cell_type": "code",
      "execution_count": 8,
      "metadata": {
        "id": "_MKvV2GGU_4V"
      },
      "outputs": [],
      "source": [
        "VECTOR_FIELD = \"product_title_clip_vector_\"\n",
        "ALIAS = \"random-clustering\"\n",
        "custom_docs = clusterer.fit_predict(\n",
        "  vector_field = VECTOR_FIELD,\n",
        "  documents=documents\n",
        ")"
      ]
    },
    {
      "cell_type": "code",
      "execution_count": null,
      "metadata": {
        "id": "f8sHZZApVBoS"
      },
      "outputs": [],
      "source": [
        "df.upsert_documents(custom_docs)"
      ]
    },
    {
      "cell_type": "code",
      "execution_count": null,
      "metadata": {
        "id": "08pPeGlZdEiW"
      },
      "outputs": [],
      "source": []
    }
  ],
  "metadata": {
    "colab": {
      "collapsed_sections": [],
      "name": "RelevanceAI-ReadMe-CustomClustering.ipynb",
      "provenance": []
    },
    "kernelspec": {
      "display_name": "Python 3",
      "name": "python3"
    },
    "language_info": {
      "name": "python"
    }
  },
  "nbformat": 4,
  "nbformat_minor": 0
}
