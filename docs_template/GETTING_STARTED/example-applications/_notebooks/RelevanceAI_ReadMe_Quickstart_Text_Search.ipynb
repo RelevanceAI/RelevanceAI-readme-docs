{
  "cells": [
    {
      "cell_type": "markdown",
      "id": "lGdnbufsSKlB",
      "metadata": {
        "id": "lGdnbufsSKlB"
      },
      "source": [
        "# Quickstart\n",
        "\n",
        "\n",
        "[![Open In Colab](https://colab.research.google.com/assets/colab-badge.svg)](https://colab.research.google.com/github/RelevanceAI/RelevanceAI-readme-docs/blob/v0.33.1/docs/GETTING_STARTED/example-applications/_notebooks/RelevanceAI_ReadMe_Quickstart_Text_Search.ipynb)\n",
        "\n",
        "\n",
        "to get features such as:\n",
        "- hybrid search\n",
        "- multivector search\n",
        "- filtered search\n",
        "- etc out of the box"
      ]
    },
    {
      "cell_type": "markdown",
      "id": "928fd38d",
      "metadata": {
        "id": "928fd38d"
      },
      "source": [
        "# What I Need"
      ]
    },
    {
      "cell_type": "markdown",
      "id": "31dfada7",
      "metadata": {
        "id": "31dfada7"
      },
      "source": [
        "- Project & API Key (grab your API key from https://cloud.relevance.ai/ in the settings area)\n",
        "- Python 3\n",
        "- Relevance AI Installed as shown below. You can also visit our [Installation guide](https://docs.relevance.ai/docs)"
      ]
    },
    {
      "cell_type": "markdown",
      "id": "VC8aPkNVQagh",
      "metadata": {
        "id": "VC8aPkNVQagh"
      },
      "source": [
        "# Installation Requirements"
      ]
    },
    {
      "cell_type": "code",
      "execution_count": null,
      "id": "OOJCjWZkQb15",
      "metadata": {
        "id": "OOJCjWZkQb15"
      },
      "outputs": [],
      "source": [
        "# RelevanceAI installation\n",
        "@@@ relevanceai_installation, RELEVANCEAI_SDK_VERSION=RELEVANCEAI_SDK_VERSION @@@\n",
        "\n"
      ]
    },
    {
      "cell_type": "code",
      "execution_count": null,
      "id": "e4831f84",
      "metadata": {},
      "outputs": [],
      "source": [
        "# Vectorhub installation for quick access to Sentence Transformers\n",
        "@@@vectorhub_encoders_text_tfhub_installation"
      ]
    },
    {
      "cell_type": "markdown",
      "id": "dMV_xgPVVjtZ",
      "metadata": {
        "id": "dMV_xgPVVjtZ"
      },
      "source": [
        "# Set up Client\n",
        "\n",
        "To use Relevance AI, a client object must be instantiated. This needs an API_key and a project name. These can be generated/access directly at https://cloud.relevance.ai/ or simply by running the cell below and following the link and the guide:\n"
      ]
    },
    {
      "cell_type": "code",
      "execution_count": null,
      "id": "qsicetXLViu8",
      "metadata": {
        "id": "qsicetXLViu8"
      },
      "outputs": [],
      "source": [
        "@@@ client_instantiation @@@"
      ]
    },
    {
      "cell_type": "markdown",
      "id": "VDE5YyyFMj9Y",
      "metadata": {
        "id": "VDE5YyyFMj9Y"
      },
      "source": [
        "# Vector Search"
      ]
    },
    {
      "cell_type": "markdown",
      "id": "5a9bb4d0",
      "metadata": {
        "id": "5a9bb4d0"
      },
      "source": [
        "## 1) Data"
      ]
    },
    {
      "cell_type": "markdown",
      "id": "3xtccV4spWzk",
      "metadata": {
        "id": "3xtccV4spWzk"
      },
      "source": [
        "For this quickstart we will be using a sample e-commerce dataset. Alternatively, you can use your own dataset for the different steps."
      ]
    },
    {
      "cell_type": "code",
      "execution_count": null,
      "id": "V4UW9pZEbK6F",
      "metadata": {
        "id": "V4UW9pZEbK6F"
      },
      "outputs": [],
      "source": [
        "import pandas as pd\n",
        "from relevanceai.datasets import get_ecommerce_dataset\n",
        "\n",
        "# Retrieve our sample dataset. - This comes in the form of a list of documents.\n",
        "documents = get_ecommerce_dataset()\n",
        "\n",
        "pd.DataFrame.from_dict(documents).head()"
      ]
    },
    {
      "cell_type": "markdown",
      "id": "PsgrebUwx-G9",
      "metadata": {
        "id": "PsgrebUwx-G9"
      },
      "source": [
        "## 2) Encode"
      ]
    },
    {
      "cell_type": "code",
      "execution_count": null,
      "id": "U2jcaYCNyCwp",
      "metadata": {
        "id": "U2jcaYCNyCwp"
      },
      "outputs": [],
      "source": [
        "from vectorhub.encoders.text.tfhub import USE2Vec\n",
        "enc = USE2Vec()\n",
        "\n",
        "# To encode the product_title field in all the documents\n",
        "documents = enc.encode_documents([\"product_title\"], documents)"
      ]
    },
    {
      "cell_type": "code",
      "execution_count": null,
      "id": "4AHEuO7231g1",
      "metadata": {
        "id": "4AHEuO7231g1"
      },
      "outputs": [],
      "source": [
        "documents[0].keys()"
      ]
    },
    {
      "cell_type": "markdown",
      "id": "DzzYoLDO37gb",
      "metadata": {
        "id": "DzzYoLDO37gb"
      },
      "source": [
        "We can see that there is now a field called `product_title_use_vector_` in our data. \n",
        "`_use_vector_` is the name assigned to the model in Vectorhub and we use it when generating vectors. \n",
        "If you prefer a different name, simply modify the `__name__` attribute via\n",
        "`enc.__name__ = \"model_name_goes_here\"`"
      ]
    },
    {
      "cell_type": "markdown",
      "id": "UDzzsRCUoIs2",
      "metadata": {
        "id": "UDzzsRCUoIs2"
      },
      "source": [
        "## 3) Insert"
      ]
    },
    {
      "cell_type": "markdown",
      "id": "EFE4Ld0Epu1l",
      "metadata": {
        "id": "EFE4Ld0Epu1l"
      },
      "source": [
        "Uploading our documents into a dataset called `quickstart-example`.\n",
        "Note that each document should have a field called '_id'. Here, we generate a unique identifier using the Python uuid package."
      ]
    },
    {
      "cell_type": "code",
      "execution_count": null,
      "id": "503776b3",
      "metadata": {
        "id": "503776b3"
      },
      "outputs": [],
      "source": [
        "import uuid\n",
        "\n",
        "for d in documents:\n",
        "  d['_id'] = uuid.uuid4().__str__()    # Each document must have a field '_id'\n",
        "\n",
        "# Insert the documents into the quickstart-example below.\n",
        "client.insert_documents(\"quickstart-example\", documents)"
      ]
    },
    {
      "cell_type": "markdown",
      "id": "WPAroc9KoPQJ",
      "metadata": {
        "id": "WPAroc9KoPQJ"
      },
      "source": [
        "## 4) Search"
      ]
    },
    {
      "cell_type": "markdown",
      "id": "S1_jQ2Tv5a0r",
      "metadata": {
        "id": "S1_jQ2Tv5a0r"
      },
      "source": [
        "Note that our dataset includes vectors generated by Universal Sentence Encoder. Therefore, in this step, we first vectorize the query using the same encoder to be able to search among the similarly generated vectors."
      ]
    },
    {
      "cell_type": "code",
      "execution_count": null,
      "id": "eQ9Bg7syeIbI",
      "metadata": {
        "id": "eQ9Bg7syeIbI"
      },
      "outputs": [],
      "source": [
        "query = \"gift for my son\"\n",
        "query_vector = enc.encode(query)"
      ]
    },
    {
      "cell_type": "code",
      "execution_count": null,
      "id": "v1CVceYr58m6",
      "metadata": {
        "colab": {
          "base_uri": "https://localhost:8080/"
        },
        "id": "v1CVceYr58m6",
        "outputId": "7e58a8bd-818f-4a97-ad03-a1772b0fea99"
      },
      "outputs": [
        {
          "name": "stdout",
          "output_type": "stream",
          "text": [
            "You can now visit the dashboard at https://cloud.relevance.ai/sdk/search\n"
          ]
        }
      ],
      "source": [
        "results = client.services.search.vector(\n",
        "    dataset_id=\"quickstart-example\",\n",
        "    multivector_query=[\n",
        "        {\n",
        "            \"vector\": query_vector,\n",
        "            \"fields\": [\"product_title_use_vector_\"] # Field to search on\n",
        "        }\n",
        "    ],\n",
        "    page_size=5\n",
        ")"
      ]
    },
    {
      "cell_type": "code",
      "execution_count": null,
      "id": "ySveUo1lgwQP",
      "metadata": {
        "id": "ySveUo1lgwQP"
      },
      "outputs": [],
      "source": [
        "from relevanceai import show_json\n",
        "show_json(\n",
        "    results['results'],\n",
        "    text_fields=[\"product_title\"],\n",
        ")"
      ]
    },
    {
      "cell_type": "code",
      "execution_count": null,
      "id": "sAjvywrjaYJI",
      "metadata": {
        "id": "sAjvywrjaYJI"
      },
      "outputs": [],
      "source": []
    }
  ],
  "metadata": {
    "accelerator": "GPU",
    "colab": {
      "collapsed_sections": [],
      "name": "RelevanceAI-ReadMe-Text-Search-(using-USE-VectorHub).ipynb",
      "provenance": [],
      "toc_visible": true
    },
    "kernelspec": {
      "display_name": "Python 3 (ipykernel)",
      "language": "python",
      "name": "python3"
    },
    "language_info": {
      "codemirror_mode": {
        "name": "ipython",
        "version": 3
      },
      "file_extension": ".py",
      "mimetype": "text/x-python",
      "name": "python",
      "nbconvert_exporter": "python",
      "pygments_lexer": "ipython3",
      "version": "3.7.10"
    },
    "toc": {
      "base_numbering": 1,
      "nav_menu": {},
      "number_sections": true,
      "sideBar": true,
      "skip_h1_title": false,
      "title_cell": "Table of Contents",
      "title_sidebar": "Contents",
      "toc_cell": false,
      "toc_position": {
        "height": "calc(100% - 180px)",
        "left": "10px",
        "top": "150px",
        "width": "384px"
      },
      "toc_section_display": true,
      "toc_window_display": true
    }
  },
  "nbformat": 4,
  "nbformat_minor": 5
}
