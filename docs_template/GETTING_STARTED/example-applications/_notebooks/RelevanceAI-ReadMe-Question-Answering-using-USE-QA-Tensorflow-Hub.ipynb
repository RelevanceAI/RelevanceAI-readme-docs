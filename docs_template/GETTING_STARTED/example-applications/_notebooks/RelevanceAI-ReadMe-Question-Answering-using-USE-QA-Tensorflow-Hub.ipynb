{
  "nbformat": 4,
  "nbformat_minor": 5,
  "metadata": {
    "kernelspec": {
      "display_name": "Python 3 (ipykernel)",
      "language": "python",
      "name": "python3"
    },
    "language_info": {
      "codemirror_mode": {
        "name": "ipython",
        "version": 3
      },
      "file_extension": ".py",
      "mimetype": "text/x-python",
      "name": "python",
      "nbconvert_exporter": "python",
      "pygments_lexer": "ipython3",
      "version": "3.7.10"
    },
    "toc": {
      "base_numbering": 1,
      "nav_menu": {},
      "number_sections": true,
      "sideBar": true,
      "skip_h1_title": false,
      "title_cell": "Table of Contents",
      "title_sidebar": "Contents",
      "toc_cell": false,
      "toc_position": {
        "height": "calc(100% - 180px)",
        "left": "10px",
        "top": "150px",
        "width": "384px"
      },
      "toc_section_display": true,
      "toc_window_display": true
    },
    "colab": {
      "name": "RelevanceAI-ReadMe-Question-Answering-(using-USE-QA-Tensorflow-Hub).ipynb",
      "provenance": [],
      "collapsed_sections": [],
      "toc_visible": true
    },
    "accelerator": "GPU"
  },
  "cells": [
    {
      "cell_type": "markdown",
      "metadata": {
        "id": "lGdnbufsSKlB"
      },
      "source": [
        "# Quickstart\n",
        "to get features such as:\n",
        "- hybrid search\n",
        "- multivector search\n",
        "- filtered search\n",
        "- etc out of the box"
      ],
      "id": "lGdnbufsSKlB"
    },
    {
      "cell_type": "markdown",
      "metadata": {
        "id": "928fd38d"
      },
      "source": [
        "# What I Need"
      ],
      "id": "928fd38d"
    },
    {
      "cell_type": "markdown",
      "metadata": {
        "id": "31dfada7"
      },
      "source": [
        "- Project & API Key (grab your API key from https://cloud.relevance.ai/ in the settings area)\n",
        "- Python 3\n",
        "- Relevance AI Installed as shown below. You can also visit our [Installation guide](https://docs.relevance.ai/docs)"
      ],
      "id": "31dfada7"
    },
    {
      "cell_type": "markdown",
      "metadata": {
        "id": "VC8aPkNVQagh"
      },
      "source": [
        "# Installation Requirements"
      ],
      "id": "VC8aPkNVQagh"
    },
    {
      "cell_type": "code",
      "metadata": {
        "id": "OOJCjWZkQb15"
      },
      "source": [
        "# RelevanceAI installation\n",
        "!pip install -U RelevanceAI[notebook]==0.33.2\n",
        "\n",
        "# Vectorhub installation for quick access to Sentence Transformers\n",
        "!pip install vectorhub[encoders-text-tfhub]"
      ],
      "id": "OOJCjWZkQb15",
      "execution_count": null,
      "outputs": []
    },
    {
      "cell_type": "markdown",
      "metadata": {
        "id": "dMV_xgPVVjtZ"
      },
      "source": [
        "# Set up\n",
        "\n",
        "To use Relevance AI, a client object must be instantiated. This needs an API_key and a project name. These can be generated/access directly at https://cloud.relevance.ai/ or simply by running the cell below and following the link and the guide:\n"
      ],
      "id": "dMV_xgPVVjtZ"
    },
    {
      "cell_type": "code",
      "metadata": {
        "id": "qsicetXLViu8"
      },
      "source": [
        "from relevanceai import Client \n",
        "\n",
        "\"\"\"\n",
        "Running this cell will provide you with \n",
        "the link to sign up/login page where you can find your credentials.\n",
        "Once you have signed up, click on the value under `Authorization token` \n",
        "in the API tab and paste it in the appreared Auth token box below\n",
        "\"\"\"\n",
        "\n",
        "client = Client()"
      ],
      "id": "qsicetXLViu8",
      "execution_count": null,
      "outputs": []
    },
    {
      "cell_type": "markdown",
      "metadata": {
        "id": "ypqENsTrocdc"
      },
      "source": [
        "# Vector search"
      ],
      "id": "ypqENsTrocdc"
    },
    {
      "cell_type": "markdown",
      "metadata": {
        "id": "5a9bb4d0"
      },
      "source": [
        "## 1) Data"
      ],
      "id": "5a9bb4d0"
    },
    {
      "cell_type": "markdown",
      "source": [
        "For this quickstart we will be using a sample e-commerce dataset. Alternatively, you can use your own dataset for the different steps."
      ],
      "metadata": {
        "id": "3xtccV4spWzk"
      },
      "id": "3xtccV4spWzk"
    },
    {
      "cell_type": "code",
      "metadata": {
        "id": "V4UW9pZEbK6F"
      },
      "source": [
        "import pandas as pd\n",
        "from relevanceai.datasets import get_ecommerce_dataset_clean\n",
        "\n",
        "# Retrieve our sample dataset. - This comes in the form of a list of documents.\n",
        "documents = get_ecommerce_dataset_clean()\n",
        "\n",
        "pd.DataFrame.from_dict(documents).head()"
      ],
      "id": "V4UW9pZEbK6F",
      "execution_count": null,
      "outputs": []
    },
    {
      "cell_type": "code",
      "source": [
        "documents[0].keys()"
      ],
      "metadata": {
        "id": "4AHEuO7231g1"
      },
      "id": "4AHEuO7231g1",
      "execution_count": null,
      "outputs": []
    },
    {
      "cell_type": "markdown",
      "source": [
        "## 2) Encode"
      ],
      "metadata": {
        "id": "PsgrebUwx-G9"
      },
      "id": "PsgrebUwx-G9"
    },
    {
      "cell_type": "code",
      "source": [
        "import tensorflow as tf\n",
        "import tensorflow_hub as hub\n",
        "import numpy as np\n",
        "import tensorflow_text\n",
        "\n",
        "# Here we load the model and define how we encode\n",
        "module = hub.load('https://tfhub.dev/google/universal-sentence-encoder-qa/3')\n",
        "\n",
        "# First we define how we encode the queries\n",
        "def encode_query(query: str):\n",
        "    return module.signatures['question_encoder'](tf.constant([query]))['outputs'][0].numpy().tolist()\n",
        "\n",
        "# We then want to define how we encode the answers\n",
        "def encode_answer(answer: str):\n",
        "    return module.signatures['response_encoder'](\n",
        "        input=tf.constant([answer]), \n",
        "        context=tf.constant([answer]))['outputs'][0].numpy().tolist()\n"
      ],
      "metadata": {
        "id": "U2jcaYCNyCwp"
      },
      "id": "U2jcaYCNyCwp",
      "execution_count": null,
      "outputs": []
    },
    {
      "cell_type": "code",
      "source": [
        "from tqdm.auto import tqdm\n",
        "\n",
        "for d in tqdm(documents):\n",
        "    d['product_title_use_qa_vector_'] = encode_answer(d['product_title'])"
      ],
      "metadata": {
        "id": "D8NfZv89OZpz"
      },
      "id": "D8NfZv89OZpz",
      "execution_count": null,
      "outputs": []
    },
    {
      "cell_type": "markdown",
      "metadata": {
        "id": "UDzzsRCUoIs2"
      },
      "source": [
        "## 3) Insert"
      ],
      "id": "UDzzsRCUoIs2"
    },
    {
      "cell_type": "markdown",
      "source": [
        "Uploading our documents into a dataset called `quickstart_tfhub_qa`.\n",
        "Note that each document should have a field called '_id'. Here, we generate a unique identifier using the Python uuid package."
      ],
      "metadata": {
        "id": "EFE4Ld0Epu1l"
      },
      "id": "EFE4Ld0Epu1l"
    },
    {
      "cell_type": "code",
      "metadata": {
        "id": "503776b3"
      },
      "source": [
        "import uuid\n",
        "\n",
        "for d in documents:\n",
        "  d['_id'] = uuid.uuid4().__str__()    # Each document must have a field '_id'\n",
        "\n",
        "# Insert the documents into a dataset called quickstart_tfhub_qa.\n",
        "dataset_id = \"quickstart_tfhub_qa\"\n",
        "df = client.Dataset(dataset_id)\n",
        "df.delete()\n",
        "df.insert_documents(documents)"
      ],
      "id": "503776b3",
      "execution_count": null,
      "outputs": []
    },
    {
      "cell_type": "markdown",
      "metadata": {
        "id": "WPAroc9KoPQJ"
      },
      "source": [
        "## 4) Search"
      ],
      "id": "WPAroc9KoPQJ"
    },
    {
      "cell_type": "markdown",
      "source": [
        "Note that our dataset includes vectors generated by Universal Sentence Encoder. Therefore, in this step, we first vectorize the query using the same encoder to be able to search among the similarly generated vectors."
      ],
      "metadata": {
        "id": "S1_jQ2Tv5a0r"
      },
      "id": "S1_jQ2Tv5a0r"
    },
    {
      "cell_type": "code",
      "metadata": {
        "id": "eQ9Bg7syeIbI"
      },
      "source": [
        "query = \"for my baby daughter\"\n",
        "query_vector = encode_query(query)"
      ],
      "id": "eQ9Bg7syeIbI",
      "execution_count": null,
      "outputs": []
    },
    {
      "cell_type": "code",
      "source": [
        "results = df.vector_search(\n",
        "    multivector_query=[\n",
        "        {\n",
        "            \"vector\": query_vector,\n",
        "            \"fields\": [\"product_title_use_qa_vector_\"]}\n",
        "    ],\n",
        "    page_size=5\n",
        ")"
      ],
      "metadata": {
        "id": "v1CVceYr58m6",
        "colab": {
          "base_uri": "https://localhost:8080/"
        },
        "outputId": "4964ec9d-1859-4fd8-e47e-8760226b1f0c"
      },
      "id": "v1CVceYr58m6",
      "execution_count": null,
      "outputs": [
        {
          "output_type": "stream",
          "name": "stdout",
          "text": [
            "You can now visit the dashboard at https://cloud.relevance.ai/sdk/search\n"
          ]
        }
      ]
    },
    {
      "cell_type": "code",
      "metadata": {
        "id": "ySveUo1lgwQP",
        "colab": {
          "base_uri": "https://localhost:8080/",
          "height": 440
        },
        "outputId": "a61544c6-2093-4776-95da-21e5d450025f"
      },
      "source": [
        "from relevanceai import show_json\n",
        "show_json(\n",
        "    results['results'],\n",
        "    text_fields=[\"product_title\"],\n",
        "    image_fields = [\"product_image\"]\n",
        ")"
      ],
      "id": "ySveUo1lgwQP",
      "execution_count": null,
      "outputs": [
        {
          "output_type": "execute_result",
          "data": {
            "text/html": [
              "<table border=\"1\" class=\"dataframe\">\n",
              "  <thead>\n",
              "    <tr style=\"text-align: right;\">\n",
              "      <th></th>\n",
              "      <th>product_image</th>\n",
              "      <th>product_title</th>\n",
              "      <th>_id</th>\n",
              "    </tr>\n",
              "  </thead>\n",
              "  <tbody>\n",
              "    <tr>\n",
              "      <th>0</th>\n",
              "      <td><img src=\"https://ak1.ostkcdn.com/images/products/9390080/P16579305.jpg\" width=\"60\" ></td>\n",
              "      <td>Cienta Girl (Toddler) '108048' Basic Textile Boots</td>\n",
              "      <td>97dae01b-3fdc-4555-8540-ca429098d94f</td>\n",
              "    </tr>\n",
              "    <tr>\n",
              "      <th>1</th>\n",
              "      <td><img src=\"https://ak1.ostkcdn.com/images/products/9635042/P16819991.jpg\" width=\"60\" ></td>\n",
              "      <td>Nina Kids Girl (Toddler) 'Nesa' Man-Made Sandals</td>\n",
              "      <td>7e29fab3-bcd9-456f-aa26-adac15ea3cd4</td>\n",
              "    </tr>\n",
              "    <tr>\n",
              "      <th>2</th>\n",
              "      <td><img src=\"https://ak1.ostkcdn.com/images/products/9908210/P17066979.jpg\" width=\"60\" ></td>\n",
              "      <td>Evenflo Dottie Rose Convertible 3-in-1 High Chair</td>\n",
              "      <td>40d1a884-a2b7-4cae-8e91-cb2c8350bc9f</td>\n",
              "    </tr>\n",
              "    <tr>\n",
              "      <th>3</th>\n",
              "      <td><img src=\"https://ak1.ostkcdn.com/images/products/8237318/P15565488.jpg\" width=\"60\" ></td>\n",
              "      <td>Layla Chenille Bedspread (Shams Sold Separately)</td>\n",
              "      <td>6b6e0ee6-a465-44f2-a6b3-6a545bfdc371</td>\n",
              "    </tr>\n",
              "    <tr>\n",
              "      <th>4</th>\n",
              "      <td><img src=\"https://ak1.ostkcdn.com/images/products/9472580/P16654939.jpg\" width=\"60\" ></td>\n",
              "      <td>Osh Kosh Girl (Toddler) 'Rapid-14' Man-Made Sandals (Size 7 )</td>\n",
              "      <td>147f7fae-e4e6-4f81-a7f2-d07f311c9ca0</td>\n",
              "    </tr>\n",
              "  </tbody>\n",
              "</table>"
            ],
            "text/plain": [
              "<IPython.core.display.HTML object>"
            ]
          },
          "metadata": {},
          "execution_count": 11
        }
      ]
    },
    {
      "cell_type": "code",
      "source": [
        ""
      ],
      "metadata": {
        "id": "5WmqFkyUVTO_"
      },
      "id": "5WmqFkyUVTO_",
      "execution_count": null,
      "outputs": []
    }
  ]
}