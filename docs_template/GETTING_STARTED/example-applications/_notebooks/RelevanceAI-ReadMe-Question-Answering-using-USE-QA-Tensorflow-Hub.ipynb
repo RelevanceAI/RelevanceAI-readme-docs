{
  "cells": [
    {
      "cell_type": "markdown",
      "id": "lGdnbufsSKlB",
      "metadata": {
        "id": "lGdnbufsSKlB"
      },
      "source": [
        "[![Open In Colab](https://colab.research.google.com/assets/colab-badge.svg)](https://colab.research.google.com/github/RelevanceAI/RelevanceAI-readme-docs/blob/v1.1.4/docs/GETTING_STARTED/example-applications/_notebooks/RelevanceAI-ReadMe-Question-Answering-using-USE-QA-Tensorflow-Hub.ipynb)\n",
        "\n",
        "# Quickstart\n",
        "to get features such as:\n",
        "- hybrid search\n",
        "- multivector search\n",
        "- filtered search\n",
        "- etc out of the box"
      ]
    },
    {
      "cell_type": "markdown",
      "id": "928fd38d",
      "metadata": {
        "id": "928fd38d"
      },
      "source": [
        "# What I Need"
      ]
    },
    {
      "cell_type": "markdown",
      "id": "31dfada7",
      "metadata": {
        "id": "31dfada7"
      },
      "source": [
        "- Project & API Key (grab your API key from https://cloud.relevance.ai/ in the settings area)\n",
        "- Python 3\n",
        "- Relevance AI Installed as shown below. You can also visit our [Installation guide](https://docs.relevance.ai/docs)"
      ]
    },
    {
      "cell_type": "markdown",
      "id": "VC8aPkNVQagh",
      "metadata": {
        "id": "VC8aPkNVQagh"
      },
      "source": [
        "# Installation Requirements"
      ]
    },
    {
      "cell_type": "code",
      "execution_count": null,
      "id": "OOJCjWZkQb15",
      "metadata": {
        "id": "OOJCjWZkQb15"
      },
      "outputs": [],
      "source": [
        "@@@ relevanceai_installation, RELEVANCEAI_SDK_VERSION=RELEVANCEAI_SDK_VERSION; vectorhub_encoders_text_tfhub_installation @@@\n"
      ]
    },
    {
      "cell_type": "markdown",
      "id": "dMV_xgPVVjtZ",
      "metadata": {
        "id": "dMV_xgPVVjtZ"
      },
      "source": [
        "# Set up\n",
        "\n",
        "To use Relevance AI, a client object must be instantiated. This needs an API_key and a project name. These can be generated/access directly at https://cloud.relevance.ai/ or simply by running the cell below and following the link and the guide:\n"
      ]
    },
    {
      "cell_type": "code",
      "execution_count": null,
      "id": "qsicetXLViu8",
      "metadata": {
        "id": "qsicetXLViu8"
      },
      "outputs": [],
      "source": [
        "@@@ client_instantiation @@@"
      ]
    },
    {
      "cell_type": "markdown",
      "id": "ypqENsTrocdc",
      "metadata": {
        "id": "ypqENsTrocdc"
      },
      "source": [
        "# Vector search"
      ]
    },
    {
      "cell_type": "markdown",
      "id": "5a9bb4d0",
      "metadata": {
        "id": "5a9bb4d0"
      },
      "source": [
        "## 1) Data"
      ]
    },
    {
      "cell_type": "markdown",
      "id": "3xtccV4spWzk",
      "metadata": {
        "id": "3xtccV4spWzk"
      },
      "source": [
        "For this quickstart we will be using a sample e-commerce dataset. Alternatively, you can use your own dataset for the different steps."
      ]
    },
    {
      "cell_type": "code",
      "execution_count": null,
      "id": "V4UW9pZEbK6F",
      "metadata": {
        "id": "V4UW9pZEbK6F"
      },
      "outputs": [],
      "source": [
        "@@@ get_ecommerce_dataset_clean @@@"
      ]
    },
    {
      "cell_type": "code",
      "execution_count": null,
      "id": "4AHEuO7231g1",
      "metadata": {
        "id": "4AHEuO7231g1"
      },
      "outputs": [],
      "source": [
        "documents[0].keys()"
      ]
    },
    {
      "cell_type": "markdown",
      "id": "PsgrebUwx-G9",
      "metadata": {
        "id": "PsgrebUwx-G9"
      },
      "source": [
        "## 2) Encode"
      ]
    },
    {
      "cell_type": "code",
      "execution_count": null,
      "id": "U2jcaYCNyCwp",
      "metadata": {
        "id": "U2jcaYCNyCwp"
      },
      "outputs": [],
      "source": [
        "@@@ tfhub_useqa_encoding_functions @@@"
      ]
    },
    {
      "cell_type": "code",
      "execution_count": null,
      "id": "D8NfZv89OZpz",
      "metadata": {
        "id": "D8NfZv89OZpz"
      },
      "outputs": [],
      "source": [
        "@@@ tfhub_useqa_encode_documents, VECTOR_FIELD='product_title_use_qa_vector_', TEXT_FIELD='product_title' @@@\n"
      ]
    },
    {
      "cell_type": "markdown",
      "id": "UDzzsRCUoIs2",
      "metadata": {
        "id": "UDzzsRCUoIs2"
      },
      "source": [
        "## 3) Insert"
      ]
    },
    {
      "cell_type": "markdown",
      "id": "EFE4Ld0Epu1l",
      "metadata": {
        "id": "EFE4Ld0Epu1l"
      },
      "source": [
        "Uploading our documents into a dataset called `quickstart_tfhub_qa`.\n",
        "Note that each document should have a field called '_id'. Here, we generate a unique identifier using the Python uuid package."
      ]
    },
    {
      "cell_type": "code",
      "execution_count": null,
      "id": "503776b3",
      "metadata": {
        "id": "503776b3"
      },
      "outputs": [],
      "source": [
        "@@@ dataset_basics, DATASET_ID=QUICKSTART_QA_DATASET_ID@@@\n"
      ]
    },
    {
      "cell_type": "markdown",
      "id": "WPAroc9KoPQJ",
      "metadata": {
        "id": "WPAroc9KoPQJ"
      },
      "source": [
        "## 4) Search"
      ]
    },
    {
      "cell_type": "markdown",
      "id": "S1_jQ2Tv5a0r",
      "metadata": {
        "id": "S1_jQ2Tv5a0r"
      },
      "source": [
        "Note that our dataset includes vectors generated by Universal Sentence Encoder. Therefore, in this step, we first vectorize the query using the same encoder to be able to search among the similarly generated vectors."
      ]
    },
    {
      "cell_type": "code",
      "execution_count": null,
      "id": "eQ9Bg7syeIbI",
      "metadata": {
        "id": "eQ9Bg7syeIbI"
      },
      "outputs": [],
      "source": [
        "@@@ tfhub_useqa_encode_query, QUERY='What is an expensive gift?' @@@\n",
        "\n"
      ]
    },
    {
      "cell_type": "code",
      "execution_count": null,
      "id": "v1CVceYr58m6",
      "metadata": {
        "colab": {
          "base_uri": "https://localhost:8080/"
        },
        "id": "v1CVceYr58m6",
        "outputId": "4964ec9d-1859-4fd8-e47e-8760226b1f0c"
      },
      "outputs": [
        {
          "name": "stdout",
          "output_type": "stream",
          "text": [
            "You can now visit the dashboard at https://cloud.relevance.ai/sdk/search\n"
          ]
        }
      ],
      "source": [
        "\n",
        "@@@ multivector_query, QUERY_VECTOR=query_vector, VECTOR_FIELDS=[\"product_title_use_qa_vector_\"]; vector_search, MULTIVECTOR_QUERY=multivector_query, PAGE_SIZE=5 @@@\n",
        "\n"
      ]
    },
    {
      "cell_type": "code",
      "execution_count": null,
      "id": "ySveUo1lgwQP",
      "metadata": {
        "colab": {
          "base_uri": "https://localhost:8080/",
          "height": 440
        },
        "id": "ySveUo1lgwQP",
        "outputId": "a61544c6-2093-4776-95da-21e5d450025f"
      },
      "outputs": [
        {
          "data": {
            "text/html": [
              "<table border=\"1\" class=\"dataframe\">\n",
              "  <thead>\n",
              "    <tr style=\"text-align: right;\">\n",
              "      <th></th>\n",
              "      <th>product_image</th>\n",
              "      <th>product_title</th>\n",
              "      <th>_id</th>\n",
              "    </tr>\n",
              "  </thead>\n",
              "  <tbody>\n",
              "    <tr>\n",
              "      <th>0</th>\n",
              "      <td><img src=\"https://ak1.ostkcdn.com/images/products/9390080/P16579305.jpg\" width=\"60\" ></td>\n",
              "      <td>Cienta Girl (Toddler) '108048' Basic Textile Boots</td>\n",
              "      <td>97dae01b-3fdc-4555-8540-ca429098d94f</td>\n",
              "    </tr>\n",
              "    <tr>\n",
              "      <th>1</th>\n",
              "      <td><img src=\"https://ak1.ostkcdn.com/images/products/9635042/P16819991.jpg\" width=\"60\" ></td>\n",
              "      <td>Nina Kids Girl (Toddler) 'Nesa' Man-Made Sandals</td>\n",
              "      <td>7e29fab3-bcd9-456f-aa26-adac15ea3cd4</td>\n",
              "    </tr>\n",
              "    <tr>\n",
              "      <th>2</th>\n",
              "      <td><img src=\"https://ak1.ostkcdn.com/images/products/9908210/P17066979.jpg\" width=\"60\" ></td>\n",
              "      <td>Evenflo Dottie Rose Convertible 3-in-1 High Chair</td>\n",
              "      <td>40d1a884-a2b7-4cae-8e91-cb2c8350bc9f</td>\n",
              "    </tr>\n",
              "    <tr>\n",
              "      <th>3</th>\n",
              "      <td><img src=\"https://ak1.ostkcdn.com/images/products/8237318/P15565488.jpg\" width=\"60\" ></td>\n",
              "      <td>Layla Chenille Bedspread (Shams Sold Separately)</td>\n",
              "      <td>6b6e0ee6-a465-44f2-a6b3-6a545bfdc371</td>\n",
              "    </tr>\n",
              "    <tr>\n",
              "      <th>4</th>\n",
              "      <td><img src=\"https://ak1.ostkcdn.com/images/products/9472580/P16654939.jpg\" width=\"60\" ></td>\n",
              "      <td>Osh Kosh Girl (Toddler) 'Rapid-14' Man-Made Sandals (Size 7 )</td>\n",
              "      <td>147f7fae-e4e6-4f81-a7f2-d07f311c9ca0</td>\n",
              "    </tr>\n",
              "  </tbody>\n",
              "</table>"
            ],
            "text/plain": [
              "<IPython.core.display.HTML object>"
            ]
          },
          "execution_count": 11,
          "metadata": {},
          "output_type": "execute_result"
        }
      ],
      "source": [
        "@@@ query_show_json, QUERY=query, IMAGE_FIELDS=[\"product_image\"], TEXT_FIELDS=[\"product_title\"] @@@"
      ]
    },
    {
      "cell_type": "code",
      "execution_count": null,
      "id": "5WmqFkyUVTO_",
      "metadata": {
        "id": "5WmqFkyUVTO_"
      },
      "outputs": [],
      "source": []
    }
  ],
  "metadata": {
    "accelerator": "GPU",
    "colab": {
      "collapsed_sections": [],
      "name": "RelevanceAI-ReadMe-Question-Answering-(using-USE-QA-Tensorflow-Hub).ipynb",
      "provenance": [],
      "toc_visible": true
    },
    "kernelspec": {
      "display_name": "Python 3 (ipykernel)",
      "language": "python",
      "name": "python3"
    },
    "language_info": {
      "codemirror_mode": {
        "name": "ipython",
        "version": 3
      },
      "file_extension": ".py",
      "mimetype": "text/x-python",
      "name": "python",
      "nbconvert_exporter": "python",
      "pygments_lexer": "ipython3",
      "version": "3.7.10"
    },
    "toc": {
      "base_numbering": 1,
      "nav_menu": {},
      "number_sections": true,
      "sideBar": true,
      "skip_h1_title": false,
      "title_cell": "Table of Contents",
      "title_sidebar": "Contents",
      "toc_cell": false,
      "toc_position": {
        "height": "calc(100% - 180px)",
        "left": "10px",
        "top": "150px",
        "width": "384px"
      },
      "toc_section_display": true,
      "toc_window_display": true
    }
  },
  "nbformat": 4,
  "nbformat_minor": 5
}
