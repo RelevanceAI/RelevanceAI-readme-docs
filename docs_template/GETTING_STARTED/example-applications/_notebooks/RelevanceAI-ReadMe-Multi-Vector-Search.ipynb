{
  "cells": [
    {
      "cell_type": "markdown",
      "id": "lGdnbufsSKlB",
      "metadata": {
        "id": "lGdnbufsSKlB"
      },
      "source": [
        "# Quickstart\n",
        "to get features such as:\n",
        "- hybrid search\n",
        "- multivector search\n",
        "- filtered search\n",
        "- etc out of the box"
      ]
    },
    {
      "cell_type": "markdown",
      "id": "928fd38d",
      "metadata": {
        "id": "928fd38d"
      },
      "source": [
        "# What I Need"
      ]
    },
    {
      "cell_type": "markdown",
      "id": "31dfada7",
      "metadata": {
        "id": "31dfada7"
      },
      "source": [
        "- Project & API Key (grab your API key from https://cloud.relevance.ai/ in the settings area)\n",
        "- Python 3\n",
        "- Relevance AI Installed as shown below. You can also visit our [Installation guide](https://docs.relevance.ai/docs)"
      ]
    },
    {
      "cell_type": "markdown",
      "id": "VC8aPkNVQagh",
      "metadata": {
        "id": "VC8aPkNVQagh"
      },
      "source": [
        "# Installation Requirements"
      ]
    },
    {
      "cell_type": "code",
      "execution_count": null,
      "id": "OOJCjWZkQb15",
      "metadata": {
        "id": "OOJCjWZkQb15"
      },
      "outputs": [],
      "source": [
        "@@@ relevanceai_installation, RELEVANCEAI_SDK_VERSION=RELEVANCEAI_SDK_VERSION @@@"
      ]
    },
    {
      "cell_type": "markdown",
      "id": "ypqENsTrocdc",
      "metadata": {
        "id": "ypqENsTrocdc"
      },
      "source": [
        "# Multivector search"
      ]
    },
    {
      "cell_type": "markdown",
      "id": "dMV_xgPVVjtZ",
      "metadata": {
        "id": "dMV_xgPVVjtZ"
      },
      "source": [
        "## Client\n",
        "\n",
        "To use Relevance AI, a client object must be instantiated. This needs an API_key and a project name. These can be generated/access directly at https://cloud.relevance.ai/ or simply by running the cell below and following the link and the guide:\n"
      ]
    },
    {
      "cell_type": "code",
      "execution_count": null,
      "id": "qsicetXLViu8",
      "metadata": {
        "id": "qsicetXLViu8"
      },
      "outputs": [],
      "source": [
        "@@@ client_instantiation @@@"
      ]
    },
    {
      "cell_type": "markdown",
      "id": "5a9bb4d0",
      "metadata": {
        "id": "5a9bb4d0"
      },
      "source": [
        "## 1) Data + Encode"
      ]
    },
    {
      "cell_type": "markdown",
      "id": "3xtccV4spWzk",
      "metadata": {
        "id": "3xtccV4spWzk"
      },
      "source": [
        "For this quickstart we will be using a sample e-commerce dataset. Alternatively, you can use your own dataset for the different steps."
      ]
    },
    {
      "cell_type": "code",
      "execution_count": null,
      "id": "V4UW9pZEbK6F",
      "metadata": {
        "id": "V4UW9pZEbK6F"
      },
      "outputs": [],
      "source": [
        "@@@ get_ecommerce_dataset_encoded @@@"
      ]
    },
    {
      "cell_type": "markdown",
      "id": "UDzzsRCUoIs2",
      "metadata": {
        "id": "UDzzsRCUoIs2"
      },
      "source": [
        "## 2) Insert"
      ]
    },
    {
      "cell_type": "markdown",
      "id": "EFE4Ld0Epu1l",
      "metadata": {
        "id": "EFE4Ld0Epu1l"
      },
      "source": [
        "Uploading our documents into the dataset `quickstart_sample`.\n",
        "\n",
        "In case you are uploading your own dataset, keep in mind that each document should have a field called '_id'. Such an id can be easily allocated using the uuid package:\n",
        "\n",
        "```\n",
        "import uuid\n",
        "\n",
        "for d in docs:\n",
        "  d['_id'] = uuid.uuid4().__str__()    # Each document must have a field '_id'\n",
        "```"
      ]
    },
    {
      "cell_type": "code",
      "execution_count": null,
      "id": "503776b3",
      "metadata": {
        "id": "503776b3"
      },
      "outputs": [],
      "source": [
        "@@@ dataset_basics, DATASET_ID=MULTI_VECTOR_SEARCH_DATASET_ID @@@"
      ]
    },
    {
      "cell_type": "markdown",
      "id": "WPAroc9KoPQJ",
      "metadata": {
        "id": "WPAroc9KoPQJ"
      },
      "source": [
        "## 3) Search"
      ]
    },
    {
      "cell_type": "markdown",
      "id": "xkvDhyJ_qwtM",
      "metadata": {
        "id": "xkvDhyJ_qwtM"
      },
      "source": [
        "In the cell below, we will  \n",
        "\n",
        "1.   get a random document from our dataset as a query data\n",
        "2.   form a multivector search to find other documents similart to our query"
      ]
    },
    {
      "cell_type": "code",
      "execution_count": null,
      "id": "eQ9Bg7syeIbI",
      "metadata": {
        "id": "eQ9Bg7syeIbI"
      },
      "outputs": [],
      "source": [
        "@@@+ quickstart_multivector_query, IMAGE_VECTOR='product_image_clip_vector_',TEXT_VECTOR='product_title_clip_vector_'; vector_search, MULTIVECTOR_QUERY=multivector_query, PAGE_SIZE=5 @@@"
      ]
    },
    {
      "cell_type": "code",
      "execution_count": null,
      "id": "ySveUo1lgwQP",
      "metadata": {
        "id": "ySveUo1lgwQP"
      },
      "outputs": [],
      "source": [
        "@@@ show_json_results, IMAGE_FIELDS=[\"product_image\"], TEXT_FIELDS=[\"product_title\"] @@@"
      ]
    },
    {
      "cell_type": "code",
      "execution_count": null,
      "id": "sAjvywrjaYJI",
      "metadata": {
        "id": "sAjvywrjaYJI"
      },
      "outputs": [],
      "source": []
    }
  ],
  "metadata": {
    "accelerator": "GPU",
    "colab": {
      "collapsed_sections": [],
      "name": "RelevanceAI-ReadMe-Multi-Vector-Search.ipynb",
      "provenance": []
    },
    "kernelspec": {
      "display_name": "Python 3 (ipykernel)",
      "language": "python",
      "name": "python3"
    },
    "language_info": {
      "codemirror_mode": {
        "name": "ipython",
        "version": 3
      },
      "file_extension": ".py",
      "mimetype": "text/x-python",
      "name": "python",
      "nbconvert_exporter": "python",
      "pygments_lexer": "ipython3",
      "version": "3.7.10"
    },
    "toc": {
      "base_numbering": 1,
      "nav_menu": {},
      "number_sections": true,
      "sideBar": true,
      "skip_h1_title": false,
      "title_cell": "Table of Contents",
      "title_sidebar": "Contents",
      "toc_cell": false,
      "toc_position": {
        "height": "calc(100% - 180px)",
        "left": "10px",
        "top": "150px",
        "width": "384px"
      },
      "toc_section_display": true,
      "toc_window_display": true
    }
  },
  "nbformat": 4,
  "nbformat_minor": 5
}
