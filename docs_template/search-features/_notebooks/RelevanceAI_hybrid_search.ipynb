{
    "cells": [
        {
            "cell_type": "markdown",
            "metadata": {
                "id": "kQFOtM9kF1Rt"
            },
            "source": [
                "# Installation"
            ]
        },
        {
            "cell_type": "code",
            "execution_count": null,
            "metadata": {
                "id": "3Kkd7AcU_O3q"
            },
            "outputs": [],
            "source": [
                "@@@ relevanceai_installation , RELEVANCEAI_SDK_VERSION=RELEVANCEAI_SDK_VERSION @@@\n",
                "\n",
                "@@@ vectorhub_encoders_sentence_transformers @@@"
            ]
        },
        {
            "cell_type": "markdown",
            "metadata": {
                "id": "uek1W9AIF4oR"
            },
            "source": [
                "# Setup"
            ]
        },
        {
            "cell_type": "markdown",
            "metadata": {
                "id": "OTKSnRaE-u2P"
            },
            "source": [
                "First, you need to set up a client object to interact with RelevanceAI."
            ]
        },
        {
            "cell_type": "code",
            "execution_count": null,
            "metadata": {
                "colab": {
                    "base_uri": "https://localhost:8080/"
                },
                "id": "LbapGUEn-ro7",
                "outputId": "d5333dc2-cb1e-4b73-f3de-32889ffceeb3"
            },
            "outputs": [],
            "source": [
                "@@@ client_instantiation @@@"
            ]
        },
        {
            "cell_type": "markdown",
            "metadata": {
                "id": "-W68frsVQjSw"
            },
            "source": [
                "# Data"
            ]
        },
        {
            "cell_type": "markdown",
            "metadata": {
                "id": "gFU8OU2b-yXu"
            },
            "source": [
                "You will need to have a dataset under your Relevance AI account. You can either use our e-commerce dataset as shown below or follow the tutorial on how to create your own dataset.\n",
                "\n",
                "Our e-commerce dataset includes fields such as `product_title`, as well as the vectorized version of the field `product_title_clip_vector_`. Loading these documents can be done via:\n",
                "\n"
            ]
        },
        {
            "cell_type": "markdown",
            "metadata": {
                "id": "ta-Oyh4lG4lZ"
            },
            "source": [
                "## Load the data"
            ]
        },
        {
            "cell_type": "code",
            "execution_count": null,
            "metadata": {
                "id": "lgKODDsARi-b"
            },
            "outputs": [],
            "source": [
                "@@@ get_ecommerce_dataset_encoded @@@"
            ]
        },
        {
            "cell_type": "markdown",
            "metadata": {
                "id": "YhNCIh2kHAVe"
            },
            "source": [
                "## Upload the data to Relevance AI"
            ]
        },
        {
            "cell_type": "markdown",
            "metadata": {
                "id": "ccYrk9nW_Asf"
            },
            "source": [
                "Run the following cell, to upload these documents into your personal Relevance AI account under the name `quickstart_search`"
            ]
        },
        {
            "cell_type": "code",
            "execution_count": null,
            "metadata": {
                "colab": {
                    "base_uri": "https://localhost:8080/"
                },
                "id": "0gVjLArG_QBq",
                "outputId": "ea82a620-e75f-4e3a-b8ae-12bdba303cdd"
            },
            "outputs": [],
            "source": [
                "@@@ dataset_basics, DATASET_ID=QUICKSTART_SEARCH_DATASET_ID @@@"
            ]
        },
        {
            "cell_type": "markdown",
            "metadata": {
                "id": "nkhOWePQHTWL"
            },
            "source": [
                "## Check the data"
            ]
        },
        {
            "cell_type": "code",
            "execution_count": null,
            "metadata": {
                "colab": {
                    "base_uri": "https://localhost:8080/"
                },
                "id": "q_yG91_amEb5",
                "outputId": "059ba996-547a-4781-ea62-66a7d42f829a"
            },
            "outputs": [],
            "source": [
                "@@@ dataset_schema @@@"
            ]
        },
        {
            "cell_type": "markdown",
            "metadata": {
                "id": "EG39hkvHLYRU"
            },
            "source": [
                "# Vectorizer"
            ]
        },
        {
            "cell_type": "code",
            "execution_count": null,
            "metadata": {
                "id": "4q7T1seDLXgn"
            },
            "outputs": [],
            "source": [
                "@@@ clip_define_txt_encoder @@@"
            ]
        },
        {
            "cell_type": "markdown",
            "metadata": {
                "id": "CF3hUto7HlTr"
            },
            "source": [
                "# Hybrid Search"
            ]
        },
        {
            "cell_type": "code",
            "execution_count": null,
            "metadata": {
                "colab": {
                    "base_uri": "https://localhost:8080/"
                },
                "id": "FoDMA0RygjgI",
                "outputId": "512f5990-eb3a-4c8a-b522-a1b183282db1"
            },
            "outputs": [],
            "source": [
                "@@@ encode_text_query, QUERY=\"large tote sack\" @@@\n",
                "\n",
                "@@@ multivector_query, QUERY_VECTOR=query_vec_txt, VECTOR_FIELDS=[\"product_title_clip_vector_\"] @@@\n",
                "\n",
                "@@@ hybrid_search, QUERY=query, FIELD=PRODUCT_TITLE_FIELD @@@"
            ]
        },
        {
            "cell_type": "code",
            "execution_count": null,
            "metadata": {},
            "outputs": [],
            "source": []
        }
    ],
    "metadata": {
        "colab": {
            "collapsed_sections": [],
            "name": "RelevanceAI-ReadMe-Text and vector search (hybrid).ipynb",
            "provenance": []
        },
        "kernelspec": {
            "display_name": "Python 3",
            "name": "python3"
        },
        "language_info": {
            "name": "python"
        }
    },
    "nbformat": 4,
    "nbformat_minor": 0
}