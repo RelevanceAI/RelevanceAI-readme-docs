{
    "cells": [
        {
            "cell_type": "markdown",
            "metadata": {
                "id": "kQFOtM9kF1Rt"
            },
            "source": [
                "# Installation"
            ]
        },
        {
            "cell_type": "code",
            "execution_count": null,
            "metadata": {
                "colab": {
                    "base_uri": "https://localhost:8080/"
                },
                "id": "3Kkd7AcU_O3q",
                "outputId": "4fd5c38d-1867-42b7-b9e8-1647082c47cf"
            },
            "outputs": [],
            "source": [
                "!pip install -U RelevanceAI[notebook]==1.1.4\n"
            ]
        },
        {
            "cell_type": "markdown",
            "metadata": {
                "id": "uek1W9AIF4oR"
            },
            "source": [
                "# Setup"
            ]
        },
        {
            "cell_type": "markdown",
            "metadata": {
                "id": "OTKSnRaE-u2P"
            },
            "source": [
                "First, you need to set up a client object to interact with RelevanceAI."
            ]
        },
        {
            "cell_type": "code",
            "execution_count": null,
            "metadata": {
                "colab": {
                    "base_uri": "https://localhost:8080/"
                },
                "id": "LbapGUEn-ro7",
                "outputId": "1ffcd97e-84db-485f-fac5-0f2eba21bc0b"
            },
            "outputs": [],
            "source": [
                "from relevanceai import Client\n\n\"\"\"\nYou can sign up/login and find your credentials here: https://cloud.relevance.ai/sdk/api\nOnce you have signed up, click on the value under `Activation token` and paste it here\n\"\"\"\nclient = Client()\n\n"
            ]
        },
        {
            "cell_type": "markdown",
            "metadata": {
                "id": "-W68frsVQjSw"
            },
            "source": [
                "# Data"
            ]
        },
        {
            "cell_type": "markdown",
            "metadata": {
                "id": "gFU8OU2b-yXu"
            },
            "source": [
                "You will need to have a dataset under your Relevance AI account. You can either use our e-commerce dataset as shown below or follow the tutorial on how to create your own dataset.\n",
                "\n",
                "Our e-commerce dataset includes fields such as `product_title`, as well as the vectorized version of the field `product_title_clip_vector_`. Loading these documents can be done via:\n",
                "\n"
            ]
        },
        {
            "cell_type": "markdown",
            "metadata": {
                "id": "ta-Oyh4lG4lZ"
            },
            "source": [
                "## Load the data"
            ]
        },
        {
            "cell_type": "code",
            "execution_count": null,
            "metadata": {
                "colab": {
                    "base_uri": "https://localhost:8080/"
                },
                "id": "lgKODDsARi-b",
                "outputId": "fe79fb30-9d5e-481b-f82c-acfea78dd31d"
            },
            "outputs": [],
            "source": [
                "from relevanceai.datasets import get_ecommerce_dataset_encoded\n\ndocuments = get_ecommerce_dataset_encoded()\n{k:v for k, v in documents[0].items() if '_vector_' not in k}\n"
            ]
        },
        {
            "cell_type": "markdown",
            "metadata": {
                "id": "YhNCIh2kHAVe"
            },
            "source": [
                "## Upload the data to Relevance AI"
            ]
        },
        {
            "cell_type": "markdown",
            "metadata": {
                "id": "ccYrk9nW_Asf"
            },
            "source": [
                "Run the following cell, to upload these documents into your personal Relevance AI account under the name `quickstart_search`"
            ]
        },
        {
            "cell_type": "code",
            "execution_count": null,
            "metadata": {
                "colab": {
                    "base_uri": "https://localhost:8080/"
                },
                "id": "0gVjLArG_QBq",
                "outputId": "23847bc2-a4fa-47b7-af95-079ae0c51b1f"
            },
            "outputs": [],
            "source": [
                "df = client.Dataset(\"quickstart_search\")\ndf.insert_documents(documents)\n"
            ]
        },
        {
            "cell_type": "markdown",
            "metadata": {
                "id": "nkhOWePQHTWL"
            },
            "source": [
                "## Check the data"
            ]
        },
        {
            "cell_type": "code",
            "execution_count": null,
            "metadata": {
                "colab": {
                    "base_uri": "https://localhost:8080/"
                },
                "id": "q_yG91_amEb5",
                "outputId": "e0a410cb-9add-46e1-a788-ce02aaf38cfd"
            },
            "outputs": [],
            "source": [
                "df.schema\n"
            ]
        },
        {
            "cell_type": "markdown",
            "metadata": {
                "id": "CF3hUto7HlTr"
            },
            "source": [
                "# Traditional Search\n",
                "\n",
                "We call the hybrid search endpoint with no vectors to perform a pure traditional search"
            ]
        },
        {
            "cell_type": "code",
            "execution_count": null,
            "metadata": {
                "colab": {
                    "base_uri": "https://localhost:8080/"
                },
                "id": "FoDMA0RygjgI",
                "outputId": "4c5d6a25-06dc-416c-dcae-b94cc35ce4b0"
            },
            "outputs": [],
            "source": [
                "results = df.hybrid_search(\n    multivector_query=[],\n    text=\"HP 2.4GHz\",\n    fields=[<<FIELD>>]\n    page_size=5\n)\n"
            ]
        },
        {
            "cell_type": "code",
            "execution_count": null,
            "metadata": {
                "id": "2Ce9cDOrMCun"
            },
            "outputs": [],
            "source": []
        }
    ],
    "metadata": {
        "colab": {
            "collapsed_sections": [],
            "name": "RelevanceAI-ReadMe-Exact-Text-Matching.ipynb",
            "provenance": []
        },
        "kernelspec": {
            "display_name": "Python 3",
            "name": "python3"
        },
        "language_info": {
            "name": "python"
        }
    },
    "nbformat": 4,
    "nbformat_minor": 0
}