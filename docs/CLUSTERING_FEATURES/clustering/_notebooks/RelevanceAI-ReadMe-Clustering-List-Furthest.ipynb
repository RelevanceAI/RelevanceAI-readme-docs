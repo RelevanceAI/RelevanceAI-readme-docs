{
    "cells": [
        {
            "cell_type": "markdown",
            "metadata": {
                "id": "kQFOtM9kF1Rt"
            },
            "source": [
                "# Installation"
            ]
        },
        {
            "cell_type": "code",
            "execution_count": null,
            "metadata": {
                "id": "3Kkd7AcU_O3q"
            },
            "outputs": [],
            "source": [
                "# remove `!` if running the line in a terminal\n!pip install -U RelevanceAI[notebook]==1.4.0\n"
            ]
        },
        {
            "cell_type": "markdown",
            "metadata": {
                "id": "uek1W9AIF4oR"
            },
            "source": [
                "# Setup"
            ]
        },
        {
            "cell_type": "markdown",
            "metadata": {
                "id": "OTKSnRaE-u2P"
            },
            "source": [
                "First, you need to set up a client object to interact with RelevanceAI."
            ]
        },
        {
            "cell_type": "code",
            "execution_count": null,
            "metadata": {
                "id": "LbapGUEn-ro7"
            },
            "outputs": [],
            "source": [
                "from relevanceai import Client\n\n\"\"\"\nYou can sign up/login and find your credentials here: https://cloud.relevance.ai/sdk/api\nOnce you have signed up, click on the value under `Activation token` and paste it here\n\"\"\"\nclient = Client()\n\n"
            ]
        },
        {
            "cell_type": "markdown",
            "metadata": {
                "id": "-W68frsVQjSw"
            },
            "source": [
                "# Data"
            ]
        },
        {
            "cell_type": "markdown",
            "metadata": {
                "id": "gFU8OU2b-yXu"
            },
            "source": [
                "You will need to have a dataset under your Relevance AI account. You can either use our e-commerce dataset as shown below or follow the tutorial on how to create your own dataset.\n",
                "\n",
                "Our e-commerce dataset includes fields such as `product_title`, as well as the vectorized version of the field `product_title_clip_vector_`. Loading these documents can be done via:\n",
                "\n"
            ]
        },
        {
            "cell_type": "markdown",
            "metadata": {
                "id": "ta-Oyh4lG4lZ"
            },
            "source": [
                "## Load the data"
            ]
        },
        {
            "cell_type": "code",
            "execution_count": null,
            "metadata": {
                "id": "lgKODDsARi-b"
            },
            "outputs": [],
            "source": [
                "from relevanceai.datasets import get_ecommerce_dataset_encoded\n\ndocuments = get_ecommerce_dataset_encoded()\n{k:v for k, v in documents[0].items() if '_vector_' not in k}\n"
            ]
        },
        {
            "cell_type": "markdown",
            "metadata": {
                "id": "YhNCIh2kHAVe"
            },
            "source": [
                "## Upload the data to Relevance AI"
            ]
        },
        {
            "cell_type": "markdown",
            "metadata": {
                "id": "ccYrk9nW_Asf"
            },
            "source": [
                "Run the following cell, to upload these documents into your personal Relevance AI account under the name `quickstart_clustering_list_furthest`"
            ]
        },
        {
            "cell_type": "code",
            "execution_count": null,
            "metadata": {
                "id": "0gVjLArG_QBq"
            },
            "outputs": [],
            "source": [
                "df = client.Dataset('quickstart_clustering_list_furthest')\ndf.insert_documents(documents)\n"
            ]
        },
        {
            "cell_type": "markdown",
            "metadata": {
                "id": "nkhOWePQHTWL"
            },
            "source": [
                "## Check the data"
            ]
        },
        {
            "cell_type": "code",
            "execution_count": null,
            "metadata": {
                "id": "q_yG91_amEb5"
            },
            "outputs": [],
            "source": [
                "df.health\n"
            ]
        },
        {
            "cell_type": "markdown",
            "metadata": {
                "id": "CF3hUto7HlTr"
            },
            "source": [
                "# Clustering"
            ]
        },
        {
            "cell_type": "markdown",
            "metadata": {
                "id": "oCJ1V4X3_Qm4"
            },
            "source": [
                "We apply the Kmeams clustering algorithm to the vector field, `product_title_clip_vector_`, to perform clustersing."
            ]
        },
        {
            "cell_type": "code",
            "execution_count": null,
            "metadata": {},
            "outputs": [],
            "source": [
                "from relevanceai.clusterer import KMeansModel\n\nVECTOR_FIELD = \"product_title_clip_vector_\"\nKMEAN_NUMBER_OF_CLUSTERS = 10\nALIAS = \"kmeans_\" + str(KMEAN_NUMBER_OF_CLUSTERS)\n\nmodel = KMeansModel(k=KMEAN_NUMBER_OF_CLUSTERS)\nclusterer = client.ClusterOps(alias=ALIAS, model=model)\nclusterer.fit_predict_update(df, [VECTOR_FIELD])\n"
            ]
        },
        {
            "cell_type": "markdown",
            "metadata": {
                "id": "slKe27Wz_S_z"
            },
            "source": [
                "Clustering results are automatically inserted into your datase. \n",
                "Here, we download a small sample and show the clustering results using our json_shower."
            ]
        },
        {
            "cell_type": "code",
            "execution_count": null,
            "metadata": {
                "id": "obc1ycDhp1jp"
            },
            "outputs": [],
            "source": [
                "from relevanceai import show_json\n\nsample_documents = df.sample(n=5)\nsamples = [{\n    'product_title':d['product_title'],\n    'cluster':d['_cluster_'][VECTOR_FIELD][ALIAS]\n} for d in sample_documents]\n\nshow_json(samples, text_fields=['product_title', 'cluster'])\n\n"
            ]
        },
        {
            "cell_type": "markdown",
            "metadata": {},
            "source": [
                "# List furthest from center"
            ]
        },
        {
            "cell_type": "code",
            "execution_count": null,
            "metadata": {
                "id": "rhHlsd19hI2Y"
            },
            "outputs": [],
            "source": [
                "\n",
                "clusterer.list_furthest_from_center()\n"
            ]
        }
    ],
    "metadata": {
        "colab": {
            "collapsed_sections": [],
            "name": "RelevanceAI-ReadMe-Clustering-List-furthest.ipynb",
            "provenance": [],
            "toc_visible": true
        },
        "kernelspec": {
            "display_name": "Python 3",
            "name": "python3"
        },
        "language_info": {
            "name": "python"
        }
    },
    "nbformat": 4,
    "nbformat_minor": 0
}