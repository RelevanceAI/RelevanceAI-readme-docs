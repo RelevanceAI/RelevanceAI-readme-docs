{
    "cells": [
        {
            "cell_type": "code",
            "execution_count": null,
            "metadata": {
                "id": "3Kkd7AcU_O3q"
            },
            "outputs": [],
            "source": [
                "!pip install -U RelevanceAI[notebook]==1.1.1\n!pip install faiss-cpu\n"
            ]
        },
        {
            "cell_type": "markdown",
            "metadata": {
                "id": "OTKSnRaE-u2P"
            },
            "source": [
                "First, you need to set up a client object to interact with RelevanceAI. You will need to have a dataset under your Relevance AI account. You can either use our dummy sample data as shown below or follow the tutorial on how to create your own dataset to create your own database.\n"
            ]
        },
        {
            "cell_type": "code",
            "execution_count": null,
            "metadata": {
                "id": "LbapGUEn-ro7"
            },
            "outputs": [],
            "source": [
                "from relevanceai import Client\n\n\"\"\"\nYou can sign up/login and find your credentials here: https://cloud.relevance.ai/sdk/api\nOnce you have signed up, click on the value under `Activation token` and paste it here\n\"\"\"\nclient = Client()\n\n"
            ]
        },
        {
            "cell_type": "markdown",
            "metadata": {
                "id": "-W68frsVQjSw"
            },
            "source": [
                "# Dataset"
            ]
        },
        {
            "cell_type": "code",
            "execution_count": null,
            "metadata": {
                "colab": {
                    "base_uri": "https://localhost:8080/"
                },
                "id": "lgKODDsARi-b",
                "outputId": "48a12e63-342e-4074-a9d7-0b528eabe624"
            },
            "outputs": [],
            "source": [
                "from relevanceai.datasets import get_ecommerce_dataset_encoded\n\ndocuments = get_ecommerce_dataset_encoded()\n{k:v for k, v in documents[0].items() if '_vector_' not in k}\n"
            ]
        },
        {
            "cell_type": "code",
            "execution_count": null,
            "metadata": {
                "colab": {
                    "base_uri": "https://localhost:8080/"
                },
                "id": "0gVjLArG_QBq",
                "outputId": "47f1013b-84a6-4f59-cc8a-125360c8f807"
            },
            "outputs": [],
            "source": [
                "df = client.Dataset(\"faiss_kmeans_clustering\")\ndf.insert_documents(documents)\n"
            ]
        },
        {
            "cell_type": "code",
            "execution_count": null,
            "metadata": {
                "id": "66wAIwCR7GUI"
            },
            "outputs": [],
            "source": [
                "df.health\n"
            ]
        },
        {
            "cell_type": "markdown",
            "metadata": {
                "id": "aVK35Y1PQ-2o"
            },
            "source": [
                "# Custom Clustering"
            ]
        },
        {
            "cell_type": "markdown",
            "metadata": {
                "id": "7HGReCHiAfg8"
            },
            "source": [
                "RelevanceAI supports the integration of custom clustering algorithms. The custom algorithm can be created as the fit_transform method of the *ClusterBase* class."
            ]
        },
        {
            "cell_type": "markdown",
            "metadata": {
                "id": "odP8_5r8AnAT"
            },
            "source": [
                "The following code shows an example of a custom clustering algorithm that chooses randomly between Cluster 0 and Cluster 1."
            ]
        },
        {
            "cell_type": "code",
            "execution_count": 7,
            "metadata": {
                "id": "CpXg0HWCRDFN"
            },
            "outputs": [],
            "source": [
                "# Inherit from ClusterBase to keep all the goodies!\nimport numpy as np\nfrom faiss import Kmeans\nfrom relevanceai import CentroidClusterBase\n\nclass FaissKMeans(CentroidClusterBase):\n    def __init__(self, model):\n        self.model = model\n\n    def fit_predict(self, vectors):\n        vectors = np.array(vectors).astype(\"float32\")\n        self.model.train(vectors)\n        cluster_labels = self.model.assign(vectors)[1]\n        return cluster_labels\n\n    def metadata(self):\n        return self.model.__dict__\n\n    def get_centers(self):\n        return self.model.centroids\n\nn_clusters = 10\nd = 512\nalias = f\"faiss-kmeans-{n_clusters}\"\nvector_fields = [\"product_title_clip_vector_\"]\n\nmodel = FaissKMeans(model=Kmeans(d=d, k=n_clusters))\nclusterer = client.ClusterOps(model=model, alias=alias)\nclusterer.fit_predict_update(dataset=df, vector_fields=vector_fields)\n\n\n"
            ]
        },
        {
            "cell_type": "code",
            "execution_count": null,
            "metadata": {
                "id": "08pPeGlZdEiW"
            },
            "outputs": [],
            "source": []
        }
    ],
    "metadata": {
        "colab": {
            "collapsed_sections": [],
            "name": "RelevanceAI-ReadMe-CustomClustering.ipynb",
            "provenance": []
        },
        "kernelspec": {
            "display_name": "Python 3",
            "name": "python3"
        },
        "language_info": {
            "name": "python"
        }
    },
    "nbformat": 4,
    "nbformat_minor": 0
}