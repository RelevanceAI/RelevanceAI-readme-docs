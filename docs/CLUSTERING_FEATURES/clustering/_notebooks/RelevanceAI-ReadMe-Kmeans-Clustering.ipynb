{
    "cells": [
        {
            "cell_type": "markdown",
            "metadata": {
                "id": "kQFOtM9kF1Rt"
            },
            "source": [
                "# Installation"
            ]
        },
        {
            "cell_type": "code",
            "execution_count": null,
            "metadata": {
                "id": "3Kkd7AcU_O3q"
            },
            "outputs": [],
            "source": [
                "# remove `!` if running the line in a terminal\n!pip install -U RelevanceAI[notebook]==1.3.3\n"
            ]
        },
        {
            "cell_type": "markdown",
            "metadata": {
                "id": "uek1W9AIF4oR"
            },
            "source": [
                "# Setup"
            ]
        },
        {
            "cell_type": "markdown",
            "metadata": {
                "id": "OTKSnRaE-u2P"
            },
            "source": [
                "First, you need to set up a client object to interact with RelevanceAI."
            ]
        },
        {
            "cell_type": "code",
            "execution_count": null,
            "metadata": {
                "id": "LbapGUEn-ro7"
            },
            "outputs": [],
            "source": [
                "from relevanceai import Client\n\n\"\"\"\nYou can sign up/login and find your credentials here: https://cloud.relevance.ai/sdk/api\nOnce you have signed up, click on the value under `Activation token` and paste it here\n\"\"\"\nclient = Client()\n\n"
            ]
        },
        {
            "cell_type": "markdown",
            "metadata": {
                "id": "-W68frsVQjSw"
            },
            "source": [
                "# Data"
            ]
        },
        {
            "cell_type": "markdown",
            "metadata": {
                "id": "gFU8OU2b-yXu"
            },
            "source": [
                "You will need to have a dataset under your Relevance AI account. You can either use our e-commerce dataset as shown below or follow the tutorial on how to create your own dataset.\n",
                "\n",
                "Our e-commerce dataset includes fields such as `product_title`, as well as the vectorized version of the field `product_title_clip_vector_`. Loading these documents can be done via:\n",
                "\n"
            ]
        },
        {
            "cell_type": "markdown",
            "metadata": {
                "id": "ta-Oyh4lG4lZ"
            },
            "source": [
                "## Load the data"
            ]
        },
        {
            "cell_type": "code",
            "execution_count": null,
            "metadata": {
                "id": "lgKODDsARi-b"
            },
            "outputs": [],
            "source": [
                "from relevanceai.datasets import get_ecommerce_dataset_encoded\n\ndocuments = get_ecommerce_dataset_encoded()\n{k:v for k, v in documents[0].items() if '_vector_' not in k}\n"
            ]
        },
        {
            "cell_type": "markdown",
            "metadata": {
                "id": "YhNCIh2kHAVe"
            },
            "source": [
                "## Upload the data to Relevance AI"
            ]
        },
        {
            "cell_type": "markdown",
            "metadata": {
                "id": "ccYrk9nW_Asf"
            },
            "source": [
                "Run the following cell, to upload these documents into your personal Relevance AI account under the name `quickstart_auto_clustering_kmeans`"
            ]
        },
        {
            "cell_type": "code",
            "execution_count": null,
            "metadata": {
                "id": "0gVjLArG_QBq"
            },
            "outputs": [],
            "source": [
                "df = client.Dataset('quickstart_auto_clustering_kmeans')\ndf.insert_documents(documents)\n"
            ]
        },
        {
            "cell_type": "markdown",
            "metadata": {
                "id": "nkhOWePQHTWL"
            },
            "source": [
                "## Check the data"
            ]
        },
        {
            "cell_type": "code",
            "execution_count": null,
            "metadata": {
                "id": "q_yG91_amEb5"
            },
            "outputs": [],
            "source": [
                "df.schema\n"
            ]
        },
        {
            "cell_type": "markdown",
            "metadata": {
                "id": "CF3hUto7HlTr"
            },
            "source": [
                "# Clustering"
            ]
        },
        {
            "cell_type": "markdown",
            "metadata": {
                "id": "oCJ1V4X3_Qm4"
            },
            "source": [
                "The easiest way to run a Kmeans clustering algorithm under the Relevance AI platform is the `auto_cluster` function. The following code snippet shows how generate 10 clusters using the `product_title_clip_vector_` vector field."
            ]
        },
        {
            "cell_type": "code",
            "execution_count": null,
            "metadata": {
                "id": "Fo46tYKMY184"
            },
            "outputs": [],
            "source": [
                "clusterer = df.auto_cluster(\"kmeans-10\", [\"product_title_clip_vector_\"])\n"
            ]
        },
        {
            "cell_type": "markdown",
            "metadata": {},
            "source": [
                "Another way of clustering is to use the ClusterOps class as shown in the snippet below:"
            ]
        },
        {
            "cell_type": "code",
            "execution_count": null,
            "metadata": {
                "id": "FoDMA0RygjgI"
            },
            "outputs": [],
            "source": [
                "from relevanceai.clusterer import KMeansModel\n\nVECTOR_FIELD = \"product_title_clip_vector_\"\nKMEAN_NUMBER_OF_CLUSTERS = 10\nALIAS = \"kmeans_\" + str(KMEAN_NUMBER_OF_CLUSTERS)\n\nmodel = KMeansModel(k=KMEAN_NUMBER_OF_CLUSTERS)\nclusterer = client.ClusterOps(alias=ALIAS, model=model)\nclusterer.fit_predict_update(df, [VECTOR_FIELD])\n"
            ]
        },
        {
            "cell_type": "markdown",
            "metadata": {
                "id": "slKe27Wz_S_z"
            },
            "source": [
                "Clustering results are automatically inserted into your database. \n",
                "Here, we download a small sample and show the clustering results using our `json_shower`."
            ]
        },
        {
            "cell_type": "code",
            "execution_count": null,
            "metadata": {
                "id": "obc1ycDhp1jp"
            },
            "outputs": [],
            "source": [
                "from relevanceai import show_json\n\nsample_documents = df.sample(n=5)\nsamples = [{\n    'product_title':d['product_title'],\n    'cluster':d['_cluster_'][VECTOR_FIELD][ALIAS]\n} for d in sample_documents]\n\nshow_json(samples, text_fields=['product_title', 'cluster'])\n\n"
            ]
        },
        {
            "cell_type": "code",
            "execution_count": null,
            "metadata": {
                "id": "2Ce9cDOrMCun"
            },
            "outputs": [],
            "source": []
        }
    ],
    "metadata": {
        "colab": {
            "collapsed_sections": [],
            "name": "RelevanceAI-ReadMe-Kmeans-Clustering.ipynb",
            "provenance": [
                {
                    "file_id": "1pDUT18y4zCVs3-D46WWTM39P1XRvjy9A",
                    "timestamp": 1641272913531
                },
                {
                    "file_id": "1PaiktDbe9wCOXJ3jI4QdZ9MClxmqU9GE",
                    "timestamp": 1641270361961
                },
                {
                    "file_id": "1J2PshVFqaDHwFd-PU1uC0wKQmZoa6AI5",
                    "timestamp": 1639042128614
                }
            ]
        },
        "kernelspec": {
            "display_name": "Python 3",
            "name": "python3"
        },
        "language_info": {
            "name": "python"
        }
    },
    "nbformat": 4,
    "nbformat_minor": 0
}