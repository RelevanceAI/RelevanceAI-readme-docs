{
    "cells": [
        {
            "cell_type": "markdown",
            "metadata": {
                "id": "YIbTfloF3y0N"
            },
            "source": [
                "\n",
                "[![Open In Colab](https://colab.research.google.com/assets/colab-badge.svg)](https://colab.research.google.com/github/RelevanceAI/RelevanceAI-readme-docs/blob/v0.33.2/docs/CLUSTERING_FEATURES/cluster-evaluation/_notebooks/RelevanceAI-ReadMe-Cluster-Metrics.ipynb)\n",
                "\n",
                "\n",
                "\n",
                "\n",
                "# Setup"
            ]
        },
        {
            "cell_type": "code",
            "execution_count": null,
            "metadata": {
                "id": "LH8Cr23N3oNB"
            },
            "outputs": [],
            "source": [
                "!pip install -U RelevanceAI[notebook]==0.33.2\n"
            ]
        },
        {
            "cell_type": "code",
            "execution_count": null,
            "metadata": {
                "id": "u3Uv9ilab3aK"
            },
            "outputs": [],
            "source": [
                "from relevanceai import Client\n\n\"\"\"\nYou can sign up/login and find your credentials here: https://cloud.relevance.ai/sdk/api\nOnce you have signed up, click on the value under `Authorization token` and paste it here\n\"\"\"\nclient = Client()\n\n"
            ]
        },
        {
            "cell_type": "markdown",
            "metadata": {
                "id": "WQ5AlBDYb7yp"
            },
            "source": [
                "# Data"
            ]
        },
        {
            "cell_type": "code",
            "execution_count": null,
            "metadata": {
                "id": "7DtTLnBT4CUm"
            },
            "outputs": [],
            "source": [
                "from relevanceai.datasets import get_ecommerce_dataset_encoded\n\ndocuments = get_ecommerce_dataset_encoded()\n{k:v for k, v in documents[0].items() if '_vector_' not in k}\n"
            ]
        },
        {
            "cell_type": "code",
            "execution_count": null,
            "metadata": {
                "id": "KtiPidZGIAT6"
            },
            "outputs": [],
            "source": [
                "df = client.Dataset(\"quickstart_clustering_kmeans\")\ndf.insert_documents(documents)\n"
            ]
        },
        {
            "cell_type": "code",
            "execution_count": null,
            "metadata": {
                "id": "KoziCEx7GRNs"
            },
            "outputs": [],
            "source": [
                "df.health\n"
            ]
        },
        {
            "cell_type": "markdown",
            "metadata": {
                "id": "5HA1EEOC6lMm"
            },
            "source": [
                "# 1. Create clusters"
            ]
        },
        {
            "cell_type": "code",
            "execution_count": null,
            "metadata": {},
            "outputs": [],
            "source": [
                "from relevanceai.clusterer import KMeansModel\n\nVECTOR_FIELD = \"product_title_clip_vector_\"\nKMEAN_NUMBER_OF_CLUSTERS = 10\nALIAS = \"kmeans_\" + str(KMEAN_NUMBER_OF_CLUSTERS)\n\nmodel = KMeansModel(k=KMEAN_NUMBER_OF_CLUSTERS)\nclusterer = client.ClusterOps(alias=ALIAS, model=model)\nclusterer.fit_predict_update(df, [VECTOR_FIELD])\n"
            ]
        },
        {
            "cell_type": "markdown",
            "metadata": {
                "id": "6yAdqI_X6_oS"
            },
            "source": [
                "# 2. Cluster evaluation"
            ]
        },
        {
            "cell_type": "code",
            "execution_count": null,
            "metadata": {
                "id": "EXvCxELTI1KF"
            },
            "outputs": [],
            "source": [
                "clusterer.evaluate()"
            ]
        },
        {
            "cell_type": "markdown",
            "metadata": {
                "id": "l2wpMSHf6oIK"
            },
            "source": [
                "## Within cluster label (coming soon)"
            ]
        },
        {
            "cell_type": "code",
            "execution_count": null,
            "metadata": {
                "id": "yG83zQ7tJYCJ"
            },
            "outputs": [],
            "source": [
                "# against a ground-truth column\n",
                "\n",
                "GROUND_TRUTH_FIELD = \"query\"\n"
            ]
        }
    ],
    "metadata": {
        "colab": {
            "collapsed_sections": [],
            "name": "RelevanceAI-ReadMe-Cluster-Metrics.ipynb",
            "provenance": [],
            "toc_visible": true
        },
        "kernelspec": {
            "display_name": "Python 3",
            "name": "python3"
        },
        "language_info": {
            "name": "python"
        }
    },
    "nbformat": 4,
    "nbformat_minor": 0
}