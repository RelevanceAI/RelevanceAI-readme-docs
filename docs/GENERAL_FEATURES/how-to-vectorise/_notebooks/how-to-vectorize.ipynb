{
    "cells": [
        {
            "cell_type": "markdown",
            "metadata": {
                "id": "2fchptpo9hl9"
            },
            "source": [
                "\n",
                "[![Open In Colab](https://colab.research.google.com/assets/colab-badge.svg)](https://colab.research.google.com/github/RelevanceAI/RelevanceAI-readme-docs/blob/v0.33.2/docs/GENERAL_FEATURES/how-to-vectorizet/_notebooks/how-to-vectorize.ipynb)\n",
                "\n",
                "# Installation"
            ]
        },
        {
            "cell_type": "code",
            "execution_count": null,
            "metadata": {
                "id": "YYVL1Lg39EVu"
            },
            "outputs": [],
            "source": [
                "!pip install vectorhub[encoders-text-tfhub]\n"
            ]
        },
        {
            "cell_type": "markdown",
            "metadata": {
                "id": "k1yHM-mnjGcQ"
            },
            "source": [
                "# Setup"
            ]
        },
        {
            "cell_type": "code",
            "execution_count": null,
            "metadata": {
                "id": "cDJ34fhYjD24"
            },
            "outputs": [],
            "source": [
                "from vectorhub.encoders.text.tfhub import USE2Vec\n\nenc = USE2Vec()\n"
            ]
        },
        {
            "cell_type": "markdown",
            "metadata": {
                "id": "XmkA64yvjOQc"
            },
            "source": [
                "# Encode"
            ]
        },
        {
            "cell_type": "code",
            "execution_count": 3,
            "metadata": {
                "id": "I_pAbbaO8F9r"
            },
            "outputs": [],
            "source": [
                "\n",
                "# Encode a single input\nenc.encode(\"I love working with vectors.\")\n",
                "\n",
                "# documents are saved as a list of dictionaries\ndocuments = [{'sentence': '\"This is the first sentence.\"', '_id': 1}, {'sentence': '\"This is the second sentence.\"', '_id': 2}]\n\n# Encode the `\"sentence\"` field in a list of documents\ndocs_with_vectors = enc.encode_documents([\"sentence\"], documents)\n"
            ]
        },
        {
            "cell_type": "markdown",
            "metadata": {},
            "source": [
                "### Encoding an entire dataset\n",
                "\n",
                "The easiest way to update an existing dataset with encoding results is to run `pull_update_push`. This function fetches all the data-points in a dataset, runs the specified function (i.e. encoding in this case) and writes the result back to the dataset.\n",
                "\n",
                "For instance, in the sample code below, we use a dataset called `ecommerce_dataset`, and encodes the `product_description` field using the `USE2Vec` encoder.\n",
                "You can see the list of the available list of models for vectorising here using [Vectorhub](https://github.com/RelevanceAI/vectorhub) or feel free to bring your own model(s)."
            ]
        },
        {
            "cell_type": "code",
            "execution_count": null,
            "metadata": {
                "id": "hztjQZUS5Hra"
            },
            "outputs": [],
            "source": [
                "def encode_documents(documents):\n    # Field and then the documents go here\n    return enc.encode_documents([\"product_description\"], documents)\n"
            ]
        },
        {
            "cell_type": "code",
            "execution_count": null,
            "metadata": {},
            "outputs": [],
            "source": [
                "\n",
                "client.pull_update_push(\n    dataset_id = \"ecommerce_dataset\",\n    update_function = encode_documents\n)\n"
            ]
        }
    ],
    "metadata": {
        "colab": {
            "collapsed_sections": [],
            "name": "RelevanceAI-ReadMe-QuickStart-Aggregations.ipynb",
            "provenance": []
        },
        "kernelspec": {
            "display_name": "Python 3",
            "name": "python3"
        },
        "language_info": {
            "name": "python"
        }
    },
    "nbformat": 4,
    "nbformat_minor": 0
}