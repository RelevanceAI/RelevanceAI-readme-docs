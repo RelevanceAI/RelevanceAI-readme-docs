{
 "cells": [
  {
   "cell_type": "markdown",
   "metadata": {
    "id": "2fchptpo9hl9"
   },
   "source": [
    "\n",
    "[![Open In Colab](https://colab.research.google.com/assets/colab-badge.svg)](https://colab.research.google.com/github/RelevanceAI/RelevanceAI-readme-docs/blob/v0.33.2/docs/GENERAL_FEATURES/how-to-vectorizet/_notebooks/how-to-vectorize.ipynb)\n",
    "\n",
    "# Installation\n",
    "\n"
   ]
  },
  {
   "cell_type": "code",
   "execution_count": 2,
   "metadata": {
    "scrolled": true
   },
   "outputs": [
    {
     "name": "stdout",
     "output_type": "stream",
     "text": [
      "Requirement already satisfied: RelevanceAI[notebook]==0.33.2 in /home/charlene/code/RelevanceAI-readme-docs/.venv/lib/python3.8/site-packages (0.33.2)\n",
      "Requirement already satisfied: loguru>=0.5.3 in /home/charlene/code/RelevanceAI-readme-docs/.venv/lib/python3.8/site-packages (from RelevanceAI[notebook]==0.33.2) (0.6.0)\n",
      "Requirement already satisfied: tqdm>=4.49.0 in /home/charlene/code/RelevanceAI-readme-docs/.venv/lib/python3.8/site-packages (from RelevanceAI[notebook]==0.33.2) (4.62.3)\n",
      "Requirement already satisfied: joblib>=1.0.0 in /home/charlene/code/RelevanceAI-readme-docs/.venv/lib/python3.8/site-packages (from RelevanceAI[notebook]==0.33.2) (1.1.0)\n",
      "Requirement already satisfied: requests>=2.0.0 in /home/charlene/code/RelevanceAI-readme-docs/.venv/lib/python3.8/site-packages (from RelevanceAI[notebook]==0.33.2) (2.27.1)\n",
      "Requirement already satisfied: document-utils>=1.7.0 in /home/charlene/code/RelevanceAI-readme-docs/.venv/lib/python3.8/site-packages (from RelevanceAI[notebook]==0.33.2) (1.7.0)\n",
      "Requirement already satisfied: pandas>=1.0.0 in /home/charlene/code/RelevanceAI-readme-docs/.venv/lib/python3.8/site-packages (from RelevanceAI[notebook]==0.33.2) (1.4.0)\n",
      "Requirement already satisfied: numpy>=1.19.0 in /home/charlene/code/RelevanceAI-readme-docs/.venv/lib/python3.8/site-packages (from RelevanceAI[notebook]==0.33.2) (1.19.5)\n",
      "Requirement already satisfied: scikit-learn in /home/charlene/code/RelevanceAI-readme-docs/.venv/lib/python3.8/site-packages (from RelevanceAI[notebook]==0.33.2) (1.0.2)\n",
      "Requirement already satisfied: typing-extensions in /home/charlene/code/RelevanceAI-readme-docs/.venv/lib/python3.8/site-packages (from RelevanceAI[notebook]==0.33.2) (3.7.4.3)\n",
      "Requirement already satisfied: dash in /home/charlene/code/RelevanceAI-readme-docs/.venv/lib/python3.8/site-packages (from RelevanceAI[notebook]==0.33.2) (2.1.0)\n",
      "Requirement already satisfied: typeguard in /home/charlene/code/RelevanceAI-readme-docs/.venv/lib/python3.8/site-packages (from RelevanceAI[notebook]==0.33.2) (2.13.3)\n",
      "Requirement already satisfied: jsonshower in /home/charlene/code/RelevanceAI-readme-docs/.venv/lib/python3.8/site-packages (from RelevanceAI[notebook]==0.33.2) (2.2.12)\n",
      "Requirement already satisfied: pillow in /home/charlene/code/RelevanceAI-readme-docs/.venv/lib/python3.8/site-packages (from RelevanceAI[notebook]==0.33.2) (9.0.1)\n",
      "Requirement already satisfied: scikit-image in /home/charlene/code/RelevanceAI-readme-docs/.venv/lib/python3.8/site-packages (from RelevanceAI[notebook]==0.33.2) (0.19.1)\n",
      "Requirement already satisfied: opencv-python in /home/charlene/code/RelevanceAI-readme-docs/.venv/lib/python3.8/site-packages (from RelevanceAI[notebook]==0.33.2) (4.5.5.62)\n",
      "Requirement already satisfied: plotly>=5.3.1 in /home/charlene/code/RelevanceAI-readme-docs/.venv/lib/python3.8/site-packages (from RelevanceAI[notebook]==0.33.2) (5.5.0)\n",
      "Requirement already satisfied: dash-bootstrap-components in /home/charlene/code/RelevanceAI-readme-docs/.venv/lib/python3.8/site-packages (from RelevanceAI[notebook]==0.33.2) (1.0.3)\n",
      "Requirement already satisfied: python-dateutil>=2.8.1 in /home/charlene/code/RelevanceAI-readme-docs/.venv/lib/python3.8/site-packages (from pandas>=1.0.0->RelevanceAI[notebook]==0.33.2) (2.8.2)\n",
      "Requirement already satisfied: pytz>=2020.1 in /home/charlene/code/RelevanceAI-readme-docs/.venv/lib/python3.8/site-packages (from pandas>=1.0.0->RelevanceAI[notebook]==0.33.2) (2021.3)\n",
      "Requirement already satisfied: six in /home/charlene/code/RelevanceAI-readme-docs/.venv/lib/python3.8/site-packages (from plotly>=5.3.1->RelevanceAI[notebook]==0.33.2) (1.15.0)\n",
      "Requirement already satisfied: tenacity>=6.2.0 in /home/charlene/code/RelevanceAI-readme-docs/.venv/lib/python3.8/site-packages (from plotly>=5.3.1->RelevanceAI[notebook]==0.33.2) (8.0.1)\n",
      "Requirement already satisfied: idna<4,>=2.5 in /home/charlene/code/RelevanceAI-readme-docs/.venv/lib/python3.8/site-packages (from requests>=2.0.0->RelevanceAI[notebook]==0.33.2) (3.3)\n",
      "Requirement already satisfied: charset-normalizer~=2.0.0 in /home/charlene/code/RelevanceAI-readme-docs/.venv/lib/python3.8/site-packages (from requests>=2.0.0->RelevanceAI[notebook]==0.33.2) (2.0.11)\n",
      "Requirement already satisfied: urllib3<1.27,>=1.21.1 in /home/charlene/code/RelevanceAI-readme-docs/.venv/lib/python3.8/site-packages (from requests>=2.0.0->RelevanceAI[notebook]==0.33.2) (1.26.8)\n",
      "Requirement already satisfied: certifi>=2017.4.17 in /home/charlene/code/RelevanceAI-readme-docs/.venv/lib/python3.8/site-packages (from requests>=2.0.0->RelevanceAI[notebook]==0.33.2) (2021.10.8)\n",
      "Requirement already satisfied: dash-core-components==2.0.0 in /home/charlene/code/RelevanceAI-readme-docs/.venv/lib/python3.8/site-packages (from dash->RelevanceAI[notebook]==0.33.2) (2.0.0)\n",
      "Requirement already satisfied: Flask>=1.0.4 in /home/charlene/code/RelevanceAI-readme-docs/.venv/lib/python3.8/site-packages (from dash->RelevanceAI[notebook]==0.33.2) (2.0.2)\n",
      "Requirement already satisfied: dash-html-components==2.0.0 in /home/charlene/code/RelevanceAI-readme-docs/.venv/lib/python3.8/site-packages (from dash->RelevanceAI[notebook]==0.33.2) (2.0.0)\n",
      "Requirement already satisfied: dash-table==5.0.0 in /home/charlene/code/RelevanceAI-readme-docs/.venv/lib/python3.8/site-packages (from dash->RelevanceAI[notebook]==0.33.2) (5.0.0)\n",
      "Requirement already satisfied: flask-compress in /home/charlene/code/RelevanceAI-readme-docs/.venv/lib/python3.8/site-packages (from dash->RelevanceAI[notebook]==0.33.2) (1.10.1)\n",
      "Requirement already satisfied: fuzzysearch in /home/charlene/code/RelevanceAI-readme-docs/.venv/lib/python3.8/site-packages (from jsonshower->RelevanceAI[notebook]==0.33.2) (0.7.3)\n",
      "Requirement already satisfied: PyWavelets>=1.1.1 in /home/charlene/code/RelevanceAI-readme-docs/.venv/lib/python3.8/site-packages (from scikit-image->RelevanceAI[notebook]==0.33.2) (1.2.0)\n",
      "Requirement already satisfied: imageio>=2.4.1 in /home/charlene/code/RelevanceAI-readme-docs/.venv/lib/python3.8/site-packages (from scikit-image->RelevanceAI[notebook]==0.33.2) (2.15.0)\n",
      "Requirement already satisfied: tifffile>=2019.7.26 in /home/charlene/code/RelevanceAI-readme-docs/.venv/lib/python3.8/site-packages (from scikit-image->RelevanceAI[notebook]==0.33.2) (2022.2.2)\n",
      "Requirement already satisfied: networkx>=2.2 in /home/charlene/code/RelevanceAI-readme-docs/.venv/lib/python3.8/site-packages (from scikit-image->RelevanceAI[notebook]==0.33.2) (2.6.3)\n",
      "Requirement already satisfied: scipy>=1.4.1 in /home/charlene/code/RelevanceAI-readme-docs/.venv/lib/python3.8/site-packages (from scikit-image->RelevanceAI[notebook]==0.33.2) (1.8.0)\n",
      "Requirement already satisfied: packaging>=20.0 in /home/charlene/code/RelevanceAI-readme-docs/.venv/lib/python3.8/site-packages (from scikit-image->RelevanceAI[notebook]==0.33.2) (21.3)\n",
      "Requirement already satisfied: threadpoolctl>=2.0.0 in /home/charlene/code/RelevanceAI-readme-docs/.venv/lib/python3.8/site-packages (from scikit-learn->RelevanceAI[notebook]==0.33.2) (3.1.0)\n",
      "Requirement already satisfied: Jinja2>=3.0 in /home/charlene/code/RelevanceAI-readme-docs/.venv/lib/python3.8/site-packages (from Flask>=1.0.4->dash->RelevanceAI[notebook]==0.33.2) (3.0.3)\n",
      "Requirement already satisfied: click>=7.1.2 in /home/charlene/code/RelevanceAI-readme-docs/.venv/lib/python3.8/site-packages (from Flask>=1.0.4->dash->RelevanceAI[notebook]==0.33.2) (8.0.3)\n",
      "Requirement already satisfied: Werkzeug>=2.0 in /home/charlene/code/RelevanceAI-readme-docs/.venv/lib/python3.8/site-packages (from Flask>=1.0.4->dash->RelevanceAI[notebook]==0.33.2) (2.0.3)\n",
      "Requirement already satisfied: itsdangerous>=2.0 in /home/charlene/code/RelevanceAI-readme-docs/.venv/lib/python3.8/site-packages (from Flask>=1.0.4->dash->RelevanceAI[notebook]==0.33.2) (2.0.1)\n",
      "Requirement already satisfied: pyparsing!=3.0.5,>=2.0.2 in /home/charlene/code/RelevanceAI-readme-docs/.venv/lib/python3.8/site-packages (from packaging>=20.0->scikit-image->RelevanceAI[notebook]==0.33.2) (3.0.7)\n",
      "Requirement already satisfied: brotli in /home/charlene/code/RelevanceAI-readme-docs/.venv/lib/python3.8/site-packages (from flask-compress->dash->RelevanceAI[notebook]==0.33.2) (1.0.9)\n",
      "Requirement already satisfied: attrs>=19.3 in /home/charlene/code/RelevanceAI-readme-docs/.venv/lib/python3.8/site-packages (from fuzzysearch->jsonshower->RelevanceAI[notebook]==0.33.2) (21.4.0)\n",
      "Requirement already satisfied: MarkupSafe>=2.0 in /home/charlene/code/RelevanceAI-readme-docs/.venv/lib/python3.8/site-packages (from Jinja2>=3.0->Flask>=1.0.4->dash->RelevanceAI[notebook]==0.33.2) (2.0.1)\n"
     ]
    }
   ],
   "source": [
    "!pip install -U 'RelevanceAI[notebook]==0.33.2'\n"
   ]
  },
  {
   "cell_type": "markdown",
   "metadata": {},
   "source": [
    "## Vectorizing using Vectorhub"
   ]
  },
  {
   "cell_type": "code",
   "execution_count": 3,
   "metadata": {
    "id": "YYVL1Lg39EVu"
   },
   "outputs": [
    {
     "name": "stdout",
     "output_type": "stream",
     "text": [
      "Requirement already satisfied: vectorhub[encoders-text-tfhub] in /home/charlene/code/RelevanceAI-readme-docs/.venv/lib/python3.8/site-packages (1.8.3)\n",
      "Requirement already satisfied: numpy in /home/charlene/code/RelevanceAI-readme-docs/.venv/lib/python3.8/site-packages (from vectorhub[encoders-text-tfhub]) (1.19.5)\n",
      "Requirement already satisfied: requests in /home/charlene/code/RelevanceAI-readme-docs/.venv/lib/python3.8/site-packages (from vectorhub[encoders-text-tfhub]) (2.27.1)\n",
      "Requirement already satisfied: document-utils in /home/charlene/code/RelevanceAI-readme-docs/.venv/lib/python3.8/site-packages (from vectorhub[encoders-text-tfhub]) (1.7.0)\n",
      "Requirement already satisfied: PyYAML in /home/charlene/code/RelevanceAI-readme-docs/.venv/lib/python3.8/site-packages (from vectorhub[encoders-text-tfhub]) (6.0)\n",
      "Requirement already satisfied: tensorflow~=2.4.3 in /home/charlene/code/RelevanceAI-readme-docs/.venv/lib/python3.8/site-packages (from vectorhub[encoders-text-tfhub]) (2.4.4)\n",
      "Requirement already satisfied: tensorflow-text~=2.4.3 in /home/charlene/code/RelevanceAI-readme-docs/.venv/lib/python3.8/site-packages (from vectorhub[encoders-text-tfhub]) (2.4.3)\n",
      "Requirement already satisfied: tf-models-official==2.4.0 in /home/charlene/code/RelevanceAI-readme-docs/.venv/lib/python3.8/site-packages (from vectorhub[encoders-text-tfhub]) (2.4.0)\n",
      "Requirement already satisfied: tensorflow-hub~=0.12.0 in /home/charlene/code/RelevanceAI-readme-docs/.venv/lib/python3.8/site-packages (from vectorhub[encoders-text-tfhub]) (0.12.0)\n",
      "Requirement already satisfied: bert-for-tf2==0.14.9 in /home/charlene/code/RelevanceAI-readme-docs/.venv/lib/python3.8/site-packages (from vectorhub[encoders-text-tfhub]) (0.14.9)\n",
      "Requirement already satisfied: py-params>=0.9.6 in /home/charlene/code/RelevanceAI-readme-docs/.venv/lib/python3.8/site-packages (from bert-for-tf2==0.14.9->vectorhub[encoders-text-tfhub]) (0.10.2)\n",
      "Requirement already satisfied: params-flow>=0.8.0 in /home/charlene/code/RelevanceAI-readme-docs/.venv/lib/python3.8/site-packages (from bert-for-tf2==0.14.9->vectorhub[encoders-text-tfhub]) (0.8.2)\n",
      "Requirement already satisfied: dataclasses in /home/charlene/code/RelevanceAI-readme-docs/.venv/lib/python3.8/site-packages (from tf-models-official==2.4.0->vectorhub[encoders-text-tfhub]) (0.6)\n",
      "Requirement already satisfied: google-api-python-client>=1.6.7 in /home/charlene/code/RelevanceAI-readme-docs/.venv/lib/python3.8/site-packages (from tf-models-official==2.4.0->vectorhub[encoders-text-tfhub]) (2.36.0)\n",
      "Requirement already satisfied: py-cpuinfo>=3.3.0 in /home/charlene/code/RelevanceAI-readme-docs/.venv/lib/python3.8/site-packages (from tf-models-official==2.4.0->vectorhub[encoders-text-tfhub]) (8.0.0)\n",
      "Requirement already satisfied: pycocotools in /home/charlene/code/RelevanceAI-readme-docs/.venv/lib/python3.8/site-packages (from tf-models-official==2.4.0->vectorhub[encoders-text-tfhub]) (2.0.4)\n",
      "Requirement already satisfied: gin-config in /home/charlene/code/RelevanceAI-readme-docs/.venv/lib/python3.8/site-packages (from tf-models-official==2.4.0->vectorhub[encoders-text-tfhub]) (0.5.0)\n",
      "Requirement already satisfied: tensorflow-datasets in /home/charlene/code/RelevanceAI-readme-docs/.venv/lib/python3.8/site-packages (from tf-models-official==2.4.0->vectorhub[encoders-text-tfhub]) (4.5.2)\n",
      "Requirement already satisfied: Cython in /home/charlene/code/RelevanceAI-readme-docs/.venv/lib/python3.8/site-packages (from tf-models-official==2.4.0->vectorhub[encoders-text-tfhub]) (0.29.27)\n",
      "Requirement already satisfied: tensorflow-model-optimization>=0.4.1 in /home/charlene/code/RelevanceAI-readme-docs/.venv/lib/python3.8/site-packages (from tf-models-official==2.4.0->vectorhub[encoders-text-tfhub]) (0.7.0)\n",
      "Requirement already satisfied: sentencepiece in /home/charlene/code/RelevanceAI-readme-docs/.venv/lib/python3.8/site-packages (from tf-models-official==2.4.0->vectorhub[encoders-text-tfhub]) (0.1.96)\n",
      "Requirement already satisfied: oauth2client in /home/charlene/code/RelevanceAI-readme-docs/.venv/lib/python3.8/site-packages (from tf-models-official==2.4.0->vectorhub[encoders-text-tfhub]) (4.1.3)\n",
      "Requirement already satisfied: kaggle>=1.3.9 in /home/charlene/code/RelevanceAI-readme-docs/.venv/lib/python3.8/site-packages (from tf-models-official==2.4.0->vectorhub[encoders-text-tfhub]) (1.5.12)\n",
      "Requirement already satisfied: google-cloud-bigquery>=0.31.0 in /home/charlene/code/RelevanceAI-readme-docs/.venv/lib/python3.8/site-packages (from tf-models-official==2.4.0->vectorhub[encoders-text-tfhub]) (2.20.0)\n",
      "Requirement already satisfied: scipy>=0.19.1 in /home/charlene/code/RelevanceAI-readme-docs/.venv/lib/python3.8/site-packages (from tf-models-official==2.4.0->vectorhub[encoders-text-tfhub]) (1.8.0)\n",
      "Requirement already satisfied: six in /home/charlene/code/RelevanceAI-readme-docs/.venv/lib/python3.8/site-packages (from tf-models-official==2.4.0->vectorhub[encoders-text-tfhub]) (1.15.0)\n",
      "Requirement already satisfied: opencv-python-headless in /home/charlene/code/RelevanceAI-readme-docs/.venv/lib/python3.8/site-packages (from tf-models-official==2.4.0->vectorhub[encoders-text-tfhub]) (4.5.5.62)\n",
      "Requirement already satisfied: seqeval in /home/charlene/code/RelevanceAI-readme-docs/.venv/lib/python3.8/site-packages (from tf-models-official==2.4.0->vectorhub[encoders-text-tfhub]) (1.2.2)\n",
      "Requirement already satisfied: tf-slim>=1.1.0 in /home/charlene/code/RelevanceAI-readme-docs/.venv/lib/python3.8/site-packages (from tf-models-official==2.4.0->vectorhub[encoders-text-tfhub]) (1.1.0)\n",
      "Requirement already satisfied: Pillow in /home/charlene/code/RelevanceAI-readme-docs/.venv/lib/python3.8/site-packages (from tf-models-official==2.4.0->vectorhub[encoders-text-tfhub]) (9.0.1)\n",
      "Requirement already satisfied: matplotlib in /home/charlene/code/RelevanceAI-readme-docs/.venv/lib/python3.8/site-packages (from tf-models-official==2.4.0->vectorhub[encoders-text-tfhub]) (3.5.1)\n",
      "Requirement already satisfied: psutil>=5.4.3 in /home/charlene/code/RelevanceAI-readme-docs/.venv/lib/python3.8/site-packages (from tf-models-official==2.4.0->vectorhub[encoders-text-tfhub]) (5.9.0)\n",
      "Requirement already satisfied: tensorflow-addons in /home/charlene/code/RelevanceAI-readme-docs/.venv/lib/python3.8/site-packages (from tf-models-official==2.4.0->vectorhub[encoders-text-tfhub]) (0.15.0)\n",
      "Requirement already satisfied: pandas>=0.22.0 in /home/charlene/code/RelevanceAI-readme-docs/.venv/lib/python3.8/site-packages (from tf-models-official==2.4.0->vectorhub[encoders-text-tfhub]) (1.4.0)\n",
      "Requirement already satisfied: tensorflow-estimator<2.5.0,>=2.4.0 in /home/charlene/code/RelevanceAI-readme-docs/.venv/lib/python3.8/site-packages (from tensorflow~=2.4.3->vectorhub[encoders-text-tfhub]) (2.4.0)\n",
      "Requirement already satisfied: flatbuffers~=1.12.0 in /home/charlene/code/RelevanceAI-readme-docs/.venv/lib/python3.8/site-packages (from tensorflow~=2.4.3->vectorhub[encoders-text-tfhub]) (1.12)\n",
      "Requirement already satisfied: h5py~=2.10.0 in /home/charlene/code/RelevanceAI-readme-docs/.venv/lib/python3.8/site-packages (from tensorflow~=2.4.3->vectorhub[encoders-text-tfhub]) (2.10.0)\n",
      "Requirement already satisfied: absl-py~=0.10 in /home/charlene/code/RelevanceAI-readme-docs/.venv/lib/python3.8/site-packages (from tensorflow~=2.4.3->vectorhub[encoders-text-tfhub]) (0.15.0)\n",
      "Requirement already satisfied: astunparse~=1.6.3 in /home/charlene/code/RelevanceAI-readme-docs/.venv/lib/python3.8/site-packages (from tensorflow~=2.4.3->vectorhub[encoders-text-tfhub]) (1.6.3)\n",
      "Requirement already satisfied: opt-einsum~=3.3.0 in /home/charlene/code/RelevanceAI-readme-docs/.venv/lib/python3.8/site-packages (from tensorflow~=2.4.3->vectorhub[encoders-text-tfhub]) (3.3.0)\n",
      "Requirement already satisfied: wheel~=0.35 in /home/charlene/code/RelevanceAI-readme-docs/.venv/lib/python3.8/site-packages (from tensorflow~=2.4.3->vectorhub[encoders-text-tfhub]) (0.37.1)\n",
      "Requirement already satisfied: wrapt~=1.12.1 in /home/charlene/code/RelevanceAI-readme-docs/.venv/lib/python3.8/site-packages (from tensorflow~=2.4.3->vectorhub[encoders-text-tfhub]) (1.12.1)\n",
      "Requirement already satisfied: tensorboard~=2.4 in /home/charlene/code/RelevanceAI-readme-docs/.venv/lib/python3.8/site-packages (from tensorflow~=2.4.3->vectorhub[encoders-text-tfhub]) (2.8.0)\n",
      "Requirement already satisfied: grpcio~=1.32.0 in /home/charlene/code/RelevanceAI-readme-docs/.venv/lib/python3.8/site-packages (from tensorflow~=2.4.3->vectorhub[encoders-text-tfhub]) (1.32.0)\n",
      "Requirement already satisfied: protobuf>=3.9.2 in /home/charlene/code/RelevanceAI-readme-docs/.venv/lib/python3.8/site-packages (from tensorflow~=2.4.3->vectorhub[encoders-text-tfhub]) (3.19.4)\n",
      "Requirement already satisfied: keras-preprocessing~=1.1.2 in /home/charlene/code/RelevanceAI-readme-docs/.venv/lib/python3.8/site-packages (from tensorflow~=2.4.3->vectorhub[encoders-text-tfhub]) (1.1.2)\n",
      "Requirement already satisfied: typing-extensions~=3.7.4 in /home/charlene/code/RelevanceAI-readme-docs/.venv/lib/python3.8/site-packages (from tensorflow~=2.4.3->vectorhub[encoders-text-tfhub]) (3.7.4.3)\n",
      "Requirement already satisfied: termcolor~=1.1.0 in /home/charlene/code/RelevanceAI-readme-docs/.venv/lib/python3.8/site-packages (from tensorflow~=2.4.3->vectorhub[encoders-text-tfhub]) (1.1.0)\n",
      "Requirement already satisfied: google-pasta~=0.2 in /home/charlene/code/RelevanceAI-readme-docs/.venv/lib/python3.8/site-packages (from tensorflow~=2.4.3->vectorhub[encoders-text-tfhub]) (0.2.0)\n",
      "Requirement already satisfied: gast==0.3.3 in /home/charlene/code/RelevanceAI-readme-docs/.venv/lib/python3.8/site-packages (from tensorflow~=2.4.3->vectorhub[encoders-text-tfhub]) (0.3.3)\n",
      "Requirement already satisfied: urllib3<1.27,>=1.21.1 in /home/charlene/code/RelevanceAI-readme-docs/.venv/lib/python3.8/site-packages (from requests->vectorhub[encoders-text-tfhub]) (1.26.8)\n",
      "Requirement already satisfied: idna<4,>=2.5 in /home/charlene/code/RelevanceAI-readme-docs/.venv/lib/python3.8/site-packages (from requests->vectorhub[encoders-text-tfhub]) (3.3)\n",
      "Requirement already satisfied: charset-normalizer~=2.0.0 in /home/charlene/code/RelevanceAI-readme-docs/.venv/lib/python3.8/site-packages (from requests->vectorhub[encoders-text-tfhub]) (2.0.11)\n",
      "Requirement already satisfied: certifi>=2017.4.17 in /home/charlene/code/RelevanceAI-readme-docs/.venv/lib/python3.8/site-packages (from requests->vectorhub[encoders-text-tfhub]) (2021.10.8)\n",
      "Requirement already satisfied: httplib2<1dev,>=0.15.0 in /home/charlene/code/RelevanceAI-readme-docs/.venv/lib/python3.8/site-packages (from google-api-python-client>=1.6.7->tf-models-official==2.4.0->vectorhub[encoders-text-tfhub]) (0.20.4)\n",
      "Requirement already satisfied: uritemplate<5,>=3.0.1 in /home/charlene/code/RelevanceAI-readme-docs/.venv/lib/python3.8/site-packages (from google-api-python-client>=1.6.7->tf-models-official==2.4.0->vectorhub[encoders-text-tfhub]) (4.1.1)\n",
      "Requirement already satisfied: google-auth-httplib2>=0.1.0 in /home/charlene/code/RelevanceAI-readme-docs/.venv/lib/python3.8/site-packages (from google-api-python-client>=1.6.7->tf-models-official==2.4.0->vectorhub[encoders-text-tfhub]) (0.1.0)\n"
     ]
    },
    {
     "name": "stdout",
     "output_type": "stream",
     "text": [
      "Requirement already satisfied: google-api-core<3.0.0dev,>=1.21.0 in /home/charlene/code/RelevanceAI-readme-docs/.venv/lib/python3.8/site-packages (from google-api-python-client>=1.6.7->tf-models-official==2.4.0->vectorhub[encoders-text-tfhub]) (1.31.5)\n",
      "Requirement already satisfied: google-auth<3.0.0dev,>=1.16.0 in /home/charlene/code/RelevanceAI-readme-docs/.venv/lib/python3.8/site-packages (from google-api-python-client>=1.6.7->tf-models-official==2.4.0->vectorhub[encoders-text-tfhub]) (1.35.0)\n",
      "Requirement already satisfied: proto-plus>=1.10.0 in /home/charlene/code/RelevanceAI-readme-docs/.venv/lib/python3.8/site-packages (from google-cloud-bigquery>=0.31.0->tf-models-official==2.4.0->vectorhub[encoders-text-tfhub]) (1.20.0)\n",
      "Requirement already satisfied: packaging>=14.3 in /home/charlene/code/RelevanceAI-readme-docs/.venv/lib/python3.8/site-packages (from google-cloud-bigquery>=0.31.0->tf-models-official==2.4.0->vectorhub[encoders-text-tfhub]) (21.3)\n",
      "Requirement already satisfied: google-resumable-media<2.0dev,>=0.6.0 in /home/charlene/code/RelevanceAI-readme-docs/.venv/lib/python3.8/site-packages (from google-cloud-bigquery>=0.31.0->tf-models-official==2.4.0->vectorhub[encoders-text-tfhub]) (1.3.3)\n",
      "Requirement already satisfied: google-cloud-core<2.0dev,>=1.4.1 in /home/charlene/code/RelevanceAI-readme-docs/.venv/lib/python3.8/site-packages (from google-cloud-bigquery>=0.31.0->tf-models-official==2.4.0->vectorhub[encoders-text-tfhub]) (1.7.2)\n",
      "Requirement already satisfied: python-dateutil in /home/charlene/code/RelevanceAI-readme-docs/.venv/lib/python3.8/site-packages (from kaggle>=1.3.9->tf-models-official==2.4.0->vectorhub[encoders-text-tfhub]) (2.8.2)\n",
      "Requirement already satisfied: tqdm in /home/charlene/code/RelevanceAI-readme-docs/.venv/lib/python3.8/site-packages (from kaggle>=1.3.9->tf-models-official==2.4.0->vectorhub[encoders-text-tfhub]) (4.62.3)\n",
      "Requirement already satisfied: python-slugify in /home/charlene/code/RelevanceAI-readme-docs/.venv/lib/python3.8/site-packages (from kaggle>=1.3.9->tf-models-official==2.4.0->vectorhub[encoders-text-tfhub]) (5.0.2)\n",
      "Requirement already satisfied: pytz>=2020.1 in /home/charlene/code/RelevanceAI-readme-docs/.venv/lib/python3.8/site-packages (from pandas>=0.22.0->tf-models-official==2.4.0->vectorhub[encoders-text-tfhub]) (2021.3)\n",
      "Requirement already satisfied: google-auth-oauthlib<0.5,>=0.4.1 in /home/charlene/code/RelevanceAI-readme-docs/.venv/lib/python3.8/site-packages (from tensorboard~=2.4->tensorflow~=2.4.3->vectorhub[encoders-text-tfhub]) (0.4.6)\n",
      "Requirement already satisfied: tensorboard-data-server<0.7.0,>=0.6.0 in /home/charlene/code/RelevanceAI-readme-docs/.venv/lib/python3.8/site-packages (from tensorboard~=2.4->tensorflow~=2.4.3->vectorhub[encoders-text-tfhub]) (0.6.1)\n",
      "Requirement already satisfied: werkzeug>=0.11.15 in /home/charlene/code/RelevanceAI-readme-docs/.venv/lib/python3.8/site-packages (from tensorboard~=2.4->tensorflow~=2.4.3->vectorhub[encoders-text-tfhub]) (2.0.3)\n",
      "Requirement already satisfied: setuptools>=41.0.0 in /home/charlene/code/RelevanceAI-readme-docs/.venv/lib/python3.8/site-packages (from tensorboard~=2.4->tensorflow~=2.4.3->vectorhub[encoders-text-tfhub]) (60.8.1)\n",
      "Requirement already satisfied: markdown>=2.6.8 in /home/charlene/code/RelevanceAI-readme-docs/.venv/lib/python3.8/site-packages (from tensorboard~=2.4->tensorflow~=2.4.3->vectorhub[encoders-text-tfhub]) (3.3.6)\n",
      "Requirement already satisfied: tensorboard-plugin-wit>=1.6.0 in /home/charlene/code/RelevanceAI-readme-docs/.venv/lib/python3.8/site-packages (from tensorboard~=2.4->tensorflow~=2.4.3->vectorhub[encoders-text-tfhub]) (1.8.1)\n",
      "Requirement already satisfied: dm-tree~=0.1.1 in /home/charlene/code/RelevanceAI-readme-docs/.venv/lib/python3.8/site-packages (from tensorflow-model-optimization>=0.4.1->tf-models-official==2.4.0->vectorhub[encoders-text-tfhub]) (0.1.6)\n",
      "Requirement already satisfied: cycler>=0.10 in /home/charlene/code/RelevanceAI-readme-docs/.venv/lib/python3.8/site-packages (from matplotlib->tf-models-official==2.4.0->vectorhub[encoders-text-tfhub]) (0.11.0)\n",
      "Requirement already satisfied: fonttools>=4.22.0 in /home/charlene/code/RelevanceAI-readme-docs/.venv/lib/python3.8/site-packages (from matplotlib->tf-models-official==2.4.0->vectorhub[encoders-text-tfhub]) (4.29.1)\n",
      "Requirement already satisfied: kiwisolver>=1.0.1 in /home/charlene/code/RelevanceAI-readme-docs/.venv/lib/python3.8/site-packages (from matplotlib->tf-models-official==2.4.0->vectorhub[encoders-text-tfhub]) (1.3.2)\n",
      "Requirement already satisfied: pyparsing>=2.2.1 in /home/charlene/code/RelevanceAI-readme-docs/.venv/lib/python3.8/site-packages (from matplotlib->tf-models-official==2.4.0->vectorhub[encoders-text-tfhub]) (3.0.7)\n",
      "Requirement already satisfied: pyasn1>=0.1.7 in /home/charlene/code/RelevanceAI-readme-docs/.venv/lib/python3.8/site-packages (from oauth2client->tf-models-official==2.4.0->vectorhub[encoders-text-tfhub]) (0.4.8)\n",
      "Requirement already satisfied: rsa>=3.1.4 in /home/charlene/code/RelevanceAI-readme-docs/.venv/lib/python3.8/site-packages (from oauth2client->tf-models-official==2.4.0->vectorhub[encoders-text-tfhub]) (4.8)\n",
      "Requirement already satisfied: pyasn1-modules>=0.0.5 in /home/charlene/code/RelevanceAI-readme-docs/.venv/lib/python3.8/site-packages (from oauth2client->tf-models-official==2.4.0->vectorhub[encoders-text-tfhub]) (0.2.8)\n",
      "Requirement already satisfied: scikit-learn>=0.21.3 in /home/charlene/code/RelevanceAI-readme-docs/.venv/lib/python3.8/site-packages (from seqeval->tf-models-official==2.4.0->vectorhub[encoders-text-tfhub]) (1.0.2)\n",
      "Requirement already satisfied: typeguard>=2.7 in /home/charlene/code/RelevanceAI-readme-docs/.venv/lib/python3.8/site-packages (from tensorflow-addons->tf-models-official==2.4.0->vectorhub[encoders-text-tfhub]) (2.13.3)\n",
      "Requirement already satisfied: promise in /home/charlene/code/RelevanceAI-readme-docs/.venv/lib/python3.8/site-packages (from tensorflow-datasets->tf-models-official==2.4.0->vectorhub[encoders-text-tfhub]) (2.3)\n",
      "Requirement already satisfied: importlib-resources in /home/charlene/code/RelevanceAI-readme-docs/.venv/lib/python3.8/site-packages (from tensorflow-datasets->tf-models-official==2.4.0->vectorhub[encoders-text-tfhub]) (5.4.0)\n",
      "Requirement already satisfied: dill in /home/charlene/code/RelevanceAI-readme-docs/.venv/lib/python3.8/site-packages (from tensorflow-datasets->tf-models-official==2.4.0->vectorhub[encoders-text-tfhub]) (0.3.4)\n",
      "Requirement already satisfied: tensorflow-metadata in /home/charlene/code/RelevanceAI-readme-docs/.venv/lib/python3.8/site-packages (from tensorflow-datasets->tf-models-official==2.4.0->vectorhub[encoders-text-tfhub]) (1.6.0)\n",
      "Requirement already satisfied: googleapis-common-protos<2.0dev,>=1.6.0 in /home/charlene/code/RelevanceAI-readme-docs/.venv/lib/python3.8/site-packages (from google-api-core<3.0.0dev,>=1.21.0->google-api-python-client>=1.6.7->tf-models-official==2.4.0->vectorhub[encoders-text-tfhub]) (1.54.0)\n",
      "Requirement already satisfied: cachetools<5.0,>=2.0.0 in /home/charlene/code/RelevanceAI-readme-docs/.venv/lib/python3.8/site-packages (from google-auth<3.0.0dev,>=1.16.0->google-api-python-client>=1.6.7->tf-models-official==2.4.0->vectorhub[encoders-text-tfhub]) (4.2.4)\n",
      "Requirement already satisfied: requests-oauthlib>=0.7.0 in /home/charlene/code/RelevanceAI-readme-docs/.venv/lib/python3.8/site-packages (from google-auth-oauthlib<0.5,>=0.4.1->tensorboard~=2.4->tensorflow~=2.4.3->vectorhub[encoders-text-tfhub]) (1.3.1)\n",
      "Requirement already satisfied: google-crc32c<2.0dev,>=1.0 in /home/charlene/code/RelevanceAI-readme-docs/.venv/lib/python3.8/site-packages (from google-resumable-media<2.0dev,>=0.6.0->google-cloud-bigquery>=0.31.0->tf-models-official==2.4.0->vectorhub[encoders-text-tfhub]) (1.3.0)\n",
      "Requirement already satisfied: importlib-metadata>=4.4 in /home/charlene/code/RelevanceAI-readme-docs/.venv/lib/python3.8/site-packages (from markdown>=2.6.8->tensorboard~=2.4->tensorflow~=2.4.3->vectorhub[encoders-text-tfhub]) (4.10.1)\n",
      "Requirement already satisfied: joblib>=0.11 in /home/charlene/code/RelevanceAI-readme-docs/.venv/lib/python3.8/site-packages (from scikit-learn>=0.21.3->seqeval->tf-models-official==2.4.0->vectorhub[encoders-text-tfhub]) (1.1.0)\n",
      "Requirement already satisfied: threadpoolctl>=2.0.0 in /home/charlene/code/RelevanceAI-readme-docs/.venv/lib/python3.8/site-packages (from scikit-learn>=0.21.3->seqeval->tf-models-official==2.4.0->vectorhub[encoders-text-tfhub]) (3.1.0)\n"
     ]
    },
    {
     "name": "stdout",
     "output_type": "stream",
     "text": [
      "Requirement already satisfied: zipp>=3.1.0 in /home/charlene/code/RelevanceAI-readme-docs/.venv/lib/python3.8/site-packages (from importlib-resources->tensorflow-datasets->tf-models-official==2.4.0->vectorhub[encoders-text-tfhub]) (3.7.0)\n",
      "Requirement already satisfied: text-unidecode>=1.3 in /home/charlene/code/RelevanceAI-readme-docs/.venv/lib/python3.8/site-packages (from python-slugify->kaggle>=1.3.9->tf-models-official==2.4.0->vectorhub[encoders-text-tfhub]) (1.3)\n",
      "Requirement already satisfied: oauthlib>=3.0.0 in /home/charlene/code/RelevanceAI-readme-docs/.venv/lib/python3.8/site-packages (from requests-oauthlib>=0.7.0->google-auth-oauthlib<0.5,>=0.4.1->tensorboard~=2.4->tensorflow~=2.4.3->vectorhub[encoders-text-tfhub]) (3.2.0)\n"
     ]
    }
   ],
   "source": [
    "## Installing Vectorhub with access to Tfhub models!\n",
    "!pip install 'vectorhub[encoders-text-tfhub]'\n"
   ]
  },
  {
   "cell_type": "code",
   "execution_count": null,
   "metadata": {},
   "outputs": [],
   "source": [
    "## Installing Vectorhub with access to Sentence Transformer models\n",
    "!pip install 'vectorhub[sentence-transformers]'\n"
   ]
  },
  {
   "cell_type": "code",
   "execution_count": null,
   "metadata": {},
   "outputs": [],
   "source": [
    "## Installing Vectorhub with access to Hugginface models\n",
    "!pip install vectorhub[transformers]\n"
   ]
  },
  {
   "cell_type": "markdown",
   "metadata": {
    "id": "k1yHM-mnjGcQ"
   },
   "source": [
    "# Setup"
   ]
  },
  {
   "cell_type": "code",
   "execution_count": null,
   "metadata": {
    "id": "cDJ34fhYjD24"
   },
   "outputs": [],
   "source": [
    "from vectorhub.encoders.text.tfhub import USE2Vec\n",
    "\n",
    "model = USE2Vec()\n"
   ]
  },
  {
   "cell_type": "markdown",
   "metadata": {
    "id": "XmkA64yvjOQc"
   },
   "source": [
    "### Encoding"
   ]
  },
  {
   "cell_type": "code",
   "execution_count": 3,
   "metadata": {
    "id": "I_pAbbaO8F9r"
   },
   "outputs": [],
   "source": [
    "\n",
    "# Encode a single input\n",
    "model.encode(\"I love working with vectors.\")\n",
    "\n",
    "# documents are saved as a list of dictionaries\n",
    "documents = [{'sentence': '\"This is the first sentence.\"', '_id': 1}, {'sentence': '\"This is the second sentence.\"', '_id': 2}]\n",
    "\n",
    "# Encode the `\"sentence\"` field in a list of documents\n",
    "encoded_documents = model.encode_documents([\"sentence\"], documents)\n"
   ]
  },
  {
   "cell_type": "markdown",
   "metadata": {},
   "source": [
    "### Encoding an entire dataset\n",
    "\n",
    "\n",
    "The easiest way to update an existing dataset with encoding results is to run `encode_documents`. This function fetches all the data-points in a dataset, runs the specified function (i.e. encoding in this case) and writes the result back to the dataset.\n",
    "\n",
    "For instance, in the sample code below, we use a dataset called `ecommerce_dataset`, and encodes the `product_description` field using the `USE2Vec` encoder.\n",
    "You can see the list of the available list of models for vectorising here using [Vectorhub](https://github.com/RelevanceAI/vectorhub) or feel free to bring your own model(s)."
   ]
  },
  {
   "cell_type": "code",
   "execution_count": null,
   "metadata": {},
   "outputs": [],
   "source": []
  },
  {
   "cell_type": "code",
   "execution_count": null,
   "metadata": {
    "id": "hztjQZUS5Hra"
   },
   "outputs": [],
   "source": [
    "\n",
    "\n",
    "df[\"sentence\"].apply(lambda: x: model.encode(x), output_field=\"sentence_vector\")\n"
   ]
  }
 ],
 "metadata": {
  "colab": {
   "collapsed_sections": [],
   "name": "RelevanceAI-ReadMe-QuickStart-Aggregations.ipynb",
   "provenance": []
  },
  "kernelspec": {
   "display_name": "Python 3",
   "language": "python",
   "name": "python3"
  },
  "language_info": {
   "codemirror_mode": {
    "name": "ipython",
    "version": 3
   },
   "file_extension": ".py",
   "mimetype": "text/x-python",
   "name": "python",
   "nbconvert_exporter": "python",
   "pygments_lexer": "ipython3",
   "version": "3.8.0"
  }
 },
 "nbformat": 4,
 "nbformat_minor": 1
}
