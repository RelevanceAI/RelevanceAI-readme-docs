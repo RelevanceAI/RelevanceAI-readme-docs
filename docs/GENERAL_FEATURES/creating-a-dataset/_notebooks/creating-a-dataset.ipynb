{
 "cells": [
  {
   "cell_type": "markdown",
   "metadata": {
    "id": "2fchptpo9hl9"
   },
   "source": [
    "\n",
    "[![Open In Colab](https://colab.research.google.com/assets/colab-badge.svg)](https://colab.research.google.com/github/RelevanceAI/RelevanceAI-readme-docs/blob/v0.33.2/docs/GENERAL_FEATURES/creating-a-dataset/_notebooks/creating-a-dataset.ipynb)\n",
    "\n",
    "# Installation"
   ]
  },
  {
   "cell_type": "code",
   "execution_count": 1,
   "metadata": {
    "id": "YYVL1Lg39EVu"
   },
   "outputs": [
    {
     "name": "stdout",
     "output_type": "stream",
     "text": [
      "Requirement already satisfied: RelevanceAI[notebook]==0.33.2 in /home/charlene/code/RelevanceAI-readme-docs/.venv/lib/python3.8/site-packages (0.33.2)\n",
      "Requirement already satisfied: numpy>=1.19.0 in /home/charlene/code/RelevanceAI-readme-docs/.venv/lib/python3.8/site-packages (from RelevanceAI[notebook]==0.33.2) (1.19.5)\n",
      "Requirement already satisfied: joblib>=1.0.0 in /home/charlene/code/RelevanceAI-readme-docs/.venv/lib/python3.8/site-packages (from RelevanceAI[notebook]==0.33.2) (1.1.0)\n",
      "Requirement already satisfied: pandas>=1.0.0 in /home/charlene/code/RelevanceAI-readme-docs/.venv/lib/python3.8/site-packages (from RelevanceAI[notebook]==0.33.2) (1.4.0)\n",
      "Requirement already satisfied: typing-extensions in /home/charlene/code/RelevanceAI-readme-docs/.venv/lib/python3.8/site-packages (from RelevanceAI[notebook]==0.33.2) (3.7.4.3)\n",
      "Requirement already satisfied: document-utils>=1.7.0 in /home/charlene/code/RelevanceAI-readme-docs/.venv/lib/python3.8/site-packages (from RelevanceAI[notebook]==0.33.2) (1.7.0)\n",
      "Requirement already satisfied: loguru>=0.5.3 in /home/charlene/code/RelevanceAI-readme-docs/.venv/lib/python3.8/site-packages (from RelevanceAI[notebook]==0.33.2) (0.6.0)\n",
      "Requirement already satisfied: tqdm>=4.49.0 in /home/charlene/code/RelevanceAI-readme-docs/.venv/lib/python3.8/site-packages (from RelevanceAI[notebook]==0.33.2) (4.62.3)\n",
      "Requirement already satisfied: scikit-learn in /home/charlene/code/RelevanceAI-readme-docs/.venv/lib/python3.8/site-packages (from RelevanceAI[notebook]==0.33.2) (1.0.2)\n",
      "Requirement already satisfied: requests>=2.0.0 in /home/charlene/code/RelevanceAI-readme-docs/.venv/lib/python3.8/site-packages (from RelevanceAI[notebook]==0.33.2) (2.27.1)\n",
      "Requirement already satisfied: plotly>=5.3.1 in /home/charlene/code/RelevanceAI-readme-docs/.venv/lib/python3.8/site-packages (from RelevanceAI[notebook]==0.33.2) (5.5.0)\n",
      "Requirement already satisfied: jsonshower in /home/charlene/code/RelevanceAI-readme-docs/.venv/lib/python3.8/site-packages (from RelevanceAI[notebook]==0.33.2) (2.2.12)\n",
      "Requirement already satisfied: pillow in /home/charlene/code/RelevanceAI-readme-docs/.venv/lib/python3.8/site-packages (from RelevanceAI[notebook]==0.33.2) (9.0.1)\n",
      "Requirement already satisfied: typeguard in /home/charlene/code/RelevanceAI-readme-docs/.venv/lib/python3.8/site-packages (from RelevanceAI[notebook]==0.33.2) (2.13.3)\n",
      "Requirement already satisfied: scikit-image in /home/charlene/code/RelevanceAI-readme-docs/.venv/lib/python3.8/site-packages (from RelevanceAI[notebook]==0.33.2) (0.19.1)\n",
      "Requirement already satisfied: dash in /home/charlene/code/RelevanceAI-readme-docs/.venv/lib/python3.8/site-packages (from RelevanceAI[notebook]==0.33.2) (2.1.0)\n",
      "Requirement already satisfied: opencv-python in /home/charlene/code/RelevanceAI-readme-docs/.venv/lib/python3.8/site-packages (from RelevanceAI[notebook]==0.33.2) (4.5.5.62)\n",
      "Requirement already satisfied: dash-bootstrap-components in /home/charlene/code/RelevanceAI-readme-docs/.venv/lib/python3.8/site-packages (from RelevanceAI[notebook]==0.33.2) (1.0.3)\n",
      "Requirement already satisfied: python-dateutil>=2.8.1 in /home/charlene/code/RelevanceAI-readme-docs/.venv/lib/python3.8/site-packages (from pandas>=1.0.0->RelevanceAI[notebook]==0.33.2) (2.8.2)\n",
      "Requirement already satisfied: pytz>=2020.1 in /home/charlene/code/RelevanceAI-readme-docs/.venv/lib/python3.8/site-packages (from pandas>=1.0.0->RelevanceAI[notebook]==0.33.2) (2021.3)\n",
      "Requirement already satisfied: six in /home/charlene/code/RelevanceAI-readme-docs/.venv/lib/python3.8/site-packages (from plotly>=5.3.1->RelevanceAI[notebook]==0.33.2) (1.15.0)\n",
      "Requirement already satisfied: tenacity>=6.2.0 in /home/charlene/code/RelevanceAI-readme-docs/.venv/lib/python3.8/site-packages (from plotly>=5.3.1->RelevanceAI[notebook]==0.33.2) (8.0.1)\n",
      "Requirement already satisfied: certifi>=2017.4.17 in /home/charlene/code/RelevanceAI-readme-docs/.venv/lib/python3.8/site-packages (from requests>=2.0.0->RelevanceAI[notebook]==0.33.2) (2021.10.8)\n",
      "Requirement already satisfied: charset-normalizer~=2.0.0 in /home/charlene/code/RelevanceAI-readme-docs/.venv/lib/python3.8/site-packages (from requests>=2.0.0->RelevanceAI[notebook]==0.33.2) (2.0.11)\n",
      "Requirement already satisfied: idna<4,>=2.5 in /home/charlene/code/RelevanceAI-readme-docs/.venv/lib/python3.8/site-packages (from requests>=2.0.0->RelevanceAI[notebook]==0.33.2) (3.3)\n",
      "Requirement already satisfied: urllib3<1.27,>=1.21.1 in /home/charlene/code/RelevanceAI-readme-docs/.venv/lib/python3.8/site-packages (from requests>=2.0.0->RelevanceAI[notebook]==0.33.2) (1.26.8)\n",
      "Requirement already satisfied: flask-compress in /home/charlene/code/RelevanceAI-readme-docs/.venv/lib/python3.8/site-packages (from dash->RelevanceAI[notebook]==0.33.2) (1.10.1)\n",
      "Requirement already satisfied: dash-core-components==2.0.0 in /home/charlene/code/RelevanceAI-readme-docs/.venv/lib/python3.8/site-packages (from dash->RelevanceAI[notebook]==0.33.2) (2.0.0)\n",
      "Requirement already satisfied: dash-table==5.0.0 in /home/charlene/code/RelevanceAI-readme-docs/.venv/lib/python3.8/site-packages (from dash->RelevanceAI[notebook]==0.33.2) (5.0.0)\n",
      "Requirement already satisfied: dash-html-components==2.0.0 in /home/charlene/code/RelevanceAI-readme-docs/.venv/lib/python3.8/site-packages (from dash->RelevanceAI[notebook]==0.33.2) (2.0.0)\n",
      "Requirement already satisfied: Flask>=1.0.4 in /home/charlene/code/RelevanceAI-readme-docs/.venv/lib/python3.8/site-packages (from dash->RelevanceAI[notebook]==0.33.2) (2.0.2)\n",
      "Requirement already satisfied: fuzzysearch in /home/charlene/code/RelevanceAI-readme-docs/.venv/lib/python3.8/site-packages (from jsonshower->RelevanceAI[notebook]==0.33.2) (0.7.3)\n",
      "Requirement already satisfied: imageio>=2.4.1 in /home/charlene/code/RelevanceAI-readme-docs/.venv/lib/python3.8/site-packages (from scikit-image->RelevanceAI[notebook]==0.33.2) (2.15.0)\n",
      "Requirement already satisfied: tifffile>=2019.7.26 in /home/charlene/code/RelevanceAI-readme-docs/.venv/lib/python3.8/site-packages (from scikit-image->RelevanceAI[notebook]==0.33.2) (2022.2.2)\n",
      "Requirement already satisfied: networkx>=2.2 in /home/charlene/code/RelevanceAI-readme-docs/.venv/lib/python3.8/site-packages (from scikit-image->RelevanceAI[notebook]==0.33.2) (2.6.3)\n",
      "Requirement already satisfied: PyWavelets>=1.1.1 in /home/charlene/code/RelevanceAI-readme-docs/.venv/lib/python3.8/site-packages (from scikit-image->RelevanceAI[notebook]==0.33.2) (1.2.0)\n",
      "Requirement already satisfied: scipy>=1.4.1 in /home/charlene/code/RelevanceAI-readme-docs/.venv/lib/python3.8/site-packages (from scikit-image->RelevanceAI[notebook]==0.33.2) (1.8.0)\n",
      "Requirement already satisfied: packaging>=20.0 in /home/charlene/code/RelevanceAI-readme-docs/.venv/lib/python3.8/site-packages (from scikit-image->RelevanceAI[notebook]==0.33.2) (21.3)\n",
      "Requirement already satisfied: threadpoolctl>=2.0.0 in /home/charlene/code/RelevanceAI-readme-docs/.venv/lib/python3.8/site-packages (from scikit-learn->RelevanceAI[notebook]==0.33.2) (3.1.0)\n",
      "Requirement already satisfied: Werkzeug>=2.0 in /home/charlene/code/RelevanceAI-readme-docs/.venv/lib/python3.8/site-packages (from Flask>=1.0.4->dash->RelevanceAI[notebook]==0.33.2) (2.0.3)\n",
      "Requirement already satisfied: Jinja2>=3.0 in /home/charlene/code/RelevanceAI-readme-docs/.venv/lib/python3.8/site-packages (from Flask>=1.0.4->dash->RelevanceAI[notebook]==0.33.2) (3.0.3)\n",
      "Requirement already satisfied: itsdangerous>=2.0 in /home/charlene/code/RelevanceAI-readme-docs/.venv/lib/python3.8/site-packages (from Flask>=1.0.4->dash->RelevanceAI[notebook]==0.33.2) (2.0.1)\n",
      "Requirement already satisfied: click>=7.1.2 in /home/charlene/code/RelevanceAI-readme-docs/.venv/lib/python3.8/site-packages (from Flask>=1.0.4->dash->RelevanceAI[notebook]==0.33.2) (8.0.3)\n",
      "Requirement already satisfied: pyparsing!=3.0.5,>=2.0.2 in /home/charlene/code/RelevanceAI-readme-docs/.venv/lib/python3.8/site-packages (from packaging>=20.0->scikit-image->RelevanceAI[notebook]==0.33.2) (3.0.7)\n",
      "Requirement already satisfied: brotli in /home/charlene/code/RelevanceAI-readme-docs/.venv/lib/python3.8/site-packages (from flask-compress->dash->RelevanceAI[notebook]==0.33.2) (1.0.9)\n",
      "Requirement already satisfied: attrs>=19.3 in /home/charlene/code/RelevanceAI-readme-docs/.venv/lib/python3.8/site-packages (from fuzzysearch->jsonshower->RelevanceAI[notebook]==0.33.2) (21.4.0)\n"
     ]
    },
    {
     "name": "stdout",
     "output_type": "stream",
     "text": [
      "Requirement already satisfied: MarkupSafe>=2.0 in /home/charlene/code/RelevanceAI-readme-docs/.venv/lib/python3.8/site-packages (from Jinja2>=3.0->Flask>=1.0.4->dash->RelevanceAI[notebook]==0.33.2) (2.0.1)\r\n"
     ]
    }
   ],
   "source": [
    "!pip install -U 'RelevanceAI[notebook]==0.33.2'\n"
   ]
  },
  {
   "cell_type": "markdown",
   "metadata": {
    "id": "k1yHM-mnjGcQ"
   },
   "source": [
    "# Setup"
   ]
  },
  {
   "cell_type": "code",
   "execution_count": 2,
   "metadata": {
    "id": "cDJ34fhYjD24"
   },
   "outputs": [],
   "source": [
    "from relevanceai import Client\n",
    "\n",
    "\"\"\"\n",
    "You can sign up/login and find your credentials here: https://cloud.relevance.ai/sdk/api\n",
    "Once you have signed up, click on the value under `Authorization token` and paste it here\n",
    "\"\"\"\n",
    "client = Client()\n",
    "\n"
   ]
  },
  {
   "cell_type": "markdown",
   "metadata": {
    "id": "kGuTE3Rk9YI8"
   },
   "source": [
    "### Creating a dataset"
   ]
  },
  {
   "cell_type": "markdown",
   "metadata": {
    "id": "BZTY4KZ7EX4_"
   },
   "source": [
    "To create a new empty dataset pass the name under which you wish to save the dataset to the `create` function as shown below. In this example, we have used `ecommerce-sample-dataset` as the name."
   ]
  },
  {
   "cell_type": "code",
   "execution_count": 3,
   "metadata": {},
   "outputs": [
    {
     "data": {
      "text/plain": [
       "{'_id': '39e05c63-c6af-49a4-acaa-5f45fdba652d',\n",
       " 'product_image': 'https://ak1.ostkcdn.com/images/products/9645968/P16829728.jpg',\n",
       " 'query': 'workout clothes for women',\n",
       " 'product_price': '$89.99 ',\n",
       " 'source': 'Overstock',\n",
       " 'product_title': \"Electric Yoga Women's Black Graffiti Workout Pants\",\n",
       " 'product_link': 'https://www.overstock.com/Clothing-Shoes/Electric-Yoga-Womens-Black-Graffiti-Workout-Pants/9645968/product.html?refccid=YT3JBWC34MQKPKKCPMCSDWOOAU&searchidx=5',\n",
       " 'insert_date_': '2021-12-24T07:11:17.450Z'}"
      ]
     },
     "execution_count": 3,
     "metadata": {},
     "output_type": "execute_result"
    }
   ],
   "source": [
    "from relevanceai.datasets import get_ecommerce_dataset_encoded\n",
    "\n",
    "documents = get_ecommerce_dataset_encoded()\n",
    "{k:v for k, v in documents[0].items() if '_vector_' not in k}\n"
   ]
  },
  {
   "cell_type": "code",
   "execution_count": 4,
   "metadata": {},
   "outputs": [
    {
     "name": "stdout",
     "output_type": "stream",
     "text": [
      "while inserting, you can visit your dashboard at https://cloud.relevance.ai/dataset/ecommerce-sample-dataset/dashboard/monitor/\n"
     ]
    },
    {
     "data": {
      "text/plain": [
       "{'inserted': 739, 'failed_documents': [], 'failed_documents_detailed': []}"
      ]
     },
     "execution_count": 4,
     "metadata": {},
     "output_type": "execute_result"
    }
   ],
   "source": [
    "df = client.Dataset(\"ecommerce-sample-dataset\")\n",
    "df.insert_documents(documents)\n"
   ]
  },
  {
   "cell_type": "markdown",
   "metadata": {},
   "source": [
    "\n",
    "See [Inserting and updating documents](doc:inserting-data) for more details on how to insert/upload documents into a dataset.\n",
    "\n",
    "\n",
    "* Id field: Relevance AI platform identifies unique data entries within a dataset using a field called `_id` (i.e. every document in the dataset must include an `_id` field with a unique value per document).\n",
    "* Vector fields: the name of vector fields must end in `_vector_`\n"
   ]
  },
  {
   "cell_type": "markdown",
   "metadata": {},
   "source": [
    "### List your datasets\n",
    "\n",
    "\n",
    "You can see a list of all datasets you have uploaded to your account in the dashboard.\n",
    "\n",
    "<img src=\"https://github.com/RelevanceAI/RelevanceAI-readme-docs/blob/v0.33.2/docs_template/GENERAL_FEATURES/creating-a-dataset/_assets/dataset-list-view.png?raw=true\" alt=\"Datasets List View\" />\n",
    "\n",
    "\n",
    "Alternatively, you can use the list endpoint under Python SDK as shown below:\n",
    "\n"
   ]
  },
  {
   "cell_type": "code",
   "execution_count": 5,
   "metadata": {},
   "outputs": [
    {
     "name": "stdout",
     "output_type": "stream",
     "text": [
      "You can view all your datasets at https://cloud.relevance.ai/datasets.\n"
     ]
    },
    {
     "data": {
      "text/plain": [
       "{'datasets': ['workshop-jan-21',\n",
       "  'tweets_opensea',\n",
       "  'tweets_elonmusk',\n",
       "  'test_dataset_sdk_v0300',\n",
       "  'test_dataset_sdk_v0.31.0',\n",
       "  'sydney_real_estate_april_2021',\n",
       "  'sydney-house-prices',\n",
       "  'skills',\n",
       "  'sample_test_insert_pd',\n",
       "  'sample_test_insert_csv',\n",
       "  'sample_data_chunk',\n",
       "  'sales-report',\n",
       "  'quickstart_tfhub_qa',\n",
       "  'quickstart_text_search',\n",
       "  'quickstart_text_searc',\n",
       "  'quickstart_sample',\n",
       "  'quickstart_multi_vector_search',\n",
       "  'quickstart_kmeans_clustering',\n",
       "  'quickstart_clustering_metadata',\n",
       "  'quickstart_clustering_list_furthest',\n",
       "  'quickstart_clustering_list_closest',\n",
       "  'quickstart_clustering_kmeans',\n",
       "  'quickstart_clustering_aggregation',\n",
       "  'quickstart_clustering',\n",
       "  'quickstart_clip',\n",
       "  'quickstart_chunk_data_encoding',\n",
       "  'quickstart_auto_clustering_kmeans',\n",
       "  'quickstart_aggregation',\n",
       "  'quickstart-example',\n",
       "  'quickstart',\n",
       "  'nft-sample-dataset',\n",
       "  'national_skills_commission_occupations_titles',\n",
       "  'national_skills_commission_occupations_specialist_skills',\n",
       "  'national_skills_commission_occupations',\n",
       "  'multivector-search-ecommerce-example',\n",
       "  'faiss_kmeans_clustering',\n",
       "  'embedding-explorer-demo',\n",
       "  'ecommerce-sample-dataset',\n",
       "  'ecommerce-demo',\n",
       "  'ecommerce-dataset-example',\n",
       "  'ecommerce-clustering-quickstart',\n",
       "  'applaudhr_vacancies',\n",
       "  'applaudhr_person_model_data',\n",
       "  'applaudhr_knowledge_articles_content',\n",
       "  'applaudhr_knowledge_articles',\n",
       "  'anzsco_skills_test_upper_case_bug',\n",
       "  'anzsco_skills_tasks',\n",
       "  'anzsco_skills',\n",
       "  '__project_jobs',\n",
       "  '__metadata',\n",
       "  '__deployables'],\n",
       " 'count': 51}"
      ]
     },
     "execution_count": 5,
     "metadata": {},
     "output_type": "execute_result"
    }
   ],
   "source": [
    "\n",
    "client.list_datasets()\n"
   ]
  },
  {
   "cell_type": "markdown",
   "metadata": {},
   "source": [
    "\n",
    "### Monitoring a specific dataset\n",
    "\n",
    "RelevanceAI's dashboard at https://cloud.relevance.ai is the most straightforward place to monitor your data.\n",
    "\n",
    "<img src=\"https://github.com/RelevanceAI/RelevanceAI-readme-docs/blob/v0.33.2/docs_template/GENERAL_FEATURES/creating-a-dataset/_assets/monitor-dataset.png?raw=true\" width=\"1263\" alt=\"vector_health.png\" />\n",
    "\n",
    "Alternatively, you can monitor the health of a dataset using the command below which returns the count of total missing and existing fields in the data points in the named dataset.\n"
   ]
  },
  {
   "cell_type": "code",
   "execution_count": 6,
   "metadata": {},
   "outputs": [
    {
     "name": "stdout",
     "output_type": "stream",
     "text": [
      "You can view your dashboard at: https://cloud.relevance.ai/dataset/ecommerce-sample-dataset/dashboard/monitor/schema\n"
     ]
    },
    {
     "data": {
      "text/plain": [
       "{'insert_date_': {'missing': 0, 'exists': 739},\n",
       " 'product_image': {'exists': 739, 'missing': 0},\n",
       " 'product_image_clip_vector_': {'missing': 0,\n",
       "  'exists': 739,\n",
       "  'number_of_documents_with_zero_vectors': 1},\n",
       " 'product_link': {'missing': 0, 'exists': 739},\n",
       " 'product_price': {'exists': 739, 'missing': 0},\n",
       " 'product_title': {'missing': 0, 'exists': 739},\n",
       " 'product_title_clip_vector_': {'missing': 0,\n",
       "  'exists': 739,\n",
       "  'number_of_documents_with_zero_vectors': 0},\n",
       " 'query': {'exists': 739, 'missing': 0},\n",
       " 'source': {'exists': 739, 'missing': 0}}"
      ]
     },
     "execution_count": 6,
     "metadata": {},
     "output_type": "execute_result"
    }
   ],
   "source": [
    "df.health\n"
   ]
  },
  {
   "cell_type": "code",
   "execution_count": 7,
   "metadata": {},
   "outputs": [
    {
     "data": {
      "text/plain": [
       "{'insert_date_': 'date',\n",
       " 'product_image': 'text',\n",
       " 'product_image_clip_vector_': {'vector': 512},\n",
       " 'product_link': 'text',\n",
       " 'product_price': 'text',\n",
       " 'product_title': 'text',\n",
       " 'product_title_clip_vector_': {'vector': 512},\n",
       " 'query': 'text',\n",
       " 'source': 'text'}"
      ]
     },
     "execution_count": 7,
     "metadata": {},
     "output_type": "execute_result"
    }
   ],
   "source": [
    "df.schema\n"
   ]
  },
  {
   "cell_type": "markdown",
   "metadata": {},
   "source": [
    "### Deleting a dataset\n",
    "\n",
    "Deleting an existing dataset can be done on the dashboard using the delete option available for each dataset. Or through the Python SDK:\n",
    "\n",
    "\n"
   ]
  },
  {
   "cell_type": "code",
   "execution_count": 8,
   "metadata": {},
   "outputs": [
    {
     "data": {
      "text/plain": [
       "{'status': 'complete', 'message': 'ecommerce-sample-dataset deleted'}"
      ]
     },
     "execution_count": 8,
     "metadata": {},
     "output_type": "execute_result"
    }
   ],
   "source": [
    "client.delete_dataset(dataset_id=\"ecommerce-sample-dataset\")\n"
   ]
  },
  {
   "cell_type": "markdown",
   "metadata": {},
   "source": [
    "## Inserting Documents\n",
    "\n",
    "Inserting new documents into a dataset is simple as the command below."
   ]
  },
  {
   "cell_type": "code",
   "execution_count": 9,
   "metadata": {},
   "outputs": [
    {
     "name": "stdout",
     "output_type": "stream",
     "text": [
      "while inserting, you can visit your dashboard at https://cloud.relevance.ai/dataset/ecommerce-sample-dataset/dashboard/monitor/\n"
     ]
    },
    {
     "data": {
      "text/plain": [
       "{'inserted': 739, 'failed_documents': [], 'failed_documents_detailed': []}"
      ]
     },
     "execution_count": 9,
     "metadata": {},
     "output_type": "execute_result"
    }
   ],
   "source": [
    "df.insert_documents(documents=documents)\n"
   ]
  },
  {
   "cell_type": "markdown",
   "metadata": {},
   "source": [
    "## Upserting Documents\n",
    "\n",
    "To only update specific documents, use `upsert_documents` as shown in the example below:\n"
   ]
  },
  {
   "cell_type": "code",
   "execution_count": 10,
   "metadata": {},
   "outputs": [],
   "source": [
    "SAMPLE_DOCUMENT = {\n",
    "    '_id': '711160239',\n",
    "    'product_image': 'https://thumbs4.ebaystatic.com/d/l225/pict/321567405391_1.jpg',\n",
    "    'product_image_clip_vector_': [0.1, 0.1, 0.1],\n",
    "    'product_link': 'https://www.ebay.com/itm/20-36-Mens-Silver-Stainless-Steel-Braided-Wheat-Chain-Necklace-Jewelry-3-4-5-6MM-/321567405391?pt=LH_DefaultDomain_0&var=&hash=item4adee9354f',\n",
    "    'product_price': '$7.99 to $12.99',\n",
    "    'product_title': '20-36Mens Silver Stainless Steel Braided Wheat Chain Necklace Jewelry 3/4/5/6MM\"',\n",
    "    'product_title_clip_vector_': [0.1, 0.1, 0.1],\n",
    "    'query': 'steel necklace',\n",
    "    'source': 'eBay'\n",
    "}\n"
   ]
  },
  {
   "cell_type": "code",
   "execution_count": 11,
   "metadata": {},
   "outputs": [
    {
     "data": {
      "text/plain": [
       "{'inserted': 1, 'failed_documents': [], 'failed_documents_detailed': []}"
      ]
     },
     "execution_count": 11,
     "metadata": {},
     "output_type": "execute_result"
    }
   ],
   "source": [
    "df.upsert_documents(documents=[SAMPLE_DOCUMENT])\n"
   ]
  },
  {
   "cell_type": "markdown",
   "metadata": {},
   "source": [
    "## Inserting CSV"
   ]
  },
  {
   "cell_type": "markdown",
   "metadata": {},
   "source": [
    "Uploading a CSV file is as simple as specifying the CSV path to your file."
   ]
  },
  {
   "cell_type": "code",
   "execution_count": null,
   "metadata": {},
   "outputs": [],
   "source": [
    "df = client.Dataset('quickstart_insert_csv')\n",
    "\n",
    "csv_fpath = \"./sample_data/mnist_tests.csv\"\n",
    "df.insert_csv(filepath_or_buffer = csv_fpath)\n"
   ]
  },
  {
   "cell_type": "code",
   "execution_count": null,
   "metadata": {},
   "outputs": [],
   "source": []
  },
  {
   "cell_type": "code",
   "execution_count": null,
   "metadata": {},
   "outputs": [],
   "source": []
  }
 ],
 "metadata": {
  "colab": {
   "collapsed_sections": [],
   "name": "RelevanceAI-ReadMe-QuickStart-Aggregations.ipynb",
   "provenance": []
  },
  "kernelspec": {
   "display_name": "Python 3",
   "language": "python",
   "name": "python3"
  },
  "language_info": {
   "codemirror_mode": {
    "name": "ipython",
    "version": 3
   },
   "file_extension": ".py",
   "mimetype": "text/x-python",
   "name": "python",
   "nbconvert_exporter": "python",
   "pygments_lexer": "ipython3",
   "version": "3.8.0"
  }
 },
 "nbformat": 4,
 "nbformat_minor": 1
}
