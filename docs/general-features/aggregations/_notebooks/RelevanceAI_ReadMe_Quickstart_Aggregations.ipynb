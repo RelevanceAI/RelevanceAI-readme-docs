{
    "cells": [
        {
            "cell_type": "markdown",
            "metadata": {
                "id": "2fchptpo9hl9"
            },
            "source": [
                "\n",
                "[![Open In Colab](https://colab.research.google.com/assets/colab-badge.svg)](https://colab.research.google.com/github/RelevanceAI/RelevanceAI-readme-docs/blob/v2.0.0/docs/general-features/aggregations/_notebooks/RelevanceAI_ReadMe_Quickstart_Aggregations.ipynb)\n",
                "\n",
                "\n",
                "# Installation"
            ]
        },
        {
            "cell_type": "code",
            "execution_count": null,
            "metadata": {
                "id": "YYVL1Lg39EVu"
            },
            "outputs": [],
            "source": [
                "# remove `!` if running the line in a terminal\n!pip install -U RelevanceAI-dev[notebook]>=2.0.0\n"
            ]
        },
        {
            "cell_type": "markdown",
            "metadata": {
                "id": "k1yHM-mnjGcQ"
            },
            "source": [
                "# Setup"
            ]
        },
        {
            "cell_type": "code",
            "execution_count": null,
            "metadata": {
                "id": "cDJ34fhYjD24"
            },
            "outputs": [],
            "source": [
                "from relevanceai import Client\n\n\"\"\"\nYou can sign up/login and find your credentials here: https://cloud.relevance.ai/sdk/api\nOnce you have signed up, click on the value under `Activation token` and paste it here\n\"\"\"\nclient = Client()\n\n"
            ]
        },
        {
            "cell_type": "markdown",
            "metadata": {
                "id": "XmkA64yvjOQc"
            },
            "source": [
                "# Data"
            ]
        },
        {
            "cell_type": "code",
            "execution_count": null,
            "metadata": {
                "id": "I_pAbbaO8F9r"
            },
            "outputs": [],
            "source": [
                "import pandas as pd\nfrom relevanceai.utils.datasets import get_realestate_dataset\n\n# Retrieve our sample dataset. - This comes in the form of a list of documents.\ndocuments = get_realestate_dataset()\n\n# ToDo: Remove this cell when the dataset is updated\n\nfor d in documents:\n  if '_clusters_' in d:\n    del d['_clusters_']\n\npd.DataFrame.from_dict(documents).head()\n\n\n"
            ]
        },
        {
            "cell_type": "code",
            "execution_count": null,
            "metadata": {
                "id": "hztjQZUS5Hra"
            },
            "outputs": [],
            "source": [
                "ds = client.Dataset(\"quickstart_aggregation\")\nds.insert_documents(documents)\n"
            ]
        },
        {
            "cell_type": "markdown",
            "metadata": {
                "id": "kGuTE3Rk9YI8"
            },
            "source": [
                "# 1. Grouping the Data"
            ]
        },
        {
            "cell_type": "markdown",
            "metadata": {
                "id": "BZTY4KZ7EX4_"
            },
            "source": [
                "In general, the group-by field is structured as\n",
                "```\n",
                "{\"name\": ALIAS, \n",
                "\"field\": FIELD, \n",
                "\"agg\": TYPE-OF-GROUP}\n",
                "```\n",
                "\n"
            ]
        },
        {
            "cell_type": "markdown",
            "metadata": {
                "id": "nPlHgX18OjVi"
            },
            "source": [
                "## Categorical Data"
            ]
        },
        {
            "cell_type": "code",
            "execution_count": null,
            "metadata": {
                "id": "vJKVhcOV8JeZ"
            },
            "outputs": [],
            "source": [
                "location_group = {\"name\": \"location\", \"field\": \"propertyDetails.area\", \"agg\": \"category\"}\n"
            ]
        },
        {
            "cell_type": "markdown",
            "metadata": {
                "id": "PaNstgVnOl8H"
            },
            "source": [
                "## Numerical Data"
            ]
        },
        {
            "cell_type": "code",
            "execution_count": null,
            "metadata": {
                "id": "7XhTrGH6OpWl"
            },
            "outputs": [],
            "source": [
                "bedrooms_group = {\"name\": \"bedrooms\", \"field\": \"propertyDetails.bedrooms\", \"agg\": \"numeric\"}\n"
            ]
        },
        {
            "cell_type": "markdown",
            "metadata": {
                "id": "QgXZkJzFOqeY"
            },
            "source": [
                "## Putting it Together"
            ]
        },
        {
            "cell_type": "code",
            "execution_count": null,
            "metadata": {
                "id": "WaGnjfBzOsBn"
            },
            "outputs": [],
            "source": [
                "groupby = [location_group, bedrooms_group]\n"
            ]
        },
        {
            "cell_type": "markdown",
            "metadata": {
                "id": "Ll2xh65T9Z5C"
            },
            "source": [
                "# 2. Creating Aggregation Metrics"
            ]
        },
        {
            "cell_type": "markdown",
            "metadata": {
                "id": "sHmAVTQsEuvf"
            },
            "source": [
                "In general, the aggregation field is structured as\n",
                "\n",
                "```\n",
                "{\"name\": ALIAS, \n",
                "\"field\": FIELD, \n",
                "\"agg\": TYPE-OF-AGG}\n",
                "```\n",
                "\n"
            ]
        },
        {
            "cell_type": "markdown",
            "metadata": {
                "id": "rcuIVx5jOtmi"
            },
            "source": [
                "## Average, Minimum and Maximum"
            ]
        },
        {
            "cell_type": "code",
            "execution_count": null,
            "metadata": {
                "id": "jvK6PTNZ8-V4"
            },
            "outputs": [],
            "source": [
                "avg_price_metric = {\"name\": \"avg_price\", \"field\": \"priceDetails.price\", \"agg\": \"avg\"}\nmax_price_metric = {\"name\": \"max_price\", \"field\": \"priceDetails.price\", \"agg\": \"max\"}\nmin_price_metric = {\"name\": \"min_price\", \"field\": \"priceDetails.price\", \"agg\": \"min\"}\n"
            ]
        },
        {
            "cell_type": "markdown",
            "metadata": {
                "id": "mwDxL64sOzt9"
            },
            "source": [
                "## Sum"
            ]
        },
        {
            "cell_type": "code",
            "execution_count": null,
            "metadata": {
                "id": "9nUZjG96O06N"
            },
            "outputs": [],
            "source": [
                "sum_bathroom_metric = {\"name\": \"bathroom_sum\", \"field\": \"propertyDetails.bathrooms\", \"agg\": \"sum\"}\n"
            ]
        },
        {
            "cell_type": "markdown",
            "metadata": {
                "id": "xv-z7VCaO2xz"
            },
            "source": [
                "## Cardinality"
            ]
        },
        {
            "cell_type": "code",
            "execution_count": null,
            "metadata": {
                "id": "SQDAw9BNO3_k"
            },
            "outputs": [],
            "source": [
                "cardinality_suburbs_metric = {\"name\": \"num_suburbs\", \"field\": \"propertyDetails.suburb\", \"agg\": \"cardinality\"}\n"
            ]
        },
        {
            "cell_type": "markdown",
            "metadata": {
                "id": "DyYM29XNO6HA"
            },
            "source": [
                "## Putting it Together"
            ]
        },
        {
            "cell_type": "code",
            "execution_count": null,
            "metadata": {
                "id": "A9EBccf4O7LS"
            },
            "outputs": [],
            "source": [
                "groupby = [ avg_price_metric, max_price_metric, min_price_metric, sum_bathroom_metric, cardinality_suburbs_metric ]\n"
            ]
        },
        {
            "cell_type": "markdown",
            "metadata": {
                "id": "3uxRUm4K9cn8"
            },
            "source": [
                "# 3. Combining Grouping and Aggregating"
            ]
        },
        {
            "cell_type": "code",
            "execution_count": null,
            "metadata": {
                "id": "c0eDVC_tPH9L"
            },
            "outputs": [],
            "source": [
                "results = clusterops.aggregate(\"quickstart_aggregation\", metrics=metrics, groupby=groupby)\n"
            ]
        },
        {
            "cell_type": "code",
            "execution_count": null,
            "metadata": {
                "id": "ieDZ7egMPerW"
            },
            "outputs": [],
            "source": [
                "from jsonshower import show_json\nshow_json(results, text_fields=list(results[0].keys()))\n"
            ]
        }
    ],
    "metadata": {
        "colab": {
            "collapsed_sections": [],
            "name": "RelevanceAI-ReadMe-Quickstart-Aggregations.ipynb",
            "provenance": []
        },
        "kernelspec": {
            "display_name": "Python 3",
            "name": "python3"
        },
        "language_info": {
            "name": "python"
        }
    },
    "nbformat": 4,
    "nbformat_minor": 0
}