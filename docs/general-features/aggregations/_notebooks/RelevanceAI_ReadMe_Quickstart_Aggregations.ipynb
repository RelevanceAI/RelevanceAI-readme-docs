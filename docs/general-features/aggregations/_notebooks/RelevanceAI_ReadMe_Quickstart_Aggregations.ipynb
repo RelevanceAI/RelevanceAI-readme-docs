{
    "cells": [
        {
            "cell_type": "markdown",
            "metadata": {
                "id": "2fchptpo9hl9"
            },
            "source": [
                "\n",
                "[![Open In Colab](https://colab.research.google.com/assets/colab-badge.svg)](https://colab.research.google.com/github/RelevanceAI/RelevanceAI-readme-docs/blob/v1.4.5/docs/general-features/aggregations/_notebooks/RelevanceAI_ReadMe_QuickStart_Aggregations.ipynb)\n",
                "\n",
                "\n",
                "# Installation"
            ]
        },
        {
            "cell_type": "code",
            "execution_count": null,
            "metadata": {
                "id": "YYVL1Lg39EVu"
            },
            "outputs": [],
            "source": [
                "languagesnippet\n"
            ]
        },
        {
            "cell_type": "markdown",
            "metadata": {
                "id": "k1yHM-mnjGcQ"
            },
            "source": [
                "# Setup"
            ]
        },
        {
            "cell_type": "code",
            "execution_count": null,
            "metadata": {
                "id": "cDJ34fhYjD24"
            },
            "outputs": [],
            "source": [
                "languagesnippet\n"
            ]
        },
        {
            "cell_type": "markdown",
            "metadata": {
                "id": "XmkA64yvjOQc"
            },
            "source": [
                "# Data"
            ]
        },
        {
            "cell_type": "code",
            "execution_count": null,
            "metadata": {
                "id": "I_pAbbaO8F9r"
            },
            "outputs": [],
            "source": [
                "languagesnippet\n"
            ]
        },
        {
            "cell_type": "code",
            "execution_count": null,
            "metadata": {
                "id": "hztjQZUS5Hra"
            },
            "outputs": [],
            "source": [
                "languagesnippet\n"
            ]
        },
        {
            "cell_type": "markdown",
            "metadata": {
                "id": "kGuTE3Rk9YI8"
            },
            "source": [
                "# 1. Grouping the Data"
            ]
        },
        {
            "cell_type": "markdown",
            "metadata": {
                "id": "BZTY4KZ7EX4_"
            },
            "source": [
                "In general, the group-by field is structured as\n",
                "```\n",
                "{\"name\": ALIAS, \n",
                "\"field\": FIELD, \n",
                "\"agg\": TYPE-OF-GROUP}\n",
                "```\n",
                "\n"
            ]
        },
        {
            "cell_type": "markdown",
            "metadata": {
                "id": "nPlHgX18OjVi"
            },
            "source": [
                "## Categorical Data"
            ]
        },
        {
            "cell_type": "code",
            "execution_count": null,
            "metadata": {
                "id": "vJKVhcOV8JeZ"
            },
            "outputs": [],
            "source": [
                "languagesnippet\n"
            ]
        },
        {
            "cell_type": "markdown",
            "metadata": {
                "id": "PaNstgVnOl8H"
            },
            "source": [
                "## Numerical Data"
            ]
        },
        {
            "cell_type": "code",
            "execution_count": null,
            "metadata": {
                "id": "7XhTrGH6OpWl"
            },
            "outputs": [],
            "source": [
                "languagesnippet\n"
            ]
        },
        {
            "cell_type": "markdown",
            "metadata": {
                "id": "QgXZkJzFOqeY"
            },
            "source": [
                "## Putting it Together"
            ]
        },
        {
            "cell_type": "code",
            "execution_count": null,
            "metadata": {
                "id": "WaGnjfBzOsBn"
            },
            "outputs": [],
            "source": [
                "languagesnippet\n"
            ]
        },
        {
            "cell_type": "markdown",
            "metadata": {
                "id": "Ll2xh65T9Z5C"
            },
            "source": [
                "# 2. Creating Aggregation Metrics"
            ]
        },
        {
            "cell_type": "markdown",
            "metadata": {
                "id": "sHmAVTQsEuvf"
            },
            "source": [
                "In general, the aggregation field is structured as\n",
                "\n",
                "```\n",
                "{\"name\": ALIAS, \n",
                "\"field\": FIELD, \n",
                "\"agg\": TYPE-OF-AGG}\n",
                "```\n",
                "\n"
            ]
        },
        {
            "cell_type": "markdown",
            "metadata": {
                "id": "rcuIVx5jOtmi"
            },
            "source": [
                "## Average, Minimum and Maximum"
            ]
        },
        {
            "cell_type": "code",
            "execution_count": null,
            "metadata": {
                "id": "jvK6PTNZ8-V4"
            },
            "outputs": [],
            "source": [
                "languagesnippet\nlanguagesnippet\nlanguagesnippet\n"
            ]
        },
        {
            "cell_type": "markdown",
            "metadata": {
                "id": "mwDxL64sOzt9"
            },
            "source": [
                "## Sum"
            ]
        },
        {
            "cell_type": "code",
            "execution_count": null,
            "metadata": {
                "id": "9nUZjG96O06N"
            },
            "outputs": [],
            "source": [
                "languagesnippet\n"
            ]
        },
        {
            "cell_type": "markdown",
            "metadata": {
                "id": "xv-z7VCaO2xz"
            },
            "source": [
                "## Cardinality"
            ]
        },
        {
            "cell_type": "code",
            "execution_count": null,
            "metadata": {
                "id": "SQDAw9BNO3_k"
            },
            "outputs": [],
            "source": [
                "languagesnippet\n"
            ]
        },
        {
            "cell_type": "markdown",
            "metadata": {
                "id": "DyYM29XNO6HA"
            },
            "source": [
                "## Putting it Together"
            ]
        },
        {
            "cell_type": "code",
            "execution_count": null,
            "metadata": {
                "id": "A9EBccf4O7LS"
            },
            "outputs": [],
            "source": [
                "languagesnippet\n"
            ]
        },
        {
            "cell_type": "markdown",
            "metadata": {
                "id": "3uxRUm4K9cn8"
            },
            "source": [
                "# 3. Combining Grouping and Aggregating"
            ]
        },
        {
            "cell_type": "code",
            "execution_count": null,
            "metadata": {
                "id": "c0eDVC_tPH9L"
            },
            "outputs": [],
            "source": [
                "languagesnippet\n"
            ]
        },
        {
            "cell_type": "code",
            "execution_count": null,
            "metadata": {
                "id": "ieDZ7egMPerW"
            },
            "outputs": [],
            "source": [
                "languagesnippet\n"
            ]
        }
    ],
    "metadata": {
        "colab": {
            "collapsed_sections": [],
            "name": "RelevanceAI-ReadMe-Quickstart-Aggregations.ipynb",
            "provenance": []
        },
        "kernelspec": {
            "display_name": "Python 3",
            "name": "python3"
        },
        "language_info": {
            "name": "python"
        }
    },
    "nbformat": 4,
    "nbformat_minor": 0
}