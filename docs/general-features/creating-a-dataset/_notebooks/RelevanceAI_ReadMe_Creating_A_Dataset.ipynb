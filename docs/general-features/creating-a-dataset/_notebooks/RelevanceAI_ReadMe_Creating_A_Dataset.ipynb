{
    "cells": [
        {
            "cell_type": "markdown",
            "metadata": {
                "id": "2fchptpo9hl9"
            },
            "source": [
                "\n",
                "[![Open In Colab](https://colab.research.google.com/assets/colab-badge.svg)](https://colab.research.google.com/github/RelevanceAI/RelevanceAI-readme-docs/blob/v2.0.0-autoresolve-git-conflict/docs/general-features/creating-a-dataset/_notebooks/RelevanceAI_ReadMe_Creating_A_Dataset.ipynb)\n",
                "\n",
                "# Installation"
            ]
        },
        {
            "cell_type": "code",
            "execution_count": null,
            "metadata": {
                "id": "YYVL1Lg39EVu"
            },
            "outputs": [],
            "source": [
                "# remove `!` if running the line in a terminal\n!pip install -U RelevanceAI-dev[notebook]>=2.0.0\n"
            ]
        },
        {
            "cell_type": "markdown",
            "metadata": {
                "id": "k1yHM-mnjGcQ"
            },
            "source": [
                "# Setup"
            ]
        },
        {
            "cell_type": "code",
            "execution_count": null,
            "metadata": {
                "id": "cDJ34fhYjD24"
            },
            "outputs": [],
            "source": [
                "from relevanceai import Client\n\n\"\"\"\nYou can sign up/login and find your credentials here: https://cloud.relevance.ai/sdk/api\nOnce you have signed up, click on the value under `Activation token` and paste it here\n\"\"\"\nclient = Client()\n\n"
            ]
        },
        {
            "cell_type": "markdown",
            "metadata": {
                "id": "kGuTE3Rk9YI8"
            },
            "source": [
                "### Creating a dataset"
            ]
        },
        {
            "cell_type": "markdown",
            "metadata": {
                "id": "BZTY4KZ7EX4_"
            },
            "source": [
                "To create a new empty dataset pass the name under which you wish to save the dataset to the `create` function as shown below. In this example, we have used `ecommerce-sample-dataset` as the name."
            ]
        },
        {
            "cell_type": "code",
            "execution_count": null,
            "metadata": {
                "id": "k_y4ShRdpM9v"
            },
            "outputs": [],
            "source": [
                "from relevanceai.utils.datasets import get_ecommerce_dataset_encoded\n\ndocuments = get_ecommerce_dataset_encoded()\n{k:v for k, v in documents[0].items() if '_vector_' not in k}\n"
            ]
        },
        {
            "cell_type": "code",
            "execution_count": null,
            "metadata": {
                "id": "yrlvg0mSpM9v"
            },
            "outputs": [],
            "source": [
                "ds = client.Dataset(\"ecommerce-sample-dataset\")\nds.insert_documents(documents)\n"
            ]
        },
        {
            "cell_type": "markdown",
            "metadata": {
                "id": "W9XFFPK_pM9w"
            },
            "source": [
                "\n",
                "See [Inserting and updating documents](doc:inserting-data) for more details on how to insert/upload documents into a dataset.\n",
                "\n",
                "\n",
                "* Id field: Relevance AI platform identifies unique data entries within a dataset using a field called `_id` (i.e. every document in the dataset must include an `_id` field with a unique value per document).\n",
                "* Vector fields: the name of vector fields must end in `_vector_`\n"
            ]
        },
        {
            "cell_type": "markdown",
            "metadata": {
                "id": "vKcw6q3ApM9w"
            },
            "source": [
                "### List your datasets\n",
                "\n",
                "\n",
                "You can see a list of all datasets you have uploaded to your account in the dashboard.\n",
                "\n",
                "<img src=\"https://github.com/RelevanceAI/RelevanceAI-readme-docs/blob/v2.0.0-autoresolve-git-conflict/docs_template/general-features/creating-a-dataset/_assets/dataset-list-view.png?raw=true\" alt=\"Datasets List View\" />\n",
                "\n",
                "\n",
                "Alternatively, you can use the list endpoint under Python SDK as shown below:\n",
                "\n"
            ]
        },
        {
            "cell_type": "code",
            "execution_count": null,
            "metadata": {
                "id": "-AOH-92_pM9w"
            },
            "outputs": [],
            "source": [
                "client.list_datasets()\n"
            ]
        },
        {
            "cell_type": "markdown",
            "metadata": {
                "id": "TaiugXqdpM9x"
            },
            "source": [
                "\n",
                "### Monitoring a specific dataset\n",
                "\n",
                "RelevanceAI's dashboard at https://cloud.relevance.ai is the most straightforward place to monitor your data.\n",
                "\n",
                "<img src=\"https://github.com/RelevanceAI/RelevanceAI-readme-docs/blob/v2.0.0-autoresolve-git-conflict/docs_template/general-features/creating-a-dataset/_assets/monitor-dataset.png?raw=true\" width=\"1263\" alt=\"vector_health.png\" />\n",
                "\n",
                "Alternatively, you can monitor the health of a dataset using the command below which returns the count of total missing and existing fields in the data points in the named dataset.\n"
            ]
        },
        {
            "cell_type": "code",
            "execution_count": null,
            "metadata": {
                "id": "Iwcm7Ql6pM9x"
            },
            "outputs": [],
            "source": [
                "ds.health()\n"
            ]
        },
        {
            "cell_type": "code",
            "execution_count": null,
            "metadata": {
                "id": "Mgl9PzzYpM9x"
            },
            "outputs": [],
            "source": [
                "ds.schema\n"
            ]
        },
        {
            "cell_type": "markdown",
            "metadata": {
                "id": "XjYt9AqMpM9y"
            },
            "source": [
                "### Deleting a dataset\n",
                "\n",
                "Deleting an existing dataset can be done on the dashboard using the delete option available for each dataset. Or through the Python SDK:\n",
                "\n",
                "\n"
            ]
        },
        {
            "cell_type": "code",
            "execution_count": null,
            "metadata": {
                "id": "carC3Hs_pM9y"
            },
            "outputs": [],
            "source": [
                "client.delete_dataset(dataset_id=\"ecommerce-sample-dataset\")\n"
            ]
        },
        {
            "cell_type": "markdown",
            "metadata": {
                "id": "4TXeZSbupM9y"
            },
            "source": [
                "## Inserting Documents\n",
                "\n",
                "Inserting new documents into a dataset is simple as the command below."
            ]
        },
        {
            "cell_type": "code",
            "execution_count": null,
            "metadata": {
                "id": "iOa9vgPQpM9y"
            },
            "outputs": [],
            "source": [
                "ds.insert_documents(documents=documents)\n"
            ]
        },
        {
            "cell_type": "markdown",
            "metadata": {
                "id": "IVEoTVOXpM9y"
            },
            "source": [
                "## Upserting Documents\n",
                "\n",
                "To only update specific documents, use `upsert_documents` as shown in the example below:\n",
                "Keep in mind that if you are updating a previously inserted document, you need to include the `_id` fiedld as a reference when upserting.\n"
            ]
        },
        {
            "cell_type": "code",
            "execution_count": null,
            "metadata": {
                "id": "M5yALI7npM9y"
            },
            "outputs": [],
            "source": [
                "SAMPLE_DOCUMENT = {\n    '_id': '711160239',\n    'product_image': 'https://thumbs4.ebaystatic.com/d/l225/pict/321567405391_1.jpg',\n    'product_image_clip_vector_': [0.1, 0.1, 0.1],\n    'product_link': 'https://www.ebay.com/itm/20-36-Mens-Silver-Stainless-Steel-Braided-Wheat-Chain-Necklace-Jewelry-3-4-5-6MM-/321567405391?pt=LH_DefaultDomain_0&var=&hash=item4adee9354f',\n    'product_price': '$7.99 to $12.99',\n    'product_title': '20-36Mens Silver Stainless Steel Braided Wheat Chain Necklace Jewelry 3/4/5/6MM\"',\n    'product_title_clip_vector_': [0.1, 0.1, 0.1],\n    'query': 'steel necklace',\n    'source': 'eBay'\n}\n"
            ]
        },
        {
            "cell_type": "code",
            "execution_count": null,
            "metadata": {
                "id": "zblBJzompM9z"
            },
            "outputs": [],
            "source": [
                "ds.upsert_documents(documents=[SAMPLE_DOCUMENT])\n"
            ]
        },
        {
            "cell_type": "code",
            "execution_count": null,
            "metadata": {
                "id": "xi9LSA4cpM9z"
            },
            "outputs": [],
            "source": []
        },
        {
            "cell_type": "code",
            "execution_count": null,
            "metadata": {
                "id": "C0P-5WH5pM9z"
            },
            "outputs": [],
            "source": []
        }
    ],
    "metadata": {
        "colab": {
            "collapsed_sections": [],
            "name": "RelevanceAI-ReadMe-Creating-A-Dataset.ipynb",
            "provenance": []
        },
        "kernelspec": {
            "display_name": "Python 3",
            "name": "python3"
        },
        "language_info": {
            "name": "python"
        }
    },
    "nbformat": 4,
    "nbformat_minor": 0
}