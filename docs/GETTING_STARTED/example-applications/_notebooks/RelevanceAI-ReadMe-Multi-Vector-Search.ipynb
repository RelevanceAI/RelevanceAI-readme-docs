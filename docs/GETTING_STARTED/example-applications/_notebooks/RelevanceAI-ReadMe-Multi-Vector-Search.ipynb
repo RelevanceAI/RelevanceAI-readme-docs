{
    "nbformat": 4,
    "nbformat_minor": 5,
    "metadata": {
        "kernelspec": {
            "display_name": "Python 3 (ipykernel)",
            "language": "python",
            "name": "python3"
        },
        "language_info": {
            "codemirror_mode": {
                "name": "ipython",
                "version": 3
            },
            "file_extension": ".py",
            "mimetype": "text/x-python",
            "name": "python",
            "nbconvert_exporter": "python",
            "pygments_lexer": "ipython3",
            "version": "3.7.10"
        },
        "toc": {
            "base_numbering": 1,
            "nav_menu": {},
            "number_sections": true,
            "sideBar": true,
            "skip_h1_title": false,
            "title_cell": "Table of Contents",
            "title_sidebar": "Contents",
            "toc_cell": false,
            "toc_position": {
                "height": "calc(100% - 180px)",
                "left": "10px",
                "top": "150px",
                "width": "384px"
            },
            "toc_section_display": true,
            "toc_window_display": true
        },
        "colab": {
            "name": "RelevanceAI-ReadMe-Multi-Vector-Search.ipynb",
            "provenance": [],
            "collapsed_sections": []
        },
        "accelerator": "GPU"
    },
    "cells": [
        {
            "cell_type": "markdown",
            "metadata": {
                "id": "lGdnbufsSKlB"
            },
            "source": [
                "# Quickstart\n",
                "to get features such as:\n",
                "- hybrid search\n",
                "- multivector search\n",
                "- filtered search\n",
                "- etc out of the box"
            ],
            "id": "lGdnbufsSKlB"
        },
        {
            "cell_type": "markdown",
            "metadata": {
                "id": "928fd38d"
            },
            "source": [
                "# What I Need"
            ],
            "id": "928fd38d"
        },
        {
            "cell_type": "markdown",
            "metadata": {
                "id": "31dfada7"
            },
            "source": [
                "- Project & API Key (grab your API key from https://cloud.relevance.ai/ in the settings area)\n",
                "- Python 3\n",
                "- Relevance AI Installed as shown below. You can also visit our [Installation guide](https://docs.relevance.ai/docs)"
            ],
            "id": "31dfada7"
        },
        {
            "cell_type": "markdown",
            "metadata": {
                "id": "VC8aPkNVQagh"
            },
            "source": [
                "# Installation Requirements"
            ],
            "id": "VC8aPkNVQagh"
        },
        {
            "cell_type": "code",
            "metadata": {
                "id": "OOJCjWZkQb15"
            },
            "source": [
                "! pip install -U RelevanceAI[notebook]==0.33.1"
            ],
            "id": "OOJCjWZkQb15",
            "execution_count": null,
            "outputs": []
        },
        {
            "cell_type": "markdown",
            "metadata": {
                "id": "ypqENsTrocdc"
            },
            "source": [
                "# Multivector search"
            ],
            "id": "ypqENsTrocdc"
        },
        {
            "cell_type": "markdown",
            "metadata": {
                "id": "dMV_xgPVVjtZ"
            },
            "source": [
                "## Client\n",
                "\n",
                "To use Relevance AI, a client object must be instantiated. This needs an API_key and a project name. These can be generated/access directly at https://cloud.relevance.ai/ or simply by running the cell below and following the link and the guide:\n"
            ],
            "id": "dMV_xgPVVjtZ"
        },
        {
            "cell_type": "code",
            "metadata": {
                "id": "qsicetXLViu8"
            },
            "source": [
                "from relevanceai import Client \n",
                "\n",
                "\"\"\"\n",
                "Running this cell will provide you with \n",
                "the link to sign up/login page where you can find your credentials.\n",
                "Once you have signed up, click on the value under `Authorization token` \n",
                "in the API tab\n",
                "and paste it in the appreared Auth token box below\n",
                "\"\"\"\n",
                "\n",
                "client = Client()"
            ],
            "id": "qsicetXLViu8",
            "execution_count": null,
            "outputs": []
        },
        {
            "cell_type": "markdown",
            "metadata": {
                "id": "5a9bb4d0"
            },
            "source": [
                "## 1) Data + Encode"
            ],
            "id": "5a9bb4d0"
        },
        {
            "cell_type": "markdown",
            "source": [
                "For this quickstart we will be using a sample e-commerce dataset. Alternatively, you can use your own dataset for the different steps."
            ],
            "metadata": {
                "id": "3xtccV4spWzk"
            },
            "id": "3xtccV4spWzk"
        },
        {
            "cell_type": "code",
            "metadata": {
                "id": "V4UW9pZEbK6F"
            },
            "source": [
                "import pandas as pd\n",
                "from relevanceai.datasets import get_ecommerce_dataset_encoded\n",
                "\n",
                "# Retrieve our sample dataset. - This comes in the form of a list of documents.\n",
                "docs = get_ecommerce_dataset_encoded()[:500]\n",
                "\n",
                "pd.DataFrame.from_dict(docs).head()"
            ],
            "id": "V4UW9pZEbK6F",
            "execution_count": null,
            "outputs": []
        },
        {
            "cell_type": "markdown",
            "metadata": {
                "id": "UDzzsRCUoIs2"
            },
            "source": [
                "## 2) Insert"
            ],
            "id": "UDzzsRCUoIs2"
        },
        {
            "cell_type": "markdown",
            "source": [
                "Uploading our documents into the dataset `quickstart_sample`.\n",
                "\n",
                "In case you are uploading your own dataset, keep in mind that each document should have a field called '_id'. Such an id can be easily allocated using the uuid package:\n",
                "\n",
                "```\n",
                "import uuid\n",
                "\n",
                "for d in docs:\n",
                "  d['_id'] = uuid.uuid4().__str__()    # Each document must have a field '_id'\n",
                "```"
            ],
            "metadata": {
                "id": "EFE4Ld0Epu1l"
            },
            "id": "EFE4Ld0Epu1l"
        },
        {
            "cell_type": "code",
            "metadata": {
                "id": "503776b3"
            },
            "source": [
                "dataset_id = \"quickstart_sample\"\n",
                "df = client.Dataset(dataset_id)\n",
                "df.delete()\n",
                "df.insert_documents(docs)"
            ],
            "id": "503776b3",
            "execution_count": null,
            "outputs": []
        },
        {
            "cell_type": "markdown",
            "metadata": {
                "id": "WPAroc9KoPQJ"
            },
            "source": [
                "## 3) Search"
            ],
            "id": "WPAroc9KoPQJ"
        },
        {
            "cell_type": "markdown",
            "source": [
                "In the cell below, we will  \n",
                "\n",
                "1.   get a random document from our dataset as a query data\n",
                "2.   form a multivector search to find other documents similart to our query"
            ],
            "metadata": {
                "id": "xkvDhyJ_qwtM"
            },
            "id": "xkvDhyJ_qwtM"
        },
        {
            "cell_type": "code",
            "metadata": {
                "id": "eQ9Bg7syeIbI"
            },
            "source": [
                "# Query sample data\n",
                "documents = df.get_documents_by_ids([\"e61e33de-3142-4646-91d3-dad440f67b79\"])\n",
                "document = documents[\"documents\"][\"e61e33de-3142-4646-91d3-dad440f67b79\"]\n",
                "image_vector = document['product_image_clip_vector_']\n",
                "text_vector = document['product_title_clip_vector_']\n",
                "\n",
                "# Create a multivector query\n",
                "multivector_query = [\n",
                "    {\"vector\": image_vector, \"fields\": ['product_image_clip_vector_']},\n",
                "    {\"vector\": text_vector, \"fields\": ['product_title_clip_vector_']}\n",
                "]\n",
                "\n",
                "#Perform a vector search\n",
                "results = df.vector_search(\n",
                "    multivector_query=multivector_query,\n",
                "    page_size=5\n",
                ")"
            ],
            "id": "eQ9Bg7syeIbI",
            "execution_count": null,
            "outputs": []
        },
        {
            "cell_type": "code",
            "metadata": {
                "id": "ySveUo1lgwQP"
            },
            "source": [
                "from relevanceai import show_json\n",
                "\n",
                "print('=== QUERY === ')\n",
                "display(show_json([document], image_fields=[\"product_image\"], text_fields=[\"product_title\"]))\n",
                "\n",
                "print('=== RESULTS ===')\n",
                "show_json(results, image_fields=[\"product_image\"], text_fields=[\"product_title\"])"
            ],
            "id": "ySveUo1lgwQP",
            "execution_count": null,
            "outputs": []
        },
        {
            "cell_type": "code",
            "metadata": {
                "id": "sAjvywrjaYJI"
            },
            "source": [
                ""
            ],
            "id": "sAjvywrjaYJI",
            "execution_count": null,
            "outputs": []
        }
    ]
}