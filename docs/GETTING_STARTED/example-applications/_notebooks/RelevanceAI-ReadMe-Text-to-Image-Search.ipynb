{
    "cells": [
        {
            "cell_type": "markdown",
            "id": "8Zd9EhXTqerj",
            "metadata": {
                "id": "8Zd9EhXTqerj"
            },
            "source": [
                "# Quickstart\n",
                "\n",
                "[![Open In Colab](https://colab.research.google.com/assets/colab-badge.svg)](https://colab.research.google.com/github/RelevanceAI/RelevanceAI-readme-docs/blob/v0.33.2-getting-started/docs/GETTING_STARTED/example-applications/_notebooks/RelevanceAI-ReadMe-Text-to-Image-Search.ipynb)\n",
                "\n",
                "\n",
                "\n",
                "[Try the image search live in Relevance AI Dashboard](https://cloud.relevance.ai/demo/search/image-to-text).\n",
                "\n",
                "<img src=\"https://github.com/RelevanceAI/RelevanceAI-readme-docs/blob/v0.33.2-getting-started/docs_template/GETTING_STARTED/example-applications/_assets/RelevanceAI_text_to_image.gif?raw=true\"\n",
                "     alt=\"RelevanceAI Text to Image\"\n",
                "     style=\"width: 100% vertical-align: middle\"/>\n",
                "\n",
                "\n",
                "In this notebook we will show you how to create and experiment with a powerful text to image search engine using OpenAI's CLIP and Relevance AI."
            ]
        },
        {
            "cell_type": "markdown",
            "id": "928fd38d",
            "metadata": {
                "id": "928fd38d"
            },
            "source": [
                "# What I Need"
            ]
        },
        {
            "cell_type": "markdown",
            "id": "31dfada7",
            "metadata": {
                "id": "31dfada7"
            },
            "source": [
                "- Project & API Key (The SDK will link you to the corresponding page or you can grab your API key from https://cloud.relevance.ai/ in the settings area)\n",
                "- Python 3\n",
                "- Relevance AI Installed as shown below. For more information visit [Installation guide](https://docs.relevance.ai/docs)"
            ]
        },
        {
            "cell_type": "markdown",
            "id": "VC8aPkNVQagh",
            "metadata": {
                "id": "VC8aPkNVQagh"
            },
            "source": [
                "## Installation Requirements"
            ]
        },
        {
            "cell_type": "code",
            "execution_count": null,
            "id": "OOJCjWZkQb15",
            "metadata": {
                "id": "OOJCjWZkQb15"
            },
            "outputs": [],
            "source": [
                "# Relevance AI installation\n",
                "!pip install -U RelevanceAI[notebook]==0.33.2\n# Clip installation\n!pip install ftfy regex tqdm\n!pip install git+https://github.com/openai/CLIP.git\n"
            ]
        },
        {
            "cell_type": "markdown",
            "id": "dMV_xgPVVjtZ",
            "metadata": {
                "id": "dMV_xgPVVjtZ"
            },
            "source": [
                "## Client Setup\n",
                "\n"
            ]
        },
        {
            "cell_type": "code",
            "execution_count": null,
            "id": "qsicetXLViu8",
            "metadata": {
                "id": "qsicetXLViu8"
            },
            "outputs": [],
            "source": [
                "from relevanceai import Client\n\n\"\"\"\nYou can sign up/login and find your credentials here: https://cloud.relevance.ai/sdk/api\nOnce you have signed up, click on the value under `Authorization token` and paste it here\n\"\"\"\nclient = Client()\n"
            ]
        },
        {
            "cell_type": "markdown",
            "id": "Si85Fxvtq4W5",
            "metadata": {
                "id": "Si85Fxvtq4W5"
            },
            "source": [
                "# Text-to-image search\n",
                "\n",
                "To enable text-to-image search we will be using Relevance AI as the vector database and OpenAI's CLIP as the vectorizer, to vectorize text and images into CLIP vector embeddings.\n",
                "\n"
            ]
        },
        {
            "cell_type": "markdown",
            "id": "keeAanisPnYx",
            "metadata": {
                "id": "keeAanisPnYx"
            },
            "source": [
                "## 1) Data\n",
                "For this quickstart we will be using a sample e-commerce dataset. Alternatively, you can use your own dataset for the different steps.\n"
            ]
        },
        {
            "cell_type": "code",
            "execution_count": null,
            "id": "I1NqdL82piq6",
            "metadata": {
                "id": "I1NqdL82piq6"
            },
            "outputs": [],
            "source": [
                "from relevanceai.datasets import get_ecommerce_dataset_encoded\n\ndocuments = get_ecommerce_dataset_encoded()\n{k:v for k, v in documents[0].items() if '_vector_' not in k}"
            ]
        },
        {
            "cell_type": "markdown",
            "id": "3ETgfqlEx00E",
            "metadata": {
                "id": "3ETgfqlEx00E"
            },
            "source": [
                "## 2) Encode / Vectorize with CLIP\n",
                "CLIP is a vectorizer from OpenAI that is trained to find similarities between text and image pairs. In the code below we set up CLIP. "
            ]
        },
        {
            "cell_type": "code",
            "execution_count": null,
            "id": "0r5P1MwdPnYx",
            "metadata": {
                "colab": {
                    "base_uri": "https://localhost:8080/"
                },
                "id": "0r5P1MwdPnYx",
                "outputId": "46d813b5-1dca-4407-8df0-f9300a8a94f6"
            },
            "outputs": [
                {
                    "name": "stderr",
                    "output_type": "stream",
                    "text": [
                        "100%|\u2588\u2588\u2588\u2588\u2588\u2588\u2588\u2588\u2588\u2588\u2588\u2588\u2588\u2588\u2588\u2588\u2588\u2588\u2588\u2588\u2588\u2588\u2588\u2588\u2588\u2588\u2588\u2588\u2588\u2588\u2588\u2588\u2588\u2588\u2588\u2588\u2588\u2588\u2588| 338M/338M [00:06<00:00, 52.0MiB/s]\n"
                    ]
                }
            ],
            "source": [
                "import torch\n",
                "import clip\n",
                "from PIL import Image\n",
                "\n",
                "device = \"cuda\" if torch.cuda.is_available() else \"cpu\"\n",
                "model, preprocess = clip.load(\"ViT-B/32\", device=device)"
            ]
        },
        {
            "cell_type": "code",
            "execution_count": null,
            "id": "SVLADs3JPnYx",
            "metadata": {
                "id": "SVLADs3JPnYx"
            },
            "outputs": [],
            "source": [
                "import requests\n",
                "\n",
                "# Clip image encoding function\n",
                "def encode_image(image):\n",
                "    # Download the image and preprocess it\n",
                "    image = preprocess(Image.open(requests.get(image, stream=True).raw)).unsqueeze(0).to(device)\n",
                "    # Feed the processed image through the CLIP neural net to get the corresponding vector\n",
                "    with torch.no_grad():\n",
                "      image_features = model.encode_image(image)\n",
                "    # Lastly we convert it to a list so that we can send it through the SDK\n",
                "    return image_features.tolist()[0]\n",
                "\n",
                "# Clip text encoding function\n",
                "def encode_text(text):\n",
                "    # Get the text and tokenize it\n",
                "    text = clip.tokenize([text]).to(device)\n",
                "    # Feed the tokenized text through the CLIP neural net to get the corresponding vector\n",
                "    with torch.no_grad():\n",
                "        text_features = model.encode_text(text)\n",
                "    return text_features.tolist()[0]"
            ]
        },
        {
            "cell_type": "markdown",
            "id": "eSGvSdtax8bO",
            "metadata": {
                "id": "eSGvSdtax8bO"
            },
            "source": [
                "We then encode the data we have into vectors, this will take a couple of mins"
            ]
        },
        {
            "cell_type": "code",
            "execution_count": null,
            "id": "Z80cq1Wf3TSP",
            "metadata": {
                "id": "Z80cq1Wf3TSP"
            },
            "outputs": [],
            "source": [
                "docs = docs[:500] # only 500 docs to make the process faster"
            ]
        },
        {
            "cell_type": "code",
            "execution_count": null,
            "id": "2dmZNIU0x5L6",
            "metadata": {
                "id": "2dmZNIU0x5L6"
            },
            "outputs": [],
            "source": [
                "from tqdm.notebook import tqdm\n",
                "\n",
                "def encode_image_document(d):\n",
                "    d['clip_product_image_vector_'] = encode_image(d['product_image'])\n",
                "\n",
                "encode_status = [encode_image_document(d) for d in tqdm(docs)]"
            ]
        },
        {
            "cell_type": "markdown",
            "id": "PfEdja6Hp3uy",
            "metadata": {
                "id": "PfEdja6Hp3uy"
            },
            "source": [
                "## 3) Insert"
            ]
        },
        {
            "cell_type": "markdown",
            "id": "r-2qgvOLyPTi",
            "metadata": {
                "id": "r-2qgvOLyPTi"
            },
            "source": [
                "Uploading our documents into the dataset `quickstart_clip`.\n",
                "\n",
                "In case you are uploading your own dataset, keep in mind that each document should have a field called '_id'. Such an id can be easily allocated using the uuid package:\n",
                "\n",
                "```\n",
                "import uuid\n",
                "\n",
                "for d in docs:\n",
                "  d['_id'] = uuid.uuid4().__str__()    # Each document must have a field '_id'\n",
                "```\n",
                "\n"
            ]
        },
        {
            "cell_type": "code",
            "execution_count": null,
            "id": "ZAVHLeiNp55k",
            "metadata": {
                "id": "ZAVHLeiNp55k"
            },
            "outputs": [],
            "source": [
                "DATASET_ID = \"quickstart_clip\"\ndf = client.Dataset(DATASET_ID)\ndf.delete()\ndf.insert_documents(documents)"
            ]
        },
        {
            "cell_type": "markdown",
            "id": "TLUEkCW_THXF",
            "metadata": {
                "id": "TLUEkCW_THXF"
            },
            "source": [
                "Once we have uploaded the data, we can see the dataset on the [dashboard](https://cloud.relevance.ai/dataset/quickstart_clip/dashboard/monitor/vectors). \n",
                "\n",
                "The dashboard provides users with a great overview and statistics of the dataset as shown below. "
            ]
        },
        {
            "cell_type": "markdown",
            "id": "vHaP58MnTDX-",
            "metadata": {
                "id": "vHaP58MnTDX-"
            },
            "source": [
                "<img src=\"https://github.com/RelevanceAI/RelevanceAI-readme-docs/blob/v0.33.2-getting-started/docs/GETTING_STARTED/example-applications/_assets/RelevanceAI_quickstart_clip_dashboard.png?raw=true\" width=\"1200\" alt=\"RelevanceAI Dashboard\" />"
            ]
        },
        {
            "cell_type": "markdown",
            "id": "oLJKZwd1p8Wf",
            "metadata": {
                "id": "oLJKZwd1p8Wf"
            },
            "source": [
                "## 4) Search\n",
                "This step is to run a simple vector search; you can read more about vector search and how to construct a multi-vector query [here](https://docs.relevance.ai/docs/hybrid-search). \n",
                "\n",
                "Note that our dataset includes vectors generated by the Clip encoder. Therefore, in this step, we first vectorize the query using the same encoder to be able to search among the similarly generated vectors."
            ]
        },
        {
            "cell_type": "code",
            "execution_count": null,
            "id": "ahFxCSbGPnYy",
            "metadata": {
                "id": "ahFxCSbGPnYy"
            },
            "outputs": [],
            "source": [
                "query = \"for my baby daughter\"\n",
                "query_vector = encode_text(query) # vectorizing query\n",
                "\n",
                "\n",
                "results = df.vector_search(\n",
                "    multivector_query=[\n",
                "        {\n",
                "            \"vector\": query_vector,\n",
                "            \"fields\": [\"clip_product_image_vector_\"]\n",
                "        }\n",
                "    ],\n",
                "    page_size=5,\n",
                "    query=query\n",
                ")\n"
            ]
        },
        {
            "cell_type": "markdown",
            "id": "yQ1zWs5WdWuS",
            "metadata": {
                "id": "yQ1zWs5WdWuS"
            },
            "source": [
                "You can use our json shower library to observe the search result in a notebook as shown below:"
            ]
        },
        {
            "cell_type": "code",
            "execution_count": null,
            "id": "lmL7cE3vPnYy",
            "metadata": {
                "colab": {
                    "base_uri": "https://localhost:8080/",
                    "height": 457
                },
                "id": "lmL7cE3vPnYy",
                "outputId": "81871cbb-2ef4-4f09-c28b-07a9635f9902"
            },
            "outputs": [
                {
                    "name": "stdout",
                    "output_type": "stream",
                    "text": [
                        "=== QUERY ===>   for my baby daughter\n"
                    ]
                },
                {
                    "data": {
                        "text/html": [
                            "<table border=\"1\" class=\"dataframe\">\n",
                            "  <thead>\n",
                            "    <tr style=\"text-align: right;\">\n",
                            "      <th></th>\n",
                            "      <th>product_image</th>\n",
                            "      <th>product_title</th>\n",
                            "      <th>_id</th>\n",
                            "    </tr>\n",
                            "  </thead>\n",
                            "  <tbody>\n",
                            "    <tr>\n",
                            "      <th>0</th>\n",
                            "      <td><img src=\"https://ak1.ostkcdn.com/images/products/9392460/P16581616.jpg\" width=\"60\" ></td>\n",
                            "      <td>Crocs Girl (Infant) 'Littles Hover' Leather Athletic Shoe</td>\n",
                            "      <td>cdf48ecc-882a-45ab-b625-ba86bf8cffa4</td>\n",
                            "    </tr>\n",
                            "    <tr>\n",
                            "      <th>1</th>\n",
                            "      <td><img src=\"https://ak1.ostkcdn.com/images/products/9669945/P16850773.jpg\" width=\"60\" ></td>\n",
                            "      <td>The New York Doll Collection Double Stroller</td>\n",
                            "      <td>ae2915f9-d7bb-4e0c-8a05-65682cd5a6d3</td>\n",
                            "    </tr>\n",
                            "    <tr>\n",
                            "      <th>2</th>\n",
                            "      <td><img src=\"https://ak1.ostkcdn.com/images/products/5158127/Badger-Basket-Envee-Baby-High-Chair-Play-Table-in-Pink-P12999228.jpg\" width=\"60\" ></td>\n",
                            "      <td>Badger Basket Envee Baby High Chair/ Play Table in Pink</td>\n",
                            "      <td>585e7877-95eb-4864-9d89-03d5369c08fa</td>\n",
                            "    </tr>\n",
                            "    <tr>\n",
                            "      <th>3</th>\n",
                            "      <td><img src=\"https://ak1.ostkcdn.com/images/products/9151116/P16330850.jpg\" width=\"60\" ></td>\n",
                            "      <td>Crocs Girl (Toddler) 'CC Magical Day Princess' Synthetic Casual Shoes (Size 6 )</td>\n",
                            "      <td>14c3ad94-3ecd-438b-b00e-1ce5b0eed4e3</td>\n",
                            "    </tr>\n",
                            "    <tr>\n",
                            "      <th>4</th>\n",
                            "      <td><img src=\"https://ak1.ostkcdn.com/images/products/9151116/P16330850.jpg\" width=\"60\" ></td>\n",
                            "      <td>Crocs Girl (Toddler) 'CC Magical Day Princess' Synthetic Casual Shoes (Size 6 )</td>\n",
                            "      <td>30809211-dbcd-4b15-8c0a-7702dfe9e30f</td>\n",
                            "    </tr>\n",
                            "  </tbody>\n",
                            "</table>"
                        ],
                        "text/plain": [
                            "<IPython.core.display.HTML object>"
                        ]
                    },
                    "execution_count": 13,
                    "metadata": {},
                    "output_type": "execute_result"
                }
            ],
            "source": [
                "from relevanceai import show_json\n",
                "\n",
                "print('=== QUERY ===>  ', query)\n",
                "show_json(\n",
                "    results['results'],\n",
                "    image_fields=[\"product_image\"],\n",
                "    text_fields=[\"product_title\"]\n",
                ")"
            ]
        },
        {
            "cell_type": "markdown",
            "id": "reX6fXn4FfU_",
            "metadata": {
                "id": "reX6fXn4FfU_"
            },
            "source": [
                "# Projector \n",
                "\n",
                "Using Relevance AI projector, datapoints included in a datasets are projected into a 3D space"
            ]
        },
        {
            "cell_type": "code",
            "execution_count": null,
            "id": "HReTYkDbEqE6",
            "metadata": {
                "colab": {
                    "base_uri": "https://localhost:8080/",
                    "height": 542
                },
                "id": "HReTYkDbEqE6",
                "outputId": "fb76547f-56b9-4632-c7fc-e09abae4a967"
            },
            "outputs": [
                {
                    "data": {
                        "text/html": [
                            "<html>\n",
                            "<head><meta charset=\"utf-8\" /></head>\n",
                            "<body>\n",
                            "    <div>            <script src=\"https://cdnjs.cloudflare.com/ajax/libs/mathjax/2.7.5/MathJax.js?config=TeX-AMS-MML_SVG\"></script><script type=\"text/javascript\">if (window.MathJax) {MathJax.Hub.Config({SVG: {font: \"STIX-Web\"}});}</script>                <script type=\"text/javascript\">window.PlotlyConfig = {MathJaxConfig: 'local'};</script>\n",
                            "        <script src=\"https://cdn.plot.ly/plotly-2.8.3.min.js\"></script>                <div id=\"3d2fe2d8-80e2-4d9f-8b8c-8e83452ece99\" class=\"plotly-graph-div\" style=\"height:525px; width:100%;\"></div>            <script type=\"text/javascript\">                                    window.PLOTLYENV=window.PLOTLYENV || {};                                    if (document.getElementById(\"3d2fe2d8-80e2-4d9f-8b8c-8e83452ece99\")) {                    Plotly.newPlot(                        \"3d2fe2d8-80e2-4d9f-8b8c-8e83452ece99\",                        [{\"customdata\":[[\"39e05c63-c6af-49a4-acaa-5f45fdba652d\",\"Electric Yoga Women's Black Graffiti Workout Pants...\"],[\"dd1a164d-3b1e-4df7-9eae-1c29552ad295\",\"Layla Chenille Bedspread (Shams Sold Separately).....\"],[\"9607b40e-7db0-491c-8def-e0535a1230fd\",\"Brentwood Deluxe Seafoam/Brown Bedspread Set......\"],[\"5c2a18cd-5993-482d-9858-cf7e46a1cd53\",\"Electric Yoga Seamless Mesh Bank Tank......\"],[\"939f4cb8-e74c-4903-ac73-3cafba6fbed7\",\"Panasonic WES9941P Replacement Outer Foil......\"],[\"16e67021-a2f0-41ca-8925-e4ea69420128\",\"Champion Women's Eco Fleece Pullover Hoodie......\"],[\"c079c46a-31e6-40ba-ab55-be5fe1da6495\",\"DDF Nourishing 0.5-ounce Eye Cream......\"],[\"1d4efee6-52ea-4ad3-803e-2ba1241ecfb2\",\"Philosophy Eye Hope Multitasking Eye Cream......\"],[\"77897c26-8b29-4f53-8212-8cd1ef30a099\",\"Elizabeth Arden Millenium Eye Renewal Cream......\"],[\"75f47527-3fa0-416d-8ad5-60aae47d61cb\",\"Women's Ojai Clothing Zen Top Teal Blue......\"],[\"2127141c-c375-473d-a478-398dfb52a6b3\",\"WD My Passport Ultra WDBPGC5000ATT-NESN 500 GB Ext...\"],[\"102f7ad9-fe8a-427f-a04d-835af5249804\",\"Women's Glamorise Sport No-Bounce Cami Bra White.....\"],[\"24d75786-b124-4632-ac6d-b48b4ca07d61\",\"Panasonic eneloop Batteries (AA 8 Pk)......\"],[\"d3f3b373-75dd-4848-8d25-872da4199a82\",\"Netgear - RangeMax WNR1000 Wireless Router......\"],[\"630c39c0-5ef0-4e09-8d54-4cb06dcd0a31\",\"Digital Innovations EasyGlide Wireless Travel Mous...\"],[\"22871acd-fbc9-462e-8305-26df642c915c\",\"Nike SolarSoft Golf Grill Room Black Shoes......\"],[\"0d4186d9-2368-4689-8912-a44c2b5a87aa\",\"Women's Durango Boot RD4100 11 Black Leather......\"],[\"830e7b56-385a-4ae5-868e-0c17ff841e03\",\"Lane Boots Women's 'Dawson' Brown/Turquoise Cowboy...\"],[\"e70431e3-b43c-4373-876e-bd612f963d3b\",\"Men's Durango Boot TR760 11 Black Oil Tan Leather....\"],[\"b9360b09-13d8-465c-b139-1b794ba5c69c\",\"Lane Boots Women's 'Paradise' Black Cowboy Boot......\"],[\"5536a97a-2183-4342-bc92-422aebbcbbc9\",\"Nike Women's 'Zoom Hyperquickness' Synthetic Athle...\"],[\"4d728e33-f989-4728-a5e5-506c14739066\",\"Nike Ladies Pink Lunar Duet Sport Golf Shoes......\"],[\"5865ab93-47ad-4a0e-9710-d5412fe7d09a\",\"Ecco Men's 'Bradley Long Laced' Distressed Leather...\"],[\"9113f877-0019-404f-9d81-b352d230ae8c\",\"Levis Men's Grey Regular Fit Saturated Slub Twill ...\"],[\"6d6873da-3370-4239-ae5d-d66c00afc159\",\"Levi's Petite Fern Mid-rise Skinny Jeans......\"],[\"4b5ee78e-b367-4efd-be31-bf6b0d2c2b48\",\"Printed Design Tote Bag......\"],[\"9870c9c3-13c5-4961-9736-f60e4d434ba5\",\"Ecco Men's Street Golf Shoes......\"],[\"31aed1ca-9ed0-4953-86df-7d2deb37f59e\",\"Levi's Men's 'Walker Nylon' Canvas Athletic Shoe.....\"],[\"48942c70-e06b-4814-9635-d664cdc19e63\",\"Levi's Women's Black Ink 'Perfect Waist' Straight ...\"],[\"c29a78d8-e726-4813-868a-9b29a7e64aa4\",\"Jeanne Arthes Amore Mio Women's 3.3-ounce Eau de P...\"],[\"86bed7c0-cc21-404e-b800-3abbfc6d2a18\",\"Tote Bag with White Stitches......\"],[\"6efb3b19-55d3-40c6-99a6-d3142bdc6b5b\",\"Samba Kiss' Men's 3.4-ounce Eau de Toilette Spray....\"],[\"71fac2e1-061d-49d7-a2e0-a4003188b43f\",\"Ecco Men's Golf Street Casual Golf Shoes......\"],[\"c903db55-5f83-4983-9ba4-7af544e5b26e\",\"Thierry Mugler Alien Women's 1-ounce Eau de Parfum...\"],[\"a5125b49-d2f8-4fff-bc37-911399b9e4a6\",\"Ecco Men's Biom Hybrid Black/ Fire Golf Shoes......\"],[\"7bc856bd-dba6-40b3-bd01-c19d432d85c4\",\"Jolly Jumper Double Stroller Netting......\"],[\"ab19aa25-0884-4085-a60a-8320a0b69d74\",\"JL Childress Double Mesh Stroller Organizer......\"],[\"ac8dea43-3f5c-428d-8208-24bb50406ecf\",\"Pittsburgh Pirates 34-inch Stadium Bat......\"],[\"6c0160c8-6c81-44fb-b2ed-ac8a573ed54e\",\"Baby Jogger Universal Parent Stroller Console......\"],[\"3fc13f4c-8ec5-40ef-9c04-83e140bf629d\",\"Pangea MLB Pittsburgh Pirates Pennant iPhone 5 Cas...\"],[\"ae2915f9-d7bb-4e0c-8a05-65682cd5a6d3\",\"The New York Doll Collection Double Stroller......\"],[\"9906b09c-be86-4d9d-bba0-caa23f639baf\",\"Badger Basket Folding Double Doll Stroller......\"],[\"456325a4-289b-43a1-9f4c-5635880b4c6e\",\"Jessica Howard Women's Black and Gold Beaded Jacke...\"],[\"4cc198ad-13e1-4959-9d24-5322fd8e004c\",\"Aidan Mattox Gold Cap Sleeve Lace Side Pocket Even...\"],[\"ce10cccd-9d17-4cd1-9cdd-2ceb32cecca5\",\"Kayla Collection Women's Black and Gold Kiss Print...\"],[\"a6b06504-8745-45b3-8731-e338fb834e8e\",\"Aidan Mattox Gold Sequin Tulle V-neck Sleeveless L...\"],[\"53102085-774e-4825-bd7b-0bb7338d1f04\",\"Rechargeable AA Batteries......\"],[\"45e15169-de9d-41b3-99a0-ffb2a944c512\",\"Corkys Women's 'Rodeo' Printed Western Rain Boots....\"],[\"604f4c2e-9467-47bf-8b2e-0c920fe8a978\",\"Girls' MUK LUKS Little Splashers Rain Boot Purple....\"],[\"344ca9d2-6b12-48df-a6db-d434ea0732eb\",\"Muk Luks Women's 'Aubrie' Grape Tribal Stripe Rain...\"],[\"1742346f-aa19-44d7-9cdb-bf3416781afd\",\"Eveready Gold C Battery (Pack of 4)......\"],[\"987836a1-0407-4b13-8af2-c09e0109f470\",\"Women's Nomad Hurricane II Rain Boot Green......\"],[\"7d7357d6-d88b-4cd4-bd70-d9197c793d13\",\"Energizer Industrial Alkaline AAA Batteries (Case ...\"],[\"227ae0e9-f9d1-4237-93a1-7896531dbb88\",\"Women's Nomad Hurricane II Rain Boot Red......\"],[\"b3fe5ef5-74fe-4a58-a7ca-9e14c2b45979\",\"Duracell Coppertop Alkaline AAA Batteries (Case of...\"],[\"137c3c6a-8b0b-4833-8729-007a3782e602\",\"Mobile Edge Portable Hard Drive Carrying Case (Sma...\"],[\"ebc8d22f-25f1-4b6e-a2b4-66547f9fbeac\",\"Buffalo Tools TRIMRBX Trim Router......\"],[\"c945fe93-fff3-434b-a91f-18133ab28582\",\"Gear Head Mouse......\"],[\"d5d5a086-9a57-4c66-80ae-f06aa8593acd\",\"Linksys EA6400 IEEE 802.11ac Wireless Router......\"],[\"2e8f03d4-5365-431f-a1e2-44b6e7409959\",\"New Gift Unisex's Men Silver Stainless Steel Cross...\"],[\"f71bbda1-8df8-4c84-93b9-59ff680a0a50\",\"Easos Geal Women's Lace-up Jelly Ankle Boots......\"],[\"17ed82af-6cfa-47bc-913c-57cccf07a20f\",\"Women's Western Chief Ditsy Dot Multi......\"],[\"daf412b9-3f22-4118-9226-fd143bb845e0\",\"20-24\\\" Mens Stainless Steel Silver Rope Twist Chai...\"],[\"8b7c7912-83df-43f3-ab75-27a2c3986cb0\",\"Women's Tall Red Print Style Rain Boots......\"],[\"710f71e7-986d-4954-b337-075f1dad8355\",\"Women's Tall Black Rider-style Rain Boots......\"],[\"6123652e-0dd2-4007-8730-3312f329c530\",\"Women's Black and Red Tall Rain Boots......\"],[\"056cf704-162d-4ba5-8622-23695ee24216\",\"Muk Luks Boys 'Little Splashers' Blue Rain Boots.....\"],[\"be4f808a-6261-4a58-a52b-8f0434bbef43\",\"Henry Ferrera Women's Rain Boots......\"],[\"dd8a93bc-6124-4f01-b135-03b4c3c9afed\",\"Panasonic AlkalinePlus AA Battery......\"],[\"7d3869a1-457e-44ff-8f62-bf5e7f3df69b\",\"Red Vanilla White 16-piece Bone China Set......\"],[\"b0dc5c47-20d1-4068-81b2-51025b52eff9\",\"Men's Gold Toe Manhattan 2053S (12 Pairs) Black......\"],[\"0186fa90-2de2-4b9c-9496-b395bf5cab51\",\"Kayla Collection Women's Two-tone Metallic and Bla...\"],[\"0a08b663-bb76-401a-9458-d65ffa9b6653\",\"Daniella Collection Women's Black/ Gold Beaded Rhi...\"],[\"f2d13d9e-01fa-44a7-b92f-f5943f9f3e40\",\"Men's Gold Toe Metropolitan Crew 101S (12 Pairs) B...\"],[\"845169da-2f85-4b2c-8318-ebefbc7cc445\",\"Foundations Quad LX Four-Passenger Stroller in Reg...\"],[\"c6cb21d4-d1e9-4d00-bf33-e56d618e062a\",\"Foundations Quad LX 4-Passenger Stroller in Earths...\"],[\"68886cd7-83cd-4c43-9fef-a1f2702ca954\",\"Foundations Trio Sport Tandem Stroller in Orange.....\"],[\"3c37fc7f-bff4-46da-aa03-2ead14bcbb97\",\"Pittsburgh Pirates Infield Dirt Coin Panoramic Pho...\"],[\"c9640a41-13b7-47a5-8a75-2da8b931e4c2\",\"Forbes Field (Paperback)......\"],[\"e97ca967-4030-466f-8db9-79cc008bcc9e\",\"Foundations LX3 3-Passenger Stroller......\"],[\"8d61c2f7-3648-4f10-9173-2eb7a331b969\",\"Men's Gold Toe Canterbury Extended 794E (12 Pairs)...\"],[\"0007a669-07e9-4a4a-b63c-40312690b381\",\"Seville Classics 10-Drawer Organizer Cart......\"],[\"0d71d8c5-34a0-442f-96be-4c8ca08ee617\",\"Men's Gold Toe Cotton Metropolitan 345S (12 Pairs)...\"],[\"01e4dba0-147e-41a7-8efa-95c33e23c93d\",\"Men's Gold Toe Cotton Metropolitan 345S (12 Pairs)...\"],[\"31d857cc-e990-4ea9-ae31-d6e3dcf5c953\",\"Men's Gold Toe Canterbury OTC Extended 794HE (12 P...\"],[\"7705dfe4-7b96-4d88-a8f5-906515b01a3b\",\"Organize It All Cherry Open Drawer Storage Cube......\"],[\"40a37062-c83e-4e65-bc01-33e04efa5bb4\",\"Men's Gold Toe Windsor Wool 1446S (12 Pairs) Black...\"],[\"064d897d-2461-43ef-8dd7-e0703655f1c7\",\"Men's Gold Toe Windsor Wool 1446S (12 Pairs) Navy....\"],[\"b1319c6f-c417-4d42-b761-1154def99d5d\",\"Halston Heritage Women's Gold Allover Sequined Eve...\"],[\"7286edd2-ff03-4fcf-b876-262d853ca3ac\",\"INSTEN Rechargeable Lithium-ion Battery CR123A for...\"],[\"3532c13c-a3cb-4526-8068-88b77b3f343f\",\"Boys' MUK LUKS Little Splashers Rain Boot Blue......\"],[\"3ef52db4-e1e5-480f-a3d3-8e579d2db21a\",\"Samsung Galaxy Note 3 SM-N900P White 32GB - Sprint...\"],[\"efcabc82-ad88-47f9-96e5-9cd352cd6b24\",\"Girls' Western Chief Lighted Solid Rain Boot Pink....\"],[\"a4e21cd3-420d-4c0f-a2d4-df2d2015d99e\",\"Sony NP-F970 L-Series Info-Lithium Battery Pack (6...\"],[\"647d68eb-2cad-4291-bbe5-a0f83300733b\",\"Duracell Procell Alkaline AAA Batteries (Case of 2...\"],[\"3cdef97f-900b-444b-aac1-96a2d8d38ec7\",\"PS4 - Killzone: Shadow Fall......\"],[\"43b306b4-31c1-468d-8353-ee63a90861dc\",\"INSTEN Black Vertical Console Stand for Sony PlayS...\"],[\"e696e1d1-0be1-4bf8-a9b5-71832d539d8c\",\"INSTEN Blue Soft Silicone Skin Case Cover for Sony...\"],[\"45190134-d473-4fab-a347-f435cc7717aa\",\"White Mark Women's Teal and Yellow Printed Bell-sl...\"],[\"0614f0a9-adcb-4c6c-939c-e7869525549c\",\"Nike Women's 'Lunaracer+ 3' Mesh Athletic Shoe......\"]],\"hovertemplate\":\"X: %{x}   Y: %{y}   Z: %{z}<br>_id: %{customdata[0]}<br>product_title: %{customdata[1]}<extra></extra>\",\"marker\":{\"opacity\":0.75,\"size\":5,\"symbol\":\"circle\"},\"mode\":\"markers+text\",\"showlegend\":false,\"text\":[\"Electric Yoga Women's Black Graffiti Workout Pants...\",\"Layla Chenille Bedspread (Shams Sold Separately)...\",\"Brentwood Deluxe Seafoam/Brown Bedspread Set...\",\"Electric Yoga Seamless Mesh Bank Tank...\",\"Panasonic WES9941P Replacement Outer Foil...\",\"Champion Women's Eco Fleece Pullover Hoodie...\",\"DDF Nourishing 0.5-ounce Eye Cream...\",\"Philosophy Eye Hope Multitasking Eye Cream...\",\"Elizabeth Arden Millenium Eye Renewal Cream...\",\"Women's Ojai Clothing Zen Top Teal Blue...\",\"WD My Passport Ultra WDBPGC5000ATT-NESN 500 GB Ext...\",\"Women's Glamorise Sport No-Bounce Cami Bra White...\",\"Panasonic eneloop Batteries (AA 8 Pk)...\",\"Netgear - RangeMax WNR1000 Wireless Router...\",\"Digital Innovations EasyGlide Wireless Travel Mous...\",\"Nike SolarSoft Golf Grill Room Black Shoes...\",\"Women's Durango Boot RD4100 11 Black Leather...\",\"Lane Boots Women's 'Dawson' Brown/Turquoise Cowboy...\",\"Men's Durango Boot TR760 11 Black Oil Tan Leather...\",\"Lane Boots Women's 'Paradise' Black Cowboy Boot...\",\"Nike Women's 'Zoom Hyperquickness' Synthetic Athle...\",\"Nike Ladies Pink Lunar Duet Sport Golf Shoes...\",\"Ecco Men's 'Bradley Long Laced' Distressed Leather...\",\"Levis Men's Grey Regular Fit Saturated Slub Twill ...\",\"Levi's Petite Fern Mid-rise Skinny Jeans...\",\"Printed Design Tote Bag...\",\"Ecco Men's Street Golf Shoes...\",\"Levi's Men's 'Walker Nylon' Canvas Athletic Shoe...\",\"Levi's Women's Black Ink 'Perfect Waist' Straight ...\",\"Jeanne Arthes Amore Mio Women's 3.3-ounce Eau de P...\",\"Tote Bag with White Stitches...\",\"Samba Kiss' Men's 3.4-ounce Eau de Toilette Spray...\",\"Ecco Men's Golf Street Casual Golf Shoes...\",\"Thierry Mugler Alien Women's 1-ounce Eau de Parfum...\",\"Ecco Men's Biom Hybrid Black/ Fire Golf Shoes...\",\"Jolly Jumper Double Stroller Netting...\",\"JL Childress Double Mesh Stroller Organizer...\",\"Pittsburgh Pirates 34-inch Stadium Bat...\",\"Baby Jogger Universal Parent Stroller Console...\",\"Pangea MLB Pittsburgh Pirates Pennant iPhone 5 Cas...\",\"The New York Doll Collection Double Stroller...\",\"Badger Basket Folding Double Doll Stroller...\",\"Jessica Howard Women's Black and Gold Beaded Jacke...\",\"Aidan Mattox Gold Cap Sleeve Lace Side Pocket Even...\",\"Kayla Collection Women's Black and Gold Kiss Print...\",\"Aidan Mattox Gold Sequin Tulle V-neck Sleeveless L...\",\"Rechargeable AA Batteries...\",\"Corkys Women's 'Rodeo' Printed Western Rain Boots...\",\"Girls' MUK LUKS Little Splashers Rain Boot Purple...\",\"Muk Luks Women's 'Aubrie' Grape Tribal Stripe Rain...\",\"Eveready Gold C Battery (Pack of 4)...\",\"Women's Nomad Hurricane II Rain Boot Green...\",\"Energizer Industrial Alkaline AAA Batteries (Case ...\",\"Women's Nomad Hurricane II Rain Boot Red...\",\"Duracell Coppertop Alkaline AAA Batteries (Case of...\",\"Mobile Edge Portable Hard Drive Carrying Case (Sma...\",\"Buffalo Tools TRIMRBX Trim Router...\",\"Gear Head Mouse...\",\"Linksys EA6400 IEEE 802.11ac Wireless Router...\",\"New Gift Unisex's Men Silver Stainless Steel Cross...\",\"Easos Geal Women's Lace-up Jelly Ankle Boots...\",\"Women's Western Chief Ditsy Dot Multi...\",\"20-24\\\" Mens Stainless Steel Silver Rope Twist Chai...\",\"Women's Tall Red Print Style Rain Boots...\",\"Women's Tall Black Rider-style Rain Boots...\",\"Women's Black and Red Tall Rain Boots...\",\"Muk Luks Boys 'Little Splashers' Blue Rain Boots...\",\"Henry Ferrera Women's Rain Boots...\",\"Panasonic AlkalinePlus AA Battery...\",\"Red Vanilla White 16-piece Bone China Set...\",\"Men's Gold Toe Manhattan 2053S (12 Pairs) Black...\",\"Kayla Collection Women's Two-tone Metallic and Bla...\",\"Daniella Collection Women's Black/ Gold Beaded Rhi...\",\"Men's Gold Toe Metropolitan Crew 101S (12 Pairs) B...\",\"Foundations Quad LX Four-Passenger Stroller in Reg...\",\"Foundations Quad LX 4-Passenger Stroller in Earths...\",\"Foundations Trio Sport Tandem Stroller in Orange...\",\"Pittsburgh Pirates Infield Dirt Coin Panoramic Pho...\",\"Forbes Field (Paperback)...\",\"Foundations LX3 3-Passenger Stroller...\",\"Men's Gold Toe Canterbury Extended 794E (12 Pairs)...\",\"Seville Classics 10-Drawer Organizer Cart...\",\"Men's Gold Toe Cotton Metropolitan 345S (12 Pairs)...\",\"Men's Gold Toe Cotton Metropolitan 345S (12 Pairs)...\",\"Men's Gold Toe Canterbury OTC Extended 794HE (12 P...\",\"Organize It All Cherry Open Drawer Storage Cube...\",\"Men's Gold Toe Windsor Wool 1446S (12 Pairs) Black...\",\"Men's Gold Toe Windsor Wool 1446S (12 Pairs) Navy...\",\"Halston Heritage Women's Gold Allover Sequined Eve...\",\"INSTEN Rechargeable Lithium-ion Battery CR123A for...\",\"Boys' MUK LUKS Little Splashers Rain Boot Blue...\",\"Samsung Galaxy Note 3 SM-N900P White 32GB - Sprint...\",\"Girls' Western Chief Lighted Solid Rain Boot Pink...\",\"Sony NP-F970 L-Series Info-Lithium Battery Pack (6...\",\"Duracell Procell Alkaline AAA Batteries (Case of 2...\",\"PS4 - Killzone: Shadow Fall...\",\"INSTEN Black Vertical Console Stand for Sony PlayS...\",\"INSTEN Blue Soft Silicone Skin Case Cover for Sony...\",\"White Mark Women's Teal and Yellow Printed Bell-sl...\",\"Nike Women's 'Lunaracer+ 3' Mesh Athletic Shoe...\"],\"x\":[-1.299226679506576,0.5046932138360881,0.6147736567082036,0.13641510474393473,1.601936751573991,-0.07517653884397409,2.9049427059106505,2.257648555197135,2.070043114996088,-1.4259827585656675,4.21160317737069,0.870281515499874,4.419973207607784,2.840696382719505,3.453412794478339,-1.8321435288148007,-3.0342983448847245,-2.9932745386060087,-3.2627799253078917,-3.3012624947519127,-0.30430362359472823,-0.9049201783283545,-1.6468839756592226,-0.9960097911330683,-1.7930161158299653,0.2143317421137265,-0.6505526758641291,-1.9214102777015716,-1.367319645568453,1.7348909144503342,-1.2126375835303773,2.460433870382755,-0.698543305430521,2.3388876355960733,-1.4149515865142943,0.6503947139998024,1.603976245591865,3.174748956253955,0.38348549729230624,2.302176835423115,-0.0011866833662128175,0.8537087854987283,-0.7577125567568049,-0.41131822758788794,-0.7112113181619039,-1.0851144749563588,3.538900437281187,-3.4981613816206054,-3.4730521318066168,-3.7543359133701433,3.921885597274693,-3.0815098213392758,3.89518789454213,-2.8581481451390696,4.08922752358335,1.2231749707764934,2.9458046205961965,2.931441839817176,3.314559496596504,1.295737481765846,-2.9026465766603233,-3.502772552203942,1.205279966216273,-3.087852673572195,-3.5305733825961965,-3.3904783830950143,-3.1104484496191542,-3.1244630235231177,4.7303261646259065,1.1634046443199795,-2.7239197830786828,-0.4768236141425796,-1.014956452462285,-2.954887630948139,0.4036653886197679,-0.0484779626055123,0.7388194917315024,2.237551519246873,3.5531282572096465,0.4606965402282267,-2.9777557593254214,2.109215947362967,-2.907765299564942,-2.8739147238198597,-3.024333147514446,1.4399141474005943,-2.852466283437028,-3.0836515867229854,-0.7022552100154525,2.7824261667708914,-3.335303005318135,2.4969868343016945,-2.8663043452161325,3.014119298888333,4.324319621115894,4.118723570679826,1.673935209123726,1.5160216029066635,-1.3997078787147008,-1.069707663529895],\"y\":[2.5040806119851236,2.558251420720681,1.9691082594722145,3.011480324354431,0.014760876475198666,2.5448474080347423,0.7244061700903199,1.2758738229778037,0.772788430441757,2.210232631448697,-1.2255037933502508,2.4931824607971533,-1.5822631122578046,-0.24831065984349465,-1.3803311092548172,-2.41560252555574,0.026817399888769015,0.6443698513224785,-0.2686940784455475,0.05949356422126237,-2.3788066300575474,-0.620047518576997,-1.968730344202902,1.5783783162078278,3.4725042634557273,2.3858596851068556,-1.191725752237806,-0.7087257651638994,3.2887571708918597,1.8669167269717448,2.42495612218436,-0.44199688580282565,-1.7899656520706286,0.5375953679139039,-1.6274869109303336,-0.047530300040104057,0.11428751571193181,-1.2882345525752326,0.08626170029810196,-1.4879956293129486,0.5241177869592134,0.6251750044413538,4.156260153366782,4.8442980767251935,4.0146957667366525,4.6657321729134535,-0.9403306848791966,-0.20462267349571311,-1.7257171815613777,-0.5779364727085665,-1.440972623335073,-2.9564942564620376,-1.7317526444388556,-2.635680795240751,-1.7941786300059002,0.3050490599770451,-1.1801022845736813,-0.8966644042297587,-0.6482391676553612,0.883487683386138,-1.1681243437059938,-1.7800626766845968,0.03182221631349151,-1.910859679213833,-1.3041961153663826,-1.634916146811233,-2.613430979034623,0.3978989223162603,-2.278942302618854,1.200586653409683,-1.8936906029809901,4.433943369421629,4.754303957807898,-1.4415362284972812,-0.5351088932340224,0.20163251052924508,-0.5280271120333189,-0.07530462247084511,-0.4997979642152125,-0.1513470575784985,-1.3677618735317867,0.512395767809163,-1.9886448418099523,-1.45715476686366,-0.8552968079448173,1.0499174353067233,-1.7278778483036559,-1.031136823320364,4.746100660563572,-1.134424178546272,-2.4546145089468676,-0.8591295282766919,-2.4475202915447634,-0.8277992891654176,-1.5068580077801776,-1.331440129523024,-0.6518562346753995,-1.7627002096993398,3.441441089108126,-0.7298652854215435],\"z\":[-0.11038931186520694,0.23651625942263974,1.3458094169525388,-1.2771465452983535,0.6287484245409973,-1.2098388810293539,-1.90345811983199,-1.404249608739283,-1.1739480918643783,-0.4077105095039169,-0.46928526855778757,-0.37889324647998796,-0.9951978799282384,1.1657197179381096,-0.39938740762094627,-0.7565062896946174,-0.6061557047625771,-0.557201096106142,-0.28920984594302956,-0.3022288805017079,-2.1695794478275374,-1.1862343967435955,-0.5152228436988775,-0.35912759444286746,-0.6036860058011043,1.1549322235324333,-0.9842946778355086,-1.0801704487083021,-0.19035827277490813,-0.6021005817033422,0.7366820241631392,-1.183758670851243,-0.8771361604056537,-1.7237087760062988,-0.6476853578229356,5.5323303517947,0.8074399906074998,-1.435565182258827,1.6832471960893807,-1.9632264067644816,4.9954739307453275,4.675254501791662,-0.7858245278265873,-0.9401222615873708,-0.3402118283777811,-1.0547342417298677,-0.5310779395436536,-0.9260255757965381,-0.036041144471149804,-0.46778123227651014,-1.3083369025122271,0.6993004602583099,-0.956827579012131,0.6216949020513798,-1.4417367853694927,1.2123622443855773,0.8189661459346834,0.009630758498895168,0.33368779610788957,-0.7233386635947622,-0.516088720931423,0.41588283160804507,-0.059592607164461533,0.7758130294962993,-0.1287970635239292,0.3106768282176496,0.02881140797767692,-1.0750185311254974,-0.9584717686336283,0.5944216986853691,-0.7132443837316105,-0.830317327950921,-0.8798697820094536,-1.0285530184476674,5.2192700536380014,5.200033596735571,4.90698367092888,-0.7192899328177068,-1.6746617294538275,4.752962896171731,-1.0011897474762987,2.7753007236453215,-0.9044796186770614,-0.8053647986867869,-0.8508626411081214,1.6554027914157512,-0.9642049610283563,-0.9292350149325878,-0.8955357566874962,0.06903516008262651,0.04900903120168622,-0.43441377018391575,1.5776248854403343,0.8491043602525191,-1.4330159967091154,-1.6180870917027583,0.7754373987128926,0.33689730163000164,-0.24142754028074226,-1.0140220139210727],\"type\":\"scatter3d\"}],                        {\"margin\":{\"b\":0,\"l\":0,\"r\":0,\"t\":0},\"plot_bgcolor\":\"#FFF\",\"scene\":{\"xaxis\":{\"backgroundcolor\":\"#ffffff\",\"showbackground\":false,\"showgrid\":false,\"showticklabels\":false,\"title\":{\"text\":\"\"}},\"yaxis\":{\"backgroundcolor\":\"#ffffff\",\"showbackground\":false,\"showgrid\":false,\"showticklabels\":false,\"title\":{\"text\":\"\"}},\"zaxis\":{\"backgroundcolor\":\"#ffffff\",\"showbackground\":false,\"showgrid\":false,\"showticklabels\":false,\"title\":{\"text\":\"\"}}},\"title\":{\"font\":{\"size\":10},\"text\":\"</b>3D Embedding Projector Plot<br>Dataset Name: quickstart_clip<br>Points: 100 points<br>Vector Field: clip_product_image_vector_<br>Vector Label: product_title  Char Length: 50<br></b>\",\"x\":0.1,\"xanchor\":\"left\",\"y\":0.1,\"yanchor\":\"bottom\"},\"xaxis\":{\"showticklabels\":false,\"title\":{\"text\":\"\"},\"visible\":false},\"yaxis\":{\"showticklabels\":false,\"title\":{\"text\":\"\"},\"visible\":false},\"template\":{\"data\":{\"bar\":[{\"error_x\":{\"color\":\"#2a3f5f\"},\"error_y\":{\"color\":\"#2a3f5f\"},\"marker\":{\"line\":{\"color\":\"#E5ECF6\",\"width\":0.5},\"pattern\":{\"fillmode\":\"overlay\",\"size\":10,\"solidity\":0.2}},\"type\":\"bar\"}],\"barpolar\":[{\"marker\":{\"line\":{\"color\":\"#E5ECF6\",\"width\":0.5},\"pattern\":{\"fillmode\":\"overlay\",\"size\":10,\"solidity\":0.2}},\"type\":\"barpolar\"}],\"carpet\":[{\"aaxis\":{\"endlinecolor\":\"#2a3f5f\",\"gridcolor\":\"white\",\"linecolor\":\"white\",\"minorgridcolor\":\"white\",\"startlinecolor\":\"#2a3f5f\"},\"baxis\":{\"endlinecolor\":\"#2a3f5f\",\"gridcolor\":\"white\",\"linecolor\":\"white\",\"minorgridcolor\":\"white\",\"startlinecolor\":\"#2a3f5f\"},\"type\":\"carpet\"}],\"choropleth\":[{\"colorbar\":{\"outlinewidth\":0,\"ticks\":\"\"},\"type\":\"choropleth\"}],\"contour\":[{\"colorbar\":{\"outlinewidth\":0,\"ticks\":\"\"},\"colorscale\":[[0.0,\"#0d0887\"],[0.1111111111111111,\"#46039f\"],[0.2222222222222222,\"#7201a8\"],[0.3333333333333333,\"#9c179e\"],[0.4444444444444444,\"#bd3786\"],[0.5555555555555556,\"#d8576b\"],[0.6666666666666666,\"#ed7953\"],[0.7777777777777778,\"#fb9f3a\"],[0.8888888888888888,\"#fdca26\"],[1.0,\"#f0f921\"]],\"type\":\"contour\"}],\"contourcarpet\":[{\"colorbar\":{\"outlinewidth\":0,\"ticks\":\"\"},\"type\":\"contourcarpet\"}],\"heatmap\":[{\"colorbar\":{\"outlinewidth\":0,\"ticks\":\"\"},\"colorscale\":[[0.0,\"#0d0887\"],[0.1111111111111111,\"#46039f\"],[0.2222222222222222,\"#7201a8\"],[0.3333333333333333,\"#9c179e\"],[0.4444444444444444,\"#bd3786\"],[0.5555555555555556,\"#d8576b\"],[0.6666666666666666,\"#ed7953\"],[0.7777777777777778,\"#fb9f3a\"],[0.8888888888888888,\"#fdca26\"],[1.0,\"#f0f921\"]],\"type\":\"heatmap\"}],\"heatmapgl\":[{\"colorbar\":{\"outlinewidth\":0,\"ticks\":\"\"},\"colorscale\":[[0.0,\"#0d0887\"],[0.1111111111111111,\"#46039f\"],[0.2222222222222222,\"#7201a8\"],[0.3333333333333333,\"#9c179e\"],[0.4444444444444444,\"#bd3786\"],[0.5555555555555556,\"#d8576b\"],[0.6666666666666666,\"#ed7953\"],[0.7777777777777778,\"#fb9f3a\"],[0.8888888888888888,\"#fdca26\"],[1.0,\"#f0f921\"]],\"type\":\"heatmapgl\"}],\"histogram\":[{\"marker\":{\"pattern\":{\"fillmode\":\"overlay\",\"size\":10,\"solidity\":0.2}},\"type\":\"histogram\"}],\"histogram2d\":[{\"colorbar\":{\"outlinewidth\":0,\"ticks\":\"\"},\"colorscale\":[[0.0,\"#0d0887\"],[0.1111111111111111,\"#46039f\"],[0.2222222222222222,\"#7201a8\"],[0.3333333333333333,\"#9c179e\"],[0.4444444444444444,\"#bd3786\"],[0.5555555555555556,\"#d8576b\"],[0.6666666666666666,\"#ed7953\"],[0.7777777777777778,\"#fb9f3a\"],[0.8888888888888888,\"#fdca26\"],[1.0,\"#f0f921\"]],\"type\":\"histogram2d\"}],\"histogram2dcontour\":[{\"colorbar\":{\"outlinewidth\":0,\"ticks\":\"\"},\"colorscale\":[[0.0,\"#0d0887\"],[0.1111111111111111,\"#46039f\"],[0.2222222222222222,\"#7201a8\"],[0.3333333333333333,\"#9c179e\"],[0.4444444444444444,\"#bd3786\"],[0.5555555555555556,\"#d8576b\"],[0.6666666666666666,\"#ed7953\"],[0.7777777777777778,\"#fb9f3a\"],[0.8888888888888888,\"#fdca26\"],[1.0,\"#f0f921\"]],\"type\":\"histogram2dcontour\"}],\"mesh3d\":[{\"colorbar\":{\"outlinewidth\":0,\"ticks\":\"\"},\"type\":\"mesh3d\"}],\"parcoords\":[{\"line\":{\"colorbar\":{\"outlinewidth\":0,\"ticks\":\"\"}},\"type\":\"parcoords\"}],\"pie\":[{\"automargin\":true,\"type\":\"pie\"}],\"scatter\":[{\"marker\":{\"colorbar\":{\"outlinewidth\":0,\"ticks\":\"\"}},\"type\":\"scatter\"}],\"scatter3d\":[{\"line\":{\"colorbar\":{\"outlinewidth\":0,\"ticks\":\"\"}},\"marker\":{\"colorbar\":{\"outlinewidth\":0,\"ticks\":\"\"}},\"type\":\"scatter3d\"}],\"scattercarpet\":[{\"marker\":{\"colorbar\":{\"outlinewidth\":0,\"ticks\":\"\"}},\"type\":\"scattercarpet\"}],\"scattergeo\":[{\"marker\":{\"colorbar\":{\"outlinewidth\":0,\"ticks\":\"\"}},\"type\":\"scattergeo\"}],\"scattergl\":[{\"marker\":{\"colorbar\":{\"outlinewidth\":0,\"ticks\":\"\"}},\"type\":\"scattergl\"}],\"scattermapbox\":[{\"marker\":{\"colorbar\":{\"outlinewidth\":0,\"ticks\":\"\"}},\"type\":\"scattermapbox\"}],\"scatterpolar\":[{\"marker\":{\"colorbar\":{\"outlinewidth\":0,\"ticks\":\"\"}},\"type\":\"scatterpolar\"}],\"scatterpolargl\":[{\"marker\":{\"colorbar\":{\"outlinewidth\":0,\"ticks\":\"\"}},\"type\":\"scatterpolargl\"}],\"scatterternary\":[{\"marker\":{\"colorbar\":{\"outlinewidth\":0,\"ticks\":\"\"}},\"type\":\"scatterternary\"}],\"surface\":[{\"colorbar\":{\"outlinewidth\":0,\"ticks\":\"\"},\"colorscale\":[[0.0,\"#0d0887\"],[0.1111111111111111,\"#46039f\"],[0.2222222222222222,\"#7201a8\"],[0.3333333333333333,\"#9c179e\"],[0.4444444444444444,\"#bd3786\"],[0.5555555555555556,\"#d8576b\"],[0.6666666666666666,\"#ed7953\"],[0.7777777777777778,\"#fb9f3a\"],[0.8888888888888888,\"#fdca26\"],[1.0,\"#f0f921\"]],\"type\":\"surface\"}],\"table\":[{\"cells\":{\"fill\":{\"color\":\"#EBF0F8\"},\"line\":{\"color\":\"white\"}},\"header\":{\"fill\":{\"color\":\"#C8D4E3\"},\"line\":{\"color\":\"white\"}},\"type\":\"table\"}]},\"layout\":{\"annotationdefaults\":{\"arrowcolor\":\"#2a3f5f\",\"arrowhead\":0,\"arrowwidth\":1},\"autotypenumbers\":\"strict\",\"coloraxis\":{\"colorbar\":{\"outlinewidth\":0,\"ticks\":\"\"}},\"colorscale\":{\"diverging\":[[0,\"#8e0152\"],[0.1,\"#c51b7d\"],[0.2,\"#de77ae\"],[0.3,\"#f1b6da\"],[0.4,\"#fde0ef\"],[0.5,\"#f7f7f7\"],[0.6,\"#e6f5d0\"],[0.7,\"#b8e186\"],[0.8,\"#7fbc41\"],[0.9,\"#4d9221\"],[1,\"#276419\"]],\"sequential\":[[0.0,\"#0d0887\"],[0.1111111111111111,\"#46039f\"],[0.2222222222222222,\"#7201a8\"],[0.3333333333333333,\"#9c179e\"],[0.4444444444444444,\"#bd3786\"],[0.5555555555555556,\"#d8576b\"],[0.6666666666666666,\"#ed7953\"],[0.7777777777777778,\"#fb9f3a\"],[0.8888888888888888,\"#fdca26\"],[1.0,\"#f0f921\"]],\"sequentialminus\":[[0.0,\"#0d0887\"],[0.1111111111111111,\"#46039f\"],[0.2222222222222222,\"#7201a8\"],[0.3333333333333333,\"#9c179e\"],[0.4444444444444444,\"#bd3786\"],[0.5555555555555556,\"#d8576b\"],[0.6666666666666666,\"#ed7953\"],[0.7777777777777778,\"#fb9f3a\"],[0.8888888888888888,\"#fdca26\"],[1.0,\"#f0f921\"]]},\"colorway\":[\"#636efa\",\"#EF553B\",\"#00cc96\",\"#ab63fa\",\"#FFA15A\",\"#19d3f3\",\"#FF6692\",\"#B6E880\",\"#FF97FF\",\"#FECB52\"],\"font\":{\"color\":\"#2a3f5f\"},\"geo\":{\"bgcolor\":\"white\",\"lakecolor\":\"white\",\"landcolor\":\"#E5ECF6\",\"showlakes\":true,\"showland\":true,\"subunitcolor\":\"white\"},\"hoverlabel\":{\"align\":\"left\"},\"hovermode\":\"closest\",\"mapbox\":{\"style\":\"light\"},\"paper_bgcolor\":\"white\",\"plot_bgcolor\":\"#E5ECF6\",\"polar\":{\"angularaxis\":{\"gridcolor\":\"white\",\"linecolor\":\"white\",\"ticks\":\"\"},\"bgcolor\":\"#E5ECF6\",\"radialaxis\":{\"gridcolor\":\"white\",\"linecolor\":\"white\",\"ticks\":\"\"}},\"scene\":{\"xaxis\":{\"backgroundcolor\":\"#E5ECF6\",\"gridcolor\":\"white\",\"gridwidth\":2,\"linecolor\":\"white\",\"showbackground\":true,\"ticks\":\"\",\"zerolinecolor\":\"white\"},\"yaxis\":{\"backgroundcolor\":\"#E5ECF6\",\"gridcolor\":\"white\",\"gridwidth\":2,\"linecolor\":\"white\",\"showbackground\":true,\"ticks\":\"\",\"zerolinecolor\":\"white\"},\"zaxis\":{\"backgroundcolor\":\"#E5ECF6\",\"gridcolor\":\"white\",\"gridwidth\":2,\"linecolor\":\"white\",\"showbackground\":true,\"ticks\":\"\",\"zerolinecolor\":\"white\"}},\"shapedefaults\":{\"line\":{\"color\":\"#2a3f5f\"}},\"ternary\":{\"aaxis\":{\"gridcolor\":\"white\",\"linecolor\":\"white\",\"ticks\":\"\"},\"baxis\":{\"gridcolor\":\"white\",\"linecolor\":\"white\",\"ticks\":\"\"},\"bgcolor\":\"#E5ECF6\",\"caxis\":{\"gridcolor\":\"white\",\"linecolor\":\"white\",\"ticks\":\"\"}},\"title\":{\"x\":0.05},\"xaxis\":{\"automargin\":true,\"gridcolor\":\"white\",\"linecolor\":\"white\",\"ticks\":\"\",\"title\":{\"standoff\":15},\"zerolinecolor\":\"white\",\"zerolinewidth\":2},\"yaxis\":{\"automargin\":true,\"gridcolor\":\"white\",\"linecolor\":\"white\",\"ticks\":\"\",\"title\":{\"standoff\":15},\"zerolinecolor\":\"white\",\"zerolinewidth\":2}}}},                        {\"responsive\": true}                    ).then(function(){\n",
                            "                            \n",
                            "var gd = document.getElementById('3d2fe2d8-80e2-4d9f-8b8c-8e83452ece99');\n",
                            "var x = new MutationObserver(function (mutations, observer) {{\n",
                            "        var display = window.getComputedStyle(gd).display;\n",
                            "        if (!display || display === 'none') {{\n",
                            "            console.log([gd, 'removed!']);\n",
                            "            Plotly.purge(gd);\n",
                            "            observer.disconnect();\n",
                            "        }}\n",
                            "}});\n",
                            "\n",
                            "// Listen for the removal of the full notebook cells\n",
                            "var notebookContainer = gd.closest('#notebook-container');\n",
                            "if (notebookContainer) {{\n",
                            "    x.observe(notebookContainer, {childList: true});\n",
                            "}}\n",
                            "\n",
                            "// Listen for the clearing of the current output cell\n",
                            "var outputEl = gd.closest('.output');\n",
                            "if (outputEl) {{\n",
                            "    x.observe(outputEl, {childList: true});\n",
                            "}}\n",
                            "\n",
                            "                        })                };                            </script>        </div>\n",
                            "</body>\n",
                            "</html>"
                        ]
                    },
                    "metadata": {},
                    "output_type": "display_data"
                }
            ],
            "source": [
                "client.projector.plot(\n",
                "    dataset_id=\"quickstart_clip\",\n",
                "    number_of_points_to_render=100,\n",
                "    vector_label = \"product_title\",\n",
                "    vector_field=\"clip_product_image_vector_\"\n",
                ")"
            ]
        },
        {
            "cell_type": "markdown",
            "id": "E_Lp28rM5X4G",
            "metadata": {
                "id": "E_Lp28rM5X4G"
            },
            "source": [
                "Other Notebooks:\n",
                "\n",
                "- [Multivector search with your own vectors](doc:search-with-your-own-vectors) \n",
                "- [Text search using USE (VectorHub)](doc:quickstart-text-search) \n",
                "- [Question answering using USE QA (Tensorflow Hub)](doc:quickstart-question-answering) "
            ]
        }
    ],
    "metadata": {
        "accelerator": "GPU",
        "colab": {
            "collapsed_sections": [
                "8Zd9EhXTqerj"
            ],
            "name": "RelevanceAI-ReadMe-Text-to-Image-Search.ipynb",
            "provenance": []
        },
        "kernelspec": {
            "display_name": "Python 3 (ipykernel)",
            "language": "python",
            "name": "python3"
        },
        "language_info": {
            "codemirror_mode": {
                "name": "ipython",
                "version": 3
            },
            "file_extension": ".py",
            "mimetype": "text/x-python",
            "name": "python",
            "nbconvert_exporter": "python",
            "pygments_lexer": "ipython3",
            "version": "3.7.10"
        },
        "toc": {
            "base_numbering": 1,
            "nav_menu": {},
            "number_sections": true,
            "sideBar": true,
            "skip_h1_title": false,
            "title_cell": "Table of Contents",
            "title_sidebar": "Contents",
            "toc_cell": false,
            "toc_position": {
                "height": "calc(100% - 180px)",
                "left": "10px",
                "top": "150px",
                "width": "384px"
            },
            "toc_section_display": true,
            "toc_window_display": true
        }
    },
    "nbformat": 4,
    "nbformat_minor": 5
}