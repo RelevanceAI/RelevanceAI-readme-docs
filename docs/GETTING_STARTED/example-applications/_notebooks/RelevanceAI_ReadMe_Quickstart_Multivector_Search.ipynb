{
  "cells": [
    {
      "cell_type": "markdown",
      "id": "lGdnbufsSKlB",
      "metadata": {
        "id": "lGdnbufsSKlB"
      },
      "source": [
        "[![Open In Colab](https://colab.research.google.com/_assets/colab-badge.svg)](https://colab.research.google.com/github/RelevanceAI/RelevanceAI-readme-docs/blob/main/docs/GETTING_STARTED/Example_applications/_notebooks/RelevanceAI_ReadMe_Quickstart_Multivector_Search.ipynb)\n",
        "\n",
        "\n",
        "# Quickstart\n",
        "\n",
        "to get features such as:\n",
        "- hybrid search\n",
        "- multivector search\n",
        "- filtered search\n",
        "- etc out of the box"
      ]
    },
    {
      "cell_type": "markdown",
      "id": "928fd38d",
      "metadata": {
        "id": "928fd38d"
      },
      "source": [
        "# What I Need"
      ]
    },
    {
      "cell_type": "markdown",
      "id": "31dfada7",
      "metadata": {
        "id": "31dfada7"
      },
      "source": [
        "- Project & API Key (grab your API key from https://cloud.relevance.ai/ in the settings area and let's get started)\n",
        "- Python 3\n",
        "- Relevance AI Installed [Installation guide](https://docs.relevance.ai/docs)"
      ]
    },
    {
      "cell_type": "markdown",
      "id": "VC8aPkNVQagh",
      "metadata": {
        "id": "VC8aPkNVQagh"
      },
      "source": [
        "# Installation Requirements"
      ]
    },
    {
      "cell_type": "code",
      "execution_count": null,
      "id": "OOJCjWZkQb15",
      "metadata": {
        "id": "OOJCjWZkQb15"
      },
      "outputs": [],
      "source": [
        "%%capture\n",
        "!pip install -U -q RelevanceAI[notebook]"
      ]
    },
    {
      "cell_type": "markdown",
      "id": "ypqENsTrocdc",
      "metadata": {
        "id": "ypqENsTrocdc"
      },
      "source": [
        "# Multivector search with your own vectors"
      ]
    },
    {
      "cell_type": "markdown",
      "id": "dMV_xgPVVjtZ",
      "metadata": {
        "id": "dMV_xgPVVjtZ"
      },
      "source": [
        "## Client\n",
        "\n",
        "After we install, we want to also set up the client. If you are missing a Project and API key, grab then from https://cloud.relevance.ai/ and let's get started!\n"
      ]
    },
    {
      "cell_type": "code",
      "execution_count": null,
      "id": "qsicetXLViu8",
      "metadata": {
        "colab": {
          "base_uri": "https://localhost:8080/"
        },
        "id": "qsicetXLViu8",
        "outputId": "3b20a1b1-bcb3-43d0-c87c-f8f1e3a50938"
      },
      "outputs": [
        {
          "name": "stdout",
          "output_type": "stream",
          "text": [
            "Authorization token:··········\n"
          ]
        }
      ],
      "source": [
        "from relevanceai import Client\n",
        "client = Client(verbose=False)"
      ]
    },
    {
      "cell_type": "markdown",
      "id": "5a9bb4d0",
      "metadata": {
        "id": "5a9bb4d0"
      },
      "source": [
        "## 1) Data + Encode"
      ]
    },
    {
      "cell_type": "code",
      "execution_count": null,
      "id": "V4UW9pZEbK6F",
      "metadata": {
        "colab": {
          "base_uri": "https://localhost:8080/",
          "height": 462
        },
        "id": "V4UW9pZEbK6F",
        "outputId": "e7c6bbeb-9a8a-4f22-9b85-1953fb310164"
      },
      "outputs": [
        {
          "name": "stdout",
          "output_type": "stream",
          "text": [
            "2021-11-18 23:36:14.766 | SUCCESS  | relevanceai.http_client:__init__:54 - Welcome to the RelevanceAI Python SDK\n",
            "2021-11-18 23:36:42.569 | SUCCESS  | relevanceai.transport:make_http_request:70 - Response success! (https://gateway-api-aueast.relevance.ai/v1/datasets/quickstart_data_sample/documents/get_where)\n"
          ]
        },
        {
          "data": {
            "text/html": [
              "<div>\n",
              "<style scoped>\n",
              "    .dataframe tbody tr th:only-of-type {\n",
              "        vertical-align: middle;\n",
              "    }\n",
              "\n",
              "    .dataframe tbody tr th {\n",
              "        vertical-align: top;\n",
              "    }\n",
              "\n",
              "    .dataframe thead th {\n",
              "        text-align: right;\n",
              "    }\n",
              "</style>\n",
              "<table border=\"1\" class=\"dataframe\">\n",
              "  <thead>\n",
              "    <tr style=\"text-align: right;\">\n",
              "      <th></th>\n",
              "      <th>_id</th>\n",
              "      <th>product_image</th>\n",
              "      <th>product_description</th>\n",
              "      <th>product_title</th>\n",
              "      <th>product_title_use_vector_</th>\n",
              "      <th>product_image_clip_vector_</th>\n",
              "    </tr>\n",
              "  </thead>\n",
              "  <tbody>\n",
              "    <tr>\n",
              "      <th>0</th>\n",
              "      <td>711160239</td>\n",
              "      <td>https://thumbs4.ebaystatic.com/d/l225/pict/321...</td>\n",
              "      <td>eBay item number:321567405391\\n\\n\\n\\tSeller as...</td>\n",
              "      <td>20-36Mens Silver Stainless Steel Braided Wheat...</td>\n",
              "      <td>[-0.09826640039682388, -0.035025712102651596, ...</td>\n",
              "      <td>[-0.3798828125, -0.10198974609375, 0.044555664...</td>\n",
              "    </tr>\n",
              "    <tr>\n",
              "      <th>1</th>\n",
              "      <td>711161256</td>\n",
              "      <td>https://ak1.ostkcdn.com/images/products/953561...</td>\n",
              "      <td>These easy pull-on rubber rain boots feature a...</td>\n",
              "      <td>Women's Pattern Bloom Rubber Boots</td>\n",
              "      <td>[0.04744097217917442, 0.029574474319815636, -0...</td>\n",
              "      <td>[0.0261688232421875, 0.1923828125, 1.0703125, ...</td>\n",
              "    </tr>\n",
              "    <tr>\n",
              "      <th>2</th>\n",
              "      <td>711161257</td>\n",
              "      <td>https://ak1.ostkcdn.com/images/products/932993...</td>\n",
              "      <td>These classic black rain boots from Henry Ferr...</td>\n",
              "      <td>Henry Ferrera Women's Black Equestrian Style R...</td>\n",
              "      <td>[0.0577339231967926, 0.00579628674313426, -0.0...</td>\n",
              "      <td>[-0.1395263671875, 0.1348876953125, 0.5859375,...</td>\n",
              "    </tr>\n",
              "    <tr>\n",
              "      <th>3</th>\n",
              "      <td>711161258</td>\n",
              "      <td>https://ak1.ostkcdn.com/images/products/920720...</td>\n",
              "      <td>Practical in the rain or on a sunny day, these...</td>\n",
              "      <td>Easos Geal Women's Bowknot Jelly Ankle Boots</td>\n",
              "      <td>[-0.0031434516422450542, -0.003708817297592759...</td>\n",
              "      <td>[-0.27978515625, -0.298583984375, 0.92578125, ...</td>\n",
              "    </tr>\n",
              "    <tr>\n",
              "      <th>4</th>\n",
              "      <td>711161260</td>\n",
              "      <td>https://ak1.ostkcdn.com/images/products/P16803...</td>\n",
              "      <td>Your kids will give Splish Splash an all new m...</td>\n",
              "      <td>Muk Luks 'Girls Little Splashers' Purple Rain ...</td>\n",
              "      <td>[0.04491618275642395, -0.032212916761636734, -...</td>\n",
              "      <td>[0.1312255859375, -0.1746826171875, 0.78076171...</td>\n",
              "    </tr>\n",
              "  </tbody>\n",
              "</table>\n",
              "</div>"
            ],
            "text/plain": [
              "         _id  ...                         product_image_clip_vector_\n",
              "0  711160239  ...  [-0.3798828125, -0.10198974609375, 0.044555664...\n",
              "1  711161256  ...  [0.0261688232421875, 0.1923828125, 1.0703125, ...\n",
              "2  711161257  ...  [-0.1395263671875, 0.1348876953125, 0.5859375,...\n",
              "3  711161258  ...  [-0.27978515625, -0.298583984375, 0.92578125, ...\n",
              "4  711161260  ...  [0.1312255859375, -0.1746826171875, 0.78076171...\n",
              "\n",
              "[5 rows x 6 columns]"
            ]
          },
          "execution_count": 3,
          "metadata": {},
          "output_type": "execute_result"
        }
      ],
      "source": [
        "import pandas as pd\n",
        "from relevanceai.datasets import get_sample_ecommerce_dataset\n",
        "\n",
        "# Retrieve our sample dataset. - This comes in the form of a list of documents.\n",
        "docs = get_sample_ecommerce_dataset()\n",
        "pd.DataFrame.from_dict(docs).head()"
      ]
    },
    {
      "cell_type": "markdown",
      "id": "UDzzsRCUoIs2",
      "metadata": {
        "id": "UDzzsRCUoIs2"
      },
      "source": [
        "## 2) Insert"
      ]
    },
    {
      "cell_type": "code",
      "execution_count": null,
      "id": "503776b3",
      "metadata": {
        "colab": {
          "base_uri": "https://localhost:8080/"
        },
        "id": "503776b3",
        "outputId": "c25accac-4431-49f5-a538-3481639b1297"
      },
      "outputs": [
        {
          "name": "stdout",
          "output_type": "stream",
          "text": [
            "2021-11-18 23:36:56.780 | SUCCESS  | relevanceai.transport:make_http_request:70 - Response success! (https://gateway-api-aueast.relevance.ai/v1/datasets/delete)\n",
            "2021-11-18 23:37:06.100 | SUCCESS  | relevanceai.transport:make_http_request:70 - Response success! (https://ingest-api-dev-aueast.relevance.ai/latest/datasets/quickstart_sample/documents/bulk_insert)\n",
            "2021-11-18 23:37:06.124 | SUCCESS  | relevanceai.transport:make_http_request:70 - Response success! (https://ingest-api-dev-aueast.relevance.ai/latest/datasets/quickstart_sample/documents/bulk_insert)\n",
            "2021-11-18 23:37:06.172 | SUCCESS  | relevanceai.transport:make_http_request:70 - Response success! (https://ingest-api-dev-aueast.relevance.ai/latest/datasets/quickstart_sample/documents/bulk_insert)\n",
            "2021-11-18 23:37:06.220 | SUCCESS  | relevanceai.transport:make_http_request:70 - Response success! (https://ingest-api-dev-aueast.relevance.ai/latest/datasets/quickstart_sample/documents/bulk_insert)\n",
            "2021-11-18 23:37:07.235 | SUCCESS  | relevanceai.transport:make_http_request:70 - Response success! (https://ingest-api-dev-aueast.relevance.ai/latest/datasets/quickstart_sample/documents/bulk_insert)\n",
            "2021-11-18 23:37:07.304 | SUCCESS  | relevanceai.transport:make_http_request:70 - Response success! (https://ingest-api-dev-aueast.relevance.ai/latest/datasets/quickstart_sample/documents/bulk_insert)\n",
            "2021-11-18 23:37:07.367 | SUCCESS  | relevanceai.transport:make_http_request:70 - Response success! (https://ingest-api-dev-aueast.relevance.ai/latest/datasets/quickstart_sample/documents/bulk_insert)\n",
            "2021-11-18 23:37:07.428 | SUCCESS  | relevanceai.transport:make_http_request:70 - Response success! (https://ingest-api-dev-aueast.relevance.ai/latest/datasets/quickstart_sample/documents/bulk_insert)\n"
          ]
        }
      ],
      "source": [
        "client.datasets.delete(\"quickstart_sample\")\n",
        "insert_status = client.insert_documents(\"quickstart_sample\", docs)"
      ]
    },
    {
      "cell_type": "markdown",
      "id": "WPAroc9KoPQJ",
      "metadata": {
        "id": "WPAroc9KoPQJ"
      },
      "source": [
        "## 3) Search"
      ]
    },
    {
      "cell_type": "code",
      "execution_count": null,
      "id": "eQ9Bg7syeIbI",
      "metadata": {
        "colab": {
          "base_uri": "https://localhost:8080/"
        },
        "id": "eQ9Bg7syeIbI",
        "outputId": "92b8cbf0-e997-4091-996d-fb905b916662"
      },
      "outputs": [
        {
          "name": "stdout",
          "output_type": "stream",
          "text": [
            "2021-11-18 23:37:27.488 | SUCCESS  | relevanceai.transport:make_http_request:70 - Response success! (https://gateway-api-aueast.relevance.ai/v1/datasets/quickstart_sample/documents/get)\n",
            "2021-11-18 23:37:28.158 | SUCCESS  | relevanceai.transport:make_http_request:70 - Response success! (https://gateway-api-aueast.relevance.ai/v1/services/search/vector)\n"
          ]
        }
      ],
      "source": [
        "# Let us get a document and its vector \n",
        "doc = client.datasets.documents.get(dataset_id=\"quickstart_sample\", id=\"711161256\")\n",
        "image_vector = doc['document']['product_image_clip_vector_']\n",
        "text_vector = doc['document']['product_title_use_vector_']\n",
        "\n",
        "# Create a vector query - which is a list of Python dictionaries with the fields \"vector\" and \"fields\"\n",
        "multivector_query = [\n",
        "    {\"vector\": image_vector, \"fields\": ['product_image_clip_vector_']},\n",
        "    {\"vector\": text_vector, \"fields\": ['product_title_use_vector_']}\n",
        "]\n",
        "\n",
        "#Perform a vector search\n",
        "results = client.services.search.vector(\n",
        "    dataset_id=\"quickstart_sample\", \n",
        "    multivector_query=multivector_query,\n",
        "    page_size=5\n",
        ")"
      ]
    },
    {
      "cell_type": "code",
      "execution_count": null,
      "id": "ySveUo1lgwQP",
      "metadata": {
        "colab": {
          "base_uri": "https://localhost:8080/",
          "height": 489
        },
        "id": "ySveUo1lgwQP",
        "outputId": "fbfac788-db71-4b38-aaf4-077fecf70898"
      },
      "outputs": [
        {
          "name": "stdout",
          "output_type": "stream",
          "text": [
            "=== QUERY === \n"
          ]
        },
        {
          "data": {
            "text/html": [
              "<table border=\"1\" class=\"dataframe\">\n",
              "  <thead>\n",
              "    <tr style=\"text-align: right;\">\n",
              "      <th></th>\n",
              "      <th>product_image</th>\n",
              "      <th>product_title</th>\n",
              "    </tr>\n",
              "  </thead>\n",
              "  <tbody>\n",
              "    <tr>\n",
              "      <th>0</th>\n",
              "      <td><img src=\"https://ak1.ostkcdn.com/images/products/9535612/P16714932.jpg\" width=\"60\" ></td>\n",
              "      <td>Women's Pattern Bloom Rubber Boots</td>\n",
              "    </tr>\n",
              "  </tbody>\n",
              "</table>"
            ],
            "text/plain": [
              "<IPython.core.display.HTML object>"
            ]
          },
          "metadata": {},
          "output_type": "display_data"
        },
        {
          "name": "stdout",
          "output_type": "stream",
          "text": [
            "=== RESULTS ===\n"
          ]
        },
        {
          "data": {
            "text/html": [
              "<table border=\"1\" class=\"dataframe\">\n",
              "  <thead>\n",
              "    <tr style=\"text-align: right;\">\n",
              "      <th></th>\n",
              "      <th>product_image</th>\n",
              "      <th>product_title</th>\n",
              "      <th>_id</th>\n",
              "    </tr>\n",
              "  </thead>\n",
              "  <tbody>\n",
              "    <tr>\n",
              "      <th>0</th>\n",
              "      <td><img src=\"https://ak1.ostkcdn.com/images/products/9535612/P16714932.jpg\" width=\"60\" ></td>\n",
              "      <td>Women's Pattern Bloom Rubber Boots</td>\n",
              "      <td>711161256</td>\n",
              "    </tr>\n",
              "    <tr>\n",
              "      <th>1</th>\n",
              "      <td><img src=\"https://ak1.ostkcdn.com/images/products/9489125/P16670052.jpg\" width=\"60\" ></td>\n",
              "      <td>Lane Boots Maggie\" Women's Cowboy Boot\"</td>\n",
              "      <td>711161381</td>\n",
              "    </tr>\n",
              "    <tr>\n",
              "      <th>2</th>\n",
              "      <td><img src=\"https://ak1.ostkcdn.com/images/products/7641523/7641523/Henry-Ferrera-Womens-Knee-high-Rain-Boots-P15058351.jpeg\" width=\"60\" ></td>\n",
              "      <td>Henry Ferrera Women's Knee-high Rain Boots</td>\n",
              "      <td>711161261</td>\n",
              "    </tr>\n",
              "    <tr>\n",
              "      <th>3</th>\n",
              "      <td><img src=\"https://ak1.ostkcdn.com/images/products/7995153/P15362482.jpg\" width=\"60\" ></td>\n",
              "      <td>Lane Boots Women's 'Willow' Black Cowboy Boots</td>\n",
              "      <td>711161383</td>\n",
              "    </tr>\n",
              "    <tr>\n",
              "      <th>4</th>\n",
              "      <td><img src=\"https://ak1.ostkcdn.com/images/products/7559348/Henry-Ferrera-Womens-Rain-Boots-P14990684L.jpg\" width=\"60\" ></td>\n",
              "      <td>Henry Ferrera Women's Rain Boots</td>\n",
              "      <td>711161263</td>\n",
              "    </tr>\n",
              "  </tbody>\n",
              "</table>"
            ],
            "text/plain": [
              "<IPython.core.display.HTML object>"
            ]
          },
          "execution_count": 6,
          "metadata": {},
          "output_type": "execute_result"
        }
      ],
      "source": [
        "from relevanceai import show_json\n",
        "print('=== QUERY === ')\n",
        "display(show_json([doc['document']], image_fields=[\"product_image\"], text_fields=[\"product_title\"]))\n",
        "\n",
        "print('=== RESULTS ===')\n",
        "show_json(results, image_fields=[\"product_image\"], text_fields=[\"product_title\"])"
      ]
    },
    {
      "cell_type": "code",
      "execution_count": null,
      "id": "sAjvywrjaYJI",
      "metadata": {
        "id": "sAjvywrjaYJI"
      },
      "outputs": [],
      "source": []
    }
  ],
  "metadata": {
    "accelerator": "GPU",
    "colab": {
      "collapsed_sections": [],
      "name": "RelevanceAI-ReadMe-Multi-vector search.ipynb",
      "provenance": [],
      "toc_visible": true
    },
    "kernelspec": {
      "display_name": "Python 3 (ipykernel)",
      "language": "python",
      "name": "python3"
    },
    "language_info": {
      "codemirror_mode": {
        "name": "ipython",
        "version": 3
      },
      "file_extension": ".py",
      "mimetype": "text/x-python",
      "name": "python",
      "nbconvert_exporter": "python",
      "pygments_lexer": "ipython3",
      "version": "3.7.10"
    },
    "toc": {
      "base_numbering": 1,
      "nav_menu": {},
      "number_sections": true,
      "sideBar": true,
      "skip_h1_title": false,
      "title_cell": "Table of Contents",
      "title_sidebar": "Contents",
      "toc_cell": false,
      "toc_position": {
        "height": "calc(100% - 180px)",
        "left": "10px",
        "top": "150px",
        "width": "384px"
      },
      "toc_section_display": true,
      "toc_window_display": true
    }
  },
  "nbformat": 4,
  "nbformat_minor": 5
}
