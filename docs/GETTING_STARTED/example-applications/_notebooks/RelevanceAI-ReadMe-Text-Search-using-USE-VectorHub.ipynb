{
    "cells": [
        {
            "cell_type": "markdown",
            "id": "lGdnbufsSKlB",
            "metadata": {
                "id": "lGdnbufsSKlB"
            },
            "source": [
                "[![Open In Colab](https://colab.research.google.com/assets/colab-badge.svg)](https://colab.research.google.com/github/RelevanceAI/RelevanceAI-readme-docs/blob/v0.33.2-getting-started/docs/GETTING_STARTED/example-applications/_notebooks/RelevanceAI-ReadMe-Text-Search-using-USE-VectorHub.ipynb)\n",
                "\n",
                "\n",
                "# Quickstart\n",
                "\n",
                "to get features such as:\n",
                "- hybrid search\n",
                "- multivector search\n",
                "- filtered search\n",
                "- etc out of the box"
            ]
        },
        {
            "cell_type": "markdown",
            "id": "928fd38d",
            "metadata": {
                "id": "928fd38d"
            },
            "source": [
                "# What I Need"
            ]
        },
        {
            "cell_type": "markdown",
            "id": "31dfada7",
            "metadata": {
                "id": "31dfada7"
            },
            "source": [
                "- Project & API Key (grab your API key from https://cloud.relevance.ai/ in the settings area)\n",
                "- Python 3\n",
                "- Relevance AI Installed as shown below. You can also visit our [Installation guide](https://docs.relevance.ai/docs)"
            ]
        },
        {
            "cell_type": "markdown",
            "id": "VC8aPkNVQagh",
            "metadata": {
                "id": "VC8aPkNVQagh"
            },
            "source": [
                "# Installation Requirements"
            ]
        },
        {
            "cell_type": "code",
            "execution_count": null,
            "id": "OOJCjWZkQb15",
            "metadata": {
                "id": "OOJCjWZkQb15"
            },
            "outputs": [],
            "source": [
                "!pip install -U RelevanceAI[notebook]==0.33.2\n!pip install -q vectorhub[encoders-text-tfhub]\n",
                "\n"
            ]
        },
        {
            "cell_type": "markdown",
            "id": "dMV_xgPVVjtZ",
            "metadata": {
                "id": "dMV_xgPVVjtZ"
            },
            "source": [
                "#Set up Client\n",
                "\n",
                "To use Relevance AI, a client object must be instantiated. This needs an API_key and a project name. These can be generated/access directly at https://cloud.relevance.ai/ or simply by running the cell below and following the link and the guide:\n"
            ]
        },
        {
            "cell_type": "code",
            "execution_count": null,
            "id": "qsicetXLViu8",
            "metadata": {
                "id": "qsicetXLViu8"
            },
            "outputs": [],
            "source": [
                "\n",
                "from relevanceai import Client\n\n\"\"\"\nYou can sign up/login and find your credentials here: https://cloud.relevance.ai/sdk/api\nOnce you have signed up, click on the value under `Authorization token` and paste it here\n\"\"\"\nclient = Client()\n",
                "\n"
            ]
        },
        {
            "cell_type": "markdown",
            "id": "VDE5YyyFMj9Y",
            "metadata": {
                "id": "VDE5YyyFMj9Y"
            },
            "source": [
                "# Vector Search"
            ]
        },
        {
            "cell_type": "markdown",
            "id": "5a9bb4d0",
            "metadata": {
                "id": "5a9bb4d0"
            },
            "source": [
                "## 1) Data"
            ]
        },
        {
            "cell_type": "markdown",
            "id": "3xtccV4spWzk",
            "metadata": {
                "id": "3xtccV4spWzk"
            },
            "source": [
                "For this quickstart we will be using a sample e-commerce dataset. Alternatively, you can use your own dataset for the different steps."
            ]
        },
        {
            "cell_type": "code",
            "execution_count": null,
            "id": "V4UW9pZEbK6F",
            "metadata": {
                "id": "V4UW9pZEbK6F"
            },
            "outputs": [],
            "source": [
                "import pandas as pd\nfrom relevanceai.datasets import get_ecommerce_dataset_clean\n\n# Retrieve our sample dataset. - This comes in the form of a list of documents.\ndocuments = get_ecommerce_dataset_clean()\n\npd.DataFrame.from_dict(documents).head()"
            ]
        },
        {
            "cell_type": "markdown",
            "id": "PsgrebUwx-G9",
            "metadata": {
                "id": "PsgrebUwx-G9"
            },
            "source": [
                "## 2) Encode"
            ]
        },
        {
            "cell_type": "code",
            "execution_count": null,
            "id": "U2jcaYCNyCwp",
            "metadata": {
                "id": "U2jcaYCNyCwp"
            },
            "outputs": [],
            "source": [
                "from vectorhub.encoders.text.tfhub import USE2Vec\nmodel = USE2Vec()\n\ndocuments = model.encode_documents(fields=['product_title'], documents=documents)\n"
            ]
        },
        {
            "cell_type": "code",
            "execution_count": null,
            "id": "4AHEuO7231g1",
            "metadata": {
                "id": "4AHEuO7231g1"
            },
            "outputs": [],
            "source": [
                "documents[0].keys()"
            ]
        },
        {
            "cell_type": "markdown",
            "id": "DzzYoLDO37gb",
            "metadata": {
                "id": "DzzYoLDO37gb"
            },
            "source": [
                "We can see that there is now a field called `product_title_use_vector_` in our data. \n",
                "`_use_vector_` is the name assigned to the model in Vectorhub and we use it when generating vectors. \n",
                "If you prefer a different name, simply modify the `__name__` attribute via\n",
                "`enc.__name__ = \"model_name_goes_here\"`"
            ]
        },
        {
            "cell_type": "markdown",
            "id": "UDzzsRCUoIs2",
            "metadata": {
                "id": "UDzzsRCUoIs2"
            },
            "source": [
                "## 3) Insert"
            ]
        },
        {
            "cell_type": "markdown",
            "id": "EFE4Ld0Epu1l",
            "metadata": {
                "id": "EFE4Ld0Epu1l"
            },
            "source": [
                "Uploading our documents into a dataset called `quickstart-example`.\n",
                "Note that each document should have a field called '_id'. Here, we generate a unique identifier using the Python uuid package."
            ]
        },
        {
            "cell_type": "code",
            "execution_count": null,
            "id": "503776b3",
            "metadata": {
                "id": "503776b3"
            },
            "outputs": [],
            "source": [
                "import uuid\n\nfor d in documents:\n  d['_id'] = uuid.uuid4().__str__()    # Each document must have a field '_id'\n\nDATASET_ID = \"quickstart-example\"\ndf = client.Dataset(DATASET_ID)\ndf.delete()\ndf.insert_documents(documents)\n"
            ]
        },
        {
            "cell_type": "markdown",
            "id": "WPAroc9KoPQJ",
            "metadata": {
                "id": "WPAroc9KoPQJ"
            },
            "source": [
                "## 4) Search"
            ]
        },
        {
            "cell_type": "markdown",
            "id": "S1_jQ2Tv5a0r",
            "metadata": {
                "id": "S1_jQ2Tv5a0r"
            },
            "source": [
                "Note that our dataset includes vectors generated by Universal Sentence Encoder. Therefore, in this step, we first vectorize the query using the same encoder to be able to search among the similarly generated vectors."
            ]
        },
        {
            "cell_type": "code",
            "execution_count": null,
            "id": "eQ9Bg7syeIbI",
            "metadata": {
                "id": "eQ9Bg7syeIbI"
            },
            "outputs": [],
            "source": [
                "query = 'Gift for my son'\nquery_vector = model.encode(query)"
            ]
        },
        {
            "cell_type": "code",
            "execution_count": null,
            "id": "v1CVceYr58m6",
            "metadata": {
                "colab": {
                    "base_uri": "https://localhost:8080/"
                },
                "id": "v1CVceYr58m6",
                "outputId": "18d8e65b-f0c4-42f0-c620-901a6c086a96"
            },
            "outputs": [
                {
                    "name": "stdout",
                    "output_type": "stream",
                    "text": [
                        "You can now visit the dashboard at https://cloud.relevance.ai/sdk/search\n"
                    ]
                }
            ],
            "source": [
                "multivector_query=[\n        { \"vector\": query_vector, \"fields\": [\"product_title_use_vector_\"]}\n    ]\nresults = df.vector_search(\n    multivector_query=multivector_query,\n    page_size=5\n)\n"
            ]
        },
        {
            "cell_type": "code",
            "execution_count": null,
            "id": "ySveUo1lgwQP",
            "metadata": {
                "colab": {
                    "base_uri": "https://localhost:8080/",
                    "height": 206
                },
                "id": "ySveUo1lgwQP",
                "outputId": "c593d559-3c21-4666-fbb4-01151f40352a"
            },
            "outputs": [
                {
                    "data": {
                        "text/html": [
                            "<table border=\"1\" class=\"dataframe\">\n",
                            "  <thead>\n",
                            "    <tr style=\"text-align: right;\">\n",
                            "      <th></th>\n",
                            "      <th>product_title</th>\n",
                            "      <th>_id</th>\n",
                            "    </tr>\n",
                            "  </thead>\n",
                            "  <tbody>\n",
                            "    <tr>\n",
                            "      <th>0</th>\n",
                            "      <td>Animale Men's 3-piece Gift Set</td>\n",
                            "      <td>92f64d5c-a10b-4bf2-9dc9-eda6e24e771e</td>\n",
                            "    </tr>\n",
                            "    <tr>\n",
                            "      <th>1</th>\n",
                            "      <td>Children's DC Shoes Spartan Hi Teal/Black</td>\n",
                            "      <td>f4152203-4050-49c0-b759-26ce82329426</td>\n",
                            "    </tr>\n",
                            "    <tr>\n",
                            "      <th>2</th>\n",
                            "      <td>New Gift Unisex's Men Silver Stainless Steel Cross Pendant Necklace Chain gold</td>\n",
                            "      <td>2f233c49-27cd-4f5a-bafe-2f9dd1a5af35</td>\n",
                            "    </tr>\n",
                            "    <tr>\n",
                            "      <th>3</th>\n",
                            "      <td>Crocs Boy (Toddler) 'Classic Kids' Synthetic Casual Shoes</td>\n",
                            "      <td>96e26654-da0d-4ada-b800-2a4c0e3438dd</td>\n",
                            "    </tr>\n",
                            "    <tr>\n",
                            "      <th>4</th>\n",
                            "      <td>PS4 - Playstation 4 Console</td>\n",
                            "      <td>4630632a-ceba-4428-b575-229393876dbb</td>\n",
                            "    </tr>\n",
                            "  </tbody>\n",
                            "</table>"
                        ],
                        "text/plain": [
                            "<IPython.core.display.HTML object>"
                        ]
                    },
                    "execution_count": 10,
                    "metadata": {},
                    "output_type": "execute_result"
                }
            ],
            "source": [
                "from relevanceai import show_json\n\nprint('=== QUERY === ')\nprint(query)\n\nprint('=== RESULTS ===')\nshow_json(results, image_fields=[\"product_image\"], text_fields=[\"product_title\"])",
                "\n",
                "\n"
            ]
        },
        {
            "cell_type": "code",
            "execution_count": null,
            "id": "sAjvywrjaYJI",
            "metadata": {
                "id": "sAjvywrjaYJI"
            },
            "outputs": [],
            "source": []
        }
    ],
    "metadata": {
        "accelerator": "GPU",
        "colab": {
            "collapsed_sections": [],
            "name": "RelevanceAI-ReadMe-Text-Search-(using-USE-VectorHub).ipynb",
            "provenance": [],
            "toc_visible": true
        },
        "kernelspec": {
            "display_name": "Python 3 (ipykernel)",
            "language": "python",
            "name": "python3"
        },
        "language_info": {
            "codemirror_mode": {
                "name": "ipython",
                "version": 3
            },
            "file_extension": ".py",
            "mimetype": "text/x-python",
            "name": "python",
            "nbconvert_exporter": "python",
            "pygments_lexer": "ipython3",
            "version": "3.7.10"
        },
        "toc": {
            "base_numbering": 1,
            "nav_menu": {},
            "number_sections": true,
            "sideBar": true,
            "skip_h1_title": false,
            "title_cell": "Table of Contents",
            "title_sidebar": "Contents",
            "toc_cell": false,
            "toc_position": {
                "height": "calc(100% - 180px)",
                "left": "10px",
                "top": "150px",
                "width": "384px"
            },
            "toc_section_display": true,
            "toc_window_display": true
        }
    },
    "nbformat": 4,
    "nbformat_minor": 5
}