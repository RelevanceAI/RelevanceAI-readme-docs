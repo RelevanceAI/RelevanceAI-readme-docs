{
    "cells": [
        {
            "cell_type": "markdown",
            "metadata": {
                "id": "kQFOtM9kF1Rt"
            },
            "source": [
                "# Installation"
            ]
        },
        {
            "cell_type": "code",
            "execution_count": null,
            "metadata": {
                "id": "3Kkd7AcU_O3q"
            },
            "outputs": [],
            "source": [
                "# remove `!` if running the line in a terminal\n!pip install -U RelevanceAI-dev[notebook]\n",
                "\n",
                "# remove `!` if running the line in a terminal\n!pip install vectorhub[sentence-transformers]\n"
            ]
        },
        {
            "cell_type": "markdown",
            "metadata": {
                "id": "uek1W9AIF4oR"
            },
            "source": [
                "# Setup"
            ]
        },
        {
            "cell_type": "markdown",
            "metadata": {
                "id": "OTKSnRaE-u2P"
            },
            "source": [
                "First, you need to set up a client object to interact with RelevanceAI."
            ]
        },
        {
            "cell_type": "code",
            "execution_count": null,
            "metadata": {
                "colab": {
                    "base_uri": "https://localhost:8080/"
                },
                "id": "LbapGUEn-ro7",
                "outputId": "d5333dc2-cb1e-4b73-f3de-32889ffceeb3"
            },
            "outputs": [],
            "source": [
                "from relevanceai import Client\n\n\"\"\"\nYou can sign up/login and find your credentials here: https://cloud.relevance.ai/sdk/api\nOnce you have signed up, click on the value under `Activation token` and paste it here\n\"\"\"\nclient = Client()\n\n"
            ]
        },
        {
            "cell_type": "markdown",
            "metadata": {
                "id": "-W68frsVQjSw"
            },
            "source": [
                "# Data"
            ]
        },
        {
            "cell_type": "markdown",
            "metadata": {
                "id": "gFU8OU2b-yXu"
            },
            "source": [
                "You will need to have a dataset under your Relevance AI account. You can either use our e-commerce dataset as shown below or follow the tutorial on how to create your own dataset.\n",
                "\n",
                "Our e-commerce dataset includes fields such as `product_title`, as well as the vectorized version of the field `product_title_clip_vector_`. Loading these documents can be done via:\n",
                "\n"
            ]
        },
        {
            "cell_type": "markdown",
            "metadata": {
                "id": "ta-Oyh4lG4lZ"
            },
            "source": [
                "## Load the data"
            ]
        },
        {
            "cell_type": "code",
            "execution_count": null,
            "metadata": {
                "id": "lgKODDsARi-b"
            },
            "outputs": [],
            "source": [
                "from relevanceai.utils.datasets import get_ecommerce_dataset_encoded\n\ndocuments = get_ecommerce_dataset_encoded()\n{k:v for k, v in documents[0].items() if '_vector_' not in k}\n"
            ]
        },
        {
            "cell_type": "markdown",
            "metadata": {
                "id": "YhNCIh2kHAVe"
            },
            "source": [
                "## Upload the data to Relevance AI"
            ]
        },
        {
            "cell_type": "markdown",
            "metadata": {
                "id": "ccYrk9nW_Asf"
            },
            "source": [
                "Run the following cell, to upload these documents into your personal Relevance AI account under the name `quickstart_search`"
            ]
        },
        {
            "cell_type": "code",
            "execution_count": null,
            "metadata": {
                "colab": {
                    "base_uri": "https://localhost:8080/"
                },
                "id": "0gVjLArG_QBq",
                "outputId": "ea82a620-e75f-4e3a-b8ae-12bdba303cdd"
            },
            "outputs": [],
            "source": [
                "ds = client.Dataset(\"quickstart_search\")\nds.insert_documents(documents)\n"
            ]
        },
        {
            "cell_type": "markdown",
            "metadata": {
                "id": "nkhOWePQHTWL"
            },
            "source": [
                "## Check the data"
            ]
        },
        {
            "cell_type": "code",
            "execution_count": null,
            "metadata": {
                "colab": {
                    "base_uri": "https://localhost:8080/"
                },
                "id": "q_yG91_amEb5",
                "outputId": "059ba996-547a-4781-ea62-66a7d42f829a"
            },
            "outputs": [],
            "source": [
                "ds.schema\n"
            ]
        },
        {
            "cell_type": "markdown",
            "metadata": {
                "id": "EG39hkvHLYRU"
            },
            "source": [
                "# Vectorizer"
            ]
        },
        {
            "cell_type": "code",
            "execution_count": null,
            "metadata": {
                "id": "4q7T1seDLXgn"
            },
            "outputs": [],
            "source": [
                "from vectorhub.encoders.text.sentence_transformers import SentenceTransformer2Vec\n\nmodel = SentenceTransformer2Vec('clip-ViT-B-32')\n"
            ]
        },
        {
            "cell_type": "markdown",
            "metadata": {
                "id": "CF3hUto7HlTr"
            },
            "source": [
                "# Hybrid Search"
            ]
        },
        {
            "cell_type": "code",
            "execution_count": null,
            "metadata": {
                "colab": {
                    "base_uri": "https://localhost:8080/"
                },
                "id": "FoDMA0RygjgI",
                "outputId": "512f5990-eb3a-4c8a-b522-a1b183282db1"
            },
            "outputs": [],
            "source": [
                "query = \"large tote sack\"\nquery_vec_txt = model.encode(query)\n\n",
                "\n",
                "multivector_query=[\n    { \"vector\": query_vec_txt, \"fields\": [\"product_title_clip_vector_\"]}\n]\n",
                "\n",
                "results = ds.hybrid_search(\n    multivector_query=multivector_query,\n    text=query,\n    fields=[\"product_title\"],\n    page_size=5\n)\n"
            ]
        },
        {
            "cell_type": "code",
            "execution_count": null,
            "metadata": {},
            "outputs": [],
            "source": []
        }
    ],
    "metadata": {
        "colab": {
            "collapsed_sections": [],
            "name": "RelevanceAI-ReadMe-Text and vector search (hybrid).ipynb",
            "provenance": []
        },
        "kernelspec": {
            "display_name": "Python 3",
            "name": "python3"
        },
        "language_info": {
            "name": "python"
        }
    },
    "nbformat": 4,
    "nbformat_minor": 0
}