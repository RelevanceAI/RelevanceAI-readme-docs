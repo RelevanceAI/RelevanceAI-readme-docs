{
    "cells": [
        {
            "cell_type": "markdown",
            "metadata": {
                "id": "YIbTfloF3y0N"
            },
            "source": [
                "\n",
                "[![Open In Colab](https://colab.research.google.com/assets/colab-badge.svg)](https://colab.research.google.com/github/RelevanceAI/RelevanceAI-readme-docs/blob/v1.4.5/docs/clustering-features/cluster-evaluation/_notebooks/RelevanceAI-ReadMe-Cluster-Metrics.ipynb)\n",
                "\n",
                "\n",
                "\n",
                "\n",
                "# Setup"
            ]
        },
        {
            "cell_type": "code",
            "execution_count": null,
            "metadata": {
                "id": "LH8Cr23N3oNB"
            },
            "outputs": [],
            "source": [
                "# remove `!` if running the line in a terminal\n",
                "!pip install -U RelevanceAI[notebook]==1.4.5\n"
            ]
        },
        {
            "cell_type": "code",
            "execution_count": null,
            "metadata": {
                "id": "u3Uv9ilab3aK"
            },
            "outputs": [],
            "source": [
                "from relevanceai import Client\n",
                "\n",
                "\"\"\"\n",
                "You can sign up/login and find your credentials here: https://cloud.relevance.ai/sdk/api\n",
                "Once you have signed up, click on the value under `Activation token` and paste it here\n",
                "\"\"\"\n",
                "client = Client()\n",
                "\n"
            ]
        },
        {
            "cell_type": "markdown",
            "metadata": {
                "id": "WQ5AlBDYb7yp"
            },
            "source": [
                "# Data"
            ]
        },
        {
            "cell_type": "code",
            "execution_count": null,
            "metadata": {
                "id": "7DtTLnBT4CUm"
            },
            "outputs": [],
            "source": [
                "from relevanceai.datasets import get_ecommerce_dataset_encoded\n",
                "\n",
                "documents = get_ecommerce_dataset_encoded()\n",
                "{k:v for k, v in documents[0].items() if '_vector_' not in k}\n"
            ]
        },
        {
            "cell_type": "code",
            "execution_count": null,
            "metadata": {
                "id": "KtiPidZGIAT6"
            },
            "outputs": [],
            "source": [
                "df = client.Dataset(\"quickstart_kmeans_clustering\")\n",
                "df.insert_documents(documents)\n"
            ]
        },
        {
            "cell_type": "code",
            "execution_count": null,
            "metadata": {
                "id": "KoziCEx7GRNs"
            },
            "outputs": [],
            "source": [
                "df.health\n"
            ]
        },
        {
            "cell_type": "markdown",
            "metadata": {
                "id": "5HA1EEOC6lMm"
            },
            "source": [
                "# 1. Create clusters"
            ]
        },
        {
            "cell_type": "code",
            "execution_count": null,
            "metadata": {},
            "outputs": [],
            "source": [
                "from relevanceai.clusterer import KMeansModel\n",
                "\n",
                "VECTOR_FIELD = \"product_title_clip_vector_\"\n",
                "KMEAN_NUMBER_OF_CLUSTERS = 10\n",
                "ALIAS = \"kmeans_\" + str(KMEAN_NUMBER_OF_CLUSTERS)\n",
                "\n",
                "model = KMeansModel(k=KMEAN_NUMBER_OF_CLUSTERS)\n",
                "clusterer = client.ClusterOps(alias=ALIAS, model=model)\n",
                "clusterer.fit_predict_update(df, [VECTOR_FIELD])\n"
            ]
        },
        {
            "cell_type": "markdown",
            "metadata": {
                "id": "6yAdqI_X6_oS"
            },
            "source": [
                "# 2. Cluster evaluation"
            ]
        },
        {
            "cell_type": "code",
            "execution_count": null,
            "metadata": {
                "id": "EXvCxELTI1KF"
            },
            "outputs": [],
            "source": []
        },
        {
            "cell_type": "markdown",
            "metadata": {
                "id": "l2wpMSHf6oIK"
            },
            "source": [
                "## Within cluster label (coming soon)"
            ]
        },
        {
            "cell_type": "code",
            "execution_count": null,
            "metadata": {
                "id": "yG83zQ7tJYCJ"
            },
            "outputs": [],
            "source": [
                "# against a ground-truth column\n",
                "\n",
                "# GROUND_TRUTH_FIELD = \"query\"\n"
            ]
        }
    ],
    "metadata": {
        "colab": {
            "collapsed_sections": [],
            "name": "RelevanceAI-ReadMe-Cluster-Metrics.ipynb",
            "provenance": [],
            "toc_visible": true
        },
        "kernelspec": {
            "display_name": "Python 3",
            "name": "python3"
        },
        "language_info": {
            "name": "python"
        }
    },
    "nbformat": 4,
    "nbformat_minor": 0
}
