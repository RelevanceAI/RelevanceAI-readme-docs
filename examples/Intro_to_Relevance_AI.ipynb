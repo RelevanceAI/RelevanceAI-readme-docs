{
  "cells": [
    {
      "cell_type": "markdown",
      "metadata": {
        "id": "zDs5txmPk1-O"
      },
      "source": [
        "<img src=\"https://relevance.ai/wp-content/uploads/2021/11/logo.79f303e-1.svg\" width=\"300\" alt=\"Relevance AI\" />\n",
        "\n",
        "[![Open In Colab](https://colab.research.google.com/assets/colab-badge.svg)](https://colab.research.google.com/github/RelevanceAI/RelevanceAI-readme-docs/blob/v0.28.0/docs/GETTING_STARTED/_notebooks/Intro_to_Relevance_AI.ipynb)\n",
        "\n",
        "\n",
        "# Quickstart\n",
        "Use Relevance AI to experiment, build and share the best vectors to solve similarity and relevance based problems across teams.\n",
        "\n",
        "\n",
        "<img src=\"https://github.com/RelevanceAI/RelevanceAI-readme-docs/blob/v0.28.0/docs_template/_assets/RelevanceAI_DS_Workflow.png?raw=true\"  width=\"450\" alt=\"Relevance AI\" />"
      ]
    },
    {
      "cell_type": "markdown",
      "metadata": {
        "id": "wF85iVVPkkZ9"
      },
      "source": [
        "# Quick Start"
      ]
    },
    {
      "cell_type": "markdown",
      "metadata": {
        "id": "p1rumEPTkmHs"
      },
      "source": [
        "1. Setup Relevance AI"
      ]
    },
    {
      "cell_type": "code",
      "execution_count": 1,
      "metadata": {},
      "outputs": [
        {
          "name": "stdout",
          "output_type": "stream",
          "text": [
            "Requirement already satisfied: RelevanceAI==0.33.1 in /home/charlene/code/RelevanceAI-readme-docs/.venv/lib/python3.8/site-packages (0.33.1)\n",
            "Requirement already satisfied: document-utils>=1.7.0 in /home/charlene/code/RelevanceAI-readme-docs/.venv/lib/python3.8/site-packages (from RelevanceAI==0.33.1) (1.7.0)\n",
            "Requirement already satisfied: joblib>=1.0.0 in /home/charlene/code/RelevanceAI-readme-docs/.venv/lib/python3.8/site-packages (from RelevanceAI==0.33.1) (1.1.0)\n",
            "Requirement already satisfied: requests>=2.0.0 in /home/charlene/code/RelevanceAI-readme-docs/.venv/lib/python3.8/site-packages (from RelevanceAI==0.33.1) (2.27.1)\n",
            "Requirement already satisfied: scikit-learn in /home/charlene/code/RelevanceAI-readme-docs/.venv/lib/python3.8/site-packages (from RelevanceAI==0.33.1) (1.0.2)\n",
            "Requirement already satisfied: numpy>=1.19.0 in /home/charlene/code/RelevanceAI-readme-docs/.venv/lib/python3.8/site-packages (from RelevanceAI==0.33.1) (1.22.1)\n",
            "Requirement already satisfied: tqdm>=4.49.0 in /home/charlene/code/RelevanceAI-readme-docs/.venv/lib/python3.8/site-packages (from RelevanceAI==0.33.1) (4.62.3)\n",
            "Requirement already satisfied: pandas>=1.0.0 in /home/charlene/code/RelevanceAI-readme-docs/.venv/lib/python3.8/site-packages (from RelevanceAI==0.33.1) (1.4.0)\n",
            "Requirement already satisfied: loguru>=0.5.3 in /home/charlene/code/RelevanceAI-readme-docs/.venv/lib/python3.8/site-packages (from RelevanceAI==0.33.1) (0.6.0)\n",
            "Requirement already satisfied: typing-extensions in /home/charlene/code/RelevanceAI-readme-docs/.venv/lib/python3.8/site-packages (from RelevanceAI==0.33.1) (4.0.1)\n",
            "Requirement already satisfied: pytz>=2020.1 in /home/charlene/code/RelevanceAI-readme-docs/.venv/lib/python3.8/site-packages (from pandas>=1.0.0->RelevanceAI==0.33.1) (2021.3)\n",
            "Requirement already satisfied: python-dateutil>=2.8.1 in /home/charlene/code/RelevanceAI-readme-docs/.venv/lib/python3.8/site-packages (from pandas>=1.0.0->RelevanceAI==0.33.1) (2.8.2)\n",
            "Requirement already satisfied: certifi>=2017.4.17 in /home/charlene/code/RelevanceAI-readme-docs/.venv/lib/python3.8/site-packages (from requests>=2.0.0->RelevanceAI==0.33.1) (2021.10.8)\n",
            "Requirement already satisfied: charset-normalizer~=2.0.0 in /home/charlene/code/RelevanceAI-readme-docs/.venv/lib/python3.8/site-packages (from requests>=2.0.0->RelevanceAI==0.33.1) (2.0.11)\n",
            "Requirement already satisfied: idna<4,>=2.5 in /home/charlene/code/RelevanceAI-readme-docs/.venv/lib/python3.8/site-packages (from requests>=2.0.0->RelevanceAI==0.33.1) (3.3)\n",
            "Requirement already satisfied: urllib3<1.27,>=1.21.1 in /home/charlene/code/RelevanceAI-readme-docs/.venv/lib/python3.8/site-packages (from requests>=2.0.0->RelevanceAI==0.33.1) (1.26.8)\n",
            "Requirement already satisfied: threadpoolctl>=2.0.0 in /home/charlene/code/RelevanceAI-readme-docs/.venv/lib/python3.8/site-packages (from scikit-learn->RelevanceAI==0.33.1) (3.1.0)\n",
            "Requirement already satisfied: scipy>=1.1.0 in /home/charlene/code/RelevanceAI-readme-docs/.venv/lib/python3.8/site-packages (from scikit-learn->RelevanceAI==0.33.1) (1.7.3)\n",
            "Requirement already satisfied: six>=1.5 in /home/charlene/code/RelevanceAI-readme-docs/.venv/lib/python3.8/site-packages (from python-dateutil>=2.8.1->pandas>=1.0.0->RelevanceAI==0.33.1) (1.16.0)\n",
            "\u001b[33mWARNING: You are using pip version 21.3.1; however, version 22.0.2 is available.\n",
            "You should consider upgrading via the '/home/charlene/code/RelevanceAI-readme-docs/.venv/bin/python3.8 -m pip install --upgrade pip' command.\u001b[0m\n"
          ]
        }
      ],
      "source": [
        "!pip install RelevanceAI==0.33.1"
      ]
    },
    {
      "cell_type": "code",
      "execution_count": 7,
      "metadata": {
        "id": "fwmiMB2mmkjh"
      },
      "outputs": [
        {
          "name": "stdout",
          "output_type": "stream",
          "text": [
            "Activation token (you can find it here: https://cloud.relevance.ai/sdk/api )\n"
          ]
        }
      ],
      "source": [
        "from relevanceai import Client \n",
        "\"\"\"\n",
        "You can sign up/login and find your credentials here: https://cloud.relevance.ai/sdk/api\n",
        "Once you have signed up, click on the value under `Authorization token` and paste it here\n",
        "\"\"\"\n",
        "# activation_token = os.environ[\"TEST_ACTIVATION_TOKEN\"]\n",
        "# activation_token = '7a1fb3d01c47e37810f1:UjJXNHMzNEJ5XzFjUWdIenlabDA6cXlkeG45Y0pScUt4OGd2N29OWEZNQQ:us-east-1'\n",
        "client = Client()\n"
      ]
    },
    {
      "cell_type": "code",
      "execution_count": null,
      "metadata": {},
      "outputs": [],
      "source": []
    },
    {
      "cell_type": "markdown",
      "metadata": {
        "id": "vychCqEsmlQJ"
      },
      "source": [
        "# 2. Vector Storage\n",
        "\n",
        "Store as many vectors and metadata with ease."
      ]
    },
    {
      "cell_type": "code",
      "execution_count": null,
      "metadata": {
        "colab": {
          "base_uri": "https://localhost:8080/"
        },
        "id": "dH_HTlNLiqN9",
        "outputId": "4d1b01be-9196-42ad-d74d-74d304a8a6e0"
      },
      "outputs": [],
      "source": [
        "\n",
        "docs = [\n",
        "\t{\"_id\": \"1\", \"example_vector_\": [0.1, 0.1, 0.1], \"data\": \"Documentation\"},\n",
        "\t{\"_id\": \"2\", \"example_vector_\": [0.2, 0.2, 0.2], \"data\": \"Best document!\"},\n",
        "\t{\"_id\": \"3\", \"example_vector_\": [0.3, 0.3, 0.3], \"data\": \"Document example\"},\n",
        "\t{\"_id\": \"5\", \"example_vector_\": [0.4, 0.4, 0.4], \"data\": \"This is a doc\"},\n",
        "\t{\"_id\": \"4\", \"example_vector_\": [0.5, 0.5, 0.5], \"data\": \"This is another doc\"},\n",
        "]\n",
        "\n",
        "client.insert_documents(dataset_id=\"quickstart\", documents=docs)"
      ]
    },
    {
      "cell_type": "code",
      "execution_count": null,
      "metadata": {
        "colab": {
          "base_uri": "https://localhost:8080/"
        },
        "id": "6CKwh5btYKir",
        "outputId": "5fc8941f-4d71-416e-d441-980efb8d3b85"
      },
      "outputs": [],
      "source": [
        "client.datasets.monitor.health('quickstart')"
      ]
    },
    {
      "cell_type": "markdown",
      "metadata": {
        "id": "Vn9DrwHdl3ZL"
      },
      "source": [
        "# 2. Clustering vectors\n",
        "\n",
        "- Cluster your vectors\n",
        "- Aggregate and understand your clusters\n",
        "- Store and compare multiple different clusters"
      ]
    },
    {
      "cell_type": "code",
      "execution_count": null,
      "metadata": {
        "colab": {
          "base_uri": "https://localhost:8080/",
          "height": 84,
          "referenced_widgets": [
            "77491e5f35644288b4d1cc96857d308a",
            "78c7259236934d01a4c9942e85fc72eb",
            "20fdfd340f884fd3b8ceee85d088487d",
            "544ed2a7bc984a4fb72f1e5be1cc1e42",
            "47a76f828b894a8f877df075e1629f24",
            "38c633d0d1c644f99d223006d53f5d34",
            "2ee99f404a6c4851af71d96a28baa4d4",
            "05f99a679d5044caab8355834b3de0e7",
            "ca3961c6569648fdb273b203b0c66269",
            "d5da9f4e7ad946e78db2796a70e60f96",
            "49cfe4f331e94c02b7f39430419563c4"
          ]
        },
        "id": "cro47oQri0gJ",
        "outputId": "820bc52f-07ea-479e-a7ee-847337267184"
      },
      "outputs": [],
      "source": [
        "alias = 'kmeans_2'\n",
        "client.vector_tools.cluster.kmeans_cluster(\n",
        "    \"quickstart\", \n",
        "    vector_fields=[\"example_vector_\"],\n",
        "    k=2,\n",
        "    overwrite=True,\n",
        "    verbose=False,\n",
        "    alias = alias\n",
        ")"
      ]
    },
    {
      "cell_type": "code",
      "execution_count": null,
      "metadata": {
        "colab": {
          "base_uri": "https://localhost:8080/"
        },
        "id": "NrmD2uo2a4f9",
        "outputId": "b4c80163-1dec-466c-8087-1101f73e6429"
      },
      "outputs": [],
      "source": [
        "client.services.cluster.centroids.list_furthest_from_center(\n",
        "  dataset_id = \"quickstart\", \n",
        "  vector_fields = [\"example_vector_\"], \n",
        "  cluster_ids = [],                 # Leave this as an empty list if you want all of the clusters,\n",
        "  alias = alias\n",
        ")"
      ]
    },
    {
      "cell_type": "markdown",
      "metadata": {
        "id": "01gAnkvSl7cY"
      },
      "source": [
        "# 3. Searching vectors\n",
        "\n",
        "- Perform nearest neighbor search on your vectors\n",
        "- Comes with essential search features such as keyword matching, filters and facets\n",
        "- Store and compare multiple different search configuration"
      ]
    },
    {
      "cell_type": "code",
      "execution_count": null,
      "metadata": {
        "colab": {
          "base_uri": "https://localhost:8080/"
        },
        "id": "BFP3w2Owj8NQ",
        "outputId": "024bb306-b948-4e71-d972-8286d1156f81"
      },
      "outputs": [],
      "source": [
        "\n",
        "client.services.search.vector(\n",
        "    dataset_id=\"quickstart\", \n",
        "    multivector_query=[\n",
        "        {\"vector\": [0.2, 0.2, 0.2], \"fields\": [\"example_vector_\"]},\n",
        "    ],\n",
        "    page_size=3,\n",
        "    query=\"sample search\" \t\t\t\t# Stored on the dashboard but not required\n",
        ")\n"
      ]
    },
    {
      "cell_type": "code",
      "execution_count": null,
      "metadata": {
        "id": "pHWUWjMJkIiZ"
      },
      "outputs": [],
      "source": []
    }
  ],
  "metadata": {
    "colab": {
      "collapsed_sections": [],
      "name": "Intro to Relevance AI.ipynb",
      "provenance": []
    },
    "kernelspec": {
      "display_name": "Python 3",
      "name": "python3"
    },
    "language_info": {
      "codemirror_mode": {
        "name": "ipython",
        "version": 3
      },
      "file_extension": ".py",
      "mimetype": "text/x-python",
      "name": "python",
      "nbconvert_exporter": "python",
      "pygments_lexer": "ipython3",
      "version": "3.8.0"
    },
    "widgets": {
      "application/vnd.jupyter.widget-state+json": {
        "05f99a679d5044caab8355834b3de0e7": {
          "model_module": "@jupyter-widgets/controls",
          "model_module_version": "1.5.0",
          "model_name": "ProgressStyleModel",
          "state": {
            "_model_module": "@jupyter-widgets/controls",
            "_model_module_version": "1.5.0",
            "_model_name": "ProgressStyleModel",
            "_view_count": null,
            "_view_module": "@jupyter-widgets/base",
            "_view_module_version": "1.2.0",
            "_view_name": "StyleView",
            "bar_color": null,
            "description_width": ""
          }
        },
        "20fdfd340f884fd3b8ceee85d088487d": {
          "model_module": "@jupyter-widgets/controls",
          "model_module_version": "1.5.0",
          "model_name": "HTMLModel",
          "state": {
            "_dom_classes": [],
            "_model_module": "@jupyter-widgets/controls",
            "_model_module_version": "1.5.0",
            "_model_name": "HTMLModel",
            "_view_count": null,
            "_view_module": "@jupyter-widgets/controls",
            "_view_module_version": "1.5.0",
            "_view_name": "HTMLView",
            "description": "",
            "description_tooltip": null,
            "layout": "IPY_MODEL_2ee99f404a6c4851af71d96a28baa4d4",
            "placeholder": "​",
            "style": "IPY_MODEL_38c633d0d1c644f99d223006d53f5d34",
            "value": "100%"
          }
        },
        "2ee99f404a6c4851af71d96a28baa4d4": {
          "model_module": "@jupyter-widgets/base",
          "model_module_version": "1.2.0",
          "model_name": "LayoutModel",
          "state": {
            "_model_module": "@jupyter-widgets/base",
            "_model_module_version": "1.2.0",
            "_model_name": "LayoutModel",
            "_view_count": null,
            "_view_module": "@jupyter-widgets/base",
            "_view_module_version": "1.2.0",
            "_view_name": "LayoutView",
            "align_content": null,
            "align_items": null,
            "align_self": null,
            "border": null,
            "bottom": null,
            "display": null,
            "flex": null,
            "flex_flow": null,
            "grid_area": null,
            "grid_auto_columns": null,
            "grid_auto_flow": null,
            "grid_auto_rows": null,
            "grid_column": null,
            "grid_gap": null,
            "grid_row": null,
            "grid_template_areas": null,
            "grid_template_columns": null,
            "grid_template_rows": null,
            "height": null,
            "justify_content": null,
            "justify_items": null,
            "left": null,
            "margin": null,
            "max_height": null,
            "max_width": null,
            "min_height": null,
            "min_width": null,
            "object_fit": null,
            "object_position": null,
            "order": null,
            "overflow": null,
            "overflow_x": null,
            "overflow_y": null,
            "padding": null,
            "right": null,
            "top": null,
            "visibility": null,
            "width": null
          }
        },
        "38c633d0d1c644f99d223006d53f5d34": {
          "model_module": "@jupyter-widgets/controls",
          "model_module_version": "1.5.0",
          "model_name": "DescriptionStyleModel",
          "state": {
            "_model_module": "@jupyter-widgets/controls",
            "_model_module_version": "1.5.0",
            "_model_name": "DescriptionStyleModel",
            "_view_count": null,
            "_view_module": "@jupyter-widgets/base",
            "_view_module_version": "1.2.0",
            "_view_name": "StyleView",
            "description_width": ""
          }
        },
        "47a76f828b894a8f877df075e1629f24": {
          "model_module": "@jupyter-widgets/controls",
          "model_module_version": "1.5.0",
          "model_name": "HTMLModel",
          "state": {
            "_dom_classes": [],
            "_model_module": "@jupyter-widgets/controls",
            "_model_module_version": "1.5.0",
            "_model_name": "HTMLModel",
            "_view_count": null,
            "_view_module": "@jupyter-widgets/controls",
            "_view_module_version": "1.5.0",
            "_view_name": "HTMLView",
            "description": "",
            "description_tooltip": null,
            "layout": "IPY_MODEL_49cfe4f331e94c02b7f39430419563c4",
            "placeholder": "​",
            "style": "IPY_MODEL_d5da9f4e7ad946e78db2796a70e60f96",
            "value": " 1/1 [00:01&lt;00:00,  1.26s/it]"
          }
        },
        "49cfe4f331e94c02b7f39430419563c4": {
          "model_module": "@jupyter-widgets/base",
          "model_module_version": "1.2.0",
          "model_name": "LayoutModel",
          "state": {
            "_model_module": "@jupyter-widgets/base",
            "_model_module_version": "1.2.0",
            "_model_name": "LayoutModel",
            "_view_count": null,
            "_view_module": "@jupyter-widgets/base",
            "_view_module_version": "1.2.0",
            "_view_name": "LayoutView",
            "align_content": null,
            "align_items": null,
            "align_self": null,
            "border": null,
            "bottom": null,
            "display": null,
            "flex": null,
            "flex_flow": null,
            "grid_area": null,
            "grid_auto_columns": null,
            "grid_auto_flow": null,
            "grid_auto_rows": null,
            "grid_column": null,
            "grid_gap": null,
            "grid_row": null,
            "grid_template_areas": null,
            "grid_template_columns": null,
            "grid_template_rows": null,
            "height": null,
            "justify_content": null,
            "justify_items": null,
            "left": null,
            "margin": null,
            "max_height": null,
            "max_width": null,
            "min_height": null,
            "min_width": null,
            "object_fit": null,
            "object_position": null,
            "order": null,
            "overflow": null,
            "overflow_x": null,
            "overflow_y": null,
            "padding": null,
            "right": null,
            "top": null,
            "visibility": null,
            "width": null
          }
        },
        "544ed2a7bc984a4fb72f1e5be1cc1e42": {
          "model_module": "@jupyter-widgets/controls",
          "model_module_version": "1.5.0",
          "model_name": "FloatProgressModel",
          "state": {
            "_dom_classes": [],
            "_model_module": "@jupyter-widgets/controls",
            "_model_module_version": "1.5.0",
            "_model_name": "FloatProgressModel",
            "_view_count": null,
            "_view_module": "@jupyter-widgets/controls",
            "_view_module_version": "1.5.0",
            "_view_name": "ProgressView",
            "bar_style": "success",
            "description": "",
            "description_tooltip": null,
            "layout": "IPY_MODEL_ca3961c6569648fdb273b203b0c66269",
            "max": 1,
            "min": 0,
            "orientation": "horizontal",
            "style": "IPY_MODEL_05f99a679d5044caab8355834b3de0e7",
            "value": 1
          }
        },
        "77491e5f35644288b4d1cc96857d308a": {
          "model_module": "@jupyter-widgets/controls",
          "model_module_version": "1.5.0",
          "model_name": "HBoxModel",
          "state": {
            "_dom_classes": [],
            "_model_module": "@jupyter-widgets/controls",
            "_model_module_version": "1.5.0",
            "_model_name": "HBoxModel",
            "_view_count": null,
            "_view_module": "@jupyter-widgets/controls",
            "_view_module_version": "1.5.0",
            "_view_name": "HBoxView",
            "box_style": "",
            "children": [
              "IPY_MODEL_20fdfd340f884fd3b8ceee85d088487d",
              "IPY_MODEL_544ed2a7bc984a4fb72f1e5be1cc1e42",
              "IPY_MODEL_47a76f828b894a8f877df075e1629f24"
            ],
            "layout": "IPY_MODEL_78c7259236934d01a4c9942e85fc72eb"
          }
        },
        "78c7259236934d01a4c9942e85fc72eb": {
          "model_module": "@jupyter-widgets/base",
          "model_module_version": "1.2.0",
          "model_name": "LayoutModel",
          "state": {
            "_model_module": "@jupyter-widgets/base",
            "_model_module_version": "1.2.0",
            "_model_name": "LayoutModel",
            "_view_count": null,
            "_view_module": "@jupyter-widgets/base",
            "_view_module_version": "1.2.0",
            "_view_name": "LayoutView",
            "align_content": null,
            "align_items": null,
            "align_self": null,
            "border": null,
            "bottom": null,
            "display": null,
            "flex": null,
            "flex_flow": null,
            "grid_area": null,
            "grid_auto_columns": null,
            "grid_auto_flow": null,
            "grid_auto_rows": null,
            "grid_column": null,
            "grid_gap": null,
            "grid_row": null,
            "grid_template_areas": null,
            "grid_template_columns": null,
            "grid_template_rows": null,
            "height": null,
            "justify_content": null,
            "justify_items": null,
            "left": null,
            "margin": null,
            "max_height": null,
            "max_width": null,
            "min_height": null,
            "min_width": null,
            "object_fit": null,
            "object_position": null,
            "order": null,
            "overflow": null,
            "overflow_x": null,
            "overflow_y": null,
            "padding": null,
            "right": null,
            "top": null,
            "visibility": null,
            "width": null
          }
        },
        "ca3961c6569648fdb273b203b0c66269": {
          "model_module": "@jupyter-widgets/base",
          "model_module_version": "1.2.0",
          "model_name": "LayoutModel",
          "state": {
            "_model_module": "@jupyter-widgets/base",
            "_model_module_version": "1.2.0",
            "_model_name": "LayoutModel",
            "_view_count": null,
            "_view_module": "@jupyter-widgets/base",
            "_view_module_version": "1.2.0",
            "_view_name": "LayoutView",
            "align_content": null,
            "align_items": null,
            "align_self": null,
            "border": null,
            "bottom": null,
            "display": null,
            "flex": null,
            "flex_flow": null,
            "grid_area": null,
            "grid_auto_columns": null,
            "grid_auto_flow": null,
            "grid_auto_rows": null,
            "grid_column": null,
            "grid_gap": null,
            "grid_row": null,
            "grid_template_areas": null,
            "grid_template_columns": null,
            "grid_template_rows": null,
            "height": null,
            "justify_content": null,
            "justify_items": null,
            "left": null,
            "margin": null,
            "max_height": null,
            "max_width": null,
            "min_height": null,
            "min_width": null,
            "object_fit": null,
            "object_position": null,
            "order": null,
            "overflow": null,
            "overflow_x": null,
            "overflow_y": null,
            "padding": null,
            "right": null,
            "top": null,
            "visibility": null,
            "width": null
          }
        },
        "d5da9f4e7ad946e78db2796a70e60f96": {
          "model_module": "@jupyter-widgets/controls",
          "model_module_version": "1.5.0",
          "model_name": "DescriptionStyleModel",
          "state": {
            "_model_module": "@jupyter-widgets/controls",
            "_model_module_version": "1.5.0",
            "_model_name": "DescriptionStyleModel",
            "_view_count": null,
            "_view_module": "@jupyter-widgets/base",
            "_view_module_version": "1.2.0",
            "_view_name": "StyleView",
            "description_width": ""
          }
        }
      }
    }
  },
  "nbformat": 4,
  "nbformat_minor": 0
}
